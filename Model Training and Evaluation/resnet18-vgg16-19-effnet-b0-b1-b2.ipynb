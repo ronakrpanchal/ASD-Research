{
 "cells": [
  {
   "cell_type": "markdown",
   "id": "31b60382",
   "metadata": {
    "papermill": {
     "duration": 0.007103,
     "end_time": "2025-09-08T03:52:48.967616",
     "exception": false,
     "start_time": "2025-09-08T03:52:48.960513",
     "status": "completed"
    },
    "tags": []
   },
   "source": [
    "# Autism Spectrum Disorder Detection - Data Preparation and Model Training\n",
    "\n",
    "This notebook prepares data from the AutismDataset folder and trains multiple deep learning models for autism spectrum disorder detection."
   ]
  },
  {
   "cell_type": "markdown",
   "id": "36dd9271",
   "metadata": {
    "papermill": {
     "duration": 0.00551,
     "end_time": "2025-09-08T03:52:48.979070",
     "exception": false,
     "start_time": "2025-09-08T03:52:48.973560",
     "status": "completed"
    },
    "tags": []
   },
   "source": [
    "## Import Libraries"
   ]
  },
  {
   "cell_type": "code",
   "execution_count": 1,
   "id": "ff3dd7ee",
   "metadata": {
    "execution": {
     "iopub.execute_input": "2025-09-08T03:52:48.991728Z",
     "iopub.status.busy": "2025-09-08T03:52:48.991033Z",
     "iopub.status.idle": "2025-09-08T03:53:00.470106Z",
     "shell.execute_reply": "2025-09-08T03:53:00.469455Z"
    },
    "papermill": {
     "duration": 11.48673,
     "end_time": "2025-09-08T03:53:00.471453",
     "exception": false,
     "start_time": "2025-09-08T03:52:48.984723",
     "status": "completed"
    },
    "tags": []
   },
   "outputs": [],
   "source": [
    "import pandas as pd\n",
    "import numpy as np\n",
    "import torch\n",
    "import torch.nn as nn\n",
    "from sklearn.preprocessing import LabelEncoder\n",
    "from torch.utils.data import Dataset, DataLoader\n",
    "from torchvision import transforms\n",
    "from PIL import Image\n",
    "import torch.optim as optim\n",
    "import torchvision.models as models\n",
    "import time\n",
    "import copy\n",
    "import matplotlib.pyplot as plt\n",
    "from tqdm import tqdm\n",
    "import os\n",
    "import glob\n",
    "from sklearn.metrics import accuracy_score, classification_report, confusion_matrix"
   ]
  },
  {
   "cell_type": "markdown",
   "id": "768ea70e",
   "metadata": {
    "papermill": {
     "duration": 0.005514,
     "end_time": "2025-09-08T03:53:00.483692",
     "exception": false,
     "start_time": "2025-09-08T03:53:00.478178",
     "status": "completed"
    },
    "tags": []
   },
   "source": [
    "## Data Preparation\n",
    "\n",
    "We'll create DataFrames for train, validation, and test sets from the AutismDataset folder structure."
   ]
  },
  {
   "cell_type": "code",
   "execution_count": 2,
   "id": "32c65dfe",
   "metadata": {
    "execution": {
     "iopub.execute_input": "2025-09-08T03:53:00.496060Z",
     "iopub.status.busy": "2025-09-08T03:53:00.495728Z",
     "iopub.status.idle": "2025-09-08T03:53:00.601697Z",
     "shell.execute_reply": "2025-09-08T03:53:00.600893Z"
    },
    "papermill": {
     "duration": 0.11377,
     "end_time": "2025-09-08T03:53:00.603007",
     "exception": false,
     "start_time": "2025-09-08T03:53:00.489237",
     "status": "completed"
    },
    "tags": []
   },
   "outputs": [
    {
     "name": "stdout",
     "output_type": "stream",
     "text": [
      "Creating train DataFrame...\n",
      "Creating validation DataFrame...\n",
      "Creating test DataFrame...\n",
      "\n",
      "Dataset Statistics:\n",
      "Training samples: 2540\n",
      "Validation samples: 100\n",
      "Test samples: 300\n",
      "Total samples: 2940\n",
      "\n",
      "Label distribution in training set:\n",
      "labels\n",
      "Non_Autistic    1270\n",
      "Autistic        1270\n",
      "Name: count, dtype: int64\n",
      "\n",
      "Label distribution in validation set:\n",
      "labels\n",
      "Autistic        50\n",
      "Non_Autistic    50\n",
      "Name: count, dtype: int64\n",
      "\n",
      "Label distribution in test set:\n",
      "labels\n",
      "Non_Autistic    150\n",
      "Autistic        150\n",
      "Name: count, dtype: int64\n"
     ]
    }
   ],
   "source": [
    "# Base paths\n",
    "base_path = '/kaggle/input/autism-image-data/AutismDataset'\n",
    "train_path = os.path.join(base_path, 'train')\n",
    "valid_path = os.path.join(base_path, 'valid')\n",
    "test_path = os.path.join(base_path, 'test')\n",
    "\n",
    "def create_dataframe_from_flat_directory(directory_path, split_name):\n",
    "    \"\"\"\n",
    "    Create DataFrame from flat directory structure (train/test)\n",
    "    Files are named like: Autistic.X.jpg, Non_Autistic.X.jpg\n",
    "    \"\"\"\n",
    "    data = []\n",
    "    \n",
    "    # Get all jpg files\n",
    "    all_files = glob.glob(os.path.join(directory_path, '*.jpg'))\n",
    "    \n",
    "    for file_path in all_files:\n",
    "        filename = os.path.basename(file_path)\n",
    "        \n",
    "        # Determine label from filename\n",
    "        if filename.startswith('Autistic.'):\n",
    "            label = 'Autistic'\n",
    "        elif filename.startswith('Non_Autistic.'):\n",
    "            label = 'Non_Autistic'\n",
    "        else:\n",
    "            continue  # Skip files that don't match our pattern\n",
    "        \n",
    "        data.append({\n",
    "            'image_path': file_path,\n",
    "            'labels': label,\n",
    "            'split': split_name\n",
    "        })\n",
    "    \n",
    "    return pd.DataFrame(data)\n",
    "\n",
    "def create_dataframe_from_subdirectory(directory_path, split_name):\n",
    "    \"\"\"\n",
    "    Create DataFrame from subdirectory structure (valid)\n",
    "    Structure: valid/Autistic/, valid/Non_Autistic/\n",
    "    \"\"\"\n",
    "    data = []\n",
    "    \n",
    "    # Process Autistic subdirectory\n",
    "    autistic_path = os.path.join(directory_path, 'Autistic')\n",
    "    if os.path.exists(autistic_path):\n",
    "        autistic_files = glob.glob(os.path.join(autistic_path, '*.jpg'))\n",
    "        for file_path in autistic_files:\n",
    "            data.append({\n",
    "                'image_path': file_path,\n",
    "                'labels': 'Autistic',\n",
    "                'split': split_name\n",
    "            })\n",
    "    \n",
    "    # Process Non_Autistic subdirectory\n",
    "    non_autistic_path = os.path.join(directory_path, 'Non_Autistic')\n",
    "    if os.path.exists(non_autistic_path):\n",
    "        non_autistic_files = glob.glob(os.path.join(non_autistic_path, '*.jpg'))\n",
    "        for file_path in non_autistic_files:\n",
    "            data.append({\n",
    "                'image_path': file_path,\n",
    "                'labels': 'Non_Autistic',\n",
    "                'split': split_name\n",
    "            })\n",
    "    \n",
    "    return pd.DataFrame(data)\n",
    "\n",
    "# Create DataFrames for each split\n",
    "print(\"Creating train DataFrame...\")\n",
    "train_df = create_dataframe_from_flat_directory(train_path, 'train')\n",
    "\n",
    "print(\"Creating validation DataFrame...\")\n",
    "valid_df = create_dataframe_from_subdirectory(valid_path, 'valid')\n",
    "\n",
    "print(\"Creating test DataFrame...\")\n",
    "test_df = create_dataframe_from_flat_directory(test_path, 'test')\n",
    "\n",
    "# Display dataset statistics\n",
    "print(f\"\\nDataset Statistics:\")\n",
    "print(f\"Training samples: {len(train_df)}\")\n",
    "print(f\"Validation samples: {len(valid_df)}\")\n",
    "print(f\"Test samples: {len(test_df)}\")\n",
    "print(f\"Total samples: {len(train_df) + len(valid_df) + len(test_df)}\")\n",
    "\n",
    "print(f\"\\nLabel distribution in training set:\")\n",
    "print(train_df['labels'].value_counts())\n",
    "\n",
    "print(f\"\\nLabel distribution in validation set:\")\n",
    "print(valid_df['labels'].value_counts())\n",
    "\n",
    "print(f\"\\nLabel distribution in test set:\")\n",
    "print(test_df['labels'].value_counts())"
   ]
  },
  {
   "cell_type": "markdown",
   "id": "73c9b7f0",
   "metadata": {
    "papermill": {
     "duration": 0.005744,
     "end_time": "2025-09-08T03:53:00.618432",
     "exception": false,
     "start_time": "2025-09-08T03:53:00.612688",
     "status": "completed"
    },
    "tags": []
   },
   "source": [
    "## Display Sample Data"
   ]
  },
  {
   "cell_type": "code",
   "execution_count": 3,
   "id": "515e9f8f",
   "metadata": {
    "execution": {
     "iopub.execute_input": "2025-09-08T03:53:00.630799Z",
     "iopub.status.busy": "2025-09-08T03:53:00.630180Z",
     "iopub.status.idle": "2025-09-08T03:53:00.640964Z",
     "shell.execute_reply": "2025-09-08T03:53:00.640142Z"
    },
    "papermill": {
     "duration": 0.018131,
     "end_time": "2025-09-08T03:53:00.642106",
     "exception": false,
     "start_time": "2025-09-08T03:53:00.623975",
     "status": "completed"
    },
    "tags": []
   },
   "outputs": [
    {
     "name": "stdout",
     "output_type": "stream",
     "text": [
      "Training DataFrame Sample:\n",
      "                                          image_path        labels  split\n",
      "0  /kaggle/input/autism-image-data/AutismDataset/...  Non_Autistic  train\n",
      "1  /kaggle/input/autism-image-data/AutismDataset/...      Autistic  train\n",
      "2  /kaggle/input/autism-image-data/AutismDataset/...  Non_Autistic  train\n",
      "3  /kaggle/input/autism-image-data/AutismDataset/...      Autistic  train\n",
      "4  /kaggle/input/autism-image-data/AutismDataset/...  Non_Autistic  train\n",
      "\n",
      "Validation DataFrame Sample:\n",
      "                                          image_path    labels  split\n",
      "0  /kaggle/input/autism-image-data/AutismDataset/...  Autistic  valid\n",
      "1  /kaggle/input/autism-image-data/AutismDataset/...  Autistic  valid\n",
      "2  /kaggle/input/autism-image-data/AutismDataset/...  Autistic  valid\n",
      "3  /kaggle/input/autism-image-data/AutismDataset/...  Autistic  valid\n",
      "4  /kaggle/input/autism-image-data/AutismDataset/...  Autistic  valid\n",
      "\n",
      "Test DataFrame Sample:\n",
      "                                          image_path        labels split\n",
      "0  /kaggle/input/autism-image-data/AutismDataset/...  Non_Autistic  test\n",
      "1  /kaggle/input/autism-image-data/AutismDataset/...      Autistic  test\n",
      "2  /kaggle/input/autism-image-data/AutismDataset/...      Autistic  test\n",
      "3  /kaggle/input/autism-image-data/AutismDataset/...      Autistic  test\n",
      "4  /kaggle/input/autism-image-data/AutismDataset/...  Non_Autistic  test\n"
     ]
    }
   ],
   "source": [
    "# Display first few rows of each DataFrame\n",
    "print(\"Training DataFrame Sample:\")\n",
    "print(train_df.head())\n",
    "\n",
    "print(\"\\nValidation DataFrame Sample:\")\n",
    "print(valid_df.head())\n",
    "\n",
    "print(\"\\nTest DataFrame Sample:\")\n",
    "print(test_df.head())"
   ]
  },
  {
   "cell_type": "markdown",
   "id": "01d3067f",
   "metadata": {
    "papermill": {
     "duration": 0.005603,
     "end_time": "2025-09-08T03:53:00.653466",
     "exception": false,
     "start_time": "2025-09-08T03:53:00.647863",
     "status": "completed"
    },
    "tags": []
   },
   "source": [
    "## Data Transformations\n",
    "\n",
    "Define image transformations for training and validation/testing."
   ]
  },
  {
   "cell_type": "code",
   "execution_count": 4,
   "id": "0d488b99",
   "metadata": {
    "execution": {
     "iopub.execute_input": "2025-09-08T03:53:00.665515Z",
     "iopub.status.busy": "2025-09-08T03:53:00.665310Z",
     "iopub.status.idle": "2025-09-08T03:53:00.669680Z",
     "shell.execute_reply": "2025-09-08T03:53:00.669014Z"
    },
    "papermill": {
     "duration": 0.011667,
     "end_time": "2025-09-08T03:53:00.670734",
     "exception": false,
     "start_time": "2025-09-08T03:53:00.659067",
     "status": "completed"
    },
    "tags": []
   },
   "outputs": [],
   "source": [
    "# Data transformations - Minimal transformations without data augmentation\n",
    "train_transform = transforms.Compose([\n",
    "    transforms.Resize((224, 224)),  \n",
    "    transforms.ToTensor(),\n",
    "    transforms.ConvertImageDtype(torch.float),\n",
    "    transforms.Normalize(mean=[0.485, 0.456, 0.406], std=[0.229, 0.224, 0.225])  # RGB normalization\n",
    "])\n",
    "\n",
    "val_test_transform = transforms.Compose([\n",
    "    transforms.Resize((224, 224)),\n",
    "    transforms.ToTensor(),\n",
    "    transforms.ConvertImageDtype(torch.float),\n",
    "    transforms.Normalize(mean=[0.485, 0.456, 0.406], std=[0.229, 0.224, 0.225])  # RGB normalization\n",
    "])"
   ]
  },
  {
   "cell_type": "markdown",
   "id": "798fafe2",
   "metadata": {
    "papermill": {
     "duration": 0.005472,
     "end_time": "2025-09-08T03:53:00.681740",
     "exception": false,
     "start_time": "2025-09-08T03:53:00.676268",
     "status": "completed"
    },
    "tags": []
   },
   "source": [
    "## Dataset & DataLoader Classes"
   ]
  },
  {
   "cell_type": "code",
   "execution_count": 5,
   "id": "8e7c4130",
   "metadata": {
    "execution": {
     "iopub.execute_input": "2025-09-08T03:53:00.694478Z",
     "iopub.status.busy": "2025-09-08T03:53:00.694241Z",
     "iopub.status.idle": "2025-09-08T03:53:00.701257Z",
     "shell.execute_reply": "2025-09-08T03:53:00.700459Z"
    },
    "papermill": {
     "duration": 0.014736,
     "end_time": "2025-09-08T03:53:00.702325",
     "exception": false,
     "start_time": "2025-09-08T03:53:00.687589",
     "status": "completed"
    },
    "tags": []
   },
   "outputs": [],
   "source": [
    "BATCH_SIZE = 16\n",
    "NUM_WORKERS = 4\n",
    "\n",
    "class AutismDataset(Dataset):\n",
    "    def __init__(self, dataframe, transform=None, label_encoder=None, fit_label_encoder=False):\n",
    "        \"\"\"\n",
    "        Args:\n",
    "            dataframe (DataFrame): DataFrame with image_path and labels columns.\n",
    "            transform (callable, optional): Optional transform to be applied on a sample.\n",
    "            label_encoder (LabelEncoder, optional): Pre-fitted label encoder. If None, creates new one.\n",
    "            fit_label_encoder (bool): Whether to fit the label encoder on this dataset's labels.\n",
    "        \"\"\"\n",
    "        self.data = dataframe.reset_index(drop=True)\n",
    "        self.transform = transform\n",
    "        \n",
    "        if label_encoder is None:\n",
    "            self.label_encoder = LabelEncoder()\n",
    "            if fit_label_encoder:\n",
    "                self.labels = self.label_encoder.fit_transform(self.data['labels'])\n",
    "            else:\n",
    "                raise ValueError(\"Must provide label_encoder or set fit_label_encoder=True\")\n",
    "        else:\n",
    "            self.label_encoder = label_encoder\n",
    "            self.labels = self.label_encoder.transform(self.data['labels'])\n",
    "        \n",
    "        self.image_paths = self.data['image_path'].tolist()\n",
    "        \n",
    "    def __len__(self):\n",
    "        return len(self.data)\n",
    "    \n",
    "    def __getitem__(self, idx):\n",
    "        if torch.is_tensor(idx):\n",
    "            idx = idx.tolist()\n",
    "        \n",
    "        # Load image\n",
    "        img_path = self.image_paths[idx]\n",
    "        try:\n",
    "            image = Image.open(img_path).convert('RGB')\n",
    "        except Exception as e:\n",
    "            print(f\"Error loading image: {img_path}\")\n",
    "            image = Image.new('RGB', (224, 224), color='black')\n",
    "        \n",
    "        label = self.labels[idx]\n",
    "        \n",
    "        if self.transform:\n",
    "            image = self.transform(image)\n",
    "        \n",
    "        return image, torch.tensor(label, dtype=torch.long)\n",
    "    \n",
    "    def get_label_encoder(self):\n",
    "        \"\"\"Return the label encoder for use with other datasets\"\"\"\n",
    "        return self.label_encoder\n",
    "    \n",
    "    def get_class_names(self):\n",
    "        \"\"\"Return the original class names\"\"\"\n",
    "        return self.label_encoder.classes_"
   ]
  },
  {
   "cell_type": "code",
   "execution_count": 6,
   "id": "7e469451",
   "metadata": {
    "execution": {
     "iopub.execute_input": "2025-09-08T03:53:00.714346Z",
     "iopub.status.busy": "2025-09-08T03:53:00.714171Z",
     "iopub.status.idle": "2025-09-08T03:53:00.719669Z",
     "shell.execute_reply": "2025-09-08T03:53:00.719010Z"
    },
    "papermill": {
     "duration": 0.012861,
     "end_time": "2025-09-08T03:53:00.720871",
     "exception": false,
     "start_time": "2025-09-08T03:53:00.708010",
     "status": "completed"
    },
    "tags": []
   },
   "outputs": [],
   "source": [
    "# Create datasets from DataFrames\n",
    "def create_datasets_from_dataframes(train_df, val_df, test_df):\n",
    "    \"\"\"\n",
    "    Create train, validation, and test datasets with proper label encoding\n",
    "    \"\"\"\n",
    "    # Create training dataset and fit label encoder\n",
    "    train_dataset = AutismDataset(\n",
    "        dataframe=train_df, \n",
    "        transform=train_transform,\n",
    "        fit_label_encoder=True  \n",
    "    )\n",
    "    \n",
    "    # Get the fitted label encoder\n",
    "    le = train_dataset.get_label_encoder()\n",
    "    \n",
    "    # Create validation dataset using the same label encoder\n",
    "    val_dataset = AutismDataset(\n",
    "        dataframe=val_df,\n",
    "        transform=val_test_transform,\n",
    "        label_encoder=le\n",
    "    )\n",
    "    \n",
    "    # Create test dataset using the same label encoder\n",
    "    test_dataset = AutismDataset(\n",
    "        dataframe=test_df,\n",
    "        transform=val_test_transform,\n",
    "        label_encoder=le\n",
    "    )\n",
    "    \n",
    "    return train_dataset, val_dataset, test_dataset, le\n",
    "\n",
    "# Create dataloaders\n",
    "def create_dataloaders(train_dataset, val_dataset, test_dataset, batch_size=BATCH_SIZE, num_workers=NUM_WORKERS):\n",
    "    \"\"\"\n",
    "    Create dataloaders for training, validation, and testing\n",
    "    \"\"\"\n",
    "    train_loader = DataLoader(\n",
    "        train_dataset,\n",
    "        batch_size=batch_size,\n",
    "        shuffle=True,\n",
    "        num_workers=num_workers,\n",
    "        pin_memory=True,\n",
    "        drop_last=True\n",
    "    )\n",
    "    \n",
    "    val_loader = DataLoader(\n",
    "        val_dataset,\n",
    "        batch_size=batch_size,\n",
    "        shuffle=False,\n",
    "        num_workers=num_workers,\n",
    "        pin_memory=True\n",
    "    )\n",
    "    \n",
    "    test_loader = DataLoader(\n",
    "        test_dataset,\n",
    "        batch_size=batch_size,\n",
    "        shuffle=False,\n",
    "        num_workers=num_workers,\n",
    "        pin_memory=True\n",
    "    )\n",
    "    \n",
    "    return train_loader, val_loader, test_loader"
   ]
  },
  {
   "cell_type": "code",
   "execution_count": 7,
   "id": "b6707a67",
   "metadata": {
    "execution": {
     "iopub.execute_input": "2025-09-08T03:53:00.732689Z",
     "iopub.status.busy": "2025-09-08T03:53:00.732519Z",
     "iopub.status.idle": "2025-09-08T03:53:00.739074Z",
     "shell.execute_reply": "2025-09-08T03:53:00.738280Z"
    },
    "papermill": {
     "duration": 0.013651,
     "end_time": "2025-09-08T03:53:00.740083",
     "exception": false,
     "start_time": "2025-09-08T03:53:00.726432",
     "status": "completed"
    },
    "tags": []
   },
   "outputs": [
    {
     "name": "stdout",
     "output_type": "stream",
     "text": [
      "Training samples: 2540\n",
      "Validation samples: 100\n",
      "Test samples: 300\n",
      "Classes: ['Autistic' 'Non_Autistic']\n"
     ]
    }
   ],
   "source": [
    "# Create datasets and dataloaders\n",
    "train_dataset, val_dataset, test_dataset, label_encoder = create_datasets_from_dataframes(\n",
    "    train_df, valid_df, test_df\n",
    ")\n",
    "\n",
    "train_loader, val_loader, test_loader = create_dataloaders(\n",
    "    train_dataset, val_dataset, test_dataset, \n",
    "    batch_size=32, \n",
    "    num_workers=4\n",
    ")\n",
    "\n",
    "print(f\"Training samples: {len(train_dataset)}\")\n",
    "print(f\"Validation samples: {len(val_dataset)}\")\n",
    "print(f\"Test samples: {len(test_dataset)}\")\n",
    "print(f\"Classes: {label_encoder.classes_}\")"
   ]
  },
  {
   "cell_type": "markdown",
   "id": "7b82d066",
   "metadata": {
    "papermill": {
     "duration": 0.005657,
     "end_time": "2025-09-08T03:53:00.751602",
     "exception": false,
     "start_time": "2025-09-08T03:53:00.745945",
     "status": "completed"
    },
    "tags": []
   },
   "source": [
    "## Model Training Framework"
   ]
  },
  {
   "cell_type": "code",
   "execution_count": 8,
   "id": "976079ee",
   "metadata": {
    "execution": {
     "iopub.execute_input": "2025-09-08T03:53:00.765004Z",
     "iopub.status.busy": "2025-09-08T03:53:00.764683Z",
     "iopub.status.idle": "2025-09-08T03:53:00.784795Z",
     "shell.execute_reply": "2025-09-08T03:53:00.784285Z"
    },
    "papermill": {
     "duration": 0.028448,
     "end_time": "2025-09-08T03:53:00.785676",
     "exception": false,
     "start_time": "2025-09-08T03:53:00.757228",
     "status": "completed"
    },
    "tags": []
   },
   "outputs": [],
   "source": [
    "class ModelTrainer:\n",
    "    def __init__(self, model, train_loader, val_loader, test_loader, device='cuda'):\n",
    "        self.model = model.to(device)\n",
    "        self.train_loader = train_loader\n",
    "        self.val_loader = val_loader\n",
    "        self.test_loader = test_loader\n",
    "        self.device = device\n",
    "        \n",
    "        # Training history\n",
    "        self.train_losses = []\n",
    "        self.val_losses = []\n",
    "        self.train_accuracies = []\n",
    "        self.val_accuracies = []\n",
    "        \n",
    "    def train_model(self, num_epochs=25, lr=0.001, weight_decay=1e-4, save_best=True, model_name=\"model\"):\n",
    "        \"\"\"Train the model with early stopping and best model saving\"\"\"\n",
    "        \n",
    "        # Loss function and optimizer\n",
    "        criterion = nn.CrossEntropyLoss()\n",
    "        optimizer = optim.Adam(self.model.parameters(), lr=lr, weight_decay=weight_decay)\n",
    "        scheduler = optim.lr_scheduler.StepLR(optimizer, step_size=7, gamma=0.1)\n",
    "        \n",
    "        # Best model tracking\n",
    "        best_val_acc = 0.0\n",
    "        best_model_wts = copy.deepcopy(self.model.state_dict())\n",
    "        patience = 5\n",
    "        patience_counter = 0\n",
    "        \n",
    "        print(f\"Starting training for {num_epochs} epochs...\")\n",
    "        print(\"-\" * 60)\n",
    "        \n",
    "        start_time = time.time()\n",
    "        \n",
    "        for epoch in range(num_epochs):\n",
    "            print(f'Epoch {epoch+1}/{num_epochs}')\n",
    "            print('-' * 10)\n",
    "            \n",
    "            # Each epoch has a training and validation phase\n",
    "            for phase in ['train', 'val']:\n",
    "                if phase == 'train':\n",
    "                    self.model.train()\n",
    "                    dataloader = self.train_loader\n",
    "                else:\n",
    "                    self.model.eval()\n",
    "                    dataloader = self.val_loader\n",
    "                \n",
    "                running_loss = 0.0\n",
    "                running_corrects = 0\n",
    "                total_samples = 0\n",
    "                \n",
    "                # Progress bar\n",
    "                pbar = tqdm(dataloader, desc=f'{phase.capitalize()} ')\n",
    "                \n",
    "                for inputs, labels in pbar:\n",
    "                    inputs = inputs.to(self.device)\n",
    "                    labels = labels.to(self.device)\n",
    "                    \n",
    "                    # Zero gradients\n",
    "                    optimizer.zero_grad()\n",
    "                    \n",
    "                    # Forward pass\n",
    "                    with torch.set_grad_enabled(phase == 'train'):\n",
    "                        outputs = self.model(inputs)\n",
    "                        _, preds = torch.max(outputs, 1)\n",
    "                        loss = criterion(outputs, labels)\n",
    "                        \n",
    "                        # Backward pass (only in training)\n",
    "                        if phase == 'train':\n",
    "                            loss.backward()\n",
    "                            optimizer.step()\n",
    "                    \n",
    "                    # Statistics\n",
    "                    running_loss += loss.item() * inputs.size(0)\n",
    "                    running_corrects += torch.sum(preds == labels.data)\n",
    "                    total_samples += inputs.size(0)\n",
    "                    \n",
    "                    # Update progress bar\n",
    "                    current_acc = running_corrects.double() / total_samples\n",
    "                    pbar.set_postfix({\n",
    "                        'Loss': f'{running_loss/total_samples:.4f}',\n",
    "                        'Acc': f'{current_acc:.4f}'\n",
    "                    })\n",
    "                \n",
    "                # Calculate epoch metrics\n",
    "                epoch_loss = running_loss / total_samples\n",
    "                epoch_acc = running_corrects.double() / total_samples\n",
    "                \n",
    "                print(f'{phase.capitalize()} Loss: {epoch_loss:.4f} Acc: {epoch_acc:.4f}')\n",
    "                \n",
    "                # Store metrics\n",
    "                if phase == 'train':\n",
    "                    self.train_losses.append(epoch_loss)\n",
    "                    self.train_accuracies.append(epoch_acc.cpu())\n",
    "                else:\n",
    "                    self.val_losses.append(epoch_loss)\n",
    "                    self.val_accuracies.append(epoch_acc.cpu())\n",
    "                \n",
    "                # Save best model\n",
    "                if phase == 'val' and epoch_acc > best_val_acc:\n",
    "                    best_val_acc = epoch_acc\n",
    "                    best_model_wts = copy.deepcopy(self.model.state_dict())\n",
    "                    patience_counter = 0\n",
    "                    if save_best:\n",
    "                        torch.save(self.model.state_dict(), f'best_{model_name}.pth')\n",
    "                        print(f'✓ New best model saved with validation accuracy: {best_val_acc:.4f}')\n",
    "                elif phase == 'val':\n",
    "                    patience_counter += 1\n",
    "            \n",
    "            # Learning rate scheduler step\n",
    "            if phase == 'train':\n",
    "                scheduler.step()\n",
    "            \n",
    "            # Early stopping\n",
    "            if patience_counter >= patience:\n",
    "                print(f'Early stopping triggered after {epoch+1} epochs')\n",
    "                break\n",
    "                \n",
    "            print()\n",
    "        \n",
    "        # Training complete\n",
    "        time_elapsed = time.time() - start_time\n",
    "        print(f'Training complete in {time_elapsed // 60:.0f}m {time_elapsed % 60:.0f}s')\n",
    "        print(f'Best validation accuracy: {best_val_acc:.4f}')\n",
    "        \n",
    "        # Load best model weights\n",
    "        self.model.load_state_dict(best_model_wts)\n",
    "        return self.model\n",
    "    \n",
    "    def evaluate_model(self, test_loader=None):\n",
    "        \"\"\"Evaluate model on test set\"\"\"\n",
    "        if test_loader is None:\n",
    "            test_loader = self.test_loader\n",
    "            \n",
    "        self.model.eval()\n",
    "        all_preds = []\n",
    "        all_labels = []\n",
    "        test_loss = 0.0\n",
    "        correct = 0\n",
    "        total = 0\n",
    "        \n",
    "        criterion = nn.CrossEntropyLoss()\n",
    "        \n",
    "        print(\"Evaluating on test set...\")\n",
    "        with torch.no_grad():\n",
    "            for inputs, labels in tqdm(test_loader):\n",
    "                inputs = inputs.to(self.device)\n",
    "                labels = labels.to(self.device)\n",
    "                \n",
    "                outputs = self.model(inputs)\n",
    "                loss = criterion(outputs, labels)\n",
    "                \n",
    "                _, predicted = torch.max(outputs.data, 1)\n",
    "                total += labels.size(0)\n",
    "                correct += (predicted == labels).sum().item()\n",
    "                test_loss += loss.item()\n",
    "                \n",
    "                # Store for detailed metrics\n",
    "                all_preds.extend(predicted.cpu().numpy())\n",
    "                all_labels.extend(labels.cpu().numpy())\n",
    "        \n",
    "        # Calculate metrics\n",
    "        test_acc = 100 * correct / total\n",
    "        avg_test_loss = test_loss / len(test_loader)\n",
    "        \n",
    "        print(f'Test Accuracy: {test_acc:.2f}%')\n",
    "        print(f'Test Loss: {avg_test_loss:.4f}')\n",
    "        \n",
    "        # Detailed classification report\n",
    "        print(\"\\nClassification Report:\")\n",
    "        print(classification_report(all_labels, all_preds, target_names=['Autistic', 'Non_Autistic']))\n",
    "        \n",
    "        # Confusion Matrix\n",
    "        cm = confusion_matrix(all_labels, all_preds)\n",
    "        print(f\"\\nConfusion Matrix:\")\n",
    "        print(cm)\n",
    "        \n",
    "        return test_acc, all_preds, all_labels\n",
    "    \n",
    "    def plot_training_history(self, save_path=None):\n",
    "        \"\"\"Plot training and validation metrics\"\"\"\n",
    "        fig, (ax1, ax2) = plt.subplots(1, 2, figsize=(15, 5))\n",
    "        \n",
    "        # Plot losses\n",
    "        ax1.plot(self.train_losses, label='Train Loss', marker='o')\n",
    "        ax1.plot(self.val_losses, label='Validation Loss', marker='s')\n",
    "        ax1.set_title('Model Loss')\n",
    "        ax1.set_xlabel('Epoch')\n",
    "        ax1.set_ylabel('Loss')\n",
    "        ax1.legend()\n",
    "        ax1.grid(True)\n",
    "        \n",
    "        # Plot accuracies\n",
    "        ax2.plot(self.train_accuracies, label='Train Accuracy', marker='o')\n",
    "        ax2.plot(self.val_accuracies, label='Validation Accuracy', marker='s')\n",
    "        ax2.set_title('Model Accuracy')\n",
    "        ax2.set_xlabel('Epoch')\n",
    "        ax2.set_ylabel('Accuracy')\n",
    "        ax2.legend()\n",
    "        ax2.grid(True)\n",
    "        \n",
    "        plt.tight_layout()\n",
    "        \n",
    "        if save_path:\n",
    "            plt.savefig(save_path)\n",
    "        plt.show()"
   ]
  },
  {
   "cell_type": "markdown",
   "id": "138ea955",
   "metadata": {
    "papermill": {
     "duration": 0.005499,
     "end_time": "2025-09-08T03:53:00.796979",
     "exception": false,
     "start_time": "2025-09-08T03:53:00.791480",
     "status": "completed"
    },
    "tags": []
   },
   "source": [
    "## Model Definitions"
   ]
  },
  {
   "cell_type": "code",
   "execution_count": 9,
   "id": "a9371342",
   "metadata": {
    "execution": {
     "iopub.execute_input": "2025-09-08T03:53:00.808952Z",
     "iopub.status.busy": "2025-09-08T03:53:00.808667Z",
     "iopub.status.idle": "2025-09-08T03:53:00.815388Z",
     "shell.execute_reply": "2025-09-08T03:53:00.814869Z"
    },
    "papermill": {
     "duration": 0.013829,
     "end_time": "2025-09-08T03:53:00.816376",
     "exception": false,
     "start_time": "2025-09-08T03:53:00.802547",
     "status": "completed"
    },
    "tags": []
   },
   "outputs": [],
   "source": [
    "def create_resnet_model(num_classes=2, pretrained=True):\n",
    "    \"\"\"Create ResNet-18 model for binary classification\"\"\"\n",
    "    model = models.resnet18(pretrained=pretrained)\n",
    "    \n",
    "    # Modify final layer\n",
    "    num_features = model.fc.in_features\n",
    "    model.fc = nn.Linear(num_features, num_classes)\n",
    "    \n",
    "    return model\n",
    "\n",
    "def create_vgg_model(architecture='vgg16', num_classes=2, pretrained=True):\n",
    "    \"\"\"Create VGG model (16 or 19) for binary classification\"\"\"\n",
    "    if architecture == 'vgg16':\n",
    "        model = models.vgg16(pretrained=pretrained)\n",
    "    elif architecture == 'vgg19':\n",
    "        model = models.vgg19(pretrained=pretrained)\n",
    "    else:\n",
    "        raise ValueError(\"Architecture must be 'vgg16' or 'vgg19'\")\n",
    "    \n",
    "    # Modify classifier\n",
    "    num_features = model.classifier[6].in_features\n",
    "    model.classifier[6] = nn.Linear(num_features, num_classes)\n",
    "    \n",
    "    return model\n",
    "\n",
    "def create_efficientnet_model(architecture='b0', num_classes=2, pretrained=True):\n",
    "    \"\"\"Create EfficientNet model for binary classification\"\"\"\n",
    "    if architecture == 'b0':\n",
    "        model = models.efficientnet_b0(pretrained=pretrained)\n",
    "    elif architecture == 'b1':\n",
    "        model = models.efficientnet_b1(pretrained=pretrained)\n",
    "    elif architecture == 'b2':\n",
    "        model = models.efficientnet_b2(pretrained=pretrained)\n",
    "    else:\n",
    "        raise ValueError(\"Architecture must be 'b0', 'b1', or 'b2'\")\n",
    "    \n",
    "    # Modify classifier\n",
    "    num_features = model.classifier[1].in_features\n",
    "    model.classifier[1] = nn.Linear(num_features, num_classes)\n",
    "    \n",
    "    return model"
   ]
  },
  {
   "cell_type": "markdown",
   "id": "18ac1865",
   "metadata": {
    "papermill": {
     "duration": 0.005673,
     "end_time": "2025-09-08T03:53:00.827780",
     "exception": false,
     "start_time": "2025-09-08T03:53:00.822107",
     "status": "completed"
    },
    "tags": []
   },
   "source": [
    "## Configure GPU"
   ]
  },
  {
   "cell_type": "code",
   "execution_count": 10,
   "id": "1a98a531",
   "metadata": {
    "execution": {
     "iopub.execute_input": "2025-09-08T03:53:00.840011Z",
     "iopub.status.busy": "2025-09-08T03:53:00.839565Z",
     "iopub.status.idle": "2025-09-08T03:53:00.901326Z",
     "shell.execute_reply": "2025-09-08T03:53:00.900360Z"
    },
    "papermill": {
     "duration": 0.06902,
     "end_time": "2025-09-08T03:53:00.902392",
     "exception": false,
     "start_time": "2025-09-08T03:53:00.833372",
     "status": "completed"
    },
    "tags": []
   },
   "outputs": [
    {
     "name": "stdout",
     "output_type": "stream",
     "text": [
      "Using device: cuda\n"
     ]
    }
   ],
   "source": [
    "device = torch.device('cuda' if torch.cuda.is_available() else 'cpu')\n",
    "print(f\"Using device: {device}\")"
   ]
  },
  {
   "cell_type": "markdown",
   "id": "a8a2cd58",
   "metadata": {
    "papermill": {
     "duration": 0.00717,
     "end_time": "2025-09-08T03:53:00.916494",
     "exception": false,
     "start_time": "2025-09-08T03:53:00.909324",
     "status": "completed"
    },
    "tags": []
   },
   "source": [
    "## 1. ResNet-18 Training"
   ]
  },
  {
   "cell_type": "code",
   "execution_count": 11,
   "id": "e67efcf6",
   "metadata": {
    "execution": {
     "iopub.execute_input": "2025-09-08T03:53:00.940090Z",
     "iopub.status.busy": "2025-09-08T03:53:00.939531Z",
     "iopub.status.idle": "2025-09-08T03:53:01.655727Z",
     "shell.execute_reply": "2025-09-08T03:53:01.655127Z"
    },
    "papermill": {
     "duration": 0.728552,
     "end_time": "2025-09-08T03:53:01.657150",
     "exception": false,
     "start_time": "2025-09-08T03:53:00.928598",
     "status": "completed"
    },
    "tags": []
   },
   "outputs": [
    {
     "name": "stdout",
     "output_type": "stream",
     "text": [
      "Creating ResNet-18 model...\n"
     ]
    },
    {
     "name": "stderr",
     "output_type": "stream",
     "text": [
      "/usr/local/lib/python3.11/dist-packages/torchvision/models/_utils.py:208: UserWarning: The parameter 'pretrained' is deprecated since 0.13 and may be removed in the future, please use 'weights' instead.\n",
      "  warnings.warn(\n",
      "/usr/local/lib/python3.11/dist-packages/torchvision/models/_utils.py:223: UserWarning: Arguments other than a weight enum or `None` for 'weights' are deprecated since 0.13 and may be removed in the future. The current behavior is equivalent to passing `weights=ResNet18_Weights.IMAGENET1K_V1`. You can also use `weights=ResNet18_Weights.DEFAULT` to get the most up-to-date weights.\n",
      "  warnings.warn(msg)\n",
      "Downloading: \"https://download.pytorch.org/models/resnet18-f37072fd.pth\" to /root/.cache/torch/hub/checkpoints/resnet18-f37072fd.pth\n",
      "100%|██████████| 44.7M/44.7M [00:00<00:00, 204MB/s]\n"
     ]
    }
   ],
   "source": [
    "# Create and train ResNet-18\n",
    "print(\"Creating ResNet-18 model...\")\n",
    "resnet_model = create_resnet_model()\n",
    "resnet_trainer = ModelTrainer(resnet_model, train_loader, val_loader, test_loader, device)"
   ]
  },
  {
   "cell_type": "code",
   "execution_count": 12,
   "id": "217aa723",
   "metadata": {
    "execution": {
     "iopub.execute_input": "2025-09-08T03:53:01.670649Z",
     "iopub.status.busy": "2025-09-08T03:53:01.670428Z",
     "iopub.status.idle": "2025-09-08T03:54:08.195715Z",
     "shell.execute_reply": "2025-09-08T03:54:08.194698Z"
    },
    "papermill": {
     "duration": 66.533353,
     "end_time": "2025-09-08T03:54:08.197020",
     "exception": false,
     "start_time": "2025-09-08T03:53:01.663667",
     "status": "completed"
    },
    "tags": []
   },
   "outputs": [
    {
     "name": "stdout",
     "output_type": "stream",
     "text": [
      "Training ResNet-18...\n",
      "Starting training for 25 epochs...\n",
      "------------------------------------------------------------\n",
      "Epoch 1/25\n",
      "----------\n"
     ]
    },
    {
     "name": "stderr",
     "output_type": "stream",
     "text": [
      "Train : 100%|██████████| 79/79 [00:09<00:00,  7.97it/s, Loss=0.5451, Acc=0.7571]\n"
     ]
    },
    {
     "name": "stdout",
     "output_type": "stream",
     "text": [
      "Train Loss: 0.5451 Acc: 0.7571\n"
     ]
    },
    {
     "name": "stderr",
     "output_type": "stream",
     "text": [
      "Val : 100%|██████████| 4/4 [00:00<00:00,  5.73it/s, Loss=0.5683, Acc=0.6800]\n"
     ]
    },
    {
     "name": "stdout",
     "output_type": "stream",
     "text": [
      "Val Loss: 0.5683 Acc: 0.6800\n",
      "✓ New best model saved with validation accuracy: 0.6800\n",
      "\n",
      "Epoch 2/25\n",
      "----------\n"
     ]
    },
    {
     "name": "stderr",
     "output_type": "stream",
     "text": [
      "Train : 100%|██████████| 79/79 [00:05<00:00, 14.15it/s, Loss=0.3817, Acc=0.8299]\n"
     ]
    },
    {
     "name": "stdout",
     "output_type": "stream",
     "text": [
      "Train Loss: 0.3817 Acc: 0.8299\n"
     ]
    },
    {
     "name": "stderr",
     "output_type": "stream",
     "text": [
      "Val : 100%|██████████| 4/4 [00:00<00:00,  9.57it/s, Loss=0.4975, Acc=0.7400]\n"
     ]
    },
    {
     "name": "stdout",
     "output_type": "stream",
     "text": [
      "Val Loss: 0.4975 Acc: 0.7400\n",
      "✓ New best model saved with validation accuracy: 0.7400\n",
      "\n",
      "Epoch 3/25\n",
      "----------\n"
     ]
    },
    {
     "name": "stderr",
     "output_type": "stream",
     "text": [
      "Train : 100%|██████████| 79/79 [00:05<00:00, 13.68it/s, Loss=0.3219, Acc=0.8675]\n"
     ]
    },
    {
     "name": "stdout",
     "output_type": "stream",
     "text": [
      "Train Loss: 0.3219 Acc: 0.8675\n"
     ]
    },
    {
     "name": "stderr",
     "output_type": "stream",
     "text": [
      "Val : 100%|██████████| 4/4 [00:00<00:00,  9.34it/s, Loss=0.7279, Acc=0.7400]\n"
     ]
    },
    {
     "name": "stdout",
     "output_type": "stream",
     "text": [
      "Val Loss: 0.7279 Acc: 0.7400\n",
      "\n",
      "Epoch 4/25\n",
      "----------\n"
     ]
    },
    {
     "name": "stderr",
     "output_type": "stream",
     "text": [
      "Train : 100%|██████████| 79/79 [00:05<00:00, 13.88it/s, Loss=0.2736, Acc=0.8825]\n"
     ]
    },
    {
     "name": "stdout",
     "output_type": "stream",
     "text": [
      "Train Loss: 0.2736 Acc: 0.8825\n"
     ]
    },
    {
     "name": "stderr",
     "output_type": "stream",
     "text": [
      "Val : 100%|██████████| 4/4 [00:00<00:00,  9.33it/s, Loss=0.4785, Acc=0.7700]\n"
     ]
    },
    {
     "name": "stdout",
     "output_type": "stream",
     "text": [
      "Val Loss: 0.4785 Acc: 0.7700\n",
      "✓ New best model saved with validation accuracy: 0.7700\n",
      "\n",
      "Epoch 5/25\n",
      "----------\n"
     ]
    },
    {
     "name": "stderr",
     "output_type": "stream",
     "text": [
      "Train : 100%|██████████| 79/79 [00:05<00:00, 13.61it/s, Loss=0.2254, Acc=0.9055]\n"
     ]
    },
    {
     "name": "stdout",
     "output_type": "stream",
     "text": [
      "Train Loss: 0.2254 Acc: 0.9055\n"
     ]
    },
    {
     "name": "stderr",
     "output_type": "stream",
     "text": [
      "Val : 100%|██████████| 4/4 [00:00<00:00,  9.40it/s, Loss=0.4998, Acc=0.7900]\n"
     ]
    },
    {
     "name": "stdout",
     "output_type": "stream",
     "text": [
      "Val Loss: 0.4998 Acc: 0.7900\n",
      "✓ New best model saved with validation accuracy: 0.7900\n",
      "\n",
      "Epoch 6/25\n",
      "----------\n"
     ]
    },
    {
     "name": "stderr",
     "output_type": "stream",
     "text": [
      "Train : 100%|██████████| 79/79 [00:05<00:00, 13.49it/s, Loss=0.1887, Acc=0.9288]\n"
     ]
    },
    {
     "name": "stdout",
     "output_type": "stream",
     "text": [
      "Train Loss: 0.1887 Acc: 0.9288\n"
     ]
    },
    {
     "name": "stderr",
     "output_type": "stream",
     "text": [
      "Val : 100%|██████████| 4/4 [00:00<00:00,  9.21it/s, Loss=0.7340, Acc=0.7800]\n"
     ]
    },
    {
     "name": "stdout",
     "output_type": "stream",
     "text": [
      "Val Loss: 0.7340 Acc: 0.7800\n",
      "\n",
      "Epoch 7/25\n",
      "----------\n"
     ]
    },
    {
     "name": "stderr",
     "output_type": "stream",
     "text": [
      "Train : 100%|██████████| 79/79 [00:05<00:00, 13.96it/s, Loss=0.1609, Acc=0.9379]\n"
     ]
    },
    {
     "name": "stdout",
     "output_type": "stream",
     "text": [
      "Train Loss: 0.1609 Acc: 0.9379\n"
     ]
    },
    {
     "name": "stderr",
     "output_type": "stream",
     "text": [
      "Val : 100%|██████████| 4/4 [00:00<00:00,  9.79it/s, Loss=0.6735, Acc=0.7300]\n"
     ]
    },
    {
     "name": "stdout",
     "output_type": "stream",
     "text": [
      "Val Loss: 0.6735 Acc: 0.7300\n",
      "\n",
      "Epoch 8/25\n",
      "----------\n"
     ]
    },
    {
     "name": "stderr",
     "output_type": "stream",
     "text": [
      "Train : 100%|██████████| 79/79 [00:05<00:00, 13.84it/s, Loss=0.1129, Acc=0.9553]\n"
     ]
    },
    {
     "name": "stdout",
     "output_type": "stream",
     "text": [
      "Train Loss: 0.1129 Acc: 0.9553\n"
     ]
    },
    {
     "name": "stderr",
     "output_type": "stream",
     "text": [
      "Val : 100%|██████████| 4/4 [00:00<00:00,  9.21it/s, Loss=0.8423, Acc=0.7300]\n"
     ]
    },
    {
     "name": "stdout",
     "output_type": "stream",
     "text": [
      "Val Loss: 0.8423 Acc: 0.7300\n",
      "\n",
      "Epoch 9/25\n",
      "----------\n"
     ]
    },
    {
     "name": "stderr",
     "output_type": "stream",
     "text": [
      "Train : 100%|██████████| 79/79 [00:05<00:00, 13.69it/s, Loss=0.1194, Acc=0.9561]\n"
     ]
    },
    {
     "name": "stdout",
     "output_type": "stream",
     "text": [
      "Train Loss: 0.1194 Acc: 0.9561\n"
     ]
    },
    {
     "name": "stderr",
     "output_type": "stream",
     "text": [
      "Val : 100%|██████████| 4/4 [00:00<00:00,  9.32it/s, Loss=0.6608, Acc=0.7500]\n"
     ]
    },
    {
     "name": "stdout",
     "output_type": "stream",
     "text": [
      "Val Loss: 0.6608 Acc: 0.7500\n",
      "\n",
      "Epoch 10/25\n",
      "----------\n"
     ]
    },
    {
     "name": "stderr",
     "output_type": "stream",
     "text": [
      "Train : 100%|██████████| 79/79 [00:05<00:00, 13.89it/s, Loss=0.1065, Acc=0.9585]\n"
     ]
    },
    {
     "name": "stdout",
     "output_type": "stream",
     "text": [
      "Train Loss: 0.1065 Acc: 0.9585\n"
     ]
    },
    {
     "name": "stderr",
     "output_type": "stream",
     "text": [
      "Val : 100%|██████████| 4/4 [00:00<00:00,  9.45it/s, Loss=1.3600, Acc=0.7300]"
     ]
    },
    {
     "name": "stdout",
     "output_type": "stream",
     "text": [
      "Val Loss: 1.3600 Acc: 0.7300\n",
      "Early stopping triggered after 10 epochs\n",
      "Training complete in 1m 7s\n",
      "Best validation accuracy: 0.7900\n"
     ]
    },
    {
     "name": "stderr",
     "output_type": "stream",
     "text": [
      "\n"
     ]
    }
   ],
   "source": [
    "# Train ResNet-18\n",
    "print(\"Training ResNet-18...\")\n",
    "trained_resnet = resnet_trainer.train_model(num_epochs=25, model_name=\"resnet18\")"
   ]
  },
  {
   "cell_type": "code",
   "execution_count": 13,
   "id": "f3726223",
   "metadata": {
    "execution": {
     "iopub.execute_input": "2025-09-08T03:54:08.310828Z",
     "iopub.status.busy": "2025-09-08T03:54:08.310570Z",
     "iopub.status.idle": "2025-09-08T03:54:10.242528Z",
     "shell.execute_reply": "2025-09-08T03:54:10.241780Z"
    },
    "papermill": {
     "duration": 1.989918,
     "end_time": "2025-09-08T03:54:10.244182",
     "exception": false,
     "start_time": "2025-09-08T03:54:08.254264",
     "status": "completed"
    },
    "tags": []
   },
   "outputs": [
    {
     "name": "stdout",
     "output_type": "stream",
     "text": [
      "Evaluating on test set...\n"
     ]
    },
    {
     "name": "stderr",
     "output_type": "stream",
     "text": [
      "100%|██████████| 10/10 [00:01<00:00,  6.92it/s]\n"
     ]
    },
    {
     "name": "stdout",
     "output_type": "stream",
     "text": [
      "Test Accuracy: 81.00%\n",
      "Test Loss: 0.4098\n",
      "\n",
      "Classification Report:\n",
      "              precision    recall  f1-score   support\n",
      "\n",
      "    Autistic       0.75      0.93      0.83       150\n",
      "Non_Autistic       0.90      0.69      0.78       150\n",
      "\n",
      "    accuracy                           0.81       300\n",
      "   macro avg       0.83      0.81      0.81       300\n",
      "weighted avg       0.83      0.81      0.81       300\n",
      "\n",
      "\n",
      "Confusion Matrix:\n",
      "[[139  11]\n",
      " [ 46 104]]\n"
     ]
    },
    {
     "data": {
      "image/png": "[encoded data removed]",
      "text/plain": [
       "<Figure size 1500x500 with 2 Axes>"
      ]
     },
     "metadata": {},
     "output_type": "display_data"
    }
   ],
   "source": [
    "# Evaluate ResNet-18\n",
    "resnet_test_acc, resnet_preds, resnet_labels = resnet_trainer.evaluate_model()\n",
    "resnet_trainer.plot_training_history()"
   ]
  },
  {
   "cell_type": "markdown",
   "id": "067a6d5e",
   "metadata": {
    "papermill": {
     "duration": 0.055858,
     "end_time": "2025-09-08T03:54:10.357831",
     "exception": false,
     "start_time": "2025-09-08T03:54:10.301973",
     "status": "completed"
    },
    "tags": []
   },
   "source": [
    "## 2. VGG-16 Training"
   ]
  },
  {
   "cell_type": "code",
   "execution_count": 14,
   "id": "9819f1a6",
   "metadata": {
    "execution": {
     "iopub.execute_input": "2025-09-08T03:54:10.472280Z",
     "iopub.status.busy": "2025-09-08T03:54:10.472024Z",
     "iopub.status.idle": "2025-09-08T03:54:14.851672Z",
     "shell.execute_reply": "2025-09-08T03:54:14.850890Z"
    },
    "papermill": {
     "duration": 4.43882,
     "end_time": "2025-09-08T03:54:14.853187",
     "exception": false,
     "start_time": "2025-09-08T03:54:10.414367",
     "status": "completed"
    },
    "tags": []
   },
   "outputs": [
    {
     "name": "stdout",
     "output_type": "stream",
     "text": [
      "Creating VGG-16 model...\n"
     ]
    },
    {
     "name": "stderr",
     "output_type": "stream",
     "text": [
      "/usr/local/lib/python3.11/dist-packages/torchvision/models/_utils.py:208: UserWarning: The parameter 'pretrained' is deprecated since 0.13 and may be removed in the future, please use 'weights' instead.\n",
      "  warnings.warn(\n",
      "/usr/local/lib/python3.11/dist-packages/torchvision/models/_utils.py:223: UserWarning: Arguments other than a weight enum or `None` for 'weights' are deprecated since 0.13 and may be removed in the future. The current behavior is equivalent to passing `weights=VGG16_Weights.IMAGENET1K_V1`. You can also use `weights=VGG16_Weights.DEFAULT` to get the most up-to-date weights.\n",
      "  warnings.warn(msg)\n",
      "Downloading: \"https://download.pytorch.org/models/vgg16-397923af.pth\" to /root/.cache/torch/hub/checkpoints/vgg16-397923af.pth\n",
      "100%|██████████| 528M/528M [00:02<00:00, 216MB/s]\n"
     ]
    }
   ],
   "source": [
    "# Create and train VGG-16\n",
    "print(\"Creating VGG-16 model...\")\n",
    "vgg16_model = create_vgg_model('vgg16')\n",
    "vgg16_trainer = ModelTrainer(vgg16_model, train_loader, val_loader, test_loader, device)"
   ]
  },
  {
   "cell_type": "code",
   "execution_count": 15,
   "id": "42c561b8",
   "metadata": {
    "execution": {
     "iopub.execute_input": "2025-09-08T03:54:14.971252Z",
     "iopub.status.busy": "2025-09-08T03:54:14.970571Z",
     "iopub.status.idle": "2025-09-08T03:56:22.021528Z",
     "shell.execute_reply": "2025-09-08T03:56:22.020668Z"
    },
    "papermill": {
     "duration": 127.110324,
     "end_time": "2025-09-08T03:56:22.022574",
     "exception": false,
     "start_time": "2025-09-08T03:54:14.912250",
     "status": "completed"
    },
    "tags": []
   },
   "outputs": [
    {
     "name": "stdout",
     "output_type": "stream",
     "text": [
      "Training VGG-16...\n",
      "Starting training for 25 epochs...\n",
      "------------------------------------------------------------\n",
      "Epoch 1/25\n",
      "----------\n"
     ]
    },
    {
     "name": "stderr",
     "output_type": "stream",
     "text": [
      "Train : 100%|██████████| 79/79 [00:20<00:00,  3.87it/s, Loss=0.8823, Acc=0.5233]\n"
     ]
    },
    {
     "name": "stdout",
     "output_type": "stream",
     "text": [
      "Train Loss: 0.8823 Acc: 0.5233\n"
     ]
    },
    {
     "name": "stderr",
     "output_type": "stream",
     "text": [
      "Val : 100%|██████████| 4/4 [00:00<00:00,  6.94it/s, Loss=0.6902, Acc=0.5900]\n"
     ]
    },
    {
     "name": "stdout",
     "output_type": "stream",
     "text": [
      "Val Loss: 0.6902 Acc: 0.5900\n",
      "✓ New best model saved with validation accuracy: 0.5900\n",
      "\n",
      "Epoch 2/25\n",
      "----------\n"
     ]
    },
    {
     "name": "stderr",
     "output_type": "stream",
     "text": [
      "Train : 100%|██████████| 79/79 [00:20<00:00,  3.87it/s, Loss=0.7408, Acc=0.5277]\n"
     ]
    },
    {
     "name": "stdout",
     "output_type": "stream",
     "text": [
      "Train Loss: 0.7408 Acc: 0.5277\n"
     ]
    },
    {
     "name": "stderr",
     "output_type": "stream",
     "text": [
      "Val : 100%|██████████| 4/4 [00:00<00:00,  6.93it/s, Loss=0.6955, Acc=0.5000]\n"
     ]
    },
    {
     "name": "stdout",
     "output_type": "stream",
     "text": [
      "Val Loss: 0.6955 Acc: 0.5000\n",
      "\n",
      "Epoch 3/25\n",
      "----------\n"
     ]
    },
    {
     "name": "stderr",
     "output_type": "stream",
     "text": [
      "Train : 100%|██████████| 79/79 [00:20<00:00,  3.88it/s, Loss=0.6970, Acc=0.4953]\n"
     ]
    },
    {
     "name": "stdout",
     "output_type": "stream",
     "text": [
      "Train Loss: 0.6970 Acc: 0.4953\n"
     ]
    },
    {
     "name": "stderr",
     "output_type": "stream",
     "text": [
      "Val : 100%|██████████| 4/4 [00:00<00:00,  7.05it/s, Loss=0.6968, Acc=0.5000]\n"
     ]
    },
    {
     "name": "stdout",
     "output_type": "stream",
     "text": [
      "Val Loss: 0.6968 Acc: 0.5000\n",
      "\n",
      "Epoch 4/25\n",
      "----------\n"
     ]
    },
    {
     "name": "stderr",
     "output_type": "stream",
     "text": [
      "Train : 100%|██████████| 79/79 [00:20<00:00,  3.87it/s, Loss=0.7013, Acc=0.4945]\n"
     ]
    },
    {
     "name": "stdout",
     "output_type": "stream",
     "text": [
      "Train Loss: 0.7013 Acc: 0.4945\n"
     ]
    },
    {
     "name": "stderr",
     "output_type": "stream",
     "text": [
      "Val : 100%|██████████| 4/4 [00:00<00:00,  6.57it/s, Loss=0.6972, Acc=0.5000]\n"
     ]
    },
    {
     "name": "stdout",
     "output_type": "stream",
     "text": [
      "Val Loss: 0.6972 Acc: 0.5000\n",
      "\n",
      "Epoch 5/25\n",
      "----------\n"
     ]
    },
    {
     "name": "stderr",
     "output_type": "stream",
     "text": [
      "Train : 100%|██████████| 79/79 [00:20<00:00,  3.88it/s, Loss=0.6979, Acc=0.4968]\n"
     ]
    },
    {
     "name": "stdout",
     "output_type": "stream",
     "text": [
      "Train Loss: 0.6979 Acc: 0.4968\n"
     ]
    },
    {
     "name": "stderr",
     "output_type": "stream",
     "text": [
      "Val : 100%|██████████| 4/4 [00:00<00:00,  6.35it/s, Loss=0.6947, Acc=0.5000]\n"
     ]
    },
    {
     "name": "stdout",
     "output_type": "stream",
     "text": [
      "Val Loss: 0.6947 Acc: 0.5000\n",
      "\n",
      "Epoch 6/25\n",
      "----------\n"
     ]
    },
    {
     "name": "stderr",
     "output_type": "stream",
     "text": [
      "Train : 100%|██████████| 79/79 [00:20<00:00,  3.87it/s, Loss=0.7300, Acc=0.4830]\n"
     ]
    },
    {
     "name": "stdout",
     "output_type": "stream",
     "text": [
      "Train Loss: 0.7300 Acc: 0.4830\n"
     ]
    },
    {
     "name": "stderr",
     "output_type": "stream",
     "text": [
      "Val : 100%|██████████| 4/4 [00:00<00:00,  6.32it/s, Loss=0.6931, Acc=0.5000]"
     ]
    },
    {
     "name": "stdout",
     "output_type": "stream",
     "text": [
      "Val Loss: 0.6931 Acc: 0.5000\n",
      "Early stopping triggered after 6 epochs\n",
      "Training complete in 2m 7s\n",
      "Best validation accuracy: 0.5900\n"
     ]
    },
    {
     "name": "stderr",
     "output_type": "stream",
     "text": [
      "\n"
     ]
    }
   ],
   "source": [
    "# Train VGG-16\n",
    "print(\"Training VGG-16...\")\n",
    "trained_vgg16 = vgg16_trainer.train_model(num_epochs=25, model_name='vgg16')"
   ]
  },
  {
   "cell_type": "code",
   "execution_count": 16,
   "id": "18094f84",
   "metadata": {
    "execution": {
     "iopub.execute_input": "2025-09-08T03:56:22.220591Z",
     "iopub.status.busy": "2025-09-08T03:56:22.219998Z",
     "iopub.status.idle": "2025-09-08T03:56:23.939011Z",
     "shell.execute_reply": "2025-09-08T03:56:23.938222Z"
    },
    "papermill": {
     "duration": 1.817414,
     "end_time": "2025-09-08T03:56:23.940686",
     "exception": false,
     "start_time": "2025-09-08T03:56:22.123272",
     "status": "completed"
    },
    "tags": []
   },
   "outputs": [
    {
     "name": "stdout",
     "output_type": "stream",
     "text": [
      "Evaluating on test set...\n"
     ]
    },
    {
     "name": "stderr",
     "output_type": "stream",
     "text": [
      "100%|██████████| 10/10 [00:01<00:00,  8.68it/s]\n"
     ]
    },
    {
     "name": "stdout",
     "output_type": "stream",
     "text": [
      "Test Accuracy: 53.00%\n",
      "Test Loss: 0.6910\n",
      "\n",
      "Classification Report:\n",
      "              precision    recall  f1-score   support\n",
      "\n",
      "    Autistic       0.52      0.85      0.64       150\n",
      "Non_Autistic       0.58      0.21      0.31       150\n",
      "\n",
      "    accuracy                           0.53       300\n",
      "   macro avg       0.55      0.53      0.48       300\n",
      "weighted avg       0.55      0.53      0.48       300\n",
      "\n",
      "\n",
      "Confusion Matrix:\n",
      "[[127  23]\n",
      " [118  32]]\n"
     ]
    },
    {
     "data": {
      "image/png": "[encoded data removed]",
      "text/plain": [
       "<Figure size 1500x500 with 2 Axes>"
      ]
     },
     "metadata": {},
     "output_type": "display_data"
    }
   ],
   "source": [
    "# Evaluate VGG-16\n",
    "vgg16_test_acc, vgg16_preds, vgg16_labels = vgg16_trainer.evaluate_model()\n",
    "vgg16_trainer.plot_training_history()"
   ]
  },
  {
   "cell_type": "markdown",
   "id": "6790c1c6",
   "metadata": {
    "papermill": {
     "duration": 0.100149,
     "end_time": "2025-09-08T03:56:24.144078",
     "exception": false,
     "start_time": "2025-09-08T03:56:24.043929",
     "status": "completed"
    },
    "tags": []
   },
   "source": [
    "## 3. VGG-19 Training"
   ]
  },
  {
   "cell_type": "code",
   "execution_count": 17,
   "id": "7b3c85a3",
   "metadata": {
    "execution": {
     "iopub.execute_input": "2025-09-08T03:56:24.345542Z",
     "iopub.status.busy": "2025-09-08T03:56:24.344810Z",
     "iopub.status.idle": "2025-09-08T03:56:28.699163Z",
     "shell.execute_reply": "2025-09-08T03:56:28.698365Z"
    },
    "papermill": {
     "duration": 4.456192,
     "end_time": "2025-09-08T03:56:28.700611",
     "exception": false,
     "start_time": "2025-09-08T03:56:24.244419",
     "status": "completed"
    },
    "tags": []
   },
   "outputs": [
    {
     "name": "stdout",
     "output_type": "stream",
     "text": [
      "Creating VGG-19 model...\n"
     ]
    },
    {
     "name": "stderr",
     "output_type": "stream",
     "text": [
      "/usr/local/lib/python3.11/dist-packages/torchvision/models/_utils.py:208: UserWarning: The parameter 'pretrained' is deprecated since 0.13 and may be removed in the future, please use 'weights' instead.\n",
      "  warnings.warn(\n",
      "/usr/local/lib/python3.11/dist-packages/torchvision/models/_utils.py:223: UserWarning: Arguments other than a weight enum or `None` for 'weights' are deprecated since 0.13 and may be removed in the future. The current behavior is equivalent to passing `weights=VGG19_Weights.IMAGENET1K_V1`. You can also use `weights=VGG19_Weights.DEFAULT` to get the most up-to-date weights.\n",
      "  warnings.warn(msg)\n",
      "Downloading: \"https://download.pytorch.org/models/vgg19-dcbb9e9d.pth\" to /root/.cache/torch/hub/checkpoints/vgg19-dcbb9e9d.pth\n",
      "100%|██████████| 548M/548M [00:02<00:00, 232MB/s]\n"
     ]
    }
   ],
   "source": [
    "# Create and train VGG-19\n",
    "print(\"Creating VGG-19 model...\")\n",
    "vgg19_model = create_vgg_model('vgg19')\n",
    "vgg19_trainer = ModelTrainer(vgg19_model, train_loader, val_loader, test_loader, device)"
   ]
  },
  {
   "cell_type": "code",
   "execution_count": 18,
   "id": "42e64d0b",
   "metadata": {
    "execution": {
     "iopub.execute_input": "2025-09-08T03:56:28.947879Z",
     "iopub.status.busy": "2025-09-08T03:56:28.947218Z",
     "iopub.status.idle": "2025-09-08T03:59:20.795640Z",
     "shell.execute_reply": "2025-09-08T03:59:20.794629Z"
    },
    "papermill": {
     "duration": 171.949804,
     "end_time": "2025-09-08T03:59:20.796862",
     "exception": false,
     "start_time": "2025-09-08T03:56:28.847058",
     "status": "completed"
    },
    "tags": []
   },
   "outputs": [
    {
     "name": "stdout",
     "output_type": "stream",
     "text": [
      "Training VGG-19...\n",
      "Starting training for 25 epochs...\n",
      "------------------------------------------------------------\n",
      "Epoch 1/25\n",
      "----------\n"
     ]
    },
    {
     "name": "stderr",
     "output_type": "stream",
     "text": [
      "Train : 100%|██████████| 79/79 [00:23<00:00,  3.36it/s, Loss=0.9446, Acc=0.4822]\n"
     ]
    },
    {
     "name": "stdout",
     "output_type": "stream",
     "text": [
      "Train Loss: 0.9446 Acc: 0.4822\n"
     ]
    },
    {
     "name": "stderr",
     "output_type": "stream",
     "text": [
      "Val : 100%|██████████| 4/4 [00:00<00:00,  5.75it/s, Loss=0.6966, Acc=0.5000]\n"
     ]
    },
    {
     "name": "stdout",
     "output_type": "stream",
     "text": [
      "Val Loss: 0.6966 Acc: 0.5000\n",
      "✓ New best model saved with validation accuracy: 0.5000\n",
      "\n",
      "Epoch 2/25\n",
      "----------\n"
     ]
    },
    {
     "name": "stderr",
     "output_type": "stream",
     "text": [
      "Train : 100%|██████████| 79/79 [00:23<00:00,  3.35it/s, Loss=0.7002, Acc=0.5261]\n"
     ]
    },
    {
     "name": "stdout",
     "output_type": "stream",
     "text": [
      "Train Loss: 0.7002 Acc: 0.5261\n"
     ]
    },
    {
     "name": "stderr",
     "output_type": "stream",
     "text": [
      "Val : 100%|██████████| 4/4 [00:00<00:00,  6.36it/s, Loss=0.6676, Acc=0.5700]\n"
     ]
    },
    {
     "name": "stdout",
     "output_type": "stream",
     "text": [
      "Val Loss: 0.6676 Acc: 0.5700\n",
      "✓ New best model saved with validation accuracy: 0.5700\n",
      "\n",
      "Epoch 3/25\n",
      "----------\n"
     ]
    },
    {
     "name": "stderr",
     "output_type": "stream",
     "text": [
      "Train : 100%|██████████| 79/79 [00:23<00:00,  3.36it/s, Loss=0.7005, Acc=0.5237]\n"
     ]
    },
    {
     "name": "stdout",
     "output_type": "stream",
     "text": [
      "Train Loss: 0.7005 Acc: 0.5237\n"
     ]
    },
    {
     "name": "stderr",
     "output_type": "stream",
     "text": [
      "Val : 100%|██████████| 4/4 [00:00<00:00,  6.00it/s, Loss=0.6966, Acc=0.5000]\n"
     ]
    },
    {
     "name": "stdout",
     "output_type": "stream",
     "text": [
      "Val Loss: 0.6966 Acc: 0.5000\n",
      "\n",
      "Epoch 4/25\n",
      "----------\n"
     ]
    },
    {
     "name": "stderr",
     "output_type": "stream",
     "text": [
      "Train : 100%|██████████| 79/79 [00:23<00:00,  3.36it/s, Loss=0.8185, Acc=0.4984]\n"
     ]
    },
    {
     "name": "stdout",
     "output_type": "stream",
     "text": [
      "Train Loss: 0.8185 Acc: 0.4984\n"
     ]
    },
    {
     "name": "stderr",
     "output_type": "stream",
     "text": [
      "Val : 100%|██████████| 4/4 [00:00<00:00,  6.01it/s, Loss=0.6938, Acc=0.5000]\n"
     ]
    },
    {
     "name": "stdout",
     "output_type": "stream",
     "text": [
      "Val Loss: 0.6938 Acc: 0.5000\n",
      "\n",
      "Epoch 5/25\n",
      "----------\n"
     ]
    },
    {
     "name": "stderr",
     "output_type": "stream",
     "text": [
      "Train : 100%|██████████| 79/79 [00:23<00:00,  3.36it/s, Loss=0.9635, Acc=0.4933]\n"
     ]
    },
    {
     "name": "stdout",
     "output_type": "stream",
     "text": [
      "Train Loss: 0.9635 Acc: 0.4933\n"
     ]
    },
    {
     "name": "stderr",
     "output_type": "stream",
     "text": [
      "Val : 100%|██████████| 4/4 [00:00<00:00,  6.02it/s, Loss=0.6933, Acc=0.5000]\n"
     ]
    },
    {
     "name": "stdout",
     "output_type": "stream",
     "text": [
      "Val Loss: 0.6933 Acc: 0.5000\n",
      "\n",
      "Epoch 6/25\n",
      "----------\n"
     ]
    },
    {
     "name": "stderr",
     "output_type": "stream",
     "text": [
      "Train : 100%|██████████| 79/79 [00:23<00:00,  3.37it/s, Loss=0.6995, Acc=0.4893]\n"
     ]
    },
    {
     "name": "stdout",
     "output_type": "stream",
     "text": [
      "Train Loss: 0.6995 Acc: 0.4893\n"
     ]
    },
    {
     "name": "stderr",
     "output_type": "stream",
     "text": [
      "Val : 100%|██████████| 4/4 [00:00<00:00,  6.09it/s, Loss=0.7041, Acc=0.5000]\n"
     ]
    },
    {
     "name": "stdout",
     "output_type": "stream",
     "text": [
      "Val Loss: 0.7041 Acc: 0.5000\n",
      "\n",
      "Epoch 7/25\n",
      "----------\n"
     ]
    },
    {
     "name": "stderr",
     "output_type": "stream",
     "text": [
      "Train : 100%|██████████| 79/79 [00:23<00:00,  3.37it/s, Loss=0.6962, Acc=0.4964]\n"
     ]
    },
    {
     "name": "stdout",
     "output_type": "stream",
     "text": [
      "Train Loss: 0.6962 Acc: 0.4964\n"
     ]
    },
    {
     "name": "stderr",
     "output_type": "stream",
     "text": [
      "Val : 100%|██████████| 4/4 [00:00<00:00,  5.94it/s, Loss=0.6932, Acc=0.5000]"
     ]
    },
    {
     "name": "stdout",
     "output_type": "stream",
     "text": [
      "Val Loss: 0.6932 Acc: 0.5000\n",
      "Early stopping triggered after 7 epochs\n",
      "Training complete in 2m 52s\n",
      "Best validation accuracy: 0.5700\n"
     ]
    },
    {
     "name": "stderr",
     "output_type": "stream",
     "text": [
      "\n"
     ]
    }
   ],
   "source": [
    "# Train VGG-19\n",
    "print(\"Training VGG-19...\")\n",
    "trained_vgg19 = vgg19_trainer.train_model(num_epochs=25, model_name='vgg19')"
   ]
  },
  {
   "cell_type": "code",
   "execution_count": 19,
   "id": "2bbedb25",
   "metadata": {
    "execution": {
     "iopub.execute_input": "2025-09-08T03:59:21.120634Z",
     "iopub.status.busy": "2025-09-08T03:59:21.119923Z",
     "iopub.status.idle": "2025-09-08T03:59:22.763314Z",
     "shell.execute_reply": "2025-09-08T03:59:22.762397Z"
    },
    "papermill": {
     "duration": 1.792029,
     "end_time": "2025-09-08T03:59:22.764813",
     "exception": false,
     "start_time": "2025-09-08T03:59:20.972784",
     "status": "completed"
    },
    "tags": []
   },
   "outputs": [
    {
     "name": "stdout",
     "output_type": "stream",
     "text": [
      "Evaluating on test set...\n"
     ]
    },
    {
     "name": "stderr",
     "output_type": "stream",
     "text": [
      "100%|██████████| 10/10 [00:01<00:00,  7.87it/s]\n"
     ]
    },
    {
     "name": "stdout",
     "output_type": "stream",
     "text": [
      "Test Accuracy: 57.33%\n",
      "Test Loss: 0.6768\n",
      "\n",
      "Classification Report:\n",
      "              precision    recall  f1-score   support\n",
      "\n",
      "    Autistic       0.54      0.93      0.69       150\n",
      "Non_Autistic       0.76      0.21      0.33       150\n",
      "\n",
      "    accuracy                           0.57       300\n",
      "   macro avg       0.65      0.57      0.51       300\n",
      "weighted avg       0.65      0.57      0.51       300\n",
      "\n",
      "\n",
      "Confusion Matrix:\n",
      "[[140  10]\n",
      " [118  32]]\n"
     ]
    },
    {
     "data": {
      "image/png": "[encoded data removed]",
      "text/plain": [
       "<Figure size 1500x500 with 2 Axes>"
      ]
     },
     "metadata": {},
     "output_type": "display_data"
    }
   ],
   "source": [
    "# Evaluate VGG-19\n",
    "vgg19_test_acc, vgg19_preds, vgg19_labels = vgg19_trainer.evaluate_model()\n",
    "vgg19_trainer.plot_training_history()"
   ]
  },
  {
   "cell_type": "markdown",
   "id": "59771c35",
   "metadata": {
    "papermill": {
     "duration": 0.19362,
     "end_time": "2025-09-08T03:59:23.110567",
     "exception": false,
     "start_time": "2025-09-08T03:59:22.916947",
     "status": "completed"
    },
    "tags": []
   },
   "source": [
    "## 4. EfficientNet-B0 Training"
   ]
  },
  {
   "cell_type": "code",
   "execution_count": 20,
   "id": "47c2e700",
   "metadata": {
    "execution": {
     "iopub.execute_input": "2025-09-08T03:59:23.406493Z",
     "iopub.status.busy": "2025-09-08T03:59:23.405819Z",
     "iopub.status.idle": "2025-09-08T03:59:23.765522Z",
     "shell.execute_reply": "2025-09-08T03:59:23.764648Z"
    },
    "papermill": {
     "duration": 0.510569,
     "end_time": "2025-09-08T03:59:23.766686",
     "exception": false,
     "start_time": "2025-09-08T03:59:23.256117",
     "status": "completed"
    },
    "tags": []
   },
   "outputs": [
    {
     "name": "stderr",
     "output_type": "stream",
     "text": [
      "/usr/local/lib/python3.11/dist-packages/torchvision/models/_utils.py:208: UserWarning: The parameter 'pretrained' is deprecated since 0.13 and may be removed in the future, please use 'weights' instead.\n",
      "  warnings.warn(\n",
      "/usr/local/lib/python3.11/dist-packages/torchvision/models/_utils.py:223: UserWarning: Arguments other than a weight enum or `None` for 'weights' are deprecated since 0.13 and may be removed in the future. The current behavior is equivalent to passing `weights=EfficientNet_B0_Weights.IMAGENET1K_V1`. You can also use `weights=EfficientNet_B0_Weights.DEFAULT` to get the most up-to-date weights.\n",
      "  warnings.warn(msg)\n",
      "Downloading: \"https://download.pytorch.org/models/efficientnet_b0_rwightman-7f5810bc.pth\" to /root/.cache/torch/hub/checkpoints/efficientnet_b0_rwightman-7f5810bc.pth\n"
     ]
    },
    {
     "name": "stdout",
     "output_type": "stream",
     "text": [
      "Creating EfficientNet-B0 model...\n"
     ]
    },
    {
     "name": "stderr",
     "output_type": "stream",
     "text": [
      "100%|██████████| 20.5M/20.5M [00:00<00:00, 189MB/s]\n"
     ]
    }
   ],
   "source": [
    "# Create and train EfficientNet-B0\n",
    "print(\"Creating EfficientNet-B0 model...\")\n",
    "effnet_b0_model = create_efficientnet_model('b0')\n",
    "effnet_b0_trainer = ModelTrainer(effnet_b0_model, train_loader, val_loader, test_loader, device)"
   ]
  },
  {
   "cell_type": "code",
   "execution_count": 21,
   "id": "23fac815",
   "metadata": {
    "execution": {
     "iopub.execute_input": "2025-09-08T03:59:24.063629Z",
     "iopub.status.busy": "2025-09-08T03:59:24.063383Z",
     "iopub.status.idle": "2025-09-08T04:01:10.582276Z",
     "shell.execute_reply": "2025-09-08T04:01:10.581211Z"
    },
    "papermill": {
     "duration": 106.667082,
     "end_time": "2025-09-08T04:01:10.583675",
     "exception": false,
     "start_time": "2025-09-08T03:59:23.916593",
     "status": "completed"
    },
    "tags": []
   },
   "outputs": [
    {
     "name": "stdout",
     "output_type": "stream",
     "text": [
      "Training EfficientNet-B0...\n",
      "Starting training for 25 epochs...\n",
      "------------------------------------------------------------\n",
      "Epoch 1/25\n",
      "----------\n"
     ]
    },
    {
     "name": "stderr",
     "output_type": "stream",
     "text": [
      "Train : 100%|██████████| 79/79 [00:09<00:00,  8.38it/s, Loss=0.4753, Acc=0.7816]\n"
     ]
    },
    {
     "name": "stdout",
     "output_type": "stream",
     "text": [
      "Train Loss: 0.4753 Acc: 0.7816\n"
     ]
    },
    {
     "name": "stderr",
     "output_type": "stream",
     "text": [
      "Val : 100%|██████████| 4/4 [00:00<00:00,  8.37it/s, Loss=0.4135, Acc=0.8100]\n"
     ]
    },
    {
     "name": "stdout",
     "output_type": "stream",
     "text": [
      "Val Loss: 0.4135 Acc: 0.8100\n",
      "✓ New best model saved with validation accuracy: 0.8100\n",
      "\n",
      "Epoch 2/25\n",
      "----------\n"
     ]
    },
    {
     "name": "stderr",
     "output_type": "stream",
     "text": [
      "Train : 100%|██████████| 79/79 [00:09<00:00,  8.64it/s, Loss=0.3217, Acc=0.8663]\n"
     ]
    },
    {
     "name": "stdout",
     "output_type": "stream",
     "text": [
      "Train Loss: 0.3217 Acc: 0.8663\n"
     ]
    },
    {
     "name": "stderr",
     "output_type": "stream",
     "text": [
      "Val : 100%|██████████| 4/4 [00:00<00:00,  8.62it/s, Loss=0.4344, Acc=0.8000]\n"
     ]
    },
    {
     "name": "stdout",
     "output_type": "stream",
     "text": [
      "Val Loss: 0.4344 Acc: 0.8000\n",
      "\n",
      "Epoch 3/25\n",
      "----------\n"
     ]
    },
    {
     "name": "stderr",
     "output_type": "stream",
     "text": [
      "Train : 100%|██████████| 79/79 [00:09<00:00,  8.65it/s, Loss=0.2424, Acc=0.9031]\n"
     ]
    },
    {
     "name": "stdout",
     "output_type": "stream",
     "text": [
      "Train Loss: 0.2424 Acc: 0.9031\n"
     ]
    },
    {
     "name": "stderr",
     "output_type": "stream",
     "text": [
      "Val : 100%|██████████| 4/4 [00:00<00:00,  8.97it/s, Loss=0.4655, Acc=0.7900]\n"
     ]
    },
    {
     "name": "stdout",
     "output_type": "stream",
     "text": [
      "Val Loss: 0.4655 Acc: 0.7900\n",
      "\n",
      "Epoch 4/25\n",
      "----------\n"
     ]
    },
    {
     "name": "stderr",
     "output_type": "stream",
     "text": [
      "Train : 100%|██████████| 79/79 [00:09<00:00,  8.61it/s, Loss=0.1610, Acc=0.9351]\n"
     ]
    },
    {
     "name": "stdout",
     "output_type": "stream",
     "text": [
      "Train Loss: 0.1610 Acc: 0.9351\n"
     ]
    },
    {
     "name": "stderr",
     "output_type": "stream",
     "text": [
      "Val : 100%|██████████| 4/4 [00:00<00:00,  9.17it/s, Loss=0.7323, Acc=0.8300]\n"
     ]
    },
    {
     "name": "stdout",
     "output_type": "stream",
     "text": [
      "Val Loss: 0.7323 Acc: 0.8300\n",
      "✓ New best model saved with validation accuracy: 0.8300\n",
      "\n",
      "Epoch 5/25\n",
      "----------\n"
     ]
    },
    {
     "name": "stderr",
     "output_type": "stream",
     "text": [
      "Train : 100%|██████████| 79/79 [00:09<00:00,  8.58it/s, Loss=0.1657, Acc=0.9407]\n"
     ]
    },
    {
     "name": "stdout",
     "output_type": "stream",
     "text": [
      "Train Loss: 0.1657 Acc: 0.9407\n"
     ]
    },
    {
     "name": "stderr",
     "output_type": "stream",
     "text": [
      "Val : 100%|██████████| 4/4 [00:00<00:00,  8.59it/s, Loss=0.4084, Acc=0.8200]\n"
     ]
    },
    {
     "name": "stdout",
     "output_type": "stream",
     "text": [
      "Val Loss: 0.4084 Acc: 0.8200\n",
      "\n",
      "Epoch 6/25\n",
      "----------\n"
     ]
    },
    {
     "name": "stderr",
     "output_type": "stream",
     "text": [
      "Train : 100%|██████████| 79/79 [00:09<00:00,  8.64it/s, Loss=0.0976, Acc=0.9620]\n"
     ]
    },
    {
     "name": "stdout",
     "output_type": "stream",
     "text": [
      "Train Loss: 0.0976 Acc: 0.9620\n"
     ]
    },
    {
     "name": "stderr",
     "output_type": "stream",
     "text": [
      "Val : 100%|██████████| 4/4 [00:00<00:00,  8.89it/s, Loss=0.4481, Acc=0.8400]\n"
     ]
    },
    {
     "name": "stdout",
     "output_type": "stream",
     "text": [
      "Val Loss: 0.4481 Acc: 0.8400\n",
      "✓ New best model saved with validation accuracy: 0.8400\n",
      "\n",
      "Epoch 7/25\n",
      "----------\n"
     ]
    },
    {
     "name": "stderr",
     "output_type": "stream",
     "text": [
      "Train : 100%|██████████| 79/79 [00:09<00:00,  8.62it/s, Loss=0.0899, Acc=0.9668]\n"
     ]
    },
    {
     "name": "stdout",
     "output_type": "stream",
     "text": [
      "Train Loss: 0.0899 Acc: 0.9668\n"
     ]
    },
    {
     "name": "stderr",
     "output_type": "stream",
     "text": [
      "Val : 100%|██████████| 4/4 [00:00<00:00,  8.60it/s, Loss=0.9508, Acc=0.7900]\n"
     ]
    },
    {
     "name": "stdout",
     "output_type": "stream",
     "text": [
      "Val Loss: 0.9508 Acc: 0.7900\n",
      "\n",
      "Epoch 8/25\n",
      "----------\n"
     ]
    },
    {
     "name": "stderr",
     "output_type": "stream",
     "text": [
      "Train : 100%|██████████| 79/79 [00:09<00:00,  8.62it/s, Loss=0.0857, Acc=0.9691]\n"
     ]
    },
    {
     "name": "stdout",
     "output_type": "stream",
     "text": [
      "Train Loss: 0.0857 Acc: 0.9691\n"
     ]
    },
    {
     "name": "stderr",
     "output_type": "stream",
     "text": [
      "Val : 100%|██████████| 4/4 [00:00<00:00,  8.53it/s, Loss=0.7129, Acc=0.8300]\n"
     ]
    },
    {
     "name": "stdout",
     "output_type": "stream",
     "text": [
      "Val Loss: 0.7129 Acc: 0.8300\n",
      "\n",
      "Epoch 9/25\n",
      "----------\n"
     ]
    },
    {
     "name": "stderr",
     "output_type": "stream",
     "text": [
      "Train : 100%|██████████| 79/79 [00:09<00:00,  8.63it/s, Loss=0.0847, Acc=0.9707]\n"
     ]
    },
    {
     "name": "stdout",
     "output_type": "stream",
     "text": [
      "Train Loss: 0.0847 Acc: 0.9707\n"
     ]
    },
    {
     "name": "stderr",
     "output_type": "stream",
     "text": [
      "Val : 100%|██████████| 4/4 [00:00<00:00,  8.39it/s, Loss=0.5879, Acc=0.8400]\n"
     ]
    },
    {
     "name": "stdout",
     "output_type": "stream",
     "text": [
      "Val Loss: 0.5879 Acc: 0.8400\n",
      "\n",
      "Epoch 10/25\n",
      "----------\n"
     ]
    },
    {
     "name": "stderr",
     "output_type": "stream",
     "text": [
      "Train : 100%|██████████| 79/79 [00:09<00:00,  8.65it/s, Loss=0.0808, Acc=0.9719]\n"
     ]
    },
    {
     "name": "stdout",
     "output_type": "stream",
     "text": [
      "Train Loss: 0.0808 Acc: 0.9719\n"
     ]
    },
    {
     "name": "stderr",
     "output_type": "stream",
     "text": [
      "Val : 100%|██████████| 4/4 [00:00<00:00,  8.64it/s, Loss=0.8298, Acc=0.8100]\n"
     ]
    },
    {
     "name": "stdout",
     "output_type": "stream",
     "text": [
      "Val Loss: 0.8298 Acc: 0.8100\n",
      "\n",
      "Epoch 11/25\n",
      "----------\n"
     ]
    },
    {
     "name": "stderr",
     "output_type": "stream",
     "text": [
      "Train : 100%|██████████| 79/79 [00:09<00:00,  8.58it/s, Loss=0.0433, Acc=0.9838]\n"
     ]
    },
    {
     "name": "stdout",
     "output_type": "stream",
     "text": [
      "Train Loss: 0.0433 Acc: 0.9838\n"
     ]
    },
    {
     "name": "stderr",
     "output_type": "stream",
     "text": [
      "Val : 100%|██████████| 4/4 [00:00<00:00,  8.36it/s, Loss=0.8265, Acc=0.8400]"
     ]
    },
    {
     "name": "stdout",
     "output_type": "stream",
     "text": [
      "Val Loss: 0.8265 Acc: 0.8400\n",
      "Early stopping triggered after 11 epochs\n",
      "Training complete in 1m 46s\n",
      "Best validation accuracy: 0.8400\n"
     ]
    },
    {
     "name": "stderr",
     "output_type": "stream",
     "text": [
      "\n"
     ]
    }
   ],
   "source": [
    "# Train EfficientNet-B0\n",
    "print(\"Training EfficientNet-B0...\")\n",
    "trained_effnet_b0 = effnet_b0_trainer.train_model(num_epochs=25, model_name='effnet-b0')"
   ]
  },
  {
   "cell_type": "code",
   "execution_count": 22,
   "id": "a3b28665",
   "metadata": {
    "execution": {
     "iopub.execute_input": "2025-09-08T04:01:11.073273Z",
     "iopub.status.busy": "2025-09-08T04:01:11.072970Z",
     "iopub.status.idle": "2025-09-08T04:01:12.337220Z",
     "shell.execute_reply": "2025-09-08T04:01:12.336386Z"
    },
    "papermill": {
     "duration": 1.521538,
     "end_time": "2025-09-08T04:01:12.339326",
     "exception": false,
     "start_time": "2025-09-08T04:01:10.817788",
     "status": "completed"
    },
    "tags": []
   },
   "outputs": [
    {
     "name": "stdout",
     "output_type": "stream",
     "text": [
      "Evaluating on test set...\n"
     ]
    },
    {
     "name": "stderr",
     "output_type": "stream",
     "text": [
      "100%|██████████| 10/10 [00:00<00:00, 11.37it/s]\n"
     ]
    },
    {
     "name": "stdout",
     "output_type": "stream",
     "text": [
      "Test Accuracy: 86.33%\n",
      "Test Loss: 0.3778\n",
      "\n",
      "Classification Report:\n",
      "              precision    recall  f1-score   support\n",
      "\n",
      "    Autistic       0.82      0.93      0.87       150\n",
      "Non_Autistic       0.92      0.80      0.85       150\n",
      "\n",
      "    accuracy                           0.86       300\n",
      "   macro avg       0.87      0.86      0.86       300\n",
      "weighted avg       0.87      0.86      0.86       300\n",
      "\n",
      "\n",
      "Confusion Matrix:\n",
      "[[139  11]\n",
      " [ 30 120]]\n"
     ]
    },
    {
     "data": {
      "image/png": "[encoded data removed]",
      "text/plain": [
       "<Figure size 1500x500 with 2 Axes>"
      ]
     },
     "metadata": {},
     "output_type": "display_data"
    }
   ],
   "source": [
    "# Evaluate EfficientNet-B0\n",
    "effnet_b0_test_acc, effnet_b0_preds, effnet_b0_labels = effnet_b0_trainer.evaluate_model()\n",
    "effnet_b0_trainer.plot_training_history()"
   ]
  },
  {
   "cell_type": "markdown",
   "id": "ad692ef9",
   "metadata": {
    "papermill": {
     "duration": 0.226154,
     "end_time": "2025-09-08T04:01:12.799201",
     "exception": false,
     "start_time": "2025-09-08T04:01:12.573047",
     "status": "completed"
    },
    "tags": []
   },
   "source": [
    "## 5. EfficientNet-B1 Training"
   ]
  },
  {
   "cell_type": "code",
   "execution_count": 23,
   "id": "1744ca37",
   "metadata": {
    "execution": {
     "iopub.execute_input": "2025-09-08T04:01:13.311156Z",
     "iopub.status.busy": "2025-09-08T04:01:13.310320Z",
     "iopub.status.idle": "2025-09-08T04:01:14.822151Z",
     "shell.execute_reply": "2025-09-08T04:01:14.821310Z"
    },
    "papermill": {
     "duration": 1.74291,
     "end_time": "2025-09-08T04:01:14.823542",
     "exception": false,
     "start_time": "2025-09-08T04:01:13.080632",
     "status": "completed"
    },
    "tags": []
   },
   "outputs": [
    {
     "name": "stdout",
     "output_type": "stream",
     "text": [
      "Creating EfficientNet-B1 model...\n"
     ]
    },
    {
     "name": "stderr",
     "output_type": "stream",
     "text": [
      "/usr/local/lib/python3.11/dist-packages/torchvision/models/_utils.py:208: UserWarning: The parameter 'pretrained' is deprecated since 0.13 and may be removed in the future, please use 'weights' instead.\n",
      "  warnings.warn(\n",
      "/usr/local/lib/python3.11/dist-packages/torchvision/models/_utils.py:223: UserWarning: Arguments other than a weight enum or `None` for 'weights' are deprecated since 0.13 and may be removed in the future. The current behavior is equivalent to passing `weights=EfficientNet_B1_Weights.IMAGENET1K_V1`. You can also use `weights=EfficientNet_B1_Weights.DEFAULT` to get the most up-to-date weights.\n",
      "  warnings.warn(msg)\n",
      "Downloading: \"https://download.pytorch.org/models/efficientnet_b1_rwightman-bac287d4.pth\" to /root/.cache/torch/hub/checkpoints/efficientnet_b1_rwightman-bac287d4.pth\n",
      "100%|██████████| 30.1M/30.1M [00:00<00:00, 35.0MB/s]\n"
     ]
    }
   ],
   "source": [
    "# Create and train EfficientNet-B1\n",
    "print(\"Creating EfficientNet-B1 model...\")\n",
    "effnet_b1_model = create_efficientnet_model('b1')\n",
    "effnet_b1_trainer = ModelTrainer(effnet_b1_model, train_loader, val_loader, test_loader, device)"
   ]
  },
  {
   "cell_type": "code",
   "execution_count": 24,
   "id": "fe9172c1",
   "metadata": {
    "execution": {
     "iopub.execute_input": "2025-09-08T04:01:15.281348Z",
     "iopub.status.busy": "2025-09-08T04:01:15.280729Z",
     "iopub.status.idle": "2025-09-08T04:04:10.267608Z",
     "shell.execute_reply": "2025-09-08T04:04:10.266654Z"
    },
    "papermill": {
     "duration": 175.219505,
     "end_time": "2025-09-08T04:04:10.268690",
     "exception": false,
     "start_time": "2025-09-08T04:01:15.049185",
     "status": "completed"
    },
    "tags": []
   },
   "outputs": [
    {
     "name": "stdout",
     "output_type": "stream",
     "text": [
      "Training EfficientNet-B1...\n",
      "Starting training for 25 epochs...\n",
      "------------------------------------------------------------\n",
      "Epoch 1/25\n",
      "----------\n"
     ]
    },
    {
     "name": "stderr",
     "output_type": "stream",
     "text": [
      "Train : 100%|██████████| 79/79 [00:12<00:00,  6.12it/s, Loss=0.4603, Acc=0.7832]\n"
     ]
    },
    {
     "name": "stdout",
     "output_type": "stream",
     "text": [
      "Train Loss: 0.4603 Acc: 0.7832\n"
     ]
    },
    {
     "name": "stderr",
     "output_type": "stream",
     "text": [
      "Val : 100%|██████████| 4/4 [00:00<00:00,  7.27it/s, Loss=0.6223, Acc=0.7300]\n"
     ]
    },
    {
     "name": "stdout",
     "output_type": "stream",
     "text": [
      "Val Loss: 0.6223 Acc: 0.7300\n",
      "✓ New best model saved with validation accuracy: 0.7300\n",
      "\n",
      "Epoch 2/25\n",
      "----------\n"
     ]
    },
    {
     "name": "stderr",
     "output_type": "stream",
     "text": [
      "Train : 100%|██████████| 79/79 [00:12<00:00,  6.15it/s, Loss=0.2911, Acc=0.8794]\n"
     ]
    },
    {
     "name": "stdout",
     "output_type": "stream",
     "text": [
      "Train Loss: 0.2911 Acc: 0.8794\n"
     ]
    },
    {
     "name": "stderr",
     "output_type": "stream",
     "text": [
      "Val : 100%|██████████| 4/4 [00:00<00:00,  7.48it/s, Loss=0.5348, Acc=0.7600]\n"
     ]
    },
    {
     "name": "stdout",
     "output_type": "stream",
     "text": [
      "Val Loss: 0.5348 Acc: 0.7600\n",
      "✓ New best model saved with validation accuracy: 0.7600\n",
      "\n",
      "Epoch 3/25\n",
      "----------\n"
     ]
    },
    {
     "name": "stderr",
     "output_type": "stream",
     "text": [
      "Train : 100%|██████████| 79/79 [00:12<00:00,  6.12it/s, Loss=0.1942, Acc=0.9229]\n"
     ]
    },
    {
     "name": "stdout",
     "output_type": "stream",
     "text": [
      "Train Loss: 0.1942 Acc: 0.9229\n"
     ]
    },
    {
     "name": "stderr",
     "output_type": "stream",
     "text": [
      "Val : 100%|██████████| 4/4 [00:00<00:00,  7.91it/s, Loss=0.5073, Acc=0.8300]\n"
     ]
    },
    {
     "name": "stdout",
     "output_type": "stream",
     "text": [
      "Val Loss: 0.5073 Acc: 0.8300\n",
      "✓ New best model saved with validation accuracy: 0.8300\n",
      "\n",
      "Epoch 4/25\n",
      "----------\n"
     ]
    },
    {
     "name": "stderr",
     "output_type": "stream",
     "text": [
      "Train : 100%|██████████| 79/79 [00:12<00:00,  6.16it/s, Loss=0.1214, Acc=0.9529]\n"
     ]
    },
    {
     "name": "stdout",
     "output_type": "stream",
     "text": [
      "Train Loss: 0.1214 Acc: 0.9529\n"
     ]
    },
    {
     "name": "stderr",
     "output_type": "stream",
     "text": [
      "Val : 100%|██████████| 4/4 [00:00<00:00,  7.66it/s, Loss=0.5127, Acc=0.8100]\n"
     ]
    },
    {
     "name": "stdout",
     "output_type": "stream",
     "text": [
      "Val Loss: 0.5127 Acc: 0.8100\n",
      "\n",
      "Epoch 5/25\n",
      "----------\n"
     ]
    },
    {
     "name": "stderr",
     "output_type": "stream",
     "text": [
      "Train : 100%|██████████| 79/79 [00:12<00:00,  6.15it/s, Loss=0.0946, Acc=0.9648]\n"
     ]
    },
    {
     "name": "stdout",
     "output_type": "stream",
     "text": [
      "Train Loss: 0.0946 Acc: 0.9648\n"
     ]
    },
    {
     "name": "stderr",
     "output_type": "stream",
     "text": [
      "Val : 100%|██████████| 4/4 [00:00<00:00,  7.54it/s, Loss=0.9122, Acc=0.7400]\n"
     ]
    },
    {
     "name": "stdout",
     "output_type": "stream",
     "text": [
      "Val Loss: 0.9122 Acc: 0.7400\n",
      "\n",
      "Epoch 6/25\n",
      "----------\n"
     ]
    },
    {
     "name": "stderr",
     "output_type": "stream",
     "text": [
      "Train : 100%|██████████| 79/79 [00:12<00:00,  6.14it/s, Loss=0.0938, Acc=0.9660]\n"
     ]
    },
    {
     "name": "stdout",
     "output_type": "stream",
     "text": [
      "Train Loss: 0.0938 Acc: 0.9660\n"
     ]
    },
    {
     "name": "stderr",
     "output_type": "stream",
     "text": [
      "Val : 100%|██████████| 4/4 [00:00<00:00,  7.33it/s, Loss=0.7487, Acc=0.7200]\n"
     ]
    },
    {
     "name": "stdout",
     "output_type": "stream",
     "text": [
      "Val Loss: 0.7487 Acc: 0.7200\n",
      "\n",
      "Epoch 7/25\n",
      "----------\n"
     ]
    },
    {
     "name": "stderr",
     "output_type": "stream",
     "text": [
      "Train : 100%|██████████| 79/79 [00:12<00:00,  6.16it/s, Loss=0.0963, Acc=0.9660]\n"
     ]
    },
    {
     "name": "stdout",
     "output_type": "stream",
     "text": [
      "Train Loss: 0.0963 Acc: 0.9660\n"
     ]
    },
    {
     "name": "stderr",
     "output_type": "stream",
     "text": [
      "Val : 100%|██████████| 4/4 [00:00<00:00,  7.67it/s, Loss=0.8860, Acc=0.7600]\n"
     ]
    },
    {
     "name": "stdout",
     "output_type": "stream",
     "text": [
      "Val Loss: 0.8860 Acc: 0.7600\n",
      "\n",
      "Epoch 8/25\n",
      "----------\n"
     ]
    },
    {
     "name": "stderr",
     "output_type": "stream",
     "text": [
      "Train : 100%|██████████| 79/79 [00:12<00:00,  6.14it/s, Loss=0.0583, Acc=0.9794]\n"
     ]
    },
    {
     "name": "stdout",
     "output_type": "stream",
     "text": [
      "Train Loss: 0.0583 Acc: 0.9794\n"
     ]
    },
    {
     "name": "stderr",
     "output_type": "stream",
     "text": [
      "Val : 100%|██████████| 4/4 [00:00<00:00,  7.48it/s, Loss=0.4149, Acc=0.8500]\n"
     ]
    },
    {
     "name": "stdout",
     "output_type": "stream",
     "text": [
      "Val Loss: 0.4149 Acc: 0.8500\n",
      "✓ New best model saved with validation accuracy: 0.8500\n",
      "\n",
      "Epoch 9/25\n",
      "----------\n"
     ]
    },
    {
     "name": "stderr",
     "output_type": "stream",
     "text": [
      "Train : 100%|██████████| 79/79 [00:12<00:00,  6.14it/s, Loss=0.0499, Acc=0.9830]\n"
     ]
    },
    {
     "name": "stdout",
     "output_type": "stream",
     "text": [
      "Train Loss: 0.0499 Acc: 0.9830\n"
     ]
    },
    {
     "name": "stderr",
     "output_type": "stream",
     "text": [
      "Val : 100%|██████████| 4/4 [00:00<00:00,  7.54it/s, Loss=0.6082, Acc=0.8100]\n"
     ]
    },
    {
     "name": "stdout",
     "output_type": "stream",
     "text": [
      "Val Loss: 0.6082 Acc: 0.8100\n",
      "\n",
      "Epoch 10/25\n",
      "----------\n"
     ]
    },
    {
     "name": "stderr",
     "output_type": "stream",
     "text": [
      "Train : 100%|██████████| 79/79 [00:12<00:00,  6.15it/s, Loss=0.0718, Acc=0.9727]\n"
     ]
    },
    {
     "name": "stdout",
     "output_type": "stream",
     "text": [
      "Train Loss: 0.0718 Acc: 0.9727\n"
     ]
    },
    {
     "name": "stderr",
     "output_type": "stream",
     "text": [
      "Val : 100%|██████████| 4/4 [00:00<00:00,  7.53it/s, Loss=0.5938, Acc=0.8400]\n"
     ]
    },
    {
     "name": "stdout",
     "output_type": "stream",
     "text": [
      "Val Loss: 0.5938 Acc: 0.8400\n",
      "\n",
      "Epoch 11/25\n",
      "----------\n"
     ]
    },
    {
     "name": "stderr",
     "output_type": "stream",
     "text": [
      "Train : 100%|██████████| 79/79 [00:12<00:00,  6.16it/s, Loss=0.0518, Acc=0.9818]\n"
     ]
    },
    {
     "name": "stdout",
     "output_type": "stream",
     "text": [
      "Train Loss: 0.0518 Acc: 0.9818\n"
     ]
    },
    {
     "name": "stderr",
     "output_type": "stream",
     "text": [
      "Val : 100%|██████████| 4/4 [00:00<00:00,  7.40it/s, Loss=0.6405, Acc=0.7800]\n"
     ]
    },
    {
     "name": "stdout",
     "output_type": "stream",
     "text": [
      "Val Loss: 0.6405 Acc: 0.7800\n",
      "\n",
      "Epoch 12/25\n",
      "----------\n"
     ]
    },
    {
     "name": "stderr",
     "output_type": "stream",
     "text": [
      "Train : 100%|██████████| 79/79 [00:12<00:00,  6.09it/s, Loss=0.0507, Acc=0.9806]\n"
     ]
    },
    {
     "name": "stdout",
     "output_type": "stream",
     "text": [
      "Train Loss: 0.0507 Acc: 0.9806\n"
     ]
    },
    {
     "name": "stderr",
     "output_type": "stream",
     "text": [
      "Val : 100%|██████████| 4/4 [00:00<00:00,  6.31it/s, Loss=0.7668, Acc=0.8200]\n"
     ]
    },
    {
     "name": "stdout",
     "output_type": "stream",
     "text": [
      "Val Loss: 0.7668 Acc: 0.8200\n",
      "\n",
      "Epoch 13/25\n",
      "----------\n"
     ]
    },
    {
     "name": "stderr",
     "output_type": "stream",
     "text": [
      "Train : 100%|██████████| 79/79 [00:12<00:00,  6.12it/s, Loss=0.0445, Acc=0.9818]\n"
     ]
    },
    {
     "name": "stdout",
     "output_type": "stream",
     "text": [
      "Train Loss: 0.0445 Acc: 0.9818\n"
     ]
    },
    {
     "name": "stderr",
     "output_type": "stream",
     "text": [
      "Val : 100%|██████████| 4/4 [00:00<00:00,  7.68it/s, Loss=0.8703, Acc=0.8100]"
     ]
    },
    {
     "name": "stdout",
     "output_type": "stream",
     "text": [
      "Val Loss: 0.8703 Acc: 0.8100\n",
      "Early stopping triggered after 13 epochs\n",
      "Training complete in 2m 55s\n",
      "Best validation accuracy: 0.8500\n"
     ]
    },
    {
     "name": "stderr",
     "output_type": "stream",
     "text": [
      "\n"
     ]
    }
   ],
   "source": [
    "# Train EfficientNet-B1\n",
    "print(\"Training EfficientNet-B1...\")\n",
    "trained_effnet_b1 = effnet_b1_trainer.train_model(num_epochs=25, model_name='effnet-b1')"
   ]
  },
  {
   "cell_type": "code",
   "execution_count": 25,
   "id": "3c66d490",
   "metadata": {
    "execution": {
     "iopub.execute_input": "2025-09-08T04:04:10.889932Z",
     "iopub.status.busy": "2025-09-08T04:04:10.889573Z",
     "iopub.status.idle": "2025-09-08T04:04:12.181538Z",
     "shell.execute_reply": "2025-09-08T04:04:12.180766Z"
    },
    "papermill": {
     "duration": 1.604864,
     "end_time": "2025-09-08T04:04:12.183243",
     "exception": false,
     "start_time": "2025-09-08T04:04:10.578379",
     "status": "completed"
    },
    "tags": []
   },
   "outputs": [
    {
     "name": "stdout",
     "output_type": "stream",
     "text": [
      "Evaluating on test set...\n"
     ]
    },
    {
     "name": "stderr",
     "output_type": "stream",
     "text": [
      "100%|██████████| 10/10 [00:00<00:00, 10.68it/s]\n"
     ]
    },
    {
     "name": "stdout",
     "output_type": "stream",
     "text": [
      "Test Accuracy: 89.67%\n",
      "Test Loss: 0.3785\n",
      "\n",
      "Classification Report:\n",
      "              precision    recall  f1-score   support\n",
      "\n",
      "    Autistic       0.85      0.96      0.90       150\n",
      "Non_Autistic       0.95      0.83      0.89       150\n",
      "\n",
      "    accuracy                           0.90       300\n",
      "   macro avg       0.90      0.90      0.90       300\n",
      "weighted avg       0.90      0.90      0.90       300\n",
      "\n",
      "\n",
      "Confusion Matrix:\n",
      "[[144   6]\n",
      " [ 25 125]]\n"
     ]
    },
    {
     "data": {
      "image/png": "[encoded data removed]",
      "text/plain": [
       "<Figure size 1500x500 with 2 Axes>"
      ]
     },
     "metadata": {},
     "output_type": "display_data"
    }
   ],
   "source": [
    "# Evaluate EfficientNet-B1\n",
    "effnet_b1_test_acc, effnet_b1_preds, effnet_b1_labels = effnet_b1_trainer.evaluate_model()\n",
    "effnet_b1_trainer.plot_training_history()"
   ]
  },
  {
   "cell_type": "markdown",
   "id": "3a7cbd01",
   "metadata": {
    "papermill": {
     "duration": 0.309366,
     "end_time": "2025-09-08T04:04:12.855924",
     "exception": false,
     "start_time": "2025-09-08T04:04:12.546558",
     "status": "completed"
    },
    "tags": []
   },
   "source": [
    "## 6. EfficientNet-B2 Training"
   ]
  },
  {
   "cell_type": "code",
   "execution_count": 26,
   "id": "a318737d",
   "metadata": {
    "execution": {
     "iopub.execute_input": "2025-09-08T04:04:13.467453Z",
     "iopub.status.busy": "2025-09-08T04:04:13.466830Z",
     "iopub.status.idle": "2025-09-08T04:04:13.956395Z",
     "shell.execute_reply": "2025-09-08T04:04:13.955686Z"
    },
    "papermill": {
     "duration": 0.796902,
     "end_time": "2025-09-08T04:04:13.957794",
     "exception": false,
     "start_time": "2025-09-08T04:04:13.160892",
     "status": "completed"
    },
    "tags": []
   },
   "outputs": [
    {
     "name": "stdout",
     "output_type": "stream",
     "text": [
      "Creating EfficientNet-B2 model...\n"
     ]
    },
    {
     "name": "stderr",
     "output_type": "stream",
     "text": [
      "/usr/local/lib/python3.11/dist-packages/torchvision/models/_utils.py:208: UserWarning: The parameter 'pretrained' is deprecated since 0.13 and may be removed in the future, please use 'weights' instead.\n",
      "  warnings.warn(\n",
      "/usr/local/lib/python3.11/dist-packages/torchvision/models/_utils.py:223: UserWarning: Arguments other than a weight enum or `None` for 'weights' are deprecated since 0.13 and may be removed in the future. The current behavior is equivalent to passing `weights=EfficientNet_B2_Weights.IMAGENET1K_V1`. You can also use `weights=EfficientNet_B2_Weights.DEFAULT` to get the most up-to-date weights.\n",
      "  warnings.warn(msg)\n",
      "Downloading: \"https://download.pytorch.org/models/efficientnet_b2_rwightman-c35c1473.pth\" to /root/.cache/torch/hub/checkpoints/efficientnet_b2_rwightman-c35c1473.pth\n",
      "100%|██████████| 35.2M/35.2M [00:00<00:00, 188MB/s]\n"
     ]
    }
   ],
   "source": [
    "# Create and train EfficientNet-B2\n",
    "print(\"Creating EfficientNet-B2 model...\")\n",
    "effnet_b2_model = create_efficientnet_model('b2')\n",
    "effnet_b2_trainer = ModelTrainer(effnet_b2_model, train_loader, val_loader, test_loader, device)"
   ]
  },
  {
   "cell_type": "code",
   "execution_count": 27,
   "id": "c46a51d4",
   "metadata": {
    "execution": {
     "iopub.execute_input": "2025-09-08T04:04:14.632781Z",
     "iopub.status.busy": "2025-09-08T04:04:14.632128Z",
     "iopub.status.idle": "2025-09-08T04:05:54.488546Z",
     "shell.execute_reply": "2025-09-08T04:05:54.487539Z"
    },
    "papermill": {
     "duration": 100.168183,
     "end_time": "2025-09-08T04:05:54.489622",
     "exception": false,
     "start_time": "2025-09-08T04:04:14.321439",
     "status": "completed"
    },
    "tags": []
   },
   "outputs": [
    {
     "name": "stdout",
     "output_type": "stream",
     "text": [
      "Training EfficientNet-B2...\n",
      "Starting training for 25 epochs...\n",
      "------------------------------------------------------------\n",
      "Epoch 1/25\n",
      "----------\n"
     ]
    },
    {
     "name": "stderr",
     "output_type": "stream",
     "text": [
      "Train : 100%|██████████| 79/79 [00:13<00:00,  5.78it/s, Loss=0.4718, Acc=0.7781]\n"
     ]
    },
    {
     "name": "stdout",
     "output_type": "stream",
     "text": [
      "Train Loss: 0.4718 Acc: 0.7781\n"
     ]
    },
    {
     "name": "stderr",
     "output_type": "stream",
     "text": [
      "Val : 100%|██████████| 4/4 [00:00<00:00,  6.97it/s, Loss=0.4917, Acc=0.7400]\n"
     ]
    },
    {
     "name": "stdout",
     "output_type": "stream",
     "text": [
      "Val Loss: 0.4917 Acc: 0.7400\n",
      "✓ New best model saved with validation accuracy: 0.7400\n",
      "\n",
      "Epoch 2/25\n",
      "----------\n"
     ]
    },
    {
     "name": "stderr",
     "output_type": "stream",
     "text": [
      "Train : 100%|██████████| 79/79 [00:13<00:00,  5.78it/s, Loss=0.3132, Acc=0.8695]\n"
     ]
    },
    {
     "name": "stdout",
     "output_type": "stream",
     "text": [
      "Train Loss: 0.3132 Acc: 0.8695\n"
     ]
    },
    {
     "name": "stderr",
     "output_type": "stream",
     "text": [
      "Val : 100%|██████████| 4/4 [00:00<00:00,  7.51it/s, Loss=0.4240, Acc=0.8200]\n"
     ]
    },
    {
     "name": "stdout",
     "output_type": "stream",
     "text": [
      "Val Loss: 0.4240 Acc: 0.8200\n",
      "✓ New best model saved with validation accuracy: 0.8200\n",
      "\n",
      "Epoch 3/25\n",
      "----------\n"
     ]
    },
    {
     "name": "stderr",
     "output_type": "stream",
     "text": [
      "Train : 100%|██████████| 79/79 [00:13<00:00,  5.78it/s, Loss=0.2070, Acc=0.9221]\n"
     ]
    },
    {
     "name": "stdout",
     "output_type": "stream",
     "text": [
      "Train Loss: 0.2070 Acc: 0.9221\n"
     ]
    },
    {
     "name": "stderr",
     "output_type": "stream",
     "text": [
      "Val : 100%|██████████| 4/4 [00:00<00:00,  7.81it/s, Loss=0.5741, Acc=0.7600]\n"
     ]
    },
    {
     "name": "stdout",
     "output_type": "stream",
     "text": [
      "Val Loss: 0.5741 Acc: 0.7600\n",
      "\n",
      "Epoch 4/25\n",
      "----------\n"
     ]
    },
    {
     "name": "stderr",
     "output_type": "stream",
     "text": [
      "Train : 100%|██████████| 79/79 [00:13<00:00,  5.80it/s, Loss=0.1865, Acc=0.9308]\n"
     ]
    },
    {
     "name": "stdout",
     "output_type": "stream",
     "text": [
      "Train Loss: 0.1865 Acc: 0.9308\n"
     ]
    },
    {
     "name": "stderr",
     "output_type": "stream",
     "text": [
      "Val : 100%|██████████| 4/4 [00:00<00:00,  7.52it/s, Loss=0.5894, Acc=0.7400]\n"
     ]
    },
    {
     "name": "stdout",
     "output_type": "stream",
     "text": [
      "Val Loss: 0.5894 Acc: 0.7400\n",
      "\n",
      "Epoch 5/25\n",
      "----------\n"
     ]
    },
    {
     "name": "stderr",
     "output_type": "stream",
     "text": [
      "Train : 100%|██████████| 79/79 [00:13<00:00,  5.80it/s, Loss=0.1348, Acc=0.9466]\n"
     ]
    },
    {
     "name": "stdout",
     "output_type": "stream",
     "text": [
      "Train Loss: 0.1348 Acc: 0.9466\n"
     ]
    },
    {
     "name": "stderr",
     "output_type": "stream",
     "text": [
      "Val : 100%|██████████| 4/4 [00:00<00:00,  7.49it/s, Loss=0.8224, Acc=0.7300]\n"
     ]
    },
    {
     "name": "stdout",
     "output_type": "stream",
     "text": [
      "Val Loss: 0.8224 Acc: 0.7300\n",
      "\n",
      "Epoch 6/25\n",
      "----------\n"
     ]
    },
    {
     "name": "stderr",
     "output_type": "stream",
     "text": [
      "Train : 100%|██████████| 79/79 [00:13<00:00,  5.77it/s, Loss=0.1197, Acc=0.9494]\n"
     ]
    },
    {
     "name": "stdout",
     "output_type": "stream",
     "text": [
      "Train Loss: 0.1197 Acc: 0.9494\n"
     ]
    },
    {
     "name": "stderr",
     "output_type": "stream",
     "text": [
      "Val : 100%|██████████| 4/4 [00:00<00:00,  7.11it/s, Loss=0.5140, Acc=0.8000]\n"
     ]
    },
    {
     "name": "stdout",
     "output_type": "stream",
     "text": [
      "Val Loss: 0.5140 Acc: 0.8000\n",
      "\n",
      "Epoch 7/25\n",
      "----------\n"
     ]
    },
    {
     "name": "stderr",
     "output_type": "stream",
     "text": [
      "Train : 100%|██████████| 79/79 [00:13<00:00,  5.76it/s, Loss=0.1138, Acc=0.9585]\n"
     ]
    },
    {
     "name": "stdout",
     "output_type": "stream",
     "text": [
      "Train Loss: 0.1138 Acc: 0.9585\n"
     ]
    },
    {
     "name": "stderr",
     "output_type": "stream",
     "text": [
      "Val : 100%|██████████| 4/4 [00:00<00:00,  7.12it/s, Loss=0.5675, Acc=0.7900]"
     ]
    },
    {
     "name": "stdout",
     "output_type": "stream",
     "text": [
      "Val Loss: 0.5675 Acc: 0.7900\n",
      "Early stopping triggered after 7 epochs\n",
      "Training complete in 1m 40s\n",
      "Best validation accuracy: 0.8200\n"
     ]
    },
    {
     "name": "stderr",
     "output_type": "stream",
     "text": [
      "\n"
     ]
    }
   ],
   "source": [
    "# Train EfficientNet-B2\n",
    "print(\"Training EfficientNet-B2...\")\n",
    "trained_effnet_b2 = effnet_b2_trainer.train_model(num_epochs=25, model_name='effnet-b2')"
   ]
  },
  {
   "cell_type": "code",
   "execution_count": 28,
   "id": "60e78aae",
   "metadata": {
    "execution": {
     "iopub.execute_input": "2025-09-08T04:05:55.267162Z",
     "iopub.status.busy": "2025-09-08T04:05:55.266862Z",
     "iopub.status.idle": "2025-09-08T04:05:56.625146Z",
     "shell.execute_reply": "2025-09-08T04:05:56.624267Z"
    },
    "papermill": {
     "duration": 1.720593,
     "end_time": "2025-09-08T04:05:56.627220",
     "exception": false,
     "start_time": "2025-09-08T04:05:54.906627",
     "status": "completed"
    },
    "tags": []
   },
   "outputs": [
    {
     "name": "stdout",
     "output_type": "stream",
     "text": [
      "Evaluating on test set...\n"
     ]
    },
    {
     "name": "stderr",
     "output_type": "stream",
     "text": [
      "100%|██████████| 10/10 [00:00<00:00, 10.35it/s]\n"
     ]
    },
    {
     "name": "stdout",
     "output_type": "stream",
     "text": [
      "Test Accuracy: 84.67%\n",
      "Test Loss: 0.3690\n",
      "\n",
      "Classification Report:\n",
      "              precision    recall  f1-score   support\n",
      "\n",
      "    Autistic       0.78      0.97      0.86       150\n",
      "Non_Autistic       0.96      0.72      0.82       150\n",
      "\n",
      "    accuracy                           0.85       300\n",
      "   macro avg       0.87      0.85      0.84       300\n",
      "weighted avg       0.87      0.85      0.84       300\n",
      "\n",
      "\n",
      "Confusion Matrix:\n",
      "[[146   4]\n",
      " [ 42 108]]\n"
     ]
    },
    {
     "data": {
      "image/png": "[encoded data removed]",
      "text/plain": [
       "<Figure size 1500x500 with 2 Axes>"
      ]
     },
     "metadata": {},
     "output_type": "display_data"
    }
   ],
   "source": [
    "# Evaluate EfficientNet-B2\n",
    "effnet_b2_test_acc, effnet_b2_preds, effnet_b2_labels = effnet_b2_trainer.evaluate_model()\n",
    "effnet_b2_trainer.plot_training_history()"
   ]
  },
  {
   "cell_type": "markdown",
   "id": "5d3d579f",
   "metadata": {
    "papermill": {
     "duration": 0.417064,
     "end_time": "2025-09-08T04:05:57.413336",
     "exception": false,
     "start_time": "2025-09-08T04:05:56.996272",
     "status": "completed"
    },
    "tags": []
   },
   "source": [
    "## Model Performance Summary"
   ]
  },
  {
   "cell_type": "code",
   "execution_count": 29,
   "id": "a255f977",
   "metadata": {
    "execution": {
     "iopub.execute_input": "2025-09-08T04:05:58.129061Z",
     "iopub.status.busy": "2025-09-08T04:05:58.128767Z",
     "iopub.status.idle": "2025-09-08T04:05:58.139809Z",
     "shell.execute_reply": "2025-09-08T04:05:58.138905Z"
    },
    "papermill": {
     "duration": 0.367869,
     "end_time": "2025-09-08T04:05:58.140932",
     "exception": false,
     "start_time": "2025-09-08T04:05:57.773063",
     "status": "completed"
    },
    "tags": []
   },
   "outputs": [
    {
     "name": "stdout",
     "output_type": "stream",
     "text": [
      "Model Performance Summary:\n",
      "========================================\n",
      "EfficientNet-B1     : 89.67%\n",
      "EfficientNet-B0     : 86.33%\n",
      "EfficientNet-B2     : 84.67%\n",
      "ResNet-18           : 81.00%\n",
      "VGG-19              : 57.33%\n",
      "VGG-16              : 53.00%\n",
      "\n",
      "Best performing model: EfficientNet-B1 with 89.67% accuracy\n"
     ]
    }
   ],
   "source": [
    "# Create a summary table of all model performances\n",
    "results_summary = pd.DataFrame({\n",
    "    'Model': ['ResNet-18', 'VGG-16', 'VGG-19', 'EfficientNet-B0', 'EfficientNet-B1', 'EfficientNet-B2'],\n",
    "    'Test_Accuracy': [\n",
    "        resnet_test_acc,\n",
    "        vgg16_test_acc,\n",
    "        vgg19_test_acc,\n",
    "        effnet_b0_test_acc,\n",
    "        effnet_b1_test_acc,\n",
    "        effnet_b2_test_acc\n",
    "    ]\n",
    "})\n",
    "\n",
    "# Sort by accuracy\n",
    "results_summary = results_summary.sort_values('Test_Accuracy', ascending=False)\n",
    "\n",
    "print(\"Model Performance Summary:\")\n",
    "print(\"=\" * 40)\n",
    "for idx, row in results_summary.iterrows():\n",
    "    print(f\"{row['Model']:<20}: {row['Test_Accuracy']:.2f}%\")\n",
    "\n",
    "print(f\"\\nBest performing model: {results_summary.iloc[0]['Model']} with {results_summary.iloc[0]['Test_Accuracy']:.2f}% accuracy\")"
   ]
  },
  {
   "cell_type": "markdown",
   "id": "e4b46b37",
   "metadata": {
    "papermill": {
     "duration": 0.356819,
     "end_time": "2025-09-08T04:05:58.911674",
     "exception": false,
     "start_time": "2025-09-08T04:05:58.554855",
     "status": "completed"
    },
    "tags": []
   },
   "source": [
    "## Model Comparison Visualization"
   ]
  },
  {
   "cell_type": "code",
   "execution_count": 30,
   "id": "a004ba59",
   "metadata": {
    "execution": {
     "iopub.execute_input": "2025-09-08T04:05:59.679132Z",
     "iopub.status.busy": "2025-09-08T04:05:59.678853Z",
     "iopub.status.idle": "2025-09-08T04:05:59.861510Z",
     "shell.execute_reply": "2025-09-08T04:05:59.860775Z"
    },
    "papermill": {
     "duration": 0.594636,
     "end_time": "2025-09-08T04:05:59.862778",
     "exception": false,
     "start_time": "2025-09-08T04:05:59.268142",
     "status": "completed"
    },
    "tags": []
   },
   "outputs": [
    {
     "data": {
      "image/png": "[encoded data removed]",
      "text/plain": [
       "<Figure size 1200x600 with 1 Axes>"
      ]
     },
     "metadata": {},
     "output_type": "display_data"
    }
   ],
   "source": [
    "# Create a bar plot comparing model performances\n",
    "plt.figure(figsize=(12, 6))\n",
    "bars = plt.bar(results_summary['Model'], results_summary['Test_Accuracy'], \n",
    "               color=['#1f77b4', '#ff7f0e', '#2ca02c', '#d62728', '#9467bd', '#8c564b'])\n",
    "\n",
    "plt.title('Model Performance Comparison - Test Accuracy', fontsize=16, fontweight='bold')\n",
    "plt.xlabel('Models', fontsize=12)\n",
    "plt.ylabel('Test Accuracy (%)', fontsize=12)\n",
    "plt.xticks(rotation=45)\n",
    "plt.grid(axis='y', alpha=0.3)\n",
    "\n",
    "# Add value labels on bars\n",
    "for bar, acc in zip(bars, results_summary['Test_Accuracy']):\n",
    "    plt.text(bar.get_x() + bar.get_width()/2, bar.get_height() + 0.5,\n",
    "             f'{acc:.1f}%', ha='center', va='bottom', fontweight='bold')\n",
    "\n",
    "plt.tight_layout()\n",
    "plt.show()"
   ]
  },
  {
   "cell_type": "markdown",
   "id": "d4cd014d",
   "metadata": {
    "papermill": {
     "duration": 0.357404,
     "end_time": "2025-09-08T04:06:00.582043",
     "exception": false,
     "start_time": "2025-09-08T04:06:00.224639",
     "status": "completed"
    },
    "tags": []
   },
   "source": [
    "## Conclusion\n",
    "\n",
    "This notebook demonstrates the complete pipeline for:\n",
    "\n",
    "1. **Data Preparation**: Converting the AutismDataset folder structure into organized DataFrames\n",
    "2. **Data Loading**: Creating PyTorch datasets and dataloaders with appropriate transformations\n",
    "3. **Model Training**: Training six different deep learning architectures:\n",
    "   - ResNet-18\n",
    "   - VGG-16\n",
    "   - VGG-19\n",
    "   - EfficientNet-B0\n",
    "   - EfficientNet-B1\n",
    "   - EfficientNet-B2\n",
    "4. **Model Evaluation**: Comprehensive evaluation with accuracy, classification reports, and confusion matrices\n",
    "5. **Performance Comparison**: Visual comparison of all models\n",
    "\n",
    "The framework includes:\n",
    "- Early stopping to prevent overfitting\n",
    "- Best model saving\n",
    "- Learning rate scheduling\n",
    "- Comprehensive training history tracking\n",
    "- Detailed evaluation metrics"
   ]
  }
 ],
 "metadata": {
  "kaggle": {
   "accelerator": "gpu",
   "dataSources": [
    {
     "datasetId": 564001,
     "sourceId": 1024609,
     "sourceType": "datasetVersion"
    }
   ],
   "dockerImageVersionId": 31089,
   "isGpuEnabled": true,
   "isInternetEnabled": true,
   "language": "python",
   "sourceType": "notebook"
  },
  "kernelspec": {
   "display_name": "Python 3",
   "language": "python",
   "name": "python3"
  },
  "language_info": {
   "codemirror_mode": {
    "name": "ipython",
    "version": 3
   },
   "file_extension": ".py",
   "mimetype": "text/x-python",
   "name": "python",
   "nbconvert_exporter": "python",
   "pygments_lexer": "ipython3",
   "version": "3.11.13"
  },
  "papermill": {
   "default_parameters": {},
   "duration": 798.815327,
   "end_time": "2025-09-08T04:06:03.712544",
   "environment_variables": {},
   "exception": null,
   "input_path": "__notebook__.ipynb",
   "output_path": "__notebook__.ipynb",
   "parameters": {},
   "start_time": "2025-09-08T03:52:44.897217",
   "version": "2.6.0"
  }
 },
 "nbformat": 4,
 "nbformat_minor": 5
}
