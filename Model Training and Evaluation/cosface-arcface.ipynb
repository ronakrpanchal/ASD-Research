{
 "cells": [
  {
   "cell_type": "markdown",
   "id": "a8bbb992",
   "metadata": {
    "papermill": {
     "duration": 0.006211,
     "end_time": "2025-09-08T13:02:27.713874",
     "exception": false,
     "start_time": "2025-09-08T13:02:27.707663",
     "status": "completed"
    },
    "tags": []
   },
   "source": [
    "# ArcFace and CosFace Models for ASD Detection on AutismDataset\n",
    "Optimized training of ArcFace and CosFace models with proper loss functions and stable training procedures, adapted for the AutismDataset structure"
   ]
  },
  {
   "cell_type": "markdown",
   "id": "7a411a52",
   "metadata": {
    "papermill": {
     "duration": 0.004812,
     "end_time": "2025-09-08T13:02:27.724004",
     "exception": false,
     "start_time": "2025-09-08T13:02:27.719192",
     "status": "completed"
    },
    "tags": []
   },
   "source": [
    "This notebook implements ArcFace and CosFace models with careful attention to numerical stability and proper loss implementation to ensure successful training convergence on the AutismDataset."
   ]
  },
  {
   "cell_type": "code",
   "execution_count": 1,
   "id": "779c5b70",
   "metadata": {
    "execution": {
     "iopub.execute_input": "2025-09-08T13:02:27.735192Z",
     "iopub.status.busy": "2025-09-08T13:02:27.734695Z",
     "iopub.status.idle": "2025-09-08T13:02:39.475509Z",
     "shell.execute_reply": "2025-09-08T13:02:39.474880Z"
    },
    "papermill": {
     "duration": 11.747776,
     "end_time": "2025-09-08T13:02:39.476866",
     "exception": false,
     "start_time": "2025-09-08T13:02:27.729090",
     "status": "completed"
    },
    "tags": []
   },
   "outputs": [],
   "source": [
    "import pandas as pd\n",
    "import numpy as np\n",
    "import torch\n",
    "import torch.nn as nn\n",
    "import torch.nn.functional as F\n",
    "from sklearn.preprocessing import LabelEncoder\n",
    "from torch.utils.data import Dataset, DataLoader\n",
    "from torchvision import transforms\n",
    "from PIL import Image\n",
    "import torch.optim as optim\n",
    "import torchvision.models as models\n",
    "import time\n",
    "import copy\n",
    "import matplotlib.pyplot as plt\n",
    "from tqdm import tqdm\n",
    "from sklearn.metrics import accuracy_score, classification_report, confusion_matrix\n",
    "import math\n",
    "import warnings\n",
    "import os\n",
    "import glob\n",
    "warnings.filterwarnings('ignore')\n",
    "\n",
    "# Set random seeds for reproducibility\n",
    "torch.manual_seed(42)\n",
    "np.random.seed(42)\n",
    "if torch.cuda.is_available():\n",
    "    torch.cuda.manual_seed(42)"
   ]
  },
  {
   "cell_type": "markdown",
   "id": "b15214b9",
   "metadata": {
    "papermill": {
     "duration": 0.005985,
     "end_time": "2025-09-08T13:02:39.488452",
     "exception": false,
     "start_time": "2025-09-08T13:02:39.482467",
     "status": "completed"
    },
    "tags": []
   },
   "source": [
    "## Dataset Structure Analysis and Loading"
   ]
  },
  {
   "cell_type": "code",
   "execution_count": 2,
   "id": "8d888ee0",
   "metadata": {
    "execution": {
     "iopub.execute_input": "2025-09-08T13:02:39.501186Z",
     "iopub.status.busy": "2025-09-08T13:02:39.500819Z",
     "iopub.status.idle": "2025-09-08T13:02:39.610959Z",
     "shell.execute_reply": "2025-09-08T13:02:39.609967Z"
    },
    "papermill": {
     "duration": 0.117875,
     "end_time": "2025-09-08T13:02:39.612725",
     "exception": false,
     "start_time": "2025-09-08T13:02:39.494850",
     "status": "completed"
    },
    "tags": []
   },
   "outputs": [
    {
     "name": "stdout",
     "output_type": "stream",
     "text": [
      "Loading AutismDataset...\n",
      "Total samples loaded: 2940\n",
      "Label distribution:\n",
      "labels\n",
      "Non_Autistic    1470\n",
      "Autistic        1470\n",
      "Name: count, dtype: int64\n",
      "Split distribution:\n",
      "split\n",
      "train    2540\n",
      "test      300\n",
      "valid     100\n",
      "Name: count, dtype: int64\n",
      "\n",
      "Train samples: 2540\n",
      "Validation samples: 100\n",
      "Test samples: 300\n"
     ]
    }
   ],
   "source": [
    "def create_dataset_from_folders(base_path):\n",
    "    \"\"\"\n",
    "    Create a DataFrame from the AutismDataset folder structure\n",
    "    Handles mixed structure: train/test (mixed files), valid (subdirectories)\n",
    "    \"\"\"\n",
    "    dataset_list = []\n",
    "    \n",
    "    # Process train and test folders (mixed structure)\n",
    "    for split in ['train', 'test']:\n",
    "        split_path = os.path.join(base_path, split)\n",
    "        if os.path.exists(split_path):\n",
    "            for filename in os.listdir(split_path):\n",
    "                if filename.lower().endswith(('.jpg', '.jpeg', '.png')):\n",
    "                    # Extract label from filename\n",
    "                    if filename.startswith('Autistic'):\n",
    "                        label = 'Autistic'\n",
    "                    elif filename.startswith('Non_Autistic'):\n",
    "                        label = 'Non_Autistic'\n",
    "                    else:\n",
    "                        continue  # Skip files that don't match expected pattern\n",
    "                    \n",
    "                    dataset_list.append({\n",
    "                        'image_path': os.path.join(split_path, filename),\n",
    "                        'labels': label,\n",
    "                        'split': split\n",
    "                    })\n",
    "    \n",
    "    # Process valid folder (subdirectory structure)\n",
    "    valid_path = os.path.join(base_path, 'valid')\n",
    "    if os.path.exists(valid_path):\n",
    "        for label_folder in os.listdir(valid_path):\n",
    "            label_folder_path = os.path.join(valid_path, label_folder)\n",
    "            if os.path.isdir(label_folder_path):\n",
    "                # Map folder names to consistent labels\n",
    "                if label_folder.lower() in ['autistic', 'autism']:\n",
    "                    label = 'Autistic'\n",
    "                elif label_folder.lower() in ['non_autistic', 'typical']:\n",
    "                    label = 'Non_Autistic'\n",
    "                else:\n",
    "                    continue\n",
    "                \n",
    "                for filename in os.listdir(label_folder_path):\n",
    "                    if filename.lower().endswith(('.jpg', '.jpeg', '.png')):\n",
    "                        dataset_list.append({\n",
    "                            'image_path': os.path.join(label_folder_path, filename),\n",
    "                            'labels': label,\n",
    "                            'split': 'valid'\n",
    "                        })\n",
    "    \n",
    "    return pd.DataFrame(dataset_list)\n",
    "\n",
    "# Load the dataset\n",
    "dataset_path = '/kaggle/input/autism-image-data/AutismDataset'\n",
    "print(\"Loading AutismDataset...\")\n",
    "full_dataset = create_dataset_from_folders(dataset_path)\n",
    "\n",
    "print(f\"Total samples loaded: {len(full_dataset)}\")\n",
    "print(f\"Label distribution:\\n{full_dataset['labels'].value_counts()}\")\n",
    "print(f\"Split distribution:\\n{full_dataset['split'].value_counts()}\")\n",
    "\n",
    "# Separate into train, validation, and test sets\n",
    "train_data = full_dataset[full_dataset['split'] == 'train'].copy()\n",
    "valid_data = full_dataset[full_dataset['split'] == 'valid'].copy()\n",
    "test_data = full_dataset[full_dataset['split'] == 'test'].copy()\n",
    "\n",
    "print(f\"\\nTrain samples: {len(train_data)}\")\n",
    "print(f\"Validation samples: {len(valid_data)}\")\n",
    "print(f\"Test samples: {len(test_data)}\")"
   ]
  },
  {
   "cell_type": "markdown",
   "id": "cccbec3f",
   "metadata": {
    "papermill": {
     "duration": 0.007387,
     "end_time": "2025-09-08T13:02:39.627730",
     "exception": false,
     "start_time": "2025-09-08T13:02:39.620343",
     "status": "completed"
    },
    "tags": []
   },
   "source": [
    "## Training Configuration"
   ]
  },
  {
   "cell_type": "code",
   "execution_count": 3,
   "id": "f81eee4e",
   "metadata": {
    "execution": {
     "iopub.execute_input": "2025-09-08T13:02:39.643020Z",
     "iopub.status.busy": "2025-09-08T13:02:39.642784Z",
     "iopub.status.idle": "2025-09-08T13:02:39.647956Z",
     "shell.execute_reply": "2025-09-08T13:02:39.647251Z"
    },
    "papermill": {
     "duration": 0.015432,
     "end_time": "2025-09-08T13:02:39.649258",
     "exception": false,
     "start_time": "2025-09-08T13:02:39.633826",
     "status": "completed"
    },
    "tags": []
   },
   "outputs": [],
   "source": [
    "# Training configuration\n",
    "BATCH_SIZE = 32\n",
    "NUM_WORKERS = 2  # Adjusted for local training\n",
    "IMAGE_SIZE = 224\n",
    "EMBEDDING_SIZE = 512\n",
    "NUM_EPOCHS = 30\n",
    "LEARNING_RATE = 0.001"
   ]
  },
  {
   "cell_type": "markdown",
   "id": "19a284ac",
   "metadata": {
    "papermill": {
     "duration": 0.005145,
     "end_time": "2025-09-08T13:02:39.660955",
     "exception": false,
     "start_time": "2025-09-08T13:02:39.655810",
     "status": "completed"
    },
    "tags": []
   },
   "source": [
    "## Optimized Data Preprocessing\n",
    "Carefully designed transforms to maintain facial features while providing effective augmentation"
   ]
  },
  {
   "cell_type": "code",
   "execution_count": 4,
   "id": "81ec05f7",
   "metadata": {
    "execution": {
     "iopub.execute_input": "2025-09-08T13:02:39.672553Z",
     "iopub.status.busy": "2025-09-08T13:02:39.671922Z",
     "iopub.status.idle": "2025-09-08T13:02:39.676381Z",
     "shell.execute_reply": "2025-09-08T13:02:39.675673Z"
    },
    "papermill": {
     "duration": 0.01133,
     "end_time": "2025-09-08T13:02:39.677491",
     "exception": false,
     "start_time": "2025-09-08T13:02:39.666161",
     "status": "completed"
    },
    "tags": []
   },
   "outputs": [],
   "source": [
    "# Minimal preprocessing for face recognition models without augmentation\n",
    "train_transform = transforms.Compose([\n",
    "    transforms.Resize((IMAGE_SIZE, IMAGE_SIZE)),\n",
    "    transforms.ToTensor(),\n",
    "    transforms.Normalize(mean=[0.485, 0.456, 0.406], std=[0.229, 0.224, 0.225])\n",
    "])\n",
    "\n",
    "val_test_transform = transforms.Compose([\n",
    "    transforms.Resize((IMAGE_SIZE, IMAGE_SIZE)),\n",
    "    transforms.ToTensor(),\n",
    "    transforms.Normalize(mean=[0.485, 0.456, 0.406], std=[0.229, 0.224, 0.225])\n",
    "])"
   ]
  },
  {
   "cell_type": "markdown",
   "id": "a2c8b179",
   "metadata": {
    "papermill": {
     "duration": 0.00486,
     "end_time": "2025-09-08T13:02:39.687441",
     "exception": false,
     "start_time": "2025-09-08T13:02:39.682581",
     "status": "completed"
    },
    "tags": []
   },
   "source": [
    "## Custom Dataset Class for AutismDataset"
   ]
  },
  {
   "cell_type": "code",
   "execution_count": 5,
   "id": "147a7a8f",
   "metadata": {
    "execution": {
     "iopub.execute_input": "2025-09-08T13:02:39.698471Z",
     "iopub.status.busy": "2025-09-08T13:02:39.697985Z",
     "iopub.status.idle": "2025-09-08T13:02:39.704287Z",
     "shell.execute_reply": "2025-09-08T13:02:39.703740Z"
    },
    "papermill": {
     "duration": 0.012837,
     "end_time": "2025-09-08T13:02:39.705291",
     "exception": false,
     "start_time": "2025-09-08T13:02:39.692454",
     "status": "completed"
    },
    "tags": []
   },
   "outputs": [],
   "source": [
    "class AutismDataset(Dataset):\n",
    "    def __init__(self, dataframe, transform=None, label_encoder=None, fit_label_encoder=False):\n",
    "        self.data = dataframe.copy()\n",
    "        self.transform = transform\n",
    "        \n",
    "        if label_encoder is None:\n",
    "            self.label_encoder = LabelEncoder()\n",
    "            if fit_label_encoder:\n",
    "                self.labels = self.label_encoder.fit_transform(self.data['labels'])\n",
    "            else:\n",
    "                raise ValueError(\"Must provide label_encoder or set fit_label_encoder=True\")\n",
    "        else:\n",
    "            self.label_encoder = label_encoder\n",
    "            self.labels = self.label_encoder.transform(self.data['labels'])\n",
    "        \n",
    "        self.image_paths = self.data['image_path'].tolist()\n",
    "        \n",
    "    def __len__(self):\n",
    "        return len(self.data)\n",
    "    \n",
    "    def __getitem__(self, idx):\n",
    "        if torch.is_tensor(idx):\n",
    "            idx = idx.tolist()\n",
    "        \n",
    "        # Load image\n",
    "        img_path = self.image_paths[idx]\n",
    "        try:\n",
    "            image = Image.open(img_path).convert('RGB')\n",
    "        except Exception as e:\n",
    "            print(f\"Error loading {img_path}: {e}\")\n",
    "            image = Image.new('RGB', (IMAGE_SIZE, IMAGE_SIZE), color='black')\n",
    "        \n",
    "        label = self.labels[idx]\n",
    "        \n",
    "        if self.transform:\n",
    "            image = self.transform(image)\n",
    "        \n",
    "        return image, torch.tensor(label, dtype=torch.long)\n",
    "    \n",
    "    def get_label_encoder(self):\n",
    "        return self.label_encoder\n",
    "    \n",
    "    def get_class_names(self):\n",
    "        return self.label_encoder.classes_"
   ]
  },
  {
   "cell_type": "markdown",
   "id": "7105a921",
   "metadata": {
    "papermill": {
     "duration": 0.004766,
     "end_time": "2025-09-08T13:02:39.715012",
     "exception": false,
     "start_time": "2025-09-08T13:02:39.710246",
     "status": "completed"
    },
    "tags": []
   },
   "source": [
    "## Create Datasets and Data Loaders"
   ]
  },
  {
   "cell_type": "code",
   "execution_count": 6,
   "id": "251e7597",
   "metadata": {
    "execution": {
     "iopub.execute_input": "2025-09-08T13:02:39.725595Z",
     "iopub.status.busy": "2025-09-08T13:02:39.725388Z",
     "iopub.status.idle": "2025-09-08T13:02:39.817110Z",
     "shell.execute_reply": "2025-09-08T13:02:39.816338Z"
    },
    "papermill": {
     "duration": 0.09828,
     "end_time": "2025-09-08T13:02:39.818261",
     "exception": false,
     "start_time": "2025-09-08T13:02:39.719981",
     "status": "completed"
    },
    "tags": []
   },
   "outputs": [
    {
     "name": "stdout",
     "output_type": "stream",
     "text": [
      "Training samples: 2540\n",
      "Validation samples: 100\n",
      "Test samples: 300\n",
      "Classes: ['Autistic' 'Non_Autistic']\n",
      "Number of classes: 2\n",
      "\n",
      "Testing data loading...\n",
      "Sample batch shape: torch.Size([4, 3, 224, 224])\n",
      "Sample labels: tensor([1, 0, 1, 0])\n"
     ]
    }
   ],
   "source": [
    "# Create datasets\n",
    "train_dataset = AutismDataset(\n",
    "    dataframe=train_data, \n",
    "    transform=train_transform,\n",
    "    fit_label_encoder=True  \n",
    ")\n",
    "\n",
    "le = train_dataset.get_label_encoder()\n",
    "\n",
    "val_dataset = AutismDataset(\n",
    "    dataframe=valid_data,\n",
    "    transform=val_test_transform,\n",
    "    label_encoder=le\n",
    ")\n",
    "\n",
    "test_dataset = AutismDataset(\n",
    "    dataframe=test_data,\n",
    "    transform=val_test_transform,\n",
    "    label_encoder=le\n",
    ")\n",
    "\n",
    "print(f\"Training samples: {len(train_dataset)}\")\n",
    "print(f\"Validation samples: {len(val_dataset)}\")\n",
    "print(f\"Test samples: {len(test_dataset)}\")\n",
    "print(f\"Classes: {le.classes_}\")\n",
    "print(f\"Number of classes: {len(le.classes_)}\")\n",
    "\n",
    "# Verify data loading\n",
    "print(\"\\nTesting data loading...\")\n",
    "sample_batch = next(iter(DataLoader(train_dataset, batch_size=4, shuffle=False)))\n",
    "print(f\"Sample batch shape: {sample_batch[0].shape}\")\n",
    "print(f\"Sample labels: {sample_batch[1]}\")"
   ]
  },
  {
   "cell_type": "code",
   "execution_count": 7,
   "id": "1480b8a9",
   "metadata": {
    "execution": {
     "iopub.execute_input": "2025-09-08T13:02:39.829597Z",
     "iopub.status.busy": "2025-09-08T13:02:39.829390Z",
     "iopub.status.idle": "2025-09-08T13:02:39.834640Z",
     "shell.execute_reply": "2025-09-08T13:02:39.833858Z"
    },
    "papermill": {
     "duration": 0.011937,
     "end_time": "2025-09-08T13:02:39.835699",
     "exception": false,
     "start_time": "2025-09-08T13:02:39.823762",
     "status": "completed"
    },
    "tags": []
   },
   "outputs": [
    {
     "name": "stdout",
     "output_type": "stream",
     "text": [
      "Train batches: 79\n",
      "Validation batches: 4\n",
      "Test batches: 10\n"
     ]
    }
   ],
   "source": [
    "# Create data loaders\n",
    "train_loader = DataLoader(\n",
    "    train_dataset,\n",
    "    batch_size=BATCH_SIZE,\n",
    "    shuffle=True,\n",
    "    num_workers=NUM_WORKERS,\n",
    "    pin_memory=True,\n",
    "    drop_last=True\n",
    ")\n",
    "\n",
    "val_loader = DataLoader(\n",
    "    val_dataset,\n",
    "    batch_size=BATCH_SIZE,\n",
    "    shuffle=False,\n",
    "    num_workers=NUM_WORKERS,\n",
    "    pin_memory=True\n",
    ")\n",
    "\n",
    "test_loader = DataLoader(\n",
    "    test_dataset,\n",
    "    batch_size=BATCH_SIZE,\n",
    "    shuffle=False,\n",
    "    num_workers=NUM_WORKERS,\n",
    "    pin_memory=True\n",
    ")\n",
    "\n",
    "print(f\"Train batches: {len(train_loader)}\")\n",
    "print(f\"Validation batches: {len(val_loader)}\")\n",
    "print(f\"Test batches: {len(test_loader)}\")"
   ]
  },
  {
   "cell_type": "markdown",
   "id": "d7460f92",
   "metadata": {
    "papermill": {
     "duration": 0.004858,
     "end_time": "2025-09-08T13:02:39.845707",
     "exception": false,
     "start_time": "2025-09-08T13:02:39.840849",
     "status": "completed"
    },
    "tags": []
   },
   "source": [
    "## Improved ArcFace Implementation\n",
    "Numerically stable implementation with proper initialization and gradient clipping"
   ]
  },
  {
   "cell_type": "code",
   "execution_count": 8,
   "id": "708f6e2a",
   "metadata": {
    "execution": {
     "iopub.execute_input": "2025-09-08T13:02:39.856670Z",
     "iopub.status.busy": "2025-09-08T13:02:39.856476Z",
     "iopub.status.idle": "2025-09-08T13:02:39.863335Z",
     "shell.execute_reply": "2025-09-08T13:02:39.862835Z"
    },
    "papermill": {
     "duration": 0.013651,
     "end_time": "2025-09-08T13:02:39.864402",
     "exception": false,
     "start_time": "2025-09-08T13:02:39.850751",
     "status": "completed"
    },
    "tags": []
   },
   "outputs": [],
   "source": [
    "class ArcMarginProduct(nn.Module):\n",
    "    \"\"\"Improved ArcFace implementation with numerical stability\"\"\"\n",
    "    def __init__(self, in_features, out_features, s=30.0, m=0.30, easy_margin=True, ls_eps=0.0):\n",
    "        super(ArcMarginProduct, self).__init__()\n",
    "        self.in_features = in_features\n",
    "        self.out_features = out_features\n",
    "        self.s = s\n",
    "        self.m = m\n",
    "        self.ls_eps = ls_eps\n",
    "        self.easy_margin = easy_margin\n",
    "        \n",
    "        self.weight = nn.Parameter(torch.FloatTensor(out_features, in_features))\n",
    "        nn.init.xavier_uniform_(self.weight)\n",
    "\n",
    "        self.cos_m = math.cos(m)\n",
    "        self.sin_m = math.sin(m)\n",
    "        self.th = math.cos(math.pi - m)\n",
    "        self.mm = math.sin(math.pi - m) * m\n",
    "\n",
    "    def forward(self, input, label):\n",
    "        # Normalize features and weights\n",
    "        x = F.normalize(input, p=2, dim=1)\n",
    "        W = F.normalize(self.weight, p=2, dim=1)\n",
    "        \n",
    "        # Compute cosine similarity\n",
    "        cosine = F.linear(x, W)\n",
    "        cosine = torch.clamp(cosine, -1.0 + 1e-7, 1.0 - 1e-7)  # Numerical stability\n",
    "        \n",
    "        # Compute sine\n",
    "        sine = torch.sqrt(1.0 - torch.pow(cosine, 2))\n",
    "        \n",
    "        # Compute phi (cosine with margin)\n",
    "        phi = cosine * self.cos_m - sine * self.sin_m\n",
    "        \n",
    "        if self.easy_margin:\n",
    "            phi = torch.where(cosine > 0, phi, cosine)\n",
    "        else:\n",
    "            phi = torch.where(cosine > self.th, phi, cosine - self.mm)\n",
    "        \n",
    "        # Convert label to one-hot\n",
    "        one_hot = torch.zeros(cosine.size(), device=input.device)\n",
    "        one_hot.scatter_(1, label.view(-1, 1).long(), 1)\n",
    "        \n",
    "        # Apply label smoothing if specified\n",
    "        if self.ls_eps > 0:\n",
    "            one_hot = (1 - self.ls_eps) * one_hot + self.ls_eps / self.out_features\n",
    "        \n",
    "        # Final output\n",
    "        output = (one_hot * phi) + ((1.0 - one_hot) * cosine)\n",
    "        output *= self.s\n",
    "\n",
    "        return output"
   ]
  },
  {
   "cell_type": "markdown",
   "id": "807502ca",
   "metadata": {
    "papermill": {
     "duration": 0.004936,
     "end_time": "2025-09-08T13:02:39.874570",
     "exception": false,
     "start_time": "2025-09-08T13:02:39.869634",
     "status": "completed"
    },
    "tags": []
   },
   "source": [
    "## Improved CosFace Implementation\n",
    "Stable implementation with proper margin handling"
   ]
  },
  {
   "cell_type": "code",
   "execution_count": 9,
   "id": "8242f7a3",
   "metadata": {
    "execution": {
     "iopub.execute_input": "2025-09-08T13:02:39.885573Z",
     "iopub.status.busy": "2025-09-08T13:02:39.885401Z",
     "iopub.status.idle": "2025-09-08T13:02:39.891044Z",
     "shell.execute_reply": "2025-09-08T13:02:39.890368Z"
    },
    "papermill": {
     "duration": 0.012331,
     "end_time": "2025-09-08T13:02:39.892174",
     "exception": false,
     "start_time": "2025-09-08T13:02:39.879843",
     "status": "completed"
    },
    "tags": []
   },
   "outputs": [],
   "source": [
    "class AddMarginProduct(nn.Module):\n",
    "    \"\"\"Improved CosFace implementation with numerical stability\"\"\"\n",
    "    def __init__(self, in_features, out_features, s=30.0, m=0.25):\n",
    "        super(AddMarginProduct, self).__init__()\n",
    "        self.in_features = in_features\n",
    "        self.out_features = out_features\n",
    "        self.s = s\n",
    "        self.m = m\n",
    "        \n",
    "        self.weight = nn.Parameter(torch.FloatTensor(out_features, in_features))\n",
    "        nn.init.xavier_uniform_(self.weight)\n",
    "\n",
    "    def forward(self, input, label):\n",
    "        # Normalize features and weights\n",
    "        x = F.normalize(input, p=2, dim=1)\n",
    "        W = F.normalize(self.weight, p=2, dim=1)\n",
    "        \n",
    "        # Compute cosine similarity\n",
    "        cosine = F.linear(x, W)\n",
    "        cosine = torch.clamp(cosine, -1.0 + 1e-7, 1.0 - 1e-7)  # Numerical stability\n",
    "        \n",
    "        # Add margin\n",
    "        phi = cosine - self.m\n",
    "        \n",
    "        # Convert label to one-hot\n",
    "        one_hot = torch.zeros(cosine.size(), device=input.device)\n",
    "        one_hot.scatter_(1, label.view(-1, 1).long(), 1)\n",
    "        \n",
    "        # Final output\n",
    "        output = (one_hot * phi) + ((1.0 - one_hot) * cosine)\n",
    "        output *= self.s\n",
    "\n",
    "        return output"
   ]
  },
  {
   "cell_type": "markdown",
   "id": "1b8c0f3f",
   "metadata": {
    "papermill": {
     "duration": 0.004902,
     "end_time": "2025-09-08T13:02:39.902172",
     "exception": false,
     "start_time": "2025-09-08T13:02:39.897270",
     "status": "completed"
    },
    "tags": []
   },
   "source": [
    "## Model Architecture Definitions"
   ]
  },
  {
   "cell_type": "code",
   "execution_count": 10,
   "id": "cd510f66",
   "metadata": {
    "execution": {
     "iopub.execute_input": "2025-09-08T13:02:39.913384Z",
     "iopub.status.busy": "2025-09-08T13:02:39.912753Z",
     "iopub.status.idle": "2025-09-08T13:02:39.918805Z",
     "shell.execute_reply": "2025-09-08T13:02:39.918098Z"
    },
    "papermill": {
     "duration": 0.012673,
     "end_time": "2025-09-08T13:02:39.919934",
     "exception": false,
     "start_time": "2025-09-08T13:02:39.907261",
     "status": "completed"
    },
    "tags": []
   },
   "outputs": [],
   "source": [
    "class ArcFaceModel(nn.Module):\n",
    "    def __init__(self, backbone='resnet50', num_classes=2, embedding_size=512, pretrained=True):\n",
    "        super(ArcFaceModel, self).__init__()\n",
    "        \n",
    "        # Load backbone\n",
    "        if backbone == 'resnet50':\n",
    "            self.backbone = models.resnet50(pretrained=pretrained)\n",
    "            backbone_features = self.backbone.fc.in_features\n",
    "            self.backbone.fc = nn.Identity()\n",
    "        elif backbone == 'resnet18':\n",
    "            self.backbone = models.resnet18(pretrained=pretrained)\n",
    "            backbone_features = self.backbone.fc.in_features\n",
    "            self.backbone.fc = nn.Identity()\n",
    "        else:\n",
    "            raise ValueError(\"Backbone must be 'resnet50' or 'resnet18'\")\n",
    "        \n",
    "        # Embedding layer\n",
    "        self.embedding = nn.Sequential(\n",
    "            nn.Linear(backbone_features, embedding_size),\n",
    "            nn.BatchNorm1d(embedding_size)\n",
    "        )\n",
    "        \n",
    "        # ArcFace margin product\n",
    "        self.arc_margin = ArcMarginProduct(embedding_size, num_classes, s=30.0, m=0.30, easy_margin=True)\n",
    "        \n",
    "        # For inference (when labels are not provided)\n",
    "        self.classifier = nn.Linear(embedding_size, num_classes)\n",
    "        \n",
    "    def forward(self, x, labels=None):\n",
    "        # Extract features\n",
    "        features = self.backbone(x)\n",
    "        embeddings = self.embedding(features)\n",
    "        \n",
    "        if labels is not None and self.training:\n",
    "            # Use ArcFace loss during training\n",
    "            return self.arc_margin(embeddings, labels)\n",
    "        else:\n",
    "            # Use regular classifier for inference\n",
    "            return self.classifier(embeddings)"
   ]
  },
  {
   "cell_type": "code",
   "execution_count": 11,
   "id": "e2281e46",
   "metadata": {
    "execution": {
     "iopub.execute_input": "2025-09-08T13:02:39.931022Z",
     "iopub.status.busy": "2025-09-08T13:02:39.930818Z",
     "iopub.status.idle": "2025-09-08T13:02:39.936546Z",
     "shell.execute_reply": "2025-09-08T13:02:39.935929Z"
    },
    "papermill": {
     "duration": 0.012403,
     "end_time": "2025-09-08T13:02:39.937631",
     "exception": false,
     "start_time": "2025-09-08T13:02:39.925228",
     "status": "completed"
    },
    "tags": []
   },
   "outputs": [],
   "source": [
    "class CosFaceModel(nn.Module):\n",
    "    def __init__(self, backbone='resnet50', num_classes=2, embedding_size=512, pretrained=True):\n",
    "        super(CosFaceModel, self).__init__()\n",
    "        \n",
    "        # Load backbone\n",
    "        if backbone == 'resnet50':\n",
    "            self.backbone = models.resnet50(pretrained=pretrained)\n",
    "            backbone_features = self.backbone.fc.in_features\n",
    "            self.backbone.fc = nn.Identity()\n",
    "        elif backbone == 'resnet18':\n",
    "            self.backbone = models.resnet18(pretrained=pretrained)\n",
    "            backbone_features = self.backbone.fc.in_features\n",
    "            self.backbone.fc = nn.Identity()\n",
    "        else:\n",
    "            raise ValueError(\"Backbone must be 'resnet50' or 'resnet18'\")\n",
    "        \n",
    "        # Embedding layer\n",
    "        self.embedding = nn.Sequential(\n",
    "            nn.Linear(backbone_features, embedding_size),\n",
    "            nn.BatchNorm1d(embedding_size)\n",
    "        )\n",
    "        \n",
    "        # CosFace margin product\n",
    "        self.cos_margin = AddMarginProduct(embedding_size, num_classes, s=30.0, m=0.25)\n",
    "        \n",
    "        # For inference (when labels are not provided)\n",
    "        self.classifier = nn.Linear(embedding_size, num_classes)\n",
    "        \n",
    "    def forward(self, x, labels=None):\n",
    "        # Extract features\n",
    "        features = self.backbone(x)\n",
    "        embeddings = self.embedding(features)\n",
    "        \n",
    "        if labels is not None and self.training:\n",
    "            # Use CosFace loss during training\n",
    "            return self.cos_margin(embeddings, labels)\n",
    "        else:\n",
    "            # Use regular classifier for inference\n",
    "            return self.classifier(embeddings)"
   ]
  },
  {
   "cell_type": "markdown",
   "id": "0e85d2aa",
   "metadata": {
    "papermill": {
     "duration": 0.004843,
     "end_time": "2025-09-08T13:02:39.947566",
     "exception": false,
     "start_time": "2025-09-08T13:02:39.942723",
     "status": "completed"
    },
    "tags": []
   },
   "source": [
    "## Enhanced Training Framework\n",
    "Improved trainer with better stability, learning rate scheduling, and gradient monitoring"
   ]
  },
  {
   "cell_type": "code",
   "execution_count": 12,
   "id": "ea100a24",
   "metadata": {
    "execution": {
     "iopub.execute_input": "2025-09-08T13:02:39.958632Z",
     "iopub.status.busy": "2025-09-08T13:02:39.958424Z",
     "iopub.status.idle": "2025-09-08T13:02:39.981427Z",
     "shell.execute_reply": "2025-09-08T13:02:39.980736Z"
    },
    "papermill": {
     "duration": 0.029988,
     "end_time": "2025-09-08T13:02:39.982634",
     "exception": false,
     "start_time": "2025-09-08T13:02:39.952646",
     "status": "completed"
    },
    "tags": []
   },
   "outputs": [],
   "source": [
    "class MarginLossTrainer:\n",
    "    def __init__(self, model, train_loader, val_loader, test_loader, device='cuda'):\n",
    "        self.model = model.to(device)\n",
    "        self.train_loader = train_loader\n",
    "        self.val_loader = val_loader\n",
    "        self.test_loader = test_loader\n",
    "        self.device = device\n",
    "        \n",
    "        # Store label encoder\n",
    "        try:\n",
    "            self.label_encoder = train_loader.dataset.get_label_encoder()\n",
    "        except:\n",
    "            self.label_encoder = None\n",
    "        \n",
    "        # Training history\n",
    "        self.train_losses = []\n",
    "        self.val_losses = []\n",
    "        self.train_accuracies = []\n",
    "        self.val_accuracies = []\n",
    "        self.learning_rates = []\n",
    "        \n",
    "    def train_model(self, num_epochs=30, lr=0.001, weight_decay=1e-4, save_best=True, model_name=\"margin_model\"):\n",
    "        \"\"\"Enhanced training with better stability\"\"\"\n",
    "        \n",
    "        # Loss function and optimizer\n",
    "        criterion = nn.CrossEntropyLoss(label_smoothing=0.1)  # Add label smoothing\n",
    "        \n",
    "        # Separate learning rates for backbone and margin layers\n",
    "        backbone_params = []\n",
    "        margin_params = []\n",
    "        \n",
    "        for name, param in self.model.named_parameters():\n",
    "            if 'arc_margin' in name or 'cos_margin' in name or 'classifier' in name:\n",
    "                margin_params.append(param)\n",
    "            else:\n",
    "                backbone_params.append(param)\n",
    "        \n",
    "        optimizer = optim.AdamW([\n",
    "            {'params': backbone_params, 'lr': lr * 0.1},  # Lower LR for backbone\n",
    "            {'params': margin_params, 'lr': lr}  # Higher LR for margin layers\n",
    "        ], weight_decay=weight_decay)\n",
    "        \n",
    "        # Learning rate scheduler\n",
    "        scheduler = optim.lr_scheduler.CosineAnnealingWarmRestarts(\n",
    "            optimizer, T_0=10, T_mult=2, eta_min=1e-6\n",
    "        )\n",
    "        \n",
    "        # Best model tracking\n",
    "        best_val_acc = 0.0\n",
    "        best_model_wts = copy.deepcopy(self.model.state_dict())\n",
    "        patience = 10\n",
    "        patience_counter = 0\n",
    "        \n",
    "        print(f\"Starting training for {num_epochs} epochs...\")\n",
    "        print(\"-\" * 60)\n",
    "        \n",
    "        start_time = time.time()\n",
    "        \n",
    "        for epoch in range(num_epochs):\n",
    "            print(f'Epoch {epoch+1}/{num_epochs}')\n",
    "            print('-' * 10)\n",
    "            \n",
    "            # Training phase\n",
    "            self.model.train()\n",
    "            running_loss = 0.0\n",
    "            running_corrects = 0\n",
    "            total_samples = 0\n",
    "            \n",
    "            train_pbar = tqdm(self.train_loader, desc='Training')\n",
    "            \n",
    "            for inputs, labels in train_pbar:\n",
    "                inputs = inputs.to(self.device)\n",
    "                labels = labels.to(self.device)\n",
    "                \n",
    "                optimizer.zero_grad()\n",
    "                \n",
    "                # Forward pass with labels for margin loss\n",
    "                outputs = self.model(inputs, labels)\n",
    "                _, preds = torch.max(outputs, 1)\n",
    "                loss = criterion(outputs, labels)\n",
    "                \n",
    "                # Backward pass\n",
    "                loss.backward()\n",
    "                \n",
    "                # Gradient clipping for stability\n",
    "                torch.nn.utils.clip_grad_norm_(self.model.parameters(), max_norm=1.0)\n",
    "                \n",
    "                optimizer.step()\n",
    "                \n",
    "                # Statistics\n",
    "                running_loss += loss.item() * inputs.size(0)\n",
    "                running_corrects += torch.sum(preds == labels.data)\n",
    "                total_samples += inputs.size(0)\n",
    "                \n",
    "                # Update progress bar\n",
    "                current_acc = running_corrects.double() / total_samples\n",
    "                train_pbar.set_postfix({\n",
    "                    'Loss': f'{running_loss/total_samples:.4f}',\n",
    "                    'Acc': f'{current_acc:.4f}',\n",
    "                    'LR': f'{optimizer.param_groups[0][\"lr\"]:.6f}'\n",
    "                })\n",
    "            \n",
    "            # Calculate training metrics\n",
    "            train_loss = running_loss / total_samples\n",
    "            train_acc = running_corrects.double() / total_samples\n",
    "            \n",
    "            # Validation phase\n",
    "            self.model.eval()\n",
    "            val_running_loss = 0.0\n",
    "            val_running_corrects = 0\n",
    "            val_total_samples = 0\n",
    "            \n",
    "            val_pbar = tqdm(self.val_loader, desc='Validation')\n",
    "            \n",
    "            with torch.no_grad():\n",
    "                for inputs, labels in val_pbar:\n",
    "                    inputs = inputs.to(self.device)\n",
    "                    labels = labels.to(self.device)\n",
    "                    \n",
    "                    # Forward pass without labels for regular inference\n",
    "                    outputs = self.model(inputs)\n",
    "                    _, preds = torch.max(outputs, 1)\n",
    "                    loss = criterion(outputs, labels)\n",
    "                    \n",
    "                    # Statistics\n",
    "                    val_running_loss += loss.item() * inputs.size(0)\n",
    "                    val_running_corrects += torch.sum(preds == labels.data)\n",
    "                    val_total_samples += inputs.size(0)\n",
    "                    \n",
    "                    # Update progress bar\n",
    "                    current_val_acc = val_running_corrects.double() / val_total_samples\n",
    "                    val_pbar.set_postfix({\n",
    "                        'Loss': f'{val_running_loss/val_total_samples:.4f}',\n",
    "                        'Acc': f'{current_val_acc:.4f}'\n",
    "                    })\n",
    "            \n",
    "            # Calculate validation metrics\n",
    "            val_loss = val_running_loss / val_total_samples\n",
    "            val_acc = val_running_corrects.double() / val_total_samples\n",
    "            \n",
    "            # Learning rate step\n",
    "            scheduler.step()\n",
    "            \n",
    "            # Store metrics\n",
    "            self.train_losses.append(train_loss)\n",
    "            self.train_accuracies.append(train_acc.cpu())\n",
    "            self.val_losses.append(val_loss)\n",
    "            self.val_accuracies.append(val_acc.cpu())\n",
    "            self.learning_rates.append(optimizer.param_groups[0]['lr'])\n",
    "            \n",
    "            print(f'Train Loss: {train_loss:.4f} Acc: {train_acc:.4f}')\n",
    "            print(f'Val Loss: {val_loss:.4f} Acc: {val_acc:.4f}')\n",
    "            print(f'Learning Rate: {optimizer.param_groups[0][\"lr\"]:.6f}')\n",
    "            \n",
    "            # Save best model\n",
    "            if val_acc > best_val_acc:\n",
    "                best_val_acc = val_acc\n",
    "                best_model_wts = copy.deepcopy(self.model.state_dict())\n",
    "                patience_counter = 0\n",
    "                if save_best:\n",
    "                    torch.save(self.model.state_dict(), f'best_{model_name}.pth')\n",
    "                    print(f'✓ New best model saved with validation accuracy: {best_val_acc:.4f}')\n",
    "            else:\n",
    "                patience_counter += 1\n",
    "            \n",
    "            # Early stopping\n",
    "            if patience_counter >= patience:\n",
    "                print(f'Early stopping triggered after {epoch+1} epochs')\n",
    "                break\n",
    "                \n",
    "            print()\n",
    "        \n",
    "        # Training complete\n",
    "        time_elapsed = time.time() - start_time\n",
    "        print(f'Training complete in {time_elapsed // 60:.0f}m {time_elapsed % 60:.0f}s')\n",
    "        print(f'Best validation accuracy: {best_val_acc:.4f}')\n",
    "        \n",
    "        # Load best model weights\n",
    "        self.model.load_state_dict(best_model_wts)\n",
    "        return self.model\n",
    "    \n",
    "    def evaluate_model(self, test_loader=None):\n",
    "        \"\"\"Evaluate model on test set\"\"\"\n",
    "        if test_loader is None:\n",
    "            test_loader = self.test_loader\n",
    "            \n",
    "        self.model.eval()\n",
    "        all_preds = []\n",
    "        all_labels = []\n",
    "        test_loss = 0.0\n",
    "        correct = 0\n",
    "        total = 0\n",
    "        \n",
    "        criterion = nn.CrossEntropyLoss()\n",
    "        \n",
    "        print(\"Evaluating on test set...\")\n",
    "        with torch.no_grad():\n",
    "            for inputs, labels in tqdm(test_loader):\n",
    "                inputs = inputs.to(self.device)\n",
    "                labels = labels.to(self.device)\n",
    "                \n",
    "                outputs = self.model(inputs)  # No labels for inference\n",
    "                loss = criterion(outputs, labels)\n",
    "                \n",
    "                _, predicted = torch.max(outputs.data, 1)\n",
    "                total += labels.size(0)\n",
    "                correct += (predicted == labels).sum().item()\n",
    "                test_loss += loss.item()\n",
    "                \n",
    "                # Store for detailed metrics\n",
    "                all_preds.extend(predicted.cpu().numpy())\n",
    "                all_labels.extend(labels.cpu().numpy())\n",
    "        \n",
    "        # Calculate metrics\n",
    "        test_acc = 100 * correct / total\n",
    "        avg_test_loss = test_loss / len(test_loader)\n",
    "        \n",
    "        print(f'Test Accuracy: {test_acc:.2f}%')\n",
    "        print(f'Test Loss: {avg_test_loss:.4f}')\n",
    "        \n",
    "        # Get class names\n",
    "        unique_labels = np.unique(all_labels)\n",
    "        unique_preds = np.unique(all_preds)\n",
    "        \n",
    "        try:\n",
    "            class_names = self.label_encoder.classes_ if self.label_encoder else [f'Class_{i}' for i in range(len(unique_labels))]\n",
    "        except:\n",
    "            class_names = [f'Class_{i}' for i in range(len(unique_labels))]\n",
    "        \n",
    "        # Detailed classification report\n",
    "        print(\"\\nClassification Report:\")\n",
    "        print(classification_report(all_labels, all_preds, \n",
    "                                  target_names=class_names,\n",
    "                                  zero_division=0))\n",
    "        \n",
    "        # Confusion Matrix\n",
    "        cm = confusion_matrix(all_labels, all_preds)\n",
    "        print(f\"\\nConfusion Matrix:\")\n",
    "        print(cm)\n",
    "        \n",
    "        return test_acc, all_preds, all_labels\n",
    "    \n",
    "    def plot_training_history(self, save_path=None):\n",
    "        \"\"\"Plot comprehensive training history\"\"\"\n",
    "        fig, ((ax1, ax2), (ax3, ax4)) = plt.subplots(2, 2, figsize=(15, 10))\n",
    "        \n",
    "        # Plot losses\n",
    "        ax1.plot(self.train_losses, label='Train Loss', marker='o')\n",
    "        ax1.plot(self.val_losses, label='Validation Loss', marker='s')\n",
    "        ax1.set_title('Model Loss')\n",
    "        ax1.set_xlabel('Epoch')\n",
    "        ax1.set_ylabel('Loss')\n",
    "        ax1.legend()\n",
    "        ax1.grid(True)\n",
    "        \n",
    "        # Plot accuracies\n",
    "        ax2.plot(self.train_accuracies, label='Train Accuracy', marker='o')\n",
    "        ax2.plot(self.val_accuracies, label='Validation Accuracy', marker='s')\n",
    "        ax2.set_title('Model Accuracy')\n",
    "        ax2.set_xlabel('Epoch')\n",
    "        ax2.set_ylabel('Accuracy')\n",
    "        ax2.legend()\n",
    "        ax2.grid(True)\n",
    "        \n",
    "        # Plot learning rate\n",
    "        ax3.plot(self.learning_rates, label='Learning Rate', color='red')\n",
    "        ax3.set_title('Learning Rate Schedule')\n",
    "        ax3.set_xlabel('Epoch')\n",
    "        ax3.set_ylabel('Learning Rate')\n",
    "        ax3.legend()\n",
    "        ax3.grid(True)\n",
    "        ax3.set_yscale('log')\n",
    "        \n",
    "        # Plot validation accuracy zoomed\n",
    "        ax4.plot(self.val_accuracies, label='Validation Accuracy', marker='s', color='orange')\n",
    "        ax4.set_title('Validation Accuracy (Detailed)')\n",
    "        ax4.set_xlabel('Epoch')\n",
    "        ax4.set_ylabel('Accuracy')\n",
    "        ax4.legend()\n",
    "        ax4.grid(True)\n",
    "        \n",
    "        plt.tight_layout()\n",
    "        \n",
    "        if save_path:\n",
    "            plt.savefig(save_path)\n",
    "        plt.show()"
   ]
  },
  {
   "cell_type": "markdown",
   "id": "b33b2806",
   "metadata": {
    "papermill": {
     "duration": 0.00487,
     "end_time": "2025-09-08T13:02:39.992804",
     "exception": false,
     "start_time": "2025-09-08T13:02:39.987934",
     "status": "completed"
    },
    "tags": []
   },
   "source": [
    "## GPU Configuration"
   ]
  },
  {
   "cell_type": "code",
   "execution_count": 13,
   "id": "8c85fbc3",
   "metadata": {
    "execution": {
     "iopub.execute_input": "2025-09-08T13:02:40.003496Z",
     "iopub.status.busy": "2025-09-08T13:02:40.003326Z",
     "iopub.status.idle": "2025-09-08T13:02:40.030122Z",
     "shell.execute_reply": "2025-09-08T13:02:40.029352Z"
    },
    "papermill": {
     "duration": 0.033433,
     "end_time": "2025-09-08T13:02:40.031310",
     "exception": false,
     "start_time": "2025-09-08T13:02:39.997877",
     "status": "completed"
    },
    "tags": []
   },
   "outputs": [
    {
     "name": "stdout",
     "output_type": "stream",
     "text": [
      "Using device: cuda\n",
      "GPU: Tesla P100-PCIE-16GB\n",
      "CUDA version: 12.4\n"
     ]
    }
   ],
   "source": [
    "device = torch.device('cuda' if torch.cuda.is_available() else 'cpu')\n",
    "print(f\"Using device: {device}\")\n",
    "if torch.cuda.is_available():\n",
    "    print(f\"GPU: {torch.cuda.get_device_name(0)}\")\n",
    "    print(f\"CUDA version: {torch.version.cuda}\")\n",
    "elif torch.backends.mps.is_available():\n",
    "    device = torch.device('mps')\n",
    "    print(\"Using MPS (Apple Silicon) acceleration\")"
   ]
  },
  {
   "cell_type": "markdown",
   "id": "0e149b55",
   "metadata": {
    "papermill": {
     "duration": 0.004893,
     "end_time": "2025-09-08T13:02:40.041505",
     "exception": false,
     "start_time": "2025-09-08T13:02:40.036612",
     "status": "completed"
    },
    "tags": []
   },
   "source": [
    "## 1. ArcFace Model Training"
   ]
  },
  {
   "cell_type": "code",
   "execution_count": 14,
   "id": "b488d36e",
   "metadata": {
    "execution": {
     "iopub.execute_input": "2025-09-08T13:02:40.052355Z",
     "iopub.status.busy": "2025-09-08T13:02:40.052177Z",
     "iopub.status.idle": "2025-09-08T13:02:41.102619Z",
     "shell.execute_reply": "2025-09-08T13:02:41.101839Z"
    },
    "papermill": {
     "duration": 1.057292,
     "end_time": "2025-09-08T13:02:41.103891",
     "exception": false,
     "start_time": "2025-09-08T13:02:40.046599",
     "status": "completed"
    },
    "tags": []
   },
   "outputs": [
    {
     "name": "stdout",
     "output_type": "stream",
     "text": [
      "Creating ArcFace model...\n"
     ]
    },
    {
     "name": "stderr",
     "output_type": "stream",
     "text": [
      "Downloading: \"https://download.pytorch.org/models/resnet50-0676ba61.pth\" to /root/.cache/torch/hub/checkpoints/resnet50-0676ba61.pth\n",
      "100%|██████████| 97.8M/97.8M [00:00<00:00, 206MB/s]\n"
     ]
    },
    {
     "name": "stdout",
     "output_type": "stream",
     "text": [
      "Model created with 24560194 parameters\n",
      "Trainable parameters: 24560194\n"
     ]
    }
   ],
   "source": [
    "print(\"Creating ArcFace model...\")\n",
    "arcface_model = ArcFaceModel(\n",
    "    backbone='resnet50', \n",
    "    num_classes=len(le.classes_), \n",
    "    embedding_size=EMBEDDING_SIZE, \n",
    "    pretrained=True\n",
    ")\n",
    "\n",
    "print(f\"Model created with {sum(p.numel() for p in arcface_model.parameters())} parameters\")\n",
    "print(f\"Trainable parameters: {sum(p.numel() for p in arcface_model.parameters() if p.requires_grad)}\")"
   ]
  },
  {
   "cell_type": "code",
   "execution_count": 15,
   "id": "9fd440d6",
   "metadata": {
    "execution": {
     "iopub.execute_input": "2025-09-08T13:02:41.116575Z",
     "iopub.status.busy": "2025-09-08T13:02:41.116379Z",
     "iopub.status.idle": "2025-09-08T13:02:41.293526Z",
     "shell.execute_reply": "2025-09-08T13:02:41.292653Z"
    },
    "papermill": {
     "duration": 0.184653,
     "end_time": "2025-09-08T13:02:41.294652",
     "exception": false,
     "start_time": "2025-09-08T13:02:41.109999",
     "status": "completed"
    },
    "tags": []
   },
   "outputs": [
    {
     "name": "stdout",
     "output_type": "stream",
     "text": [
      "Initializing ArcFace trainer...\n"
     ]
    }
   ],
   "source": [
    "print(\"Initializing ArcFace trainer...\")\n",
    "arcface_trainer = MarginLossTrainer(\n",
    "    arcface_model, \n",
    "    train_loader, \n",
    "    val_loader, \n",
    "    test_loader, \n",
    "    device\n",
    ")"
   ]
  },
  {
   "cell_type": "code",
   "execution_count": 16,
   "id": "6fe860a4",
   "metadata": {
    "execution": {
     "iopub.execute_input": "2025-09-08T13:02:41.307400Z",
     "iopub.status.busy": "2025-09-08T13:02:41.306737Z",
     "iopub.status.idle": "2025-09-08T13:05:35.187185Z",
     "shell.execute_reply": "2025-09-08T13:05:35.186169Z"
    },
    "papermill": {
     "duration": 173.887792,
     "end_time": "2025-09-08T13:05:35.188357",
     "exception": false,
     "start_time": "2025-09-08T13:02:41.300565",
     "status": "completed"
    },
    "tags": []
   },
   "outputs": [
    {
     "name": "stdout",
     "output_type": "stream",
     "text": [
      "Starting ArcFace training...\n",
      "Starting training for 30 epochs...\n",
      "------------------------------------------------------------\n",
      "Epoch 1/30\n",
      "----------\n"
     ]
    },
    {
     "name": "stderr",
     "output_type": "stream",
     "text": [
      "Training: 100%|██████████| 79/79 [00:15<00:00,  5.13it/s, Loss=2.5741, Acc=0.5811, LR=0.000100]\n",
      "Validation: 100%|██████████| 4/4 [00:00<00:00,  5.43it/s, Loss=0.6701, Acc=0.5700]\n"
     ]
    },
    {
     "name": "stdout",
     "output_type": "stream",
     "text": [
      "Train Loss: 2.5741 Acc: 0.5811\n",
      "Val Loss: 0.6701 Acc: 0.5700\n",
      "Learning Rate: 0.000098\n",
      "✓ New best model saved with validation accuracy: 0.5700\n",
      "\n",
      "Epoch 2/30\n",
      "----------\n"
     ]
    },
    {
     "name": "stderr",
     "output_type": "stream",
     "text": [
      "Training: 100%|██████████| 79/79 [00:13<00:00,  5.69it/s, Loss=1.0875, Acc=0.8153, LR=0.000098]\n",
      "Validation: 100%|██████████| 4/4 [00:00<00:00,  8.00it/s, Loss=0.6596, Acc=0.6100]\n"
     ]
    },
    {
     "name": "stdout",
     "output_type": "stream",
     "text": [
      "Train Loss: 1.0875 Acc: 0.8153\n",
      "Val Loss: 0.6596 Acc: 0.6100\n",
      "Learning Rate: 0.000091\n",
      "✓ New best model saved with validation accuracy: 0.6100\n",
      "\n",
      "Epoch 3/30\n",
      "----------\n"
     ]
    },
    {
     "name": "stderr",
     "output_type": "stream",
     "text": [
      "Training: 100%|██████████| 79/79 [00:13<00:00,  5.73it/s, Loss=0.6036, Acc=0.9169, LR=0.000091]\n",
      "Validation: 100%|██████████| 4/4 [00:00<00:00,  8.43it/s, Loss=0.7469, Acc=0.4900]\n"
     ]
    },
    {
     "name": "stdout",
     "output_type": "stream",
     "text": [
      "Train Loss: 0.6036 Acc: 0.9169\n",
      "Val Loss: 0.7469 Acc: 0.4900\n",
      "Learning Rate: 0.000080\n",
      "\n",
      "Epoch 4/30\n",
      "----------\n"
     ]
    },
    {
     "name": "stderr",
     "output_type": "stream",
     "text": [
      "Training: 100%|██████████| 79/79 [00:13<00:00,  5.72it/s, Loss=0.5763, Acc=0.9233, LR=0.000080]\n",
      "Validation: 100%|██████████| 4/4 [00:00<00:00,  7.75it/s, Loss=0.8748, Acc=0.4400]\n"
     ]
    },
    {
     "name": "stdout",
     "output_type": "stream",
     "text": [
      "Train Loss: 0.5763 Acc: 0.9233\n",
      "Val Loss: 0.8748 Acc: 0.4400\n",
      "Learning Rate: 0.000066\n",
      "\n",
      "Epoch 5/30\n",
      "----------\n"
     ]
    },
    {
     "name": "stderr",
     "output_type": "stream",
     "text": [
      "Training: 100%|██████████| 79/79 [00:13<00:00,  5.73it/s, Loss=0.4022, Acc=0.9470, LR=0.000066]\n",
      "Validation: 100%|██████████| 4/4 [00:00<00:00,  8.18it/s, Loss=0.7931, Acc=0.5300]\n"
     ]
    },
    {
     "name": "stdout",
     "output_type": "stream",
     "text": [
      "Train Loss: 0.4022 Acc: 0.9470\n",
      "Val Loss: 0.7931 Acc: 0.5300\n",
      "Learning Rate: 0.000051\n",
      "\n",
      "Epoch 6/30\n",
      "----------\n"
     ]
    },
    {
     "name": "stderr",
     "output_type": "stream",
     "text": [
      "Training: 100%|██████████| 79/79 [00:13<00:00,  5.69it/s, Loss=0.3343, Acc=0.9597, LR=0.000051]\n",
      "Validation: 100%|██████████| 4/4 [00:00<00:00,  8.16it/s, Loss=0.7603, Acc=0.4900]\n"
     ]
    },
    {
     "name": "stdout",
     "output_type": "stream",
     "text": [
      "Train Loss: 0.3343 Acc: 0.9597\n",
      "Val Loss: 0.7603 Acc: 0.4900\n",
      "Learning Rate: 0.000035\n",
      "\n",
      "Epoch 7/30\n",
      "----------\n"
     ]
    },
    {
     "name": "stderr",
     "output_type": "stream",
     "text": [
      "Training: 100%|██████████| 79/79 [00:13<00:00,  5.70it/s, Loss=0.2812, Acc=0.9763, LR=0.000035]\n",
      "Validation: 100%|██████████| 4/4 [00:00<00:00,  8.23it/s, Loss=0.7367, Acc=0.5000]\n"
     ]
    },
    {
     "name": "stdout",
     "output_type": "stream",
     "text": [
      "Train Loss: 0.2812 Acc: 0.9763\n",
      "Val Loss: 0.7367 Acc: 0.5000\n",
      "Learning Rate: 0.000021\n",
      "\n",
      "Epoch 8/30\n",
      "----------\n"
     ]
    },
    {
     "name": "stderr",
     "output_type": "stream",
     "text": [
      "Training: 100%|██████████| 79/79 [00:13<00:00,  5.74it/s, Loss=0.2653, Acc=0.9830, LR=0.000021]\n",
      "Validation: 100%|██████████| 4/4 [00:00<00:00,  8.39it/s, Loss=0.8073, Acc=0.4400]\n"
     ]
    },
    {
     "name": "stdout",
     "output_type": "stream",
     "text": [
      "Train Loss: 0.2653 Acc: 0.9830\n",
      "Val Loss: 0.8073 Acc: 0.4400\n",
      "Learning Rate: 0.000010\n",
      "\n",
      "Epoch 9/30\n",
      "----------\n"
     ]
    },
    {
     "name": "stderr",
     "output_type": "stream",
     "text": [
      "Training: 100%|██████████| 79/79 [00:13<00:00,  5.74it/s, Loss=0.2469, Acc=0.9929, LR=0.000010]\n",
      "Validation: 100%|██████████| 4/4 [00:00<00:00,  8.57it/s, Loss=0.7686, Acc=0.4700]\n"
     ]
    },
    {
     "name": "stdout",
     "output_type": "stream",
     "text": [
      "Train Loss: 0.2469 Acc: 0.9929\n",
      "Val Loss: 0.7686 Acc: 0.4700\n",
      "Learning Rate: 0.000003\n",
      "\n",
      "Epoch 10/30\n",
      "----------\n"
     ]
    },
    {
     "name": "stderr",
     "output_type": "stream",
     "text": [
      "Training: 100%|██████████| 79/79 [00:13<00:00,  5.72it/s, Loss=0.2331, Acc=0.9945, LR=0.000003]\n",
      "Validation: 100%|██████████| 4/4 [00:00<00:00,  8.04it/s, Loss=0.7481, Acc=0.4700]\n"
     ]
    },
    {
     "name": "stdout",
     "output_type": "stream",
     "text": [
      "Train Loss: 0.2331 Acc: 0.9945\n",
      "Val Loss: 0.7481 Acc: 0.4700\n",
      "Learning Rate: 0.000100\n",
      "\n",
      "Epoch 11/30\n",
      "----------\n"
     ]
    },
    {
     "name": "stderr",
     "output_type": "stream",
     "text": [
      "Training: 100%|██████████| 79/79 [00:13<00:00,  5.74it/s, Loss=0.3067, Acc=0.9648, LR=0.000100]\n",
      "Validation: 100%|██████████| 4/4 [00:00<00:00,  8.49it/s, Loss=0.6637, Acc=0.5700]\n"
     ]
    },
    {
     "name": "stdout",
     "output_type": "stream",
     "text": [
      "Train Loss: 0.3067 Acc: 0.9648\n",
      "Val Loss: 0.6637 Acc: 0.5700\n",
      "Learning Rate: 0.000099\n",
      "\n",
      "Epoch 12/30\n",
      "----------\n"
     ]
    },
    {
     "name": "stderr",
     "output_type": "stream",
     "text": [
      "Training: 100%|██████████| 79/79 [00:13<00:00,  5.74it/s, Loss=0.3637, Acc=0.9529, LR=0.000099]\n",
      "Validation: 100%|██████████| 4/4 [00:00<00:00,  8.60it/s, Loss=0.8786, Acc=0.5800]"
     ]
    },
    {
     "name": "stdout",
     "output_type": "stream",
     "text": [
      "Train Loss: 0.3637 Acc: 0.9529\n",
      "Val Loss: 0.8786 Acc: 0.5800\n",
      "Learning Rate: 0.000098\n",
      "Early stopping triggered after 12 epochs\n",
      "Training complete in 2m 54s\n",
      "Best validation accuracy: 0.6100\n"
     ]
    },
    {
     "name": "stderr",
     "output_type": "stream",
     "text": [
      "\n"
     ]
    }
   ],
   "source": [
    "print(\"Starting ArcFace training...\")\n",
    "trained_arcface = arcface_trainer.train_model(\n",
    "    num_epochs=NUM_EPOCHS, \n",
    "    lr=LEARNING_RATE, \n",
    "    weight_decay=1e-4,\n",
    "    model_name=\"arcface_autism_dataset\"\n",
    ")"
   ]
  },
  {
   "cell_type": "code",
   "execution_count": 17,
   "id": "888f8e0b",
   "metadata": {
    "execution": {
     "iopub.execute_input": "2025-09-08T13:05:35.361246Z",
     "iopub.status.busy": "2025-09-08T13:05:35.360484Z",
     "iopub.status.idle": "2025-09-08T13:05:37.145925Z",
     "shell.execute_reply": "2025-09-08T13:05:37.144768Z"
    },
    "papermill": {
     "duration": 1.871365,
     "end_time": "2025-09-08T13:05:37.147183",
     "exception": false,
     "start_time": "2025-09-08T13:05:35.275818",
     "status": "completed"
    },
    "tags": []
   },
   "outputs": [
    {
     "name": "stdout",
     "output_type": "stream",
     "text": [
      "Evaluating ArcFace model...\n",
      "Evaluating on test set...\n"
     ]
    },
    {
     "name": "stderr",
     "output_type": "stream",
     "text": [
      "100%|██████████| 10/10 [00:01<00:00,  5.66it/s]"
     ]
    },
    {
     "name": "stdout",
     "output_type": "stream",
     "text": [
      "Test Accuracy: 58.00%\n",
      "Test Loss: 0.6564\n",
      "\n",
      "Classification Report:\n",
      "              precision    recall  f1-score   support\n",
      "\n",
      "    Autistic       0.58      0.59      0.58       150\n",
      "Non_Autistic       0.58      0.57      0.58       150\n",
      "\n",
      "    accuracy                           0.58       300\n",
      "   macro avg       0.58      0.58      0.58       300\n",
      "weighted avg       0.58      0.58      0.58       300\n",
      "\n",
      "\n",
      "Confusion Matrix:\n",
      "[[88 62]\n",
      " [64 86]]\n"
     ]
    },
    {
     "name": "stderr",
     "output_type": "stream",
     "text": [
      "\n"
     ]
    }
   ],
   "source": [
    "print(\"Evaluating ArcFace model...\")\n",
    "arcface_test_acc, arcface_preds, arcface_labels = arcface_trainer.evaluate_model()"
   ]
  },
  {
   "cell_type": "code",
   "execution_count": 18,
   "id": "84e67576",
   "metadata": {
    "execution": {
     "iopub.execute_input": "2025-09-08T13:05:37.323491Z",
     "iopub.status.busy": "2025-09-08T13:05:37.322800Z",
     "iopub.status.idle": "2025-09-08T13:05:38.953848Z",
     "shell.execute_reply": "2025-09-08T13:05:38.953114Z"
    },
    "papermill": {
     "duration": 1.721467,
     "end_time": "2025-09-08T13:05:38.956195",
     "exception": false,
     "start_time": "2025-09-08T13:05:37.234728",
     "status": "completed"
    },
    "tags": []
   },
   "outputs": [
    {
     "data": {
      "image/png": "[encoded data removed]",
      "text/plain": [
       "<Figure size 1500x1000 with 4 Axes>"
      ]
     },
     "metadata": {},
     "output_type": "display_data"
    }
   ],
   "source": [
    "arcface_trainer.plot_training_history(save_path='arcface_autism_dataset_training_history.png')"
   ]
  },
  {
   "cell_type": "markdown",
   "id": "4d53e9d4",
   "metadata": {
    "papermill": {
     "duration": 0.085655,
     "end_time": "2025-09-08T13:05:39.131090",
     "exception": false,
     "start_time": "2025-09-08T13:05:39.045435",
     "status": "completed"
    },
    "tags": []
   },
   "source": [
    "## 2. CosFace Model Training"
   ]
  },
  {
   "cell_type": "code",
   "execution_count": 19,
   "id": "942522f0",
   "metadata": {
    "execution": {
     "iopub.execute_input": "2025-09-08T13:05:39.302227Z",
     "iopub.status.busy": "2025-09-08T13:05:39.301300Z",
     "iopub.status.idle": "2025-09-08T13:05:39.815013Z",
     "shell.execute_reply": "2025-09-08T13:05:39.814105Z"
    },
    "papermill": {
     "duration": 0.600559,
     "end_time": "2025-09-08T13:05:39.816353",
     "exception": false,
     "start_time": "2025-09-08T13:05:39.215794",
     "status": "completed"
    },
    "tags": []
   },
   "outputs": [
    {
     "name": "stdout",
     "output_type": "stream",
     "text": [
      "Creating CosFace model...\n",
      "Model created with 24560194 parameters\n",
      "Trainable parameters: 24560194\n"
     ]
    }
   ],
   "source": [
    "print(\"Creating CosFace model...\")\n",
    "cosface_model = CosFaceModel(\n",
    "    backbone='resnet50', \n",
    "    num_classes=len(le.classes_), \n",
    "    embedding_size=EMBEDDING_SIZE, \n",
    "    pretrained=True\n",
    ")\n",
    "\n",
    "print(f\"Model created with {sum(p.numel() for p in cosface_model.parameters())} parameters\")\n",
    "print(f\"Trainable parameters: {sum(p.numel() for p in cosface_model.parameters() if p.requires_grad)}\")"
   ]
  },
  {
   "cell_type": "code",
   "execution_count": 20,
   "id": "378503a3",
   "metadata": {
    "execution": {
     "iopub.execute_input": "2025-09-08T13:05:39.992453Z",
     "iopub.status.busy": "2025-09-08T13:05:39.991723Z",
     "iopub.status.idle": "2025-09-08T13:05:40.029788Z",
     "shell.execute_reply": "2025-09-08T13:05:40.029257Z"
    },
    "papermill": {
     "duration": 0.1275,
     "end_time": "2025-09-08T13:05:40.030818",
     "exception": false,
     "start_time": "2025-09-08T13:05:39.903318",
     "status": "completed"
    },
    "tags": []
   },
   "outputs": [
    {
     "name": "stdout",
     "output_type": "stream",
     "text": [
      "Initializing CosFace trainer...\n"
     ]
    }
   ],
   "source": [
    "print(\"Initializing CosFace trainer...\")\n",
    "cosface_trainer = MarginLossTrainer(\n",
    "    cosface_model, \n",
    "    train_loader, \n",
    "    val_loader, \n",
    "    test_loader, \n",
    "    device\n",
    ")"
   ]
  },
  {
   "cell_type": "code",
   "execution_count": 21,
   "id": "9983a99c",
   "metadata": {
    "execution": {
     "iopub.execute_input": "2025-09-08T13:05:40.206072Z",
     "iopub.status.busy": "2025-09-08T13:05:40.205800Z",
     "iopub.status.idle": "2025-09-08T13:08:18.073266Z",
     "shell.execute_reply": "2025-09-08T13:08:18.072318Z"
    },
    "papermill": {
     "duration": 157.956075,
     "end_time": "2025-09-08T13:08:18.074678",
     "exception": false,
     "start_time": "2025-09-08T13:05:40.118603",
     "status": "completed"
    },
    "tags": []
   },
   "outputs": [
    {
     "name": "stdout",
     "output_type": "stream",
     "text": [
      "Starting CosFace training...\n",
      "Starting training for 30 epochs...\n",
      "------------------------------------------------------------\n",
      "Epoch 1/30\n",
      "----------\n"
     ]
    },
    {
     "name": "stderr",
     "output_type": "stream",
     "text": [
      "Training: 100%|██████████| 79/79 [00:13<00:00,  5.72it/s, Loss=3.9455, Acc=0.5510, LR=0.000100]\n",
      "Validation: 100%|██████████| 4/4 [00:00<00:00,  8.26it/s, Loss=0.7251, Acc=0.5400]\n"
     ]
    },
    {
     "name": "stdout",
     "output_type": "stream",
     "text": [
      "Train Loss: 3.9455 Acc: 0.5510\n",
      "Val Loss: 0.7251 Acc: 0.5400\n",
      "Learning Rate: 0.000098\n",
      "✓ New best model saved with validation accuracy: 0.5400\n",
      "\n",
      "Epoch 2/30\n",
      "----------\n"
     ]
    },
    {
     "name": "stderr",
     "output_type": "stream",
     "text": [
      "Training: 100%|██████████| 79/79 [00:13<00:00,  5.72it/s, Loss=1.6583, Acc=0.7935, LR=0.000098]\n",
      "Validation: 100%|██████████| 4/4 [00:00<00:00,  7.80it/s, Loss=0.7726, Acc=0.3600]\n"
     ]
    },
    {
     "name": "stdout",
     "output_type": "stream",
     "text": [
      "Train Loss: 1.6583 Acc: 0.7935\n",
      "Val Loss: 0.7726 Acc: 0.3600\n",
      "Learning Rate: 0.000091\n",
      "\n",
      "Epoch 3/30\n",
      "----------\n"
     ]
    },
    {
     "name": "stderr",
     "output_type": "stream",
     "text": [
      "Training: 100%|██████████| 79/79 [00:13<00:00,  5.71it/s, Loss=1.0330, Acc=0.8774, LR=0.000091]\n",
      "Validation: 100%|██████████| 4/4 [00:00<00:00,  7.93it/s, Loss=0.7407, Acc=0.3600]\n"
     ]
    },
    {
     "name": "stdout",
     "output_type": "stream",
     "text": [
      "Train Loss: 1.0330 Acc: 0.8774\n",
      "Val Loss: 0.7407 Acc: 0.3600\n",
      "Learning Rate: 0.000080\n",
      "\n",
      "Epoch 4/30\n",
      "----------\n"
     ]
    },
    {
     "name": "stderr",
     "output_type": "stream",
     "text": [
      "Training: 100%|██████████| 79/79 [00:13<00:00,  5.72it/s, Loss=0.8731, Acc=0.9193, LR=0.000080]\n",
      "Validation: 100%|██████████| 4/4 [00:00<00:00,  8.07it/s, Loss=0.7371, Acc=0.3300]\n"
     ]
    },
    {
     "name": "stdout",
     "output_type": "stream",
     "text": [
      "Train Loss: 0.8731 Acc: 0.9193\n",
      "Val Loss: 0.7371 Acc: 0.3300\n",
      "Learning Rate: 0.000066\n",
      "\n",
      "Epoch 5/30\n",
      "----------\n"
     ]
    },
    {
     "name": "stderr",
     "output_type": "stream",
     "text": [
      "Training: 100%|██████████| 79/79 [00:13<00:00,  5.73it/s, Loss=0.6067, Acc=0.9466, LR=0.000066]\n",
      "Validation: 100%|██████████| 4/4 [00:00<00:00,  8.19it/s, Loss=0.7403, Acc=0.3000]\n"
     ]
    },
    {
     "name": "stdout",
     "output_type": "stream",
     "text": [
      "Train Loss: 0.6067 Acc: 0.9466\n",
      "Val Loss: 0.7403 Acc: 0.3000\n",
      "Learning Rate: 0.000051\n",
      "\n",
      "Epoch 6/30\n",
      "----------\n"
     ]
    },
    {
     "name": "stderr",
     "output_type": "stream",
     "text": [
      "Training: 100%|██████████| 79/79 [00:13<00:00,  5.73it/s, Loss=0.4584, Acc=0.9672, LR=0.000051]\n",
      "Validation: 100%|██████████| 4/4 [00:00<00:00,  7.87it/s, Loss=0.7404, Acc=0.3200]\n"
     ]
    },
    {
     "name": "stdout",
     "output_type": "stream",
     "text": [
      "Train Loss: 0.4584 Acc: 0.9672\n",
      "Val Loss: 0.7404 Acc: 0.3200\n",
      "Learning Rate: 0.000035\n",
      "\n",
      "Epoch 7/30\n",
      "----------\n"
     ]
    },
    {
     "name": "stderr",
     "output_type": "stream",
     "text": [
      "Training: 100%|██████████| 79/79 [00:13<00:00,  5.74it/s, Loss=0.3450, Acc=0.9842, LR=0.000035]\n",
      "Validation: 100%|██████████| 4/4 [00:00<00:00,  8.23it/s, Loss=0.7398, Acc=0.3000]\n"
     ]
    },
    {
     "name": "stdout",
     "output_type": "stream",
     "text": [
      "Train Loss: 0.3450 Acc: 0.9842\n",
      "Val Loss: 0.7398 Acc: 0.3000\n",
      "Learning Rate: 0.000021\n",
      "\n",
      "Epoch 8/30\n",
      "----------\n"
     ]
    },
    {
     "name": "stderr",
     "output_type": "stream",
     "text": [
      "Training: 100%|██████████| 79/79 [00:13<00:00,  5.73it/s, Loss=0.2852, Acc=0.9877, LR=0.000021]\n",
      "Validation: 100%|██████████| 4/4 [00:00<00:00,  7.76it/s, Loss=0.7351, Acc=0.3200]\n"
     ]
    },
    {
     "name": "stdout",
     "output_type": "stream",
     "text": [
      "Train Loss: 0.2852 Acc: 0.9877\n",
      "Val Loss: 0.7351 Acc: 0.3200\n",
      "Learning Rate: 0.000010\n",
      "\n",
      "Epoch 9/30\n",
      "----------\n"
     ]
    },
    {
     "name": "stderr",
     "output_type": "stream",
     "text": [
      "Training: 100%|██████████| 79/79 [00:13<00:00,  5.70it/s, Loss=0.2285, Acc=0.9960, LR=0.000010]\n",
      "Validation: 100%|██████████| 4/4 [00:00<00:00,  7.87it/s, Loss=0.7364, Acc=0.2400]\n"
     ]
    },
    {
     "name": "stdout",
     "output_type": "stream",
     "text": [
      "Train Loss: 0.2285 Acc: 0.9960\n",
      "Val Loss: 0.7364 Acc: 0.2400\n",
      "Learning Rate: 0.000003\n",
      "\n",
      "Epoch 10/30\n",
      "----------\n"
     ]
    },
    {
     "name": "stderr",
     "output_type": "stream",
     "text": [
      "Training: 100%|██████████| 79/79 [00:13<00:00,  5.68it/s, Loss=0.2091, Acc=0.9980, LR=0.000003]\n",
      "Validation: 100%|██████████| 4/4 [00:00<00:00,  7.82it/s, Loss=0.7373, Acc=0.2600]\n"
     ]
    },
    {
     "name": "stdout",
     "output_type": "stream",
     "text": [
      "Train Loss: 0.2091 Acc: 0.9980\n",
      "Val Loss: 0.7373 Acc: 0.2600\n",
      "Learning Rate: 0.000100\n",
      "\n",
      "Epoch 11/30\n",
      "----------\n"
     ]
    },
    {
     "name": "stderr",
     "output_type": "stream",
     "text": [
      "Training: 100%|██████████| 79/79 [00:13<00:00,  5.69it/s, Loss=0.4705, Acc=0.9723, LR=0.000100]\n",
      "Validation: 100%|██████████| 4/4 [00:00<00:00,  8.08it/s, Loss=0.7491, Acc=0.3000]\n"
     ]
    },
    {
     "name": "stdout",
     "output_type": "stream",
     "text": [
      "Train Loss: 0.4705 Acc: 0.9723\n",
      "Val Loss: 0.7491 Acc: 0.3000\n",
      "Learning Rate: 0.000099\n",
      "Early stopping triggered after 11 epochs\n",
      "Training complete in 2m 38s\n",
      "Best validation accuracy: 0.5400\n"
     ]
    }
   ],
   "source": [
    "print(\"Starting CosFace training...\")\n",
    "trained_cosface = cosface_trainer.train_model(\n",
    "    num_epochs=NUM_EPOCHS, \n",
    "    lr=LEARNING_RATE, \n",
    "    weight_decay=1e-4,\n",
    "    model_name=\"cosface_autism_dataset\"\n",
    ")"
   ]
  },
  {
   "cell_type": "code",
   "execution_count": 22,
   "id": "7f9fe323",
   "metadata": {
    "execution": {
     "iopub.execute_input": "2025-09-08T13:08:18.397091Z",
     "iopub.status.busy": "2025-09-08T13:08:18.396799Z",
     "iopub.status.idle": "2025-09-08T13:08:19.660421Z",
     "shell.execute_reply": "2025-09-08T13:08:19.659307Z"
    },
    "papermill": {
     "duration": 1.424288,
     "end_time": "2025-09-08T13:08:19.661981",
     "exception": false,
     "start_time": "2025-09-08T13:08:18.237693",
     "status": "completed"
    },
    "tags": []
   },
   "outputs": [
    {
     "name": "stdout",
     "output_type": "stream",
     "text": [
      "Evaluating CosFace model...\n",
      "Evaluating on test set...\n"
     ]
    },
    {
     "name": "stderr",
     "output_type": "stream",
     "text": [
      "100%|██████████| 10/10 [00:01<00:00,  8.07it/s]"
     ]
    },
    {
     "name": "stdout",
     "output_type": "stream",
     "text": [
      "Test Accuracy: 50.33%\n",
      "Test Loss: 0.7226\n",
      "\n",
      "Classification Report:\n",
      "              precision    recall  f1-score   support\n",
      "\n",
      "    Autistic       0.50      0.50      0.50       150\n",
      "Non_Autistic       0.50      0.51      0.50       150\n",
      "\n",
      "    accuracy                           0.50       300\n",
      "   macro avg       0.50      0.50      0.50       300\n",
      "weighted avg       0.50      0.50      0.50       300\n",
      "\n",
      "\n",
      "Confusion Matrix:\n",
      "[[75 75]\n",
      " [74 76]]\n"
     ]
    },
    {
     "name": "stderr",
     "output_type": "stream",
     "text": [
      "\n"
     ]
    }
   ],
   "source": [
    "print(\"Evaluating CosFace model...\")\n",
    "cosface_test_acc, cosface_preds, cosface_labels = cosface_trainer.evaluate_model()"
   ]
  },
  {
   "cell_type": "code",
   "execution_count": 23,
   "id": "3aef3493",
   "metadata": {
    "execution": {
     "iopub.execute_input": "2025-09-08T13:08:20.006453Z",
     "iopub.status.busy": "2025-09-08T13:08:20.005769Z",
     "iopub.status.idle": "2025-09-08T13:08:21.295342Z",
     "shell.execute_reply": "2025-09-08T13:08:21.294580Z"
    },
    "papermill": {
     "duration": 1.459298,
     "end_time": "2025-09-08T13:08:21.297550",
     "exception": false,
     "start_time": "2025-09-08T13:08:19.838252",
     "status": "completed"
    },
    "tags": []
   },
   "outputs": [
    {
     "data": {
      "image/png": "[encoded data removed]",
      "text/plain": [
       "<Figure size 1500x1000 with 4 Axes>"
      ]
     },
     "metadata": {},
     "output_type": "display_data"
    }
   ],
   "source": [
    "cosface_trainer.plot_training_history(save_path='cosface_autism_dataset_training_history.png')"
   ]
  },
  {
   "cell_type": "markdown",
   "id": "3f56f279",
   "metadata": {
    "papermill": {
     "duration": 0.207964,
     "end_time": "2025-09-08T13:08:21.669727",
     "exception": false,
     "start_time": "2025-09-08T13:08:21.461763",
     "status": "completed"
    },
    "tags": []
   },
   "source": [
    "## Model Comparison and Results Summary"
   ]
  },
  {
   "cell_type": "code",
   "execution_count": 24,
   "id": "8fb71004",
   "metadata": {
    "execution": {
     "iopub.execute_input": "2025-09-08T13:08:21.993120Z",
     "iopub.status.busy": "2025-09-08T13:08:21.992827Z",
     "iopub.status.idle": "2025-09-08T13:08:22.552176Z",
     "shell.execute_reply": "2025-09-08T13:08:22.551293Z"
    },
    "papermill": {
     "duration": 0.720205,
     "end_time": "2025-09-08T13:08:22.554050",
     "exception": false,
     "start_time": "2025-09-08T13:08:21.833845",
     "status": "completed"
    },
    "tags": []
   },
   "outputs": [
    {
     "name": "stdout",
     "output_type": "stream",
     "text": [
      "ArcFace vs CosFace Results Summary:\n",
      "==================================================\n",
      "  Model  Test Accuracy (%)                Final Train Accuracy                  Final Val Accuracy                   Best Val Accuracy\n",
      "ArcFace              58.00 tensor(0.9529, dtype=torch.float64) tensor(0.5800, dtype=torch.float64) tensor(0.6100, dtype=torch.float64)\n",
      "CosFace              50.33 tensor(0.9723, dtype=torch.float64) tensor(0.3000, dtype=torch.float64) tensor(0.5400, dtype=torch.float64)\n"
     ]
    },
    {
     "data": {
      "image/png": "[encoded data removed]",
      "text/plain": [
       "<Figure size 1500x500 with 2 Axes>"
      ]
     },
     "metadata": {},
     "output_type": "display_data"
    }
   ],
   "source": [
    "# Create a comparison summary\n",
    "results_summary = {\n",
    "    'Model': ['ArcFace', 'CosFace'],\n",
    "    'Test Accuracy (%)': [arcface_test_acc, cosface_test_acc],\n",
    "    'Final Train Accuracy': [arcface_trainer.train_accuracies[-1], cosface_trainer.train_accuracies[-1]],\n",
    "    'Final Val Accuracy': [arcface_trainer.val_accuracies[-1], cosface_trainer.val_accuracies[-1]],\n",
    "    'Best Val Accuracy': [max(arcface_trainer.val_accuracies), max(cosface_trainer.val_accuracies)]\n",
    "}\n",
    "\n",
    "results_df = pd.DataFrame(results_summary)\n",
    "print(\"ArcFace vs CosFace Results Summary:\")\n",
    "print(\"=\" * 50)\n",
    "print(results_df.to_string(index=False, float_format='%.2f'))\n",
    "\n",
    "# Plot comparison\n",
    "fig, (ax1, ax2) = plt.subplots(1, 2, figsize=(15, 5))\n",
    "\n",
    "# Validation accuracy comparison\n",
    "ax1.plot(arcface_trainer.val_accuracies, label='ArcFace', marker='o')\n",
    "ax1.plot(cosface_trainer.val_accuracies, label='CosFace', marker='s')\n",
    "ax1.set_title('Validation Accuracy Comparison')\n",
    "ax1.set_xlabel('Epoch')\n",
    "ax1.set_ylabel('Accuracy')\n",
    "ax1.legend()\n",
    "ax1.grid(True)\n",
    "\n",
    "# Test accuracy bar plot\n",
    "models = ['ArcFace', 'CosFace']\n",
    "test_accs = [arcface_test_acc, cosface_test_acc]\n",
    "ax2.bar(models, test_accs, color=['blue', 'red'], alpha=0.7)\n",
    "ax2.set_title('Final Test Accuracy Comparison')\n",
    "ax2.set_ylabel('Test Accuracy (%)')\n",
    "ax2.set_ylim(0, 100)\n",
    "for i, acc in enumerate(test_accs):\n",
    "    ax2.text(i, acc + 1, f'{acc:.2f}%', ha='center')\n",
    "\n",
    "plt.tight_layout()\n",
    "plt.savefig('arcface_cosface_comparison.png')\n",
    "plt.show()"
   ]
  },
  {
   "cell_type": "markdown",
   "id": "a76ab3ca",
   "metadata": {
    "papermill": {
     "duration": 0.184003,
     "end_time": "2025-09-08T13:08:22.930055",
     "exception": false,
     "start_time": "2025-09-08T13:08:22.746052",
     "status": "completed"
    },
    "tags": []
   },
   "source": [
    "## Save Model Weights"
   ]
  },
  {
   "cell_type": "code",
   "execution_count": 25,
   "id": "49726018",
   "metadata": {
    "execution": {
     "iopub.execute_input": "2025-09-08T13:08:23.256559Z",
     "iopub.status.busy": "2025-09-08T13:08:23.255701Z",
     "iopub.status.idle": "2025-09-08T13:08:23.565752Z",
     "shell.execute_reply": "2025-09-08T13:08:23.564743Z"
    },
    "papermill": {
     "duration": 0.474934,
     "end_time": "2025-09-08T13:08:23.567059",
     "exception": false,
     "start_time": "2025-09-08T13:08:23.092125",
     "status": "completed"
    },
    "tags": []
   },
   "outputs": [
    {
     "name": "stdout",
     "output_type": "stream",
     "text": [
      "Model weights and label encoder saved successfully!\n",
      "Files saved:\n",
      "- final_arcface_autism_dataset.pth\n",
      "- final_cosface_autism_dataset.pth\n",
      "- label_encoder_autism_dataset.pkl\n",
      "- best_arcface_autism_dataset.pth\n",
      "- best_cosface_autism_dataset.pth\n"
     ]
    }
   ],
   "source": [
    "# Save final trained models\n",
    "torch.save(trained_arcface.state_dict(), 'final_arcface_autism_dataset.pth')\n",
    "torch.save(trained_cosface.state_dict(), 'final_cosface_autism_dataset.pth')\n",
    "\n",
    "# Save label encoder for future use\n",
    "import pickle\n",
    "with open('label_encoder_autism_dataset.pkl', 'wb') as f:\n",
    "    pickle.dump(le, f)\n",
    "\n",
    "print(\"Model weights and label encoder saved successfully!\")\n",
    "print(\"Files saved:\")\n",
    "print(\"- final_arcface_autism_dataset.pth\")\n",
    "print(\"- final_cosface_autism_dataset.pth\") \n",
    "print(\"- label_encoder_autism_dataset.pkl\")\n",
    "print(\"- best_arcface_autism_dataset.pth\")\n",
    "print(\"- best_cosface_autism_dataset.pth\")"
   ]
  }
 ],
 "metadata": {
  "kaggle": {
   "accelerator": "gpu",
   "dataSources": [
    {
     "datasetId": 564001,
     "sourceId": 1024609,
     "sourceType": "datasetVersion"
    }
   ],
   "dockerImageVersionId": 31089,
   "isGpuEnabled": true,
   "isInternetEnabled": true,
   "language": "python",
   "sourceType": "notebook"
  },
  "kernelspec": {
   "display_name": "Python 3",
   "language": "python",
   "name": "python3"
  },
  "language_info": {
   "codemirror_mode": {
    "name": "ipython",
    "version": 3
   },
   "file_extension": ".py",
   "mimetype": "text/x-python",
   "name": "python",
   "nbconvert_exporter": "python",
   "pygments_lexer": "ipython3",
   "version": "3.11.13"
  },
  "papermill": {
   "default_parameters": {},
   "duration": 362.3754,
   "end_time": "2025-09-08T13:08:26.053551",
   "environment_variables": {},
   "exception": null,
   "input_path": "__notebook__.ipynb",
   "output_path": "__notebook__.ipynb",
   "parameters": {},
   "start_time": "2025-09-08T13:02:23.678151",
   "version": "2.6.0"
  }
 },
 "nbformat": 4,
 "nbformat_minor": 5
}
