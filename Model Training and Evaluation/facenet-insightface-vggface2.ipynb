{
 "cells": [
  {
   "cell_type": "markdown",
   "id": "8bef013b",
   "metadata": {
    "papermill": {
     "duration": 0.005386,
     "end_time": "2025-09-08T12:32:02.207733",
     "exception": false,
     "start_time": "2025-09-08T12:32:02.202347",
     "status": "completed"
    },
    "tags": []
   },
   "source": [
    "# Facial Recognition Models for ASD Detection on AutismDataset\n",
    "\n",
    "Training FaceNet, VGGFace2, and InsightFace models for autism spectrum disorder detection using the AutismDataset.\n",
    "\n",
    "## Models to be trained:\n",
    "1. **FaceNet** - Using InceptionResnetV1 with VGGFace2 pretrained weights\n",
    "2. **VGGFace2** - ResNet50 backbone with face-specific modifications\n",
    "3. **InsightFace** - Deep supervision model with BatchNorm and embeddings\n",
    "\n",
    "These models are specifically designed for facial analysis and will be adapted for autism spectrum disorder detection."
   ]
  },
  {
   "cell_type": "markdown",
   "id": "e7ce61d1",
   "metadata": {
    "papermill": {
     "duration": 0.004092,
     "end_time": "2025-09-08T12:32:02.216287",
     "exception": false,
     "start_time": "2025-09-08T12:32:02.212195",
     "status": "completed"
    },
    "tags": []
   },
   "source": [
    "# Data Preprocessing and Setup"
   ]
  },
  {
   "cell_type": "code",
   "execution_count": 1,
   "id": "c7ff3711",
   "metadata": {
    "execution": {
     "iopub.execute_input": "2025-09-08T12:32:02.226026Z",
     "iopub.status.busy": "2025-09-08T12:32:02.225670Z",
     "iopub.status.idle": "2025-09-08T12:34:39.968350Z",
     "shell.execute_reply": "2025-09-08T12:34:39.967729Z"
    },
    "papermill": {
     "duration": 157.749176,
     "end_time": "2025-09-08T12:34:39.969718",
     "exception": false,
     "start_time": "2025-09-08T12:32:02.220542",
     "status": "completed"
    },
    "tags": []
   },
   "outputs": [
    {
     "name": "stdout",
     "output_type": "stream",
     "text": [
      "⚠️ facenet-pytorch not found. Installing...\n",
      "Collecting facenet-pytorch\n",
      "  Downloading facenet_pytorch-2.6.0-py3-none-any.whl.metadata (12 kB)\n",
      "Requirement already satisfied: numpy<2.0.0,>=1.24.0 in /usr/local/lib/python3.11/dist-packages (from facenet-pytorch) (1.26.4)\n",
      "Collecting Pillow<10.3.0,>=10.2.0 (from facenet-pytorch)\n",
      "  Downloading pillow-10.2.0-cp311-cp311-manylinux_2_28_x86_64.whl.metadata (9.7 kB)\n",
      "Requirement already satisfied: requests<3.0.0,>=2.0.0 in /usr/local/lib/python3.11/dist-packages (from facenet-pytorch) (2.32.4)\n",
      "Collecting torch<2.3.0,>=2.2.0 (from facenet-pytorch)\n",
      "  Downloading torch-2.2.2-cp311-cp311-manylinux1_x86_64.whl.metadata (25 kB)\n",
      "Collecting torchvision<0.18.0,>=0.17.0 (from facenet-pytorch)\n",
      "  Downloading torchvision-0.17.2-cp311-cp311-manylinux1_x86_64.whl.metadata (6.6 kB)\n",
      "Requirement already satisfied: tqdm<5.0.0,>=4.0.0 in /usr/local/lib/python3.11/dist-packages (from facenet-pytorch) (4.67.1)\n",
      "Requirement already satisfied: mkl_fft in /usr/local/lib/python3.11/dist-packages (from numpy<2.0.0,>=1.24.0->facenet-pytorch) (1.3.8)\n",
      "Requirement already satisfied: mkl_random in /usr/local/lib/python3.11/dist-packages (from numpy<2.0.0,>=1.24.0->facenet-pytorch) (1.2.4)\n",
      "Requirement already satisfied: mkl_umath in /usr/local/lib/python3.11/dist-packages (from numpy<2.0.0,>=1.24.0->facenet-pytorch) (0.1.1)\n",
      "Requirement already satisfied: mkl in /usr/local/lib/python3.11/dist-packages (from numpy<2.0.0,>=1.24.0->facenet-pytorch) (2025.2.0)\n",
      "Requirement already satisfied: tbb4py in /usr/local/lib/python3.11/dist-packages (from numpy<2.0.0,>=1.24.0->facenet-pytorch) (2022.2.0)\n",
      "Requirement already satisfied: mkl-service in /usr/local/lib/python3.11/dist-packages (from numpy<2.0.0,>=1.24.0->facenet-pytorch) (2.4.1)\n",
      "Requirement already satisfied: charset_normalizer<4,>=2 in /usr/local/lib/python3.11/dist-packages (from requests<3.0.0,>=2.0.0->facenet-pytorch) (3.4.2)\n",
      "Requirement already satisfied: idna<4,>=2.5 in /usr/local/lib/python3.11/dist-packages (from requests<3.0.0,>=2.0.0->facenet-pytorch) (3.10)\n",
      "Requirement already satisfied: urllib3<3,>=1.21.1 in /usr/local/lib/python3.11/dist-packages (from requests<3.0.0,>=2.0.0->facenet-pytorch) (2.5.0)\n",
      "Requirement already satisfied: certifi>=2017.4.17 in /usr/local/lib/python3.11/dist-packages (from requests<3.0.0,>=2.0.0->facenet-pytorch) (2025.6.15)\n",
      "Requirement already satisfied: filelock in /usr/local/lib/python3.11/dist-packages (from torch<2.3.0,>=2.2.0->facenet-pytorch) (3.18.0)\n",
      "Requirement already satisfied: typing-extensions>=4.8.0 in /usr/local/lib/python3.11/dist-packages (from torch<2.3.0,>=2.2.0->facenet-pytorch) (4.14.0)\n",
      "Requirement already satisfied: sympy in /usr/local/lib/python3.11/dist-packages (from torch<2.3.0,>=2.2.0->facenet-pytorch) (1.13.1)\n",
      "Requirement already satisfied: networkx in /usr/local/lib/python3.11/dist-packages (from torch<2.3.0,>=2.2.0->facenet-pytorch) (3.5)\n",
      "Requirement already satisfied: jinja2 in /usr/local/lib/python3.11/dist-packages (from torch<2.3.0,>=2.2.0->facenet-pytorch) (3.1.6)\n",
      "Requirement already satisfied: fsspec in /usr/local/lib/python3.11/dist-packages (from torch<2.3.0,>=2.2.0->facenet-pytorch) (2025.5.1)\n",
      "Collecting nvidia-cuda-nvrtc-cu12==12.1.105 (from torch<2.3.0,>=2.2.0->facenet-pytorch)\n",
      "  Downloading nvidia_cuda_nvrtc_cu12-12.1.105-py3-none-manylinux1_x86_64.whl.metadata (1.5 kB)\n",
      "Collecting nvidia-cuda-runtime-cu12==12.1.105 (from torch<2.3.0,>=2.2.0->facenet-pytorch)\n",
      "  Downloading nvidia_cuda_runtime_cu12-12.1.105-py3-none-manylinux1_x86_64.whl.metadata (1.5 kB)\n",
      "Collecting nvidia-cuda-cupti-cu12==12.1.105 (from torch<2.3.0,>=2.2.0->facenet-pytorch)\n",
      "  Downloading nvidia_cuda_cupti_cu12-12.1.105-py3-none-manylinux1_x86_64.whl.metadata (1.6 kB)\n",
      "Collecting nvidia-cudnn-cu12==8.9.2.26 (from torch<2.3.0,>=2.2.0->facenet-pytorch)\n",
      "  Downloading nvidia_cudnn_cu12-8.9.2.26-py3-none-manylinux1_x86_64.whl.metadata (1.6 kB)\n",
      "Collecting nvidia-cublas-cu12==12.1.3.1 (from torch<2.3.0,>=2.2.0->facenet-pytorch)\n",
      "  Downloading nvidia_cublas_cu12-12.1.3.1-py3-none-manylinux1_x86_64.whl.metadata (1.5 kB)\n",
      "Collecting nvidia-cufft-cu12==11.0.2.54 (from torch<2.3.0,>=2.2.0->facenet-pytorch)\n",
      "  Downloading nvidia_cufft_cu12-11.0.2.54-py3-none-manylinux1_x86_64.whl.metadata (1.5 kB)\n",
      "Collecting nvidia-curand-cu12==10.3.2.106 (from torch<2.3.0,>=2.2.0->facenet-pytorch)\n",
      "  Downloading nvidia_curand_cu12-10.3.2.106-py3-none-manylinux1_x86_64.whl.metadata (1.5 kB)\n",
      "Collecting nvidia-cusolver-cu12==11.4.5.107 (from torch<2.3.0,>=2.2.0->facenet-pytorch)\n",
      "  Downloading nvidia_cusolver_cu12-11.4.5.107-py3-none-manylinux1_x86_64.whl.metadata (1.6 kB)\n",
      "Collecting nvidia-cusparse-cu12==12.1.0.106 (from torch<2.3.0,>=2.2.0->facenet-pytorch)\n",
      "  Downloading nvidia_cusparse_cu12-12.1.0.106-py3-none-manylinux1_x86_64.whl.metadata (1.6 kB)\n",
      "Collecting nvidia-nccl-cu12==2.19.3 (from torch<2.3.0,>=2.2.0->facenet-pytorch)\n",
      "  Downloading nvidia_nccl_cu12-2.19.3-py3-none-manylinux1_x86_64.whl.metadata (1.8 kB)\n",
      "Collecting nvidia-nvtx-cu12==12.1.105 (from torch<2.3.0,>=2.2.0->facenet-pytorch)\n",
      "  Downloading nvidia_nvtx_cu12-12.1.105-py3-none-manylinux1_x86_64.whl.metadata (1.7 kB)\n",
      "Collecting triton==2.2.0 (from torch<2.3.0,>=2.2.0->facenet-pytorch)\n",
      "  Downloading triton-2.2.0-cp311-cp311-manylinux_2_17_x86_64.manylinux2014_x86_64.whl.metadata (1.4 kB)\n",
      "Requirement already satisfied: nvidia-nvjitlink-cu12 in /usr/local/lib/python3.11/dist-packages (from nvidia-cusolver-cu12==11.4.5.107->torch<2.3.0,>=2.2.0->facenet-pytorch) (12.5.82)\n",
      "Requirement already satisfied: MarkupSafe>=2.0 in /usr/local/lib/python3.11/dist-packages (from jinja2->torch<2.3.0,>=2.2.0->facenet-pytorch) (3.0.2)\n",
      "Requirement already satisfied: intel-openmp<2026,>=2024 in /usr/local/lib/python3.11/dist-packages (from mkl->numpy<2.0.0,>=1.24.0->facenet-pytorch) (2024.2.0)\n",
      "Requirement already satisfied: tbb==2022.* in /usr/local/lib/python3.11/dist-packages (from mkl->numpy<2.0.0,>=1.24.0->facenet-pytorch) (2022.2.0)\n",
      "Requirement already satisfied: tcmlib==1.* in /usr/local/lib/python3.11/dist-packages (from tbb==2022.*->mkl->numpy<2.0.0,>=1.24.0->facenet-pytorch) (1.4.0)\n",
      "Requirement already satisfied: intel-cmplr-lib-rt in /usr/local/lib/python3.11/dist-packages (from mkl_umath->numpy<2.0.0,>=1.24.0->facenet-pytorch) (2024.2.0)\n",
      "Requirement already satisfied: mpmath<1.4,>=1.1.0 in /usr/local/lib/python3.11/dist-packages (from sympy->torch<2.3.0,>=2.2.0->facenet-pytorch) (1.3.0)\n",
      "Requirement already satisfied: intel-cmplr-lib-ur==2024.2.0 in /usr/local/lib/python3.11/dist-packages (from intel-openmp<2026,>=2024->mkl->numpy<2.0.0,>=1.24.0->facenet-pytorch) (2024.2.0)\n",
      "Downloading facenet_pytorch-2.6.0-py3-none-any.whl (1.9 MB)\n",
      "   ━━━━━━━━━━━━━━━━━━━━━━━━━━━━━━━━━━━━━━━━ 1.9/1.9 MB 15.1 MB/s eta 0:00:00\n",
      "Downloading pillow-10.2.0-cp311-cp311-manylinux_2_28_x86_64.whl (4.5 MB)\n",
      "   ━━━━━━━━━━━━━━━━━━━━━━━━━━━━━━━━━━━━━━━━ 4.5/4.5 MB 70.2 MB/s eta 0:00:00\n",
      "Downloading torch-2.2.2-cp311-cp311-manylinux1_x86_64.whl (755.6 MB)\n",
      "   ━━━━━━━━━━━━━━━━━━━━━━━━━━━━━━━━━━━━━━━━ 755.6/755.6 MB 2.3 MB/s eta 0:00:00\n",
      "Downloading nvidia_cublas_cu12-12.1.3.1-py3-none-manylinux1_x86_64.whl (410.6 MB)\n",
      "   ━━━━━━━━━━━━━━━━━━━━━━━━━━━━━━━━━━━━━━━━ 410.6/410.6 MB 3.9 MB/s eta 0:00:00\n",
      "Downloading nvidia_cuda_cupti_cu12-12.1.105-py3-none-manylinux1_x86_64.whl (14.1 MB)\n",
      "   ━━━━━━━━━━━━━━━━━━━━━━━━━━━━━━━━━━━━━━━━ 14.1/14.1 MB 89.5 MB/s eta 0:00:00\n",
      "Downloading nvidia_cuda_nvrtc_cu12-12.1.105-py3-none-manylinux1_x86_64.whl (23.7 MB)\n",
      "   ━━━━━━━━━━━━━━━━━━━━━━━━━━━━━━━━━━━━━━━━ 23.7/23.7 MB 77.3 MB/s eta 0:00:00\n",
      "Downloading nvidia_cuda_runtime_cu12-12.1.105-py3-none-manylinux1_x86_64.whl (823 kB)\n",
      "   ━━━━━━━━━━━━━━━━━━━━━━━━━━━━━━━━━━━━━━━━ 823.6/823.6 kB 39.3 MB/s eta 0:00:00\n",
      "Downloading nvidia_cudnn_cu12-8.9.2.26-py3-none-manylinux1_x86_64.whl (731.7 MB)\n",
      "   ━━━━━━━━━━━━━━━━━━━━━━━━━━━━━━━━━━━━━━━ 731.7/731.7 MB 979.3 kB/s eta 0:00:00\n",
      "Downloading nvidia_cufft_cu12-11.0.2.54-py3-none-manylinux1_x86_64.whl (121.6 MB)\n",
      "   ━━━━━━━━━━━━━━━━━━━━━━━━━━━━━━━━━━━━━━━━ 121.6/121.6 MB 3.6 MB/s eta 0:00:00\n",
      "Downloading nvidia_curand_cu12-10.3.2.106-py3-none-manylinux1_x86_64.whl (56.5 MB)\n",
      "   ━━━━━━━━━━━━━━━━━━━━━━━━━━━━━━━━━━━━━━━━ 56.5/56.5 MB 30.7 MB/s eta 0:00:00\n",
      "Downloading nvidia_cusolver_cu12-11.4.5.107-py3-none-manylinux1_x86_64.whl (124.2 MB)\n",
      "   ━━━━━━━━━━━━━━━━━━━━━━━━━━━━━━━━━━━━━━━━ 124.2/124.2 MB 13.9 MB/s eta 0:00:00\n",
      "Downloading nvidia_cusparse_cu12-12.1.0.106-py3-none-manylinux1_x86_64.whl (196.0 MB)\n",
      "   ━━━━━━━━━━━━━━━━━━━━━━━━━━━━━━━━━━━━━━━━ 196.0/196.0 MB 8.6 MB/s eta 0:00:00\n",
      "Downloading nvidia_nccl_cu12-2.19.3-py3-none-manylinux1_x86_64.whl (166.0 MB)\n",
      "   ━━━━━━━━━━━━━━━━━━━━━━━━━━━━━━━━━━━━━━━━ 166.0/166.0 MB 10.2 MB/s eta 0:00:00\n",
      "Downloading nvidia_nvtx_cu12-12.1.105-py3-none-manylinux1_x86_64.whl (99 kB)\n",
      "   ━━━━━━━━━━━━━━━━━━━━━━━━━━━━━━━━━━━━━━━━ 99.1/99.1 kB 6.2 MB/s eta 0:00:00\n",
      "Downloading triton-2.2.0-cp311-cp311-manylinux_2_17_x86_64.manylinux2014_x86_64.whl (167.9 MB)\n",
      "   ━━━━━━━━━━━━━━━━━━━━━━━━━━━━━━━━━━━━━━━━ 167.9/167.9 MB 9.6 MB/s eta 0:00:00\n",
      "Downloading torchvision-0.17.2-cp311-cp311-manylinux1_x86_64.whl (6.9 MB)\n",
      "   ━━━━━━━━━━━━━━━━━━━━━━━━━━━━━━━━━━━━━━━━ 6.9/6.9 MB 82.3 MB/s eta 0:00:00\n",
      "Installing collected packages: triton, Pillow, nvidia-nvtx-cu12, nvidia-nccl-cu12, nvidia-cusparse-cu12, nvidia-curand-cu12, nvidia-cufft-cu12, nvidia-cuda-runtime-cu12, nvidia-cuda-nvrtc-cu12, nvidia-cuda-cupti-cu12, nvidia-cublas-cu12, nvidia-cusolver-cu12, nvidia-cudnn-cu12, torch, torchvision, facenet-pytorch\n",
      "  Attempting uninstall: triton\n",
      "    Found existing installation: triton 3.2.0\n",
      "    Uninstalling triton-3.2.0:\n",
      "      Successfully uninstalled triton-3.2.0\n",
      "  Attempting uninstall: Pillow\n",
      "    Found existing installation: pillow 11.2.1\n",
      "    Uninstalling pillow-11.2.1:\n",
      "      Successfully uninstalled pillow-11.2.1\n",
      "  Attempting uninstall: nvidia-nvtx-cu12\n",
      "    Found existing installation: nvidia-nvtx-cu12 12.4.127\n",
      "    Uninstalling nvidia-nvtx-cu12-12.4.127:\n",
      "      Successfully uninstalled nvidia-nvtx-cu12-12.4.127\n",
      "  Attempting uninstall: nvidia-nccl-cu12\n",
      "    Found existing installation: nvidia-nccl-cu12 2.21.5\n",
      "    Uninstalling nvidia-nccl-cu12-2.21.5:\n",
      "      Successfully uninstalled nvidia-nccl-cu12-2.21.5\n",
      "  Attempting uninstall: nvidia-cusparse-cu12\n",
      "    Found existing installation: nvidia-cusparse-cu12 12.5.1.3\n",
      "    Uninstalling nvidia-cusparse-cu12-12.5.1.3:\n",
      "      Successfully uninstalled nvidia-cusparse-cu12-12.5.1.3\n",
      "  Attempting uninstall: nvidia-curand-cu12\n",
      "    Found existing installation: nvidia-curand-cu12 10.3.6.82\n",
      "    Uninstalling nvidia-curand-cu12-10.3.6.82:\n",
      "      Successfully uninstalled nvidia-curand-cu12-10.3.6.82\n",
      "  Attempting uninstall: nvidia-cufft-cu12\n",
      "    Found existing installation: nvidia-cufft-cu12 11.2.3.61\n",
      "    Uninstalling nvidia-cufft-cu12-11.2.3.61:\n",
      "      Successfully uninstalled nvidia-cufft-cu12-11.2.3.61\n",
      "  Attempting uninstall: nvidia-cuda-runtime-cu12\n",
      "    Found existing installation: nvidia-cuda-runtime-cu12 12.5.82\n",
      "    Uninstalling nvidia-cuda-runtime-cu12-12.5.82:\n",
      "      Successfully uninstalled nvidia-cuda-runtime-cu12-12.5.82\n",
      "  Attempting uninstall: nvidia-cuda-nvrtc-cu12\n",
      "    Found existing installation: nvidia-cuda-nvrtc-cu12 12.5.82\n",
      "    Uninstalling nvidia-cuda-nvrtc-cu12-12.5.82:\n",
      "      Successfully uninstalled nvidia-cuda-nvrtc-cu12-12.5.82\n",
      "  Attempting uninstall: nvidia-cuda-cupti-cu12\n",
      "    Found existing installation: nvidia-cuda-cupti-cu12 12.5.82\n",
      "    Uninstalling nvidia-cuda-cupti-cu12-12.5.82:\n",
      "      Successfully uninstalled nvidia-cuda-cupti-cu12-12.5.82\n",
      "  Attempting uninstall: nvidia-cublas-cu12\n",
      "    Found existing installation: nvidia-cublas-cu12 12.5.3.2\n",
      "    Uninstalling nvidia-cublas-cu12-12.5.3.2:\n",
      "      Successfully uninstalled nvidia-cublas-cu12-12.5.3.2\n",
      "  Attempting uninstall: nvidia-cusolver-cu12\n",
      "    Found existing installation: nvidia-cusolver-cu12 11.6.3.83\n",
      "    Uninstalling nvidia-cusolver-cu12-11.6.3.83:\n",
      "      Successfully uninstalled nvidia-cusolver-cu12-11.6.3.83\n",
      "  Attempting uninstall: nvidia-cudnn-cu12\n",
      "    Found existing installation: nvidia-cudnn-cu12 9.3.0.75\n",
      "    Uninstalling nvidia-cudnn-cu12-9.3.0.75:\n",
      "      Successfully uninstalled nvidia-cudnn-cu12-9.3.0.75\n",
      "  Attempting uninstall: torch\n",
      "    Found existing installation: torch 2.6.0+cu124\n",
      "    Uninstalling torch-2.6.0+cu124:\n",
      "      Successfully uninstalled torch-2.6.0+cu124\n",
      "  Attempting uninstall: torchvision\n",
      "    Found existing installation: torchvision 0.21.0+cu124\n",
      "    Uninstalling torchvision-0.21.0+cu124:\n",
      "      Successfully uninstalled torchvision-0.21.0+cu124\n"
     ]
    },
    {
     "name": "stderr",
     "output_type": "stream",
     "text": [
      "ERROR: pip's dependency resolver does not currently take into account all the packages that are installed. This behaviour is the source of the following dependency conflicts.\n",
      "bigframes 2.8.0 requires google-cloud-bigquery-storage<3.0.0,>=2.30.0, which is not installed.\n",
      "dopamine-rl 4.1.2 requires gymnasium>=1.0.0, but you have gymnasium 0.29.0 which is incompatible.\n",
      "torchaudio 2.6.0+cu124 requires torch==2.6.0, but you have torch 2.2.2 which is incompatible.\n",
      "plotnine 0.14.5 requires matplotlib>=3.8.0, but you have matplotlib 3.7.2 which is incompatible.\n",
      "bigframes 2.8.0 requires google-cloud-bigquery[bqstorage,pandas]>=3.31.0, but you have google-cloud-bigquery 3.25.0 which is incompatible.\n",
      "bigframes 2.8.0 requires rich<14,>=12.4.4, but you have rich 14.0.0 which is incompatible.\n",
      "mlxtend 0.23.4 requires scikit-learn>=1.3.1, but you have scikit-learn 1.2.2 which is incompatible.\n"
     ]
    },
    {
     "name": "stdout",
     "output_type": "stream",
     "text": [
      "Successfully installed Pillow-10.2.0 facenet-pytorch-2.6.0 nvidia-cublas-cu12-12.1.3.1 nvidia-cuda-cupti-cu12-12.1.105 nvidia-cuda-nvrtc-cu12-12.1.105 nvidia-cuda-runtime-cu12-12.1.105 nvidia-cudnn-cu12-8.9.2.26 nvidia-cufft-cu12-11.0.2.54 nvidia-curand-cu12-10.3.2.106 nvidia-cusolver-cu12-11.4.5.107 nvidia-cusparse-cu12-12.1.0.106 nvidia-nccl-cu12-2.19.3 nvidia-nvtx-cu12-12.1.105 torch-2.2.2 torchvision-0.17.2 triton-2.2.0\n"
     ]
    }
   ],
   "source": [
    "import pandas as pd\n",
    "import numpy as np\n",
    "import torch\n",
    "import torch.nn as nn\n",
    "import torch.nn.functional as F\n",
    "from sklearn.preprocessing import LabelEncoder\n",
    "from torch.utils.data import Dataset, DataLoader\n",
    "from torchvision import transforms\n",
    "from PIL import Image\n",
    "import torch.optim as optim\n",
    "import torchvision.models as models\n",
    "import time\n",
    "import copy\n",
    "import matplotlib.pyplot as plt\n",
    "from tqdm import tqdm\n",
    "import os\n",
    "from sklearn.metrics import accuracy_score, classification_report, confusion_matrix\n",
    "import math\n",
    "import glob\n",
    "from sklearn.model_selection import train_test_split\n",
    "\n",
    "# Install facenet-pytorch if needed\n",
    "try:\n",
    "    from facenet_pytorch import InceptionResnetV1\n",
    "    print(\"✓ facenet-pytorch is available\")\n",
    "except ImportError:\n",
    "    print(\"⚠️ facenet-pytorch not found. Installing...\")\n",
    "    import subprocess\n",
    "    subprocess.check_call([\"pip\", \"install\", \"facenet-pytorch\"])\n",
    "    from facenet_pytorch import InceptionResnetV1\n",
    "\n",
    "import timm"
   ]
  },
  {
   "cell_type": "markdown",
   "id": "470c4608",
   "metadata": {
    "papermill": {
     "duration": 0.006912,
     "end_time": "2025-09-08T12:34:39.983697",
     "exception": false,
     "start_time": "2025-09-08T12:34:39.976785",
     "status": "completed"
    },
    "tags": []
   },
   "source": [
    "## Facial Recognition Specific Transformations\n",
    "\n",
    "Face-specific preprocessing that maintains facial features while providing augmentation suitable for facial recognition models."
   ]
  },
  {
   "cell_type": "code",
   "execution_count": 2,
   "id": "8394f048",
   "metadata": {
    "execution": {
     "iopub.execute_input": "2025-09-08T12:34:39.998761Z",
     "iopub.status.busy": "2025-09-08T12:34:39.998482Z",
     "iopub.status.idle": "2025-09-08T12:34:40.005131Z",
     "shell.execute_reply": "2025-09-08T12:34:40.004483Z"
    },
    "papermill": {
     "duration": 0.015555,
     "end_time": "2025-09-08T12:34:40.006308",
     "exception": false,
     "start_time": "2025-09-08T12:34:39.990753",
     "status": "completed"
    },
    "tags": []
   },
   "outputs": [],
   "source": [
    "# Face-specific transformations without augmentation to preserve facial features\n",
    "face_train_transform = transforms.Compose([\n",
    "    transforms.Resize((160, 160)),  # Standard face recognition input size\n",
    "    transforms.ToTensor(),\n",
    "    transforms.ConvertImageDtype(torch.float),\n",
    "    transforms.Normalize(mean=[0.5, 0.5, 0.5], std=[0.5, 0.5, 0.5])  # Face-specific normalization\n",
    "])\n",
    "\n",
    "face_val_test_transform = transforms.Compose([\n",
    "    transforms.Resize((160, 160)),\n",
    "    transforms.ToTensor(),\n",
    "    transforms.ConvertImageDtype(torch.float),\n",
    "    transforms.Normalize(mean=[0.5, 0.5, 0.5], std=[0.5, 0.5, 0.5])\n",
    "])\n",
    "\n",
    "# VGGFace2 specific transforms (224x224)\n",
    "vggface_train_transform = transforms.Compose([\n",
    "    transforms.Resize((224, 224)),\n",
    "    transforms.ToTensor(),\n",
    "    transforms.ConvertImageDtype(torch.float),\n",
    "    transforms.Normalize(mean=[0.485, 0.456, 0.406], std=[0.229, 0.224, 0.225])\n",
    "])\n",
    "\n",
    "vggface_val_test_transform = transforms.Compose([\n",
    "    transforms.Resize((224, 224)),\n",
    "    transforms.ToTensor(),\n",
    "    transforms.ConvertImageDtype(torch.float),\n",
    "    transforms.Normalize(mean=[0.485, 0.456, 0.406], std=[0.229, 0.224, 0.225])\n",
    "])"
   ]
  },
  {
   "cell_type": "markdown",
   "id": "557626ae",
   "metadata": {
    "papermill": {
     "duration": 0.007958,
     "end_time": "2025-09-08T12:34:40.021104",
     "exception": false,
     "start_time": "2025-09-08T12:34:40.013146",
     "status": "completed"
    },
    "tags": []
   },
   "source": [
    "## Dataset Loading and Preprocessing\n",
    "\n",
    "Loading the AutismDataset with the mixed folder structure we identified earlier."
   ]
  },
  {
   "cell_type": "code",
   "execution_count": 3,
   "id": "e82e8090",
   "metadata": {
    "execution": {
     "iopub.execute_input": "2025-09-08T12:34:40.036010Z",
     "iopub.status.busy": "2025-09-08T12:34:40.035368Z",
     "iopub.status.idle": "2025-09-08T12:34:40.118425Z",
     "shell.execute_reply": "2025-09-08T12:34:40.117610Z"
    },
    "papermill": {
     "duration": 0.091796,
     "end_time": "2025-09-08T12:34:40.119706",
     "exception": false,
     "start_time": "2025-09-08T12:34:40.027910",
     "status": "completed"
    },
    "tags": []
   },
   "outputs": [
    {
     "name": "stdout",
     "output_type": "stream",
     "text": [
      "Training samples: 2540\n",
      "  - Autistic: 1270\n",
      "  - Non_Autistic: 1270\n",
      "Validation samples: 100\n",
      "  - Autistic: 50\n",
      "  - Non_Autistic: 50\n",
      "Test samples: 300\n",
      "  - Autistic: 150\n",
      "  - Non_Autistic: 150\n",
      "Classes: ['Autistic' 'Non_Autistic']\n"
     ]
    }
   ],
   "source": [
    "def create_dataset_from_folders():\n",
    "    \"\"\"\n",
    "    Create dataset from AutismDataset folder structure\n",
    "    Returns train, validation, and test splits\n",
    "    \n",
    "    Dataset structure:\n",
    "    - train/: Mixed files (Autistic.X.jpg and Non_Autistic.X.jpg)\n",
    "    - test/: Mixed files (Autistic.X.jpg and Non_Autistic.X.jpg) \n",
    "    - valid/: Subdirectories (Autistic/ and Non_Autistic/)\n",
    "    \"\"\"\n",
    "    base_path = '/kaggle/input/autism-image-data/AutismDataset'\n",
    "    \n",
    "    # Train and Test folders have mixed structure (files named by class)\n",
    "    autistic_train = glob.glob(os.path.join(base_path, 'train', 'Autistic.*.jpg'))\n",
    "    non_autistic_train = glob.glob(os.path.join(base_path, 'train', 'Non_Autistic.*.jpg'))\n",
    "    \n",
    "    autistic_test = glob.glob(os.path.join(base_path, 'test', 'Autistic.*.jpg'))\n",
    "    non_autistic_test = glob.glob(os.path.join(base_path, 'test', 'Non_Autistic.*.jpg'))\n",
    "    \n",
    "    # Valid folder has subdirectory structure\n",
    "    autistic_valid = glob.glob(os.path.join(base_path, 'valid', 'Autistic', '*.jpg'))\n",
    "    non_autistic_valid = glob.glob(os.path.join(base_path, 'valid', 'Non_Autistic', '*.jpg'))\n",
    "    \n",
    "    # Create dataframes\n",
    "    train_data = []\n",
    "    train_data.extend([(path, 'Autistic') for path in autistic_train])\n",
    "    train_data.extend([(path, 'Non_Autistic') for path in non_autistic_train])\n",
    "    \n",
    "    test_data = []\n",
    "    test_data.extend([(path, 'Autistic') for path in autistic_test])\n",
    "    test_data.extend([(path, 'Non_Autistic') for path in non_autistic_test])\n",
    "    \n",
    "    valid_data = []\n",
    "    valid_data.extend([(path, 'Autistic') for path in autistic_valid])\n",
    "    valid_data.extend([(path, 'Non_Autistic') for path in non_autistic_valid])\n",
    "    \n",
    "    # Convert to DataFrames\n",
    "    train_df = pd.DataFrame(train_data, columns=['image_path', 'labels'])\n",
    "    test_df = pd.DataFrame(test_data, columns=['image_path', 'labels'])\n",
    "    valid_df = pd.DataFrame(valid_data, columns=['image_path', 'labels'])\n",
    "    \n",
    "    # Display dataset statistics\n",
    "    print(f\"Training samples: {len(train_df)}\")\n",
    "    print(f\"  - Autistic: {len([x for x in train_data if x[1] == 'Autistic'])}\")\n",
    "    print(f\"  - Non_Autistic: {len([x for x in train_data if x[1] == 'Non_Autistic'])}\")\n",
    "    \n",
    "    print(f\"Validation samples: {len(valid_df)}\")\n",
    "    print(f\"  - Autistic: {len([x for x in valid_data if x[1] == 'Autistic'])}\")\n",
    "    print(f\"  - Non_Autistic: {len([x for x in valid_data if x[1] == 'Non_Autistic'])}\")\n",
    "    \n",
    "    print(f\"Test samples: {len(test_df)}\")\n",
    "    print(f\"  - Autistic: {len([x for x in test_data if x[1] == 'Autistic'])}\")\n",
    "    print(f\"  - Non_Autistic: {len([x for x in test_data if x[1] == 'Non_Autistic'])}\")\n",
    "    \n",
    "    print(f\"Classes: {train_df['labels'].unique()}\")\n",
    "    \n",
    "    return train_df, valid_df, test_df\n",
    "\n",
    "# Create the dataset\n",
    "train_df, valid_df, test_df = create_dataset_from_folders()"
   ]
  },
  {
   "cell_type": "markdown",
   "id": "3fe08206",
   "metadata": {
    "papermill": {
     "duration": 0.006299,
     "end_time": "2025-09-08T12:34:40.132718",
     "exception": false,
     "start_time": "2025-09-08T12:34:40.126419",
     "status": "completed"
    },
    "tags": []
   },
   "source": [
    "## Custom Dataset Class for Facial Recognition"
   ]
  },
  {
   "cell_type": "code",
   "execution_count": 4,
   "id": "462a7665",
   "metadata": {
    "execution": {
     "iopub.execute_input": "2025-09-08T12:34:40.146864Z",
     "iopub.status.busy": "2025-09-08T12:34:40.146183Z",
     "iopub.status.idle": "2025-09-08T12:34:40.153631Z",
     "shell.execute_reply": "2025-09-08T12:34:40.152931Z"
    },
    "papermill": {
     "duration": 0.015513,
     "end_time": "2025-09-08T12:34:40.154684",
     "exception": false,
     "start_time": "2025-09-08T12:34:40.139171",
     "status": "completed"
    },
    "tags": []
   },
   "outputs": [],
   "source": [
    "BATCH_SIZE = 16\n",
    "NUM_WORKERS = 4\n",
    "\n",
    "class FacialRecognitionDataset(Dataset):\n",
    "    def __init__(self, dataframe, transform=None, label_encoder=None, fit_label_encoder=False):\n",
    "        \"\"\"\n",
    "        Args:\n",
    "            dataframe (pd.DataFrame): DataFrame with 'image_path' and 'labels' columns\n",
    "            transform (callable, optional): Optional transform to be applied on a sample.\n",
    "            label_encoder (LabelEncoder, optional): Pre-fitted label encoder. If None, creates new one.\n",
    "            fit_label_encoder (bool): Whether to fit the label encoder on this dataset's labels.\n",
    "        \"\"\"\n",
    "        self.data = dataframe\n",
    "        self.transform = transform\n",
    "        \n",
    "        if label_encoder is None:\n",
    "            self.label_encoder = LabelEncoder()\n",
    "            if fit_label_encoder:\n",
    "                self.labels = self.label_encoder.fit_transform(self.data['labels'])\n",
    "            else:\n",
    "                raise ValueError(\"Must provide label_encoder or set fit_label_encoder=True\")\n",
    "        else:\n",
    "            self.label_encoder = label_encoder\n",
    "            self.labels = self.label_encoder.transform(self.data['labels'])\n",
    "        \n",
    "        self.image_paths = self.data['image_path'].tolist()\n",
    "        \n",
    "    def __len__(self):\n",
    "        return len(self.data)\n",
    "    \n",
    "    def __getitem__(self, idx):\n",
    "        if torch.is_tensor(idx):\n",
    "            idx = idx.tolist()\n",
    "        \n",
    "        # Load image\n",
    "        img_path = self.image_paths[idx]\n",
    "        try:\n",
    "            image = Image.open(img_path).convert('RGB')\n",
    "        except Exception as e:\n",
    "            print(f\"Error loading {img_path}: {e}\")\n",
    "            # Create a black placeholder image if file is missing/corrupted\n",
    "            image = Image.new('RGB', (160, 160), color='black')  # Face-specific default size\n",
    "        \n",
    "        label = self.labels[idx]\n",
    "        \n",
    "        if self.transform:\n",
    "            image = self.transform(image)\n",
    "        \n",
    "        return image, torch.tensor(label, dtype=torch.long)\n",
    "    \n",
    "    def get_label_encoder(self):\n",
    "        \"\"\"Return the label encoder for use with other datasets\"\"\"\n",
    "        return self.label_encoder\n",
    "    \n",
    "    def get_class_names(self):\n",
    "        \"\"\"Return the original class names\"\"\"\n",
    "        return self.label_encoder.classes_"
   ]
  },
  {
   "cell_type": "code",
   "execution_count": 5,
   "id": "619664ef",
   "metadata": {
    "execution": {
     "iopub.execute_input": "2025-09-08T12:34:40.168478Z",
     "iopub.status.busy": "2025-09-08T12:34:40.167749Z",
     "iopub.status.idle": "2025-09-08T12:34:40.172490Z",
     "shell.execute_reply": "2025-09-08T12:34:40.171991Z"
    },
    "papermill": {
     "duration": 0.012482,
     "end_time": "2025-09-08T12:34:40.173442",
     "exception": false,
     "start_time": "2025-09-08T12:34:40.160960",
     "status": "completed"
    },
    "tags": []
   },
   "outputs": [],
   "source": [
    "# Create datasets with face-specific transforms\n",
    "def create_face_datasets(train_df, val_df, test_df, transform_type='facenet'):\n",
    "    \"\"\"\n",
    "    Create train, validation, and test datasets with proper label encoding\n",
    "    \"\"\"\n",
    "    if transform_type == 'facenet':\n",
    "        train_transform = face_train_transform\n",
    "        val_test_transform = face_val_test_transform\n",
    "    elif transform_type == 'vggface':\n",
    "        train_transform = vggface_train_transform\n",
    "        val_test_transform = vggface_val_test_transform\n",
    "    else:\n",
    "        raise ValueError(\"transform_type must be 'facenet' or 'vggface'\")\n",
    "\n",
    "    train_dataset = FacialRecognitionDataset(\n",
    "        dataframe=train_df, \n",
    "        transform=train_transform,\n",
    "        fit_label_encoder=True  \n",
    "    )\n",
    "    \n",
    "    le = train_dataset.get_label_encoder()\n",
    "    \n",
    "    val_dataset = FacialRecognitionDataset(\n",
    "        dataframe=val_df,\n",
    "        transform=val_test_transform,\n",
    "        label_encoder=le\n",
    "    )\n",
    "    \n",
    "    test_dataset = FacialRecognitionDataset(\n",
    "        dataframe=test_df,\n",
    "        transform=val_test_transform,\n",
    "        label_encoder=le\n",
    "    )\n",
    "    \n",
    "    return train_dataset, val_dataset, test_dataset, le"
   ]
  },
  {
   "cell_type": "code",
   "execution_count": 6,
   "id": "cf10906f",
   "metadata": {
    "execution": {
     "iopub.execute_input": "2025-09-08T12:34:40.187022Z",
     "iopub.status.busy": "2025-09-08T12:34:40.186810Z",
     "iopub.status.idle": "2025-09-08T12:34:40.191062Z",
     "shell.execute_reply": "2025-09-08T12:34:40.190392Z"
    },
    "papermill": {
     "duration": 0.012203,
     "end_time": "2025-09-08T12:34:40.192085",
     "exception": false,
     "start_time": "2025-09-08T12:34:40.179882",
     "status": "completed"
    },
    "tags": []
   },
   "outputs": [],
   "source": [
    "# Create dataloaders\n",
    "def create_dataloaders(train_dataset, val_dataset, test_dataset, batch_size=BATCH_SIZE, num_workers=NUM_WORKERS):\n",
    "    \"\"\"\n",
    "    Create dataloaders for training, validation, and testing\n",
    "    \"\"\"\n",
    "    train_loader = DataLoader(\n",
    "        train_dataset,\n",
    "        batch_size=batch_size,\n",
    "        shuffle=True,\n",
    "        num_workers=num_workers,\n",
    "        pin_memory=True,\n",
    "        drop_last=True\n",
    "    )\n",
    "    \n",
    "    val_loader = DataLoader(\n",
    "        val_dataset,\n",
    "        batch_size=batch_size,\n",
    "        shuffle=False,\n",
    "        num_workers=num_workers,\n",
    "        pin_memory=True\n",
    "    )\n",
    "    \n",
    "    test_loader = DataLoader(\n",
    "        test_dataset,\n",
    "        batch_size=batch_size,\n",
    "        shuffle=False,\n",
    "        num_workers=num_workers,\n",
    "        pin_memory=True\n",
    "    )\n",
    "    \n",
    "    return train_loader, val_loader, test_loader"
   ]
  },
  {
   "cell_type": "markdown",
   "id": "079c112e",
   "metadata": {
    "papermill": {
     "duration": 0.006254,
     "end_time": "2025-09-08T12:34:40.204660",
     "exception": false,
     "start_time": "2025-09-08T12:34:40.198406",
     "status": "completed"
    },
    "tags": []
   },
   "source": [
    "# Facial Recognition Model Architectures"
   ]
  },
  {
   "cell_type": "markdown",
   "id": "acebef4e",
   "metadata": {
    "papermill": {
     "duration": 0.006078,
     "end_time": "2025-09-08T12:34:40.217133",
     "exception": false,
     "start_time": "2025-09-08T12:34:40.211055",
     "status": "completed"
    },
    "tags": []
   },
   "source": [
    "## 1. FaceNet Model"
   ]
  },
  {
   "cell_type": "code",
   "execution_count": 7,
   "id": "c2d0f4ea",
   "metadata": {
    "execution": {
     "iopub.execute_input": "2025-09-08T12:34:40.230965Z",
     "iopub.status.busy": "2025-09-08T12:34:40.230453Z",
     "iopub.status.idle": "2025-09-08T12:34:40.236045Z",
     "shell.execute_reply": "2025-09-08T12:34:40.235211Z"
    },
    "papermill": {
     "duration": 0.013922,
     "end_time": "2025-09-08T12:34:40.237357",
     "exception": false,
     "start_time": "2025-09-08T12:34:40.223435",
     "status": "completed"
    },
    "tags": []
   },
   "outputs": [],
   "source": [
    "def create_facenet_model(num_classes=2, pretrained=True, embedding_size=512):\n",
    "    \"\"\"Create FaceNet model using InceptionResnetV1\"\"\"\n",
    "    \n",
    "    class FaceNetClassifier(nn.Module):\n",
    "        def __init__(self, num_classes, pretrained=True, embedding_size=512):\n",
    "            super(FaceNetClassifier, self).__init__()\n",
    "            # Load pretrained FaceNet model\n",
    "            self.facenet = InceptionResnetV1(pretrained='vggface2' if pretrained else None, \n",
    "                                           classify=False, \n",
    "                                           num_classes=None)\n",
    "            \n",
    "            # Add classification head\n",
    "            self.classifier = nn.Sequential(\n",
    "                nn.Dropout(0.5),\n",
    "                nn.Linear(embedding_size, 256),\n",
    "                nn.ReLU(),\n",
    "                nn.Dropout(0.3),\n",
    "                nn.Linear(256, num_classes)\n",
    "            )\n",
    "            \n",
    "        def forward(self, x):\n",
    "            # Get embeddings from FaceNet\n",
    "            embeddings = self.facenet(x)\n",
    "            # Classify using our head\n",
    "            output = self.classifier(embeddings)\n",
    "            return output\n",
    "    \n",
    "    return FaceNetClassifier(num_classes, pretrained, embedding_size)"
   ]
  },
  {
   "cell_type": "markdown",
   "id": "cb8bafa4",
   "metadata": {
    "papermill": {
     "duration": 0.006102,
     "end_time": "2025-09-08T12:34:40.249914",
     "exception": false,
     "start_time": "2025-09-08T12:34:40.243812",
     "status": "completed"
    },
    "tags": []
   },
   "source": [
    "## 2. VGGFace2 Model"
   ]
  },
  {
   "cell_type": "code",
   "execution_count": 8,
   "id": "ba687b52",
   "metadata": {
    "execution": {
     "iopub.execute_input": "2025-09-08T12:34:40.263356Z",
     "iopub.status.busy": "2025-09-08T12:34:40.263124Z",
     "iopub.status.idle": "2025-09-08T12:34:40.267313Z",
     "shell.execute_reply": "2025-09-08T12:34:40.266664Z"
    },
    "papermill": {
     "duration": 0.012076,
     "end_time": "2025-09-08T12:34:40.268407",
     "exception": false,
     "start_time": "2025-09-08T12:34:40.256331",
     "status": "completed"
    },
    "tags": []
   },
   "outputs": [],
   "source": [
    "def create_vggface2_model(num_classes=2, pretrained=True):\n",
    "    \"\"\"Create VGGFace2 model using ResNet50 backbone\"\"\"\n",
    "    # Use ResNet50 as backbone (commonly used for VGGFace2)\n",
    "    model = models.resnet50(pretrained=pretrained)\n",
    "    \n",
    "    # Modify for face recognition\n",
    "    num_features = model.fc.in_features\n",
    "    model.fc = nn.Sequential(\n",
    "        nn.Dropout(0.5),\n",
    "        nn.Linear(num_features, 512),\n",
    "        nn.BatchNorm1d(512),\n",
    "        nn.ReLU(),\n",
    "        nn.Dropout(0.5),\n",
    "        nn.Linear(512, num_classes)\n",
    "    )\n",
    "    \n",
    "    return model"
   ]
  },
  {
   "cell_type": "markdown",
   "id": "be558aaa",
   "metadata": {
    "papermill": {
     "duration": 0.006182,
     "end_time": "2025-09-08T12:34:40.280799",
     "exception": false,
     "start_time": "2025-09-08T12:34:40.274617",
     "status": "completed"
    },
    "tags": []
   },
   "source": [
    "## 3. InsightFace Model"
   ]
  },
  {
   "cell_type": "code",
   "execution_count": 9,
   "id": "feeff4a6",
   "metadata": {
    "execution": {
     "iopub.execute_input": "2025-09-08T12:34:40.294288Z",
     "iopub.status.busy": "2025-09-08T12:34:40.293866Z",
     "iopub.status.idle": "2025-09-08T12:34:40.299390Z",
     "shell.execute_reply": "2025-09-08T12:34:40.298904Z"
    },
    "papermill": {
     "duration": 0.013375,
     "end_time": "2025-09-08T12:34:40.300483",
     "exception": false,
     "start_time": "2025-09-08T12:34:40.287108",
     "status": "completed"
    },
    "tags": []
   },
   "outputs": [],
   "source": [
    "def create_insightface_model(num_classes=2, pretrained=True, embedding_size=512):\n",
    "    \"\"\"Create InsightFace-style model with deep supervision\"\"\"\n",
    "    base_model = models.resnet50(pretrained=pretrained)\n",
    "    \n",
    "    class InsightFaceModel(nn.Module):\n",
    "        def __init__(self, base_model, embedding_size, num_classes):\n",
    "            super(InsightFaceModel, self).__init__()\n",
    "            self.backbone = nn.Sequential(*list(base_model.children())[:-1])\n",
    "            self.flatten = nn.Flatten()\n",
    "            self.bn1 = nn.BatchNorm1d(2048)\n",
    "            self.dropout = nn.Dropout(0.5)\n",
    "            self.fc1 = nn.Linear(2048, embedding_size)\n",
    "            self.bn2 = nn.BatchNorm1d(embedding_size)\n",
    "            self.fc2 = nn.Linear(embedding_size, num_classes)\n",
    "            \n",
    "        def forward(self, x):\n",
    "            x = self.backbone(x)\n",
    "            x = self.flatten(x)\n",
    "            x = self.bn1(x)\n",
    "            x = self.dropout(x)\n",
    "            embeddings = self.fc1(x)\n",
    "            embeddings = self.bn2(embeddings)\n",
    "            output = self.fc2(embeddings)\n",
    "            return output\n",
    "    \n",
    "    return InsightFaceModel(base_model, embedding_size, num_classes)"
   ]
  },
  {
   "cell_type": "markdown",
   "id": "902075ea",
   "metadata": {
    "papermill": {
     "duration": 0.006014,
     "end_time": "2025-09-08T12:34:40.312754",
     "exception": false,
     "start_time": "2025-09-08T12:34:40.306740",
     "status": "completed"
    },
    "tags": []
   },
   "source": [
    "# Training and Evaluation Framework"
   ]
  },
  {
   "cell_type": "code",
   "execution_count": 10,
   "id": "50c8fedf",
   "metadata": {
    "execution": {
     "iopub.execute_input": "2025-09-08T12:34:40.326529Z",
     "iopub.status.busy": "2025-09-08T12:34:40.326138Z",
     "iopub.status.idle": "2025-09-08T12:34:40.345171Z",
     "shell.execute_reply": "2025-09-08T12:34:40.344654Z"
    },
    "papermill": {
     "duration": 0.027037,
     "end_time": "2025-09-08T12:34:40.346109",
     "exception": false,
     "start_time": "2025-09-08T12:34:40.319072",
     "status": "completed"
    },
    "tags": []
   },
   "outputs": [],
   "source": [
    "class FacialRecognitionTrainer:\n",
    "    def __init__(self, model, train_loader, val_loader, test_loader, device='cuda', use_margin_loss=False):\n",
    "        self.model = model.to(device)\n",
    "        self.train_loader = train_loader\n",
    "        self.val_loader = val_loader\n",
    "        self.test_loader = test_loader\n",
    "        self.device = device\n",
    "        self.use_margin_loss = use_margin_loss\n",
    "        \n",
    "        # Store label encoder from dataset\n",
    "        try:\n",
    "            self.label_encoder = train_loader.dataset.get_label_encoder()\n",
    "        except:\n",
    "            self.label_encoder = None\n",
    "        \n",
    "        # Training history\n",
    "        self.train_losses = []\n",
    "        self.val_losses = []\n",
    "        self.train_accuracies = []\n",
    "        self.val_accuracies = []\n",
    "        \n",
    "    def train_model(self, num_epochs=25, lr=0.001, weight_decay=1e-4, save_best=True, model_name=\"face_model\"):\n",
    "        \"\"\"Train the facial recognition model\"\"\"\n",
    "        \n",
    "        # Loss function and optimizer\n",
    "        criterion = nn.CrossEntropyLoss()\n",
    "        optimizer = optim.Adam(self.model.parameters(), lr=lr, weight_decay=weight_decay)\n",
    "        scheduler = optim.lr_scheduler.StepLR(optimizer, step_size=10, gamma=0.1)\n",
    "        \n",
    "        # Best model tracking\n",
    "        best_val_acc = 0.0\n",
    "        best_model_wts = copy.deepcopy(self.model.state_dict())\n",
    "        patience = 7\n",
    "        patience_counter = 0\n",
    "        \n",
    "        print(f\"Starting training for {num_epochs} epochs...\")\n",
    "        print(\"-\" * 60)\n",
    "        \n",
    "        start_time = time.time()\n",
    "        \n",
    "        for epoch in range(num_epochs):\n",
    "            print(f'Epoch {epoch+1}/{num_epochs}')\n",
    "            print('-' * 10)\n",
    "            \n",
    "            # Each epoch has a training and validation phase\n",
    "            for phase in ['train', 'val']:\n",
    "                if phase == 'train':\n",
    "                    self.model.train()\n",
    "                    dataloader = self.train_loader\n",
    "                else:\n",
    "                    self.model.eval()\n",
    "                    dataloader = self.val_loader\n",
    "                \n",
    "                running_loss = 0.0\n",
    "                running_corrects = 0\n",
    "                total_samples = 0\n",
    "                \n",
    "                # Progress bar\n",
    "                pbar = tqdm(dataloader, desc=f'{phase.capitalize()} ')\n",
    "                \n",
    "                for inputs, labels in pbar:\n",
    "                    inputs = inputs.to(self.device)\n",
    "                    labels = labels.to(self.device)\n",
    "                    \n",
    "                    # Zero gradients\n",
    "                    optimizer.zero_grad()\n",
    "                    \n",
    "                    # Forward pass\n",
    "                    with torch.set_grad_enabled(phase == 'train'):\n",
    "                        if self.use_margin_loss and phase == 'train':\n",
    "                            # For ArcFace/CosFace models\n",
    "                            outputs = self.model(inputs, labels)\n",
    "                        else:\n",
    "                            outputs = self.model(inputs)\n",
    "                        \n",
    "                        _, preds = torch.max(outputs, 1)\n",
    "                        loss = criterion(outputs, labels)\n",
    "                        \n",
    "                        # Backward pass (only in training)\n",
    "                        if phase == 'train':\n",
    "                            loss.backward()\n",
    "                            optimizer.step()\n",
    "                    \n",
    "                    # Statistics\n",
    "                    running_loss += loss.item() * inputs.size(0)\n",
    "                    running_corrects += torch.sum(preds == labels.data)\n",
    "                    total_samples += inputs.size(0)\n",
    "                    \n",
    "                    # Update progress bar\n",
    "                    current_acc = running_corrects.double() / total_samples\n",
    "                    pbar.set_postfix({\n",
    "                        'Loss': f'{running_loss/total_samples:.4f}',\n",
    "                        'Acc': f'{current_acc:.4f}'\n",
    "                    })\n",
    "                \n",
    "                # Calculate epoch metrics\n",
    "                epoch_loss = running_loss / total_samples\n",
    "                epoch_acc = running_corrects.double() / total_samples\n",
    "                \n",
    "                print(f'{phase.capitalize()} Loss: {epoch_loss:.4f} Acc: {epoch_acc:.4f}')\n",
    "                \n",
    "                # Store metrics\n",
    "                if phase == 'train':\n",
    "                    self.train_losses.append(epoch_loss)\n",
    "                    self.train_accuracies.append(epoch_acc.cpu())\n",
    "                else:\n",
    "                    self.val_losses.append(epoch_loss)\n",
    "                    self.val_accuracies.append(epoch_acc.cpu())\n",
    "                \n",
    "                # Save best model\n",
    "                if phase == 'val' and epoch_acc > best_val_acc:\n",
    "                    best_val_acc = epoch_acc\n",
    "                    best_model_wts = copy.deepcopy(self.model.state_dict())\n",
    "                    patience_counter = 0\n",
    "                    if save_best:\n",
    "                        torch.save(self.model.state_dict(), f'best_{model_name}.pth')\n",
    "                        print(f'✓ New best model saved with validation accuracy: {best_val_acc:.4f}')\n",
    "                elif phase == 'val':\n",
    "                    patience_counter += 1\n",
    "            \n",
    "            # Learning rate scheduler step\n",
    "            if phase == 'train':\n",
    "                scheduler.step()\n",
    "            \n",
    "            # Early stopping\n",
    "            if patience_counter >= patience:\n",
    "                print(f'Early stopping triggered after {epoch+1} epochs')\n",
    "                break\n",
    "                \n",
    "            print()\n",
    "        \n",
    "        # Training complete\n",
    "        time_elapsed = time.time() - start_time\n",
    "        print(f'Training complete in {time_elapsed // 60:.0f}m {time_elapsed % 60:.0f}s')\n",
    "        print(f'Best validation accuracy: {best_val_acc:.4f}')\n",
    "        \n",
    "        # Load best model weights\n",
    "        self.model.load_state_dict(best_model_wts)\n",
    "        return self.model\n",
    "    \n",
    "    def evaluate_model(self, test_loader=None):\n",
    "        \"\"\"Evaluate model on test set\"\"\"\n",
    "        if test_loader is None:\n",
    "            test_loader = self.test_loader\n",
    "            \n",
    "        self.model.eval()\n",
    "        all_preds = []\n",
    "        all_labels = []\n",
    "        test_loss = 0.0\n",
    "        correct = 0\n",
    "        total = 0\n",
    "        \n",
    "        criterion = nn.CrossEntropyLoss()\n",
    "        \n",
    "        print(\"Evaluating on test set...\")\n",
    "        with torch.no_grad():\n",
    "            for inputs, labels in tqdm(test_loader):\n",
    "                inputs = inputs.to(self.device)\n",
    "                labels = labels.to(self.device)\n",
    "                \n",
    "                outputs = self.model(inputs)\n",
    "                loss = criterion(outputs, labels)\n",
    "                \n",
    "                _, predicted = torch.max(outputs.data, 1)\n",
    "                total += labels.size(0)\n",
    "                correct += (predicted == labels).sum().item()\n",
    "                test_loss += loss.item()\n",
    "                \n",
    "                # Store for detailed metrics\n",
    "                all_preds.extend(predicted.cpu().numpy())\n",
    "                all_labels.extend(labels.cpu().numpy())\n",
    "        \n",
    "        # Calculate metrics\n",
    "        test_acc = 100 * correct / total\n",
    "        avg_test_loss = test_loss / len(test_loader)\n",
    "        \n",
    "        print(f'Test Accuracy: {test_acc:.2f}%')\n",
    "        print(f'Test Loss: {avg_test_loss:.4f}')\n",
    "        \n",
    "        # Get unique classes to understand the issue\n",
    "        unique_labels = np.unique(all_labels)\n",
    "        unique_preds = np.unique(all_preds)\n",
    "        print(f\"\\nUnique labels in ground truth: {unique_labels}\")\n",
    "        print(f\"Unique predictions: {unique_preds}\")\n",
    "        \n",
    "        # Get class names from label encoder if available\n",
    "        try:\n",
    "            if hasattr(self, 'label_encoder') and self.label_encoder:\n",
    "                class_names = self.label_encoder.classes_\n",
    "            else:\n",
    "                # Try to get from train_loader dataset\n",
    "                class_names = self.train_loader.dataset.get_class_names()\n",
    "        except:\n",
    "            class_names = [f'Class_{i}' for i in range(max(max(unique_labels), max(unique_preds)) + 1)]\n",
    "        \n",
    "        print(f\"Class names: {class_names}\")\n",
    "        \n",
    "        # Detailed classification report\n",
    "        print(\"\\nClassification Report:\")\n",
    "        print(classification_report(all_labels, all_preds, \n",
    "                                  labels=list(range(len(class_names))),\n",
    "                                  target_names=class_names,\n",
    "                                  zero_division=0))\n",
    "        \n",
    "        # Confusion Matrix\n",
    "        cm = confusion_matrix(all_labels, all_preds)\n",
    "        print(f\"\\nConfusion Matrix:\")\n",
    "        print(cm)\n",
    "        \n",
    "        return test_acc, all_preds, all_labels\n",
    "    \n",
    "    def plot_training_history(self, save_path=None):\n",
    "        \"\"\"Plot training and validation metrics\"\"\"\n",
    "        fig, (ax1, ax2) = plt.subplots(1, 2, figsize=(15, 5))\n",
    "        \n",
    "        # Plot losses\n",
    "        ax1.plot(self.train_losses, label='Train Loss', marker='o')\n",
    "        ax1.plot(self.val_losses, label='Validation Loss', marker='s')\n",
    "        ax1.set_title('Model Loss')\n",
    "        ax1.set_xlabel('Epoch')\n",
    "        ax1.set_ylabel('Loss')\n",
    "        ax1.legend()\n",
    "        ax1.grid(True)\n",
    "        \n",
    "        # Plot accuracies\n",
    "        ax2.plot(self.train_accuracies, label='Train Accuracy', marker='o')\n",
    "        ax2.plot(self.val_accuracies, label='Validation Accuracy', marker='s')\n",
    "        ax2.set_title('Model Accuracy')\n",
    "        ax2.set_xlabel('Epoch')\n",
    "        ax2.set_ylabel('Accuracy')\n",
    "        ax2.legend()\n",
    "        ax2.grid(True)\n",
    "        \n",
    "        plt.tight_layout()\n",
    "        \n",
    "        if save_path:\n",
    "            plt.savefig(save_path)\n",
    "        plt.show()"
   ]
  },
  {
   "cell_type": "markdown",
   "id": "b1b90796",
   "metadata": {
    "papermill": {
     "duration": 0.006187,
     "end_time": "2025-09-08T12:34:40.358737",
     "exception": false,
     "start_time": "2025-09-08T12:34:40.352550",
     "status": "completed"
    },
    "tags": []
   },
   "source": [
    "# GPU Configuration and Data Validation"
   ]
  },
  {
   "cell_type": "code",
   "execution_count": 11,
   "id": "f8dbc004",
   "metadata": {
    "execution": {
     "iopub.execute_input": "2025-09-08T12:34:40.372376Z",
     "iopub.status.busy": "2025-09-08T12:34:40.372190Z",
     "iopub.status.idle": "2025-09-08T12:34:40.466469Z",
     "shell.execute_reply": "2025-09-08T12:34:40.465659Z"
    },
    "papermill": {
     "duration": 0.102264,
     "end_time": "2025-09-08T12:34:40.467577",
     "exception": false,
     "start_time": "2025-09-08T12:34:40.365313",
     "status": "completed"
    },
    "tags": []
   },
   "outputs": [
    {
     "name": "stdout",
     "output_type": "stream",
     "text": [
      "Using device: cuda\n",
      "GPU: Tesla P100-PCIE-16GB\n",
      "Memory: 15.89 GB\n"
     ]
    }
   ],
   "source": [
    "device = torch.device('cuda' if torch.cuda.is_available() else 'cpu')\n",
    "print(f\"Using device: {device}\")\n",
    "if torch.cuda.is_available():\n",
    "    print(f\"GPU: {torch.cuda.get_device_name(0)}\")\n",
    "    print(f\"Memory: {torch.cuda.get_device_properties(0).total_memory / 1024**3:.2f} GB\")"
   ]
  },
  {
   "cell_type": "markdown",
   "id": "0b11a6d9",
   "metadata": {
    "papermill": {
     "duration": 0.006758,
     "end_time": "2025-09-08T12:34:40.481134",
     "exception": false,
     "start_time": "2025-09-08T12:34:40.474376",
     "status": "completed"
    },
    "tags": []
   },
   "source": [
    "# Model Training Sections\n",
    "\n",
    "## 1. FaceNet Model Training"
   ]
  },
  {
   "cell_type": "code",
   "execution_count": 12,
   "id": "66a7b2a8",
   "metadata": {
    "execution": {
     "iopub.execute_input": "2025-09-08T12:34:40.494720Z",
     "iopub.status.busy": "2025-09-08T12:34:40.494329Z",
     "iopub.status.idle": "2025-09-08T12:34:41.293474Z",
     "shell.execute_reply": "2025-09-08T12:34:41.292463Z"
    },
    "papermill": {
     "duration": 0.807242,
     "end_time": "2025-09-08T12:34:41.294657",
     "exception": false,
     "start_time": "2025-09-08T12:34:40.487415",
     "status": "completed"
    },
    "tags": []
   },
   "outputs": [
    {
     "name": "stdout",
     "output_type": "stream",
     "text": [
      "Creating FaceNet datasets...\n",
      "\n",
      "FaceNet Dataset Summary:\n",
      "Training samples: 2540\n",
      "Validation samples: 100\n",
      "Test samples: 300\n",
      "Classes: ['Autistic' 'Non_Autistic']\n",
      "\n",
      "Testing FaceNet data loading...\n",
      "✓ FaceNet batch shape: torch.Size([32, 3, 160, 160]), Labels: torch.Size([32])\n",
      "✓ FaceNet data loading successful!\n",
      "\n"
     ]
    }
   ],
   "source": [
    "# Create datasets for FaceNet (160x160 input)\n",
    "print(\"Creating FaceNet datasets...\")\n",
    "facenet_train_dataset, facenet_val_dataset, facenet_test_dataset, facenet_label_encoder = create_face_datasets(\n",
    "    train_df=train_df,\n",
    "    val_df=valid_df, \n",
    "    test_df=test_df,\n",
    "    transform_type='facenet'\n",
    ")\n",
    "\n",
    "# Create dataloaders\n",
    "facenet_train_loader, facenet_val_loader, facenet_test_loader = create_dataloaders(\n",
    "    facenet_train_dataset, facenet_val_dataset, facenet_test_dataset, \n",
    "    batch_size=32, \n",
    "    num_workers=4\n",
    ")\n",
    "\n",
    "print(f\"\\nFaceNet Dataset Summary:\")\n",
    "print(f\"Training samples: {len(facenet_train_dataset)}\")\n",
    "print(f\"Validation samples: {len(facenet_val_dataset)}\")\n",
    "print(f\"Test samples: {len(facenet_test_dataset)}\")\n",
    "print(f\"Classes: {facenet_label_encoder.classes_}\")\n",
    "\n",
    "# Test data loading\n",
    "print(\"\\nTesting FaceNet data loading...\")\n",
    "try:\n",
    "    facenet_batch = next(iter(facenet_train_loader))\n",
    "    print(f\"✓ FaceNet batch shape: {facenet_batch[0].shape}, Labels: {facenet_batch[1].shape}\")\n",
    "    print(\"✓ FaceNet data loading successful!\\n\")\n",
    "except Exception as e:\n",
    "    print(f\"✗ FaceNet data loading failed: {e}\")\n",
    "    raise e"
   ]
  },
  {
   "cell_type": "code",
   "execution_count": 13,
   "id": "db96c59e",
   "metadata": {
    "execution": {
     "iopub.execute_input": "2025-09-08T12:34:41.310047Z",
     "iopub.status.busy": "2025-09-08T12:34:41.309725Z",
     "iopub.status.idle": "2025-09-08T12:37:41.599664Z",
     "shell.execute_reply": "2025-09-08T12:37:41.598760Z"
    },
    "papermill": {
     "duration": 180.298976,
     "end_time": "2025-09-08T12:37:41.600839",
     "exception": false,
     "start_time": "2025-09-08T12:34:41.301863",
     "status": "completed"
    },
    "tags": []
   },
   "outputs": [
    {
     "name": "stdout",
     "output_type": "stream",
     "text": [
      "Creating FaceNet model...\n"
     ]
    },
    {
     "data": {
      "application/vnd.jupyter.widget-view+json": {
       "model_id": "7ab0f7e6ac0c4aae97d0814578c407d1",
       "version_major": 2,
       "version_minor": 0
      },
      "text/plain": [
       "  0%|          | 0.00/107M [00:00<?, ?B/s]"
      ]
     },
     "metadata": {},
     "output_type": "display_data"
    },
    {
     "name": "stdout",
     "output_type": "stream",
     "text": [
      "Training FaceNet model...\n",
      "Starting training for 25 epochs...\n",
      "------------------------------------------------------------\n",
      "Epoch 1/25\n",
      "----------\n"
     ]
    },
    {
     "name": "stderr",
     "output_type": "stream",
     "text": [
      "Train : 100%|██████████| 79/79 [00:10<00:00,  7.22it/s, Loss=0.6163, Acc=0.7480]\n"
     ]
    },
    {
     "name": "stdout",
     "output_type": "stream",
     "text": [
      "Train Loss: 0.6163 Acc: 0.7480\n"
     ]
    },
    {
     "name": "stderr",
     "output_type": "stream",
     "text": [
      "Val : 100%|██████████| 4/4 [00:00<00:00,  6.36it/s, Loss=0.5367, Acc=0.7800]\n"
     ]
    },
    {
     "name": "stdout",
     "output_type": "stream",
     "text": [
      "Val Loss: 0.5367 Acc: 0.7800\n",
      "✓ New best model saved with validation accuracy: 0.7800\n",
      "\n",
      "Epoch 2/25\n",
      "----------\n"
     ]
    },
    {
     "name": "stderr",
     "output_type": "stream",
     "text": [
      "Train : 100%|██████████| 79/79 [00:09<00:00,  8.20it/s, Loss=0.4467, Acc=0.8299]\n"
     ]
    },
    {
     "name": "stdout",
     "output_type": "stream",
     "text": [
      "Train Loss: 0.4467 Acc: 0.8299\n"
     ]
    },
    {
     "name": "stderr",
     "output_type": "stream",
     "text": [
      "Val : 100%|██████████| 4/4 [00:00<00:00,  8.46it/s, Loss=0.4699, Acc=0.8000]\n"
     ]
    },
    {
     "name": "stdout",
     "output_type": "stream",
     "text": [
      "Val Loss: 0.4699 Acc: 0.8000\n",
      "✓ New best model saved with validation accuracy: 0.8000\n",
      "\n",
      "Epoch 3/25\n",
      "----------\n"
     ]
    },
    {
     "name": "stderr",
     "output_type": "stream",
     "text": [
      "Train : 100%|██████████| 79/79 [00:09<00:00,  8.24it/s, Loss=0.3008, Acc=0.8948]\n"
     ]
    },
    {
     "name": "stdout",
     "output_type": "stream",
     "text": [
      "Train Loss: 0.3008 Acc: 0.8948\n"
     ]
    },
    {
     "name": "stderr",
     "output_type": "stream",
     "text": [
      "Val : 100%|██████████| 4/4 [00:00<00:00,  7.73it/s, Loss=0.4093, Acc=0.8400]\n"
     ]
    },
    {
     "name": "stdout",
     "output_type": "stream",
     "text": [
      "Val Loss: 0.4093 Acc: 0.8400\n",
      "✓ New best model saved with validation accuracy: 0.8400\n",
      "\n",
      "Epoch 4/25\n",
      "----------\n"
     ]
    },
    {
     "name": "stderr",
     "output_type": "stream",
     "text": [
      "Train : 100%|██████████| 79/79 [00:09<00:00,  8.31it/s, Loss=0.2163, Acc=0.9256]\n"
     ]
    },
    {
     "name": "stdout",
     "output_type": "stream",
     "text": [
      "Train Loss: 0.2163 Acc: 0.9256\n"
     ]
    },
    {
     "name": "stderr",
     "output_type": "stream",
     "text": [
      "Val : 100%|██████████| 4/4 [00:00<00:00,  8.10it/s, Loss=0.4815, Acc=0.8000]\n"
     ]
    },
    {
     "name": "stdout",
     "output_type": "stream",
     "text": [
      "Val Loss: 0.4815 Acc: 0.8000\n",
      "\n",
      "Epoch 5/25\n",
      "----------\n"
     ]
    },
    {
     "name": "stderr",
     "output_type": "stream",
     "text": [
      "Train : 100%|██████████| 79/79 [00:09<00:00,  8.21it/s, Loss=0.1656, Acc=0.9450]\n"
     ]
    },
    {
     "name": "stdout",
     "output_type": "stream",
     "text": [
      "Train Loss: 0.1656 Acc: 0.9450\n"
     ]
    },
    {
     "name": "stderr",
     "output_type": "stream",
     "text": [
      "Val : 100%|██████████| 4/4 [00:00<00:00,  8.42it/s, Loss=0.4016, Acc=0.8500]\n"
     ]
    },
    {
     "name": "stdout",
     "output_type": "stream",
     "text": [
      "Val Loss: 0.4016 Acc: 0.8500\n",
      "✓ New best model saved with validation accuracy: 0.8500\n",
      "\n",
      "Epoch 6/25\n",
      "----------\n"
     ]
    },
    {
     "name": "stderr",
     "output_type": "stream",
     "text": [
      "Train : 100%|██████████| 79/79 [00:09<00:00,  8.22it/s, Loss=0.0900, Acc=0.9735]\n"
     ]
    },
    {
     "name": "stdout",
     "output_type": "stream",
     "text": [
      "Train Loss: 0.0900 Acc: 0.9735\n"
     ]
    },
    {
     "name": "stderr",
     "output_type": "stream",
     "text": [
      "Val : 100%|██████████| 4/4 [00:00<00:00,  8.22it/s, Loss=0.4991, Acc=0.8300]\n"
     ]
    },
    {
     "name": "stdout",
     "output_type": "stream",
     "text": [
      "Val Loss: 0.4991 Acc: 0.8300\n",
      "\n",
      "Epoch 7/25\n",
      "----------\n"
     ]
    },
    {
     "name": "stderr",
     "output_type": "stream",
     "text": [
      "Train : 100%|██████████| 79/79 [00:09<00:00,  8.16it/s, Loss=0.0991, Acc=0.9680]\n"
     ]
    },
    {
     "name": "stdout",
     "output_type": "stream",
     "text": [
      "Train Loss: 0.0991 Acc: 0.9680\n"
     ]
    },
    {
     "name": "stderr",
     "output_type": "stream",
     "text": [
      "Val : 100%|██████████| 4/4 [00:00<00:00,  4.14it/s, Loss=0.5400, Acc=0.8500]\n"
     ]
    },
    {
     "name": "stdout",
     "output_type": "stream",
     "text": [
      "Val Loss: 0.5400 Acc: 0.8500\n",
      "\n",
      "Epoch 8/25\n",
      "----------\n"
     ]
    },
    {
     "name": "stderr",
     "output_type": "stream",
     "text": [
      "Train : 100%|██████████| 79/79 [00:10<00:00,  7.76it/s, Loss=0.0900, Acc=0.9715]\n"
     ]
    },
    {
     "name": "stdout",
     "output_type": "stream",
     "text": [
      "Train Loss: 0.0900 Acc: 0.9715\n"
     ]
    },
    {
     "name": "stderr",
     "output_type": "stream",
     "text": [
      "Val : 100%|██████████| 4/4 [00:00<00:00,  7.79it/s, Loss=0.5169, Acc=0.8500]\n"
     ]
    },
    {
     "name": "stdout",
     "output_type": "stream",
     "text": [
      "Val Loss: 0.5169 Acc: 0.8500\n",
      "\n",
      "Epoch 9/25\n",
      "----------\n"
     ]
    },
    {
     "name": "stderr",
     "output_type": "stream",
     "text": [
      "Train : 100%|██████████| 79/79 [00:09<00:00,  8.30it/s, Loss=0.0399, Acc=0.9893]\n"
     ]
    },
    {
     "name": "stdout",
     "output_type": "stream",
     "text": [
      "Train Loss: 0.0399 Acc: 0.9893\n"
     ]
    },
    {
     "name": "stderr",
     "output_type": "stream",
     "text": [
      "Val : 100%|██████████| 4/4 [00:00<00:00,  8.53it/s, Loss=0.5287, Acc=0.8500]\n"
     ]
    },
    {
     "name": "stdout",
     "output_type": "stream",
     "text": [
      "Val Loss: 0.5287 Acc: 0.8500\n",
      "\n",
      "Epoch 10/25\n",
      "----------\n"
     ]
    },
    {
     "name": "stderr",
     "output_type": "stream",
     "text": [
      "Train : 100%|██████████| 79/79 [00:09<00:00,  8.28it/s, Loss=0.0760, Acc=0.9759]\n"
     ]
    },
    {
     "name": "stdout",
     "output_type": "stream",
     "text": [
      "Train Loss: 0.0760 Acc: 0.9759\n"
     ]
    },
    {
     "name": "stderr",
     "output_type": "stream",
     "text": [
      "Val : 100%|██████████| 4/4 [00:00<00:00,  8.61it/s, Loss=0.3650, Acc=0.8700]\n"
     ]
    },
    {
     "name": "stdout",
     "output_type": "stream",
     "text": [
      "Val Loss: 0.3650 Acc: 0.8700\n",
      "✓ New best model saved with validation accuracy: 0.8700\n",
      "\n",
      "Epoch 11/25\n",
      "----------\n"
     ]
    },
    {
     "name": "stderr",
     "output_type": "stream",
     "text": [
      "Train : 100%|██████████| 79/79 [00:09<00:00,  8.21it/s, Loss=0.0550, Acc=0.9842]\n"
     ]
    },
    {
     "name": "stdout",
     "output_type": "stream",
     "text": [
      "Train Loss: 0.0550 Acc: 0.9842\n"
     ]
    },
    {
     "name": "stderr",
     "output_type": "stream",
     "text": [
      "Val : 100%|██████████| 4/4 [00:00<00:00,  8.02it/s, Loss=0.5247, Acc=0.8300]\n"
     ]
    },
    {
     "name": "stdout",
     "output_type": "stream",
     "text": [
      "Val Loss: 0.5247 Acc: 0.8300\n",
      "\n",
      "Epoch 12/25\n",
      "----------\n"
     ]
    },
    {
     "name": "stderr",
     "output_type": "stream",
     "text": [
      "Train : 100%|██████████| 79/79 [00:09<00:00,  8.26it/s, Loss=0.0343, Acc=0.9901]\n"
     ]
    },
    {
     "name": "stdout",
     "output_type": "stream",
     "text": [
      "Train Loss: 0.0343 Acc: 0.9901\n"
     ]
    },
    {
     "name": "stderr",
     "output_type": "stream",
     "text": [
      "Val : 100%|██████████| 4/4 [00:00<00:00,  7.58it/s, Loss=0.5320, Acc=0.8600]\n"
     ]
    },
    {
     "name": "stdout",
     "output_type": "stream",
     "text": [
      "Val Loss: 0.5320 Acc: 0.8600\n",
      "\n",
      "Epoch 13/25\n",
      "----------\n"
     ]
    },
    {
     "name": "stderr",
     "output_type": "stream",
     "text": [
      "Train : 100%|██████████| 79/79 [00:09<00:00,  8.25it/s, Loss=0.0234, Acc=0.9953]\n"
     ]
    },
    {
     "name": "stdout",
     "output_type": "stream",
     "text": [
      "Train Loss: 0.0234 Acc: 0.9953\n"
     ]
    },
    {
     "name": "stderr",
     "output_type": "stream",
     "text": [
      "Val : 100%|██████████| 4/4 [00:00<00:00,  8.11it/s, Loss=0.7934, Acc=0.8100]\n"
     ]
    },
    {
     "name": "stdout",
     "output_type": "stream",
     "text": [
      "Val Loss: 0.7934 Acc: 0.8100\n",
      "\n",
      "Epoch 14/25\n",
      "----------\n"
     ]
    },
    {
     "name": "stderr",
     "output_type": "stream",
     "text": [
      "Train : 100%|██████████| 79/79 [00:09<00:00,  8.20it/s, Loss=0.0525, Acc=0.9834]\n"
     ]
    },
    {
     "name": "stdout",
     "output_type": "stream",
     "text": [
      "Train Loss: 0.0525 Acc: 0.9834\n"
     ]
    },
    {
     "name": "stderr",
     "output_type": "stream",
     "text": [
      "Val : 100%|██████████| 4/4 [00:00<00:00,  7.50it/s, Loss=0.7068, Acc=0.7900]\n"
     ]
    },
    {
     "name": "stdout",
     "output_type": "stream",
     "text": [
      "Val Loss: 0.7068 Acc: 0.7900\n",
      "\n",
      "Epoch 15/25\n",
      "----------\n"
     ]
    },
    {
     "name": "stderr",
     "output_type": "stream",
     "text": [
      "Train : 100%|██████████| 79/79 [00:09<00:00,  8.25it/s, Loss=0.0254, Acc=0.9913]\n"
     ]
    },
    {
     "name": "stdout",
     "output_type": "stream",
     "text": [
      "Train Loss: 0.0254 Acc: 0.9913\n"
     ]
    },
    {
     "name": "stderr",
     "output_type": "stream",
     "text": [
      "Val : 100%|██████████| 4/4 [00:00<00:00,  7.87it/s, Loss=0.7361, Acc=0.8300]\n"
     ]
    },
    {
     "name": "stdout",
     "output_type": "stream",
     "text": [
      "Val Loss: 0.7361 Acc: 0.8300\n",
      "\n",
      "Epoch 16/25\n",
      "----------\n"
     ]
    },
    {
     "name": "stderr",
     "output_type": "stream",
     "text": [
      "Train : 100%|██████████| 79/79 [00:09<00:00,  8.25it/s, Loss=0.0144, Acc=0.9949]\n"
     ]
    },
    {
     "name": "stdout",
     "output_type": "stream",
     "text": [
      "Train Loss: 0.0144 Acc: 0.9949\n"
     ]
    },
    {
     "name": "stderr",
     "output_type": "stream",
     "text": [
      "Val : 100%|██████████| 4/4 [00:00<00:00,  8.03it/s, Loss=0.7600, Acc=0.7900]\n"
     ]
    },
    {
     "name": "stdout",
     "output_type": "stream",
     "text": [
      "Val Loss: 0.7600 Acc: 0.7900\n",
      "\n",
      "Epoch 17/25\n",
      "----------\n"
     ]
    },
    {
     "name": "stderr",
     "output_type": "stream",
     "text": [
      "Train : 100%|██████████| 79/79 [00:09<00:00,  8.30it/s, Loss=0.0103, Acc=0.9972]\n"
     ]
    },
    {
     "name": "stdout",
     "output_type": "stream",
     "text": [
      "Train Loss: 0.0103 Acc: 0.9972\n"
     ]
    },
    {
     "name": "stderr",
     "output_type": "stream",
     "text": [
      "Val : 100%|██████████| 4/4 [00:00<00:00,  8.61it/s, Loss=0.6394, Acc=0.8100]\n"
     ]
    },
    {
     "name": "stdout",
     "output_type": "stream",
     "text": [
      "Val Loss: 0.6394 Acc: 0.8100\n",
      "Early stopping triggered after 17 epochs\n",
      "Training complete in 2m 56s\n",
      "Best validation accuracy: 0.8700\n",
      "Evaluating FaceNet model...\n",
      "Evaluating on test set...\n"
     ]
    },
    {
     "name": "stderr",
     "output_type": "stream",
     "text": [
      "100%|██████████| 10/10 [00:01<00:00,  8.70it/s]\n"
     ]
    },
    {
     "name": "stdout",
     "output_type": "stream",
     "text": [
      "Test Accuracy: 86.67%\n",
      "Test Loss: 0.4163\n",
      "\n",
      "Unique labels in ground truth: [0 1]\n",
      "Unique predictions: [0 1]\n",
      "Class names: ['Autistic' 'Non_Autistic']\n",
      "\n",
      "Classification Report:\n",
      "              precision    recall  f1-score   support\n",
      "\n",
      "    Autistic       0.89      0.84      0.86       150\n",
      "Non_Autistic       0.85      0.89      0.87       150\n",
      "\n",
      "    accuracy                           0.87       300\n",
      "   macro avg       0.87      0.87      0.87       300\n",
      "weighted avg       0.87      0.87      0.87       300\n",
      "\n",
      "\n",
      "Confusion Matrix:\n",
      "[[126  24]\n",
      " [ 16 134]]\n",
      "Plotting FaceNet training history...\n"
     ]
    },
    {
     "data": {
      "image/png": "[encoded data removed]",
      "text/plain": [
       "<Figure size 1500x500 with 2 Axes>"
      ]
     },
     "metadata": {},
     "output_type": "display_data"
    }
   ],
   "source": [
    "# Create and train FaceNet model\n",
    "print(\"Creating FaceNet model...\")\n",
    "facenet_model = create_facenet_model(num_classes=2, pretrained=True)\n",
    "facenet_trainer = FacialRecognitionTrainer(facenet_model, facenet_train_loader, facenet_val_loader, facenet_test_loader, device)\n",
    "\n",
    "print(\"Training FaceNet model...\")\n",
    "trained_facenet = facenet_trainer.train_model(num_epochs=25, lr=0.0001, model_name=\"facenet_autism\")\n",
    "\n",
    "print(\"Evaluating FaceNet model...\")\n",
    "facenet_test_acc, facenet_preds, facenet_labels = facenet_trainer.evaluate_model()\n",
    "\n",
    "print(\"Plotting FaceNet training history...\")\n",
    "facenet_trainer.plot_training_history()"
   ]
  },
  {
   "cell_type": "markdown",
   "id": "4dcb5211",
   "metadata": {
    "papermill": {
     "duration": 0.119426,
     "end_time": "2025-09-08T12:37:41.841441",
     "exception": false,
     "start_time": "2025-09-08T12:37:41.722015",
     "status": "completed"
    },
    "tags": []
   },
   "source": [
    "## 2. VGGFace2 Model Training"
   ]
  },
  {
   "cell_type": "code",
   "execution_count": 14,
   "id": "15c4dba5",
   "metadata": {
    "execution": {
     "iopub.execute_input": "2025-09-08T12:37:42.078687Z",
     "iopub.status.busy": "2025-09-08T12:37:42.078030Z",
     "iopub.status.idle": "2025-09-08T12:37:42.772829Z",
     "shell.execute_reply": "2025-09-08T12:37:42.771837Z"
    },
    "papermill": {
     "duration": 0.815692,
     "end_time": "2025-09-08T12:37:42.774105",
     "exception": false,
     "start_time": "2025-09-08T12:37:41.958413",
     "status": "completed"
    },
    "tags": []
   },
   "outputs": [
    {
     "name": "stdout",
     "output_type": "stream",
     "text": [
      "Creating VGGFace2 datasets...\n",
      "\n",
      "VGGFace2 Dataset Summary:\n",
      "Training samples: 2540\n",
      "Validation samples: 100\n",
      "Test samples: 300\n",
      "Classes: ['Autistic' 'Non_Autistic']\n",
      "\n",
      "Testing VGGFace2 data loading...\n",
      "✓ VGGFace2 batch shape: torch.Size([32, 3, 224, 224]), Labels: torch.Size([32])\n",
      "✓ VGGFace2 data loading successful!\n",
      "\n"
     ]
    }
   ],
   "source": [
    "# Create datasets for VGGFace2 (224x224 input)\n",
    "print(\"Creating VGGFace2 datasets...\")\n",
    "vggface_train_dataset, vggface_val_dataset, vggface_test_dataset, vggface_label_encoder = create_face_datasets(\n",
    "    train_df=train_df,\n",
    "    val_df=valid_df, \n",
    "    test_df=test_df,\n",
    "    transform_type='vggface'\n",
    ")\n",
    "\n",
    "# Create dataloaders\n",
    "vggface_train_loader, vggface_val_loader, vggface_test_loader = create_dataloaders(\n",
    "    vggface_train_dataset, vggface_val_dataset, vggface_test_dataset, \n",
    "    batch_size=32, \n",
    "    num_workers=4\n",
    ")\n",
    "\n",
    "print(f\"\\nVGGFace2 Dataset Summary:\")\n",
    "print(f\"Training samples: {len(vggface_train_dataset)}\")\n",
    "print(f\"Validation samples: {len(vggface_val_dataset)}\")\n",
    "print(f\"Test samples: {len(vggface_test_dataset)}\")\n",
    "print(f\"Classes: {vggface_label_encoder.classes_}\")\n",
    "\n",
    "# Test data loading\n",
    "print(\"\\nTesting VGGFace2 data loading...\")\n",
    "try:\n",
    "    vggface_batch = next(iter(vggface_train_loader))\n",
    "    print(f\"✓ VGGFace2 batch shape: {vggface_batch[0].shape}, Labels: {vggface_batch[1].shape}\")\n",
    "    print(\"✓ VGGFace2 data loading successful!\\n\")\n",
    "except Exception as e:\n",
    "    print(f\"✗ VGGFace2 data loading failed: {e}\")\n",
    "    raise e"
   ]
  },
  {
   "cell_type": "code",
   "execution_count": 15,
   "id": "9c307ac0",
   "metadata": {
    "execution": {
     "iopub.execute_input": "2025-09-08T12:37:43.068377Z",
     "iopub.status.busy": "2025-09-08T12:37:43.068061Z",
     "iopub.status.idle": "2025-09-08T12:40:57.697140Z",
     "shell.execute_reply": "2025-09-08T12:40:57.696261Z"
    },
    "papermill": {
     "duration": 194.804554,
     "end_time": "2025-09-08T12:40:57.698652",
     "exception": false,
     "start_time": "2025-09-08T12:37:42.894098",
     "status": "completed"
    },
    "tags": []
   },
   "outputs": [
    {
     "name": "stdout",
     "output_type": "stream",
     "text": [
      "Creating VGGFace2 model...\n"
     ]
    },
    {
     "name": "stderr",
     "output_type": "stream",
     "text": [
      "/usr/local/lib/python3.11/dist-packages/torchvision/models/_utils.py:208: UserWarning: The parameter 'pretrained' is deprecated since 0.13 and may be removed in the future, please use 'weights' instead.\n",
      "  warnings.warn(\n",
      "/usr/local/lib/python3.11/dist-packages/torchvision/models/_utils.py:223: UserWarning: Arguments other than a weight enum or `None` for 'weights' are deprecated since 0.13 and may be removed in the future. The current behavior is equivalent to passing `weights=ResNet50_Weights.IMAGENET1K_V1`. You can also use `weights=ResNet50_Weights.DEFAULT` to get the most up-to-date weights.\n",
      "  warnings.warn(msg)\n",
      "Downloading: \"https://download.pytorch.org/models/resnet50-0676ba61.pth\" to /root/.cache/torch/hub/checkpoints/resnet50-0676ba61.pth\n",
      "100%|██████████| 97.8M/97.8M [00:00<00:00, 221MB/s]\n"
     ]
    },
    {
     "name": "stdout",
     "output_type": "stream",
     "text": [
      "Training VGGFace2 model...\n",
      "Starting training for 25 epochs...\n",
      "------------------------------------------------------------\n",
      "Epoch 1/25\n",
      "----------\n"
     ]
    },
    {
     "name": "stderr",
     "output_type": "stream",
     "text": [
      "Train : 100%|██████████| 79/79 [00:14<00:00,  5.59it/s, Loss=0.4859, Acc=0.7670]\n"
     ]
    },
    {
     "name": "stdout",
     "output_type": "stream",
     "text": [
      "Train Loss: 0.4859 Acc: 0.7670\n"
     ]
    },
    {
     "name": "stderr",
     "output_type": "stream",
     "text": [
      "Val : 100%|██████████| 4/4 [00:00<00:00,  6.11it/s, Loss=0.4434, Acc=0.8000]\n"
     ]
    },
    {
     "name": "stdout",
     "output_type": "stream",
     "text": [
      "Val Loss: 0.4434 Acc: 0.8000\n",
      "✓ New best model saved with validation accuracy: 0.8000\n",
      "\n",
      "Epoch 2/25\n",
      "----------\n"
     ]
    },
    {
     "name": "stderr",
     "output_type": "stream",
     "text": [
      "Train : 100%|██████████| 79/79 [00:13<00:00,  5.65it/s, Loss=0.1976, Acc=0.9276]\n"
     ]
    },
    {
     "name": "stdout",
     "output_type": "stream",
     "text": [
      "Train Loss: 0.1976 Acc: 0.9276\n"
     ]
    },
    {
     "name": "stderr",
     "output_type": "stream",
     "text": [
      "Val : 100%|██████████| 4/4 [00:00<00:00,  6.45it/s, Loss=0.3850, Acc=0.8700]\n"
     ]
    },
    {
     "name": "stdout",
     "output_type": "stream",
     "text": [
      "Val Loss: 0.3850 Acc: 0.8700\n",
      "✓ New best model saved with validation accuracy: 0.8700\n",
      "\n",
      "Epoch 3/25\n",
      "----------\n"
     ]
    },
    {
     "name": "stderr",
     "output_type": "stream",
     "text": [
      "Train : 100%|██████████| 79/79 [00:14<00:00,  5.62it/s, Loss=0.0802, Acc=0.9775]\n"
     ]
    },
    {
     "name": "stdout",
     "output_type": "stream",
     "text": [
      "Train Loss: 0.0802 Acc: 0.9775\n"
     ]
    },
    {
     "name": "stderr",
     "output_type": "stream",
     "text": [
      "Val : 100%|██████████| 4/4 [00:00<00:00,  6.36it/s, Loss=0.5189, Acc=0.8100]\n"
     ]
    },
    {
     "name": "stdout",
     "output_type": "stream",
     "text": [
      "Val Loss: 0.5189 Acc: 0.8100\n",
      "\n",
      "Epoch 4/25\n",
      "----------\n"
     ]
    },
    {
     "name": "stderr",
     "output_type": "stream",
     "text": [
      "Train : 100%|██████████| 79/79 [00:14<00:00,  5.64it/s, Loss=0.0558, Acc=0.9814]\n"
     ]
    },
    {
     "name": "stdout",
     "output_type": "stream",
     "text": [
      "Train Loss: 0.0558 Acc: 0.9814\n"
     ]
    },
    {
     "name": "stderr",
     "output_type": "stream",
     "text": [
      "Val : 100%|██████████| 4/4 [00:00<00:00,  5.96it/s, Loss=0.4184, Acc=0.8400]\n"
     ]
    },
    {
     "name": "stdout",
     "output_type": "stream",
     "text": [
      "Val Loss: 0.4184 Acc: 0.8400\n",
      "\n",
      "Epoch 5/25\n",
      "----------\n"
     ]
    },
    {
     "name": "stderr",
     "output_type": "stream",
     "text": [
      "Train : 100%|██████████| 79/79 [00:14<00:00,  5.64it/s, Loss=0.0365, Acc=0.9881]\n"
     ]
    },
    {
     "name": "stdout",
     "output_type": "stream",
     "text": [
      "Train Loss: 0.0365 Acc: 0.9881\n"
     ]
    },
    {
     "name": "stderr",
     "output_type": "stream",
     "text": [
      "Val : 100%|██████████| 4/4 [00:00<00:00,  6.53it/s, Loss=0.4685, Acc=0.8300]\n"
     ]
    },
    {
     "name": "stdout",
     "output_type": "stream",
     "text": [
      "Val Loss: 0.4685 Acc: 0.8300\n",
      "\n",
      "Epoch 6/25\n",
      "----------\n"
     ]
    },
    {
     "name": "stderr",
     "output_type": "stream",
     "text": [
      "Train : 100%|██████████| 79/79 [00:14<00:00,  5.64it/s, Loss=0.0358, Acc=0.9877]\n"
     ]
    },
    {
     "name": "stdout",
     "output_type": "stream",
     "text": [
      "Train Loss: 0.0358 Acc: 0.9877\n"
     ]
    },
    {
     "name": "stderr",
     "output_type": "stream",
     "text": [
      "Val : 100%|██████████| 4/4 [00:00<00:00,  6.27it/s, Loss=0.3351, Acc=0.8900]\n"
     ]
    },
    {
     "name": "stdout",
     "output_type": "stream",
     "text": [
      "Val Loss: 0.3351 Acc: 0.8900\n",
      "✓ New best model saved with validation accuracy: 0.8900\n",
      "\n",
      "Epoch 7/25\n",
      "----------\n"
     ]
    },
    {
     "name": "stderr",
     "output_type": "stream",
     "text": [
      "Train : 100%|██████████| 79/79 [00:14<00:00,  5.59it/s, Loss=0.0181, Acc=0.9956]\n"
     ]
    },
    {
     "name": "stdout",
     "output_type": "stream",
     "text": [
      "Train Loss: 0.0181 Acc: 0.9956\n"
     ]
    },
    {
     "name": "stderr",
     "output_type": "stream",
     "text": [
      "Val : 100%|██████████| 4/4 [00:00<00:00,  6.03it/s, Loss=0.4741, Acc=0.8400]\n"
     ]
    },
    {
     "name": "stdout",
     "output_type": "stream",
     "text": [
      "Val Loss: 0.4741 Acc: 0.8400\n",
      "\n",
      "Epoch 8/25\n",
      "----------\n"
     ]
    },
    {
     "name": "stderr",
     "output_type": "stream",
     "text": [
      "Train : 100%|██████████| 79/79 [00:14<00:00,  5.63it/s, Loss=0.0205, Acc=0.9937]\n"
     ]
    },
    {
     "name": "stdout",
     "output_type": "stream",
     "text": [
      "Train Loss: 0.0205 Acc: 0.9937\n"
     ]
    },
    {
     "name": "stderr",
     "output_type": "stream",
     "text": [
      "Val : 100%|██████████| 4/4 [00:00<00:00,  6.13it/s, Loss=0.5101, Acc=0.8300]\n"
     ]
    },
    {
     "name": "stdout",
     "output_type": "stream",
     "text": [
      "Val Loss: 0.5101 Acc: 0.8300\n",
      "\n",
      "Epoch 9/25\n",
      "----------\n"
     ]
    },
    {
     "name": "stderr",
     "output_type": "stream",
     "text": [
      "Train : 100%|██████████| 79/79 [00:14<00:00,  5.62it/s, Loss=0.0420, Acc=0.9838]\n"
     ]
    },
    {
     "name": "stdout",
     "output_type": "stream",
     "text": [
      "Train Loss: 0.0420 Acc: 0.9838\n"
     ]
    },
    {
     "name": "stderr",
     "output_type": "stream",
     "text": [
      "Val : 100%|██████████| 4/4 [00:00<00:00,  6.38it/s, Loss=0.5150, Acc=0.8500]\n"
     ]
    },
    {
     "name": "stdout",
     "output_type": "stream",
     "text": [
      "Val Loss: 0.5150 Acc: 0.8500\n",
      "\n",
      "Epoch 10/25\n",
      "----------\n"
     ]
    },
    {
     "name": "stderr",
     "output_type": "stream",
     "text": [
      "Train : 100%|██████████| 79/79 [00:13<00:00,  5.65it/s, Loss=0.0866, Acc=0.9688]\n"
     ]
    },
    {
     "name": "stdout",
     "output_type": "stream",
     "text": [
      "Train Loss: 0.0866 Acc: 0.9688\n"
     ]
    },
    {
     "name": "stderr",
     "output_type": "stream",
     "text": [
      "Val : 100%|██████████| 4/4 [00:00<00:00,  6.27it/s, Loss=0.5589, Acc=0.8000]\n"
     ]
    },
    {
     "name": "stdout",
     "output_type": "stream",
     "text": [
      "Val Loss: 0.5589 Acc: 0.8000\n",
      "\n",
      "Epoch 11/25\n",
      "----------\n"
     ]
    },
    {
     "name": "stderr",
     "output_type": "stream",
     "text": [
      "Train : 100%|██████████| 79/79 [00:14<00:00,  5.63it/s, Loss=0.0568, Acc=0.9802]\n"
     ]
    },
    {
     "name": "stdout",
     "output_type": "stream",
     "text": [
      "Train Loss: 0.0568 Acc: 0.9802\n"
     ]
    },
    {
     "name": "stderr",
     "output_type": "stream",
     "text": [
      "Val : 100%|██████████| 4/4 [00:00<00:00,  6.19it/s, Loss=0.5596, Acc=0.8600]\n"
     ]
    },
    {
     "name": "stdout",
     "output_type": "stream",
     "text": [
      "Val Loss: 0.5596 Acc: 0.8600\n",
      "\n",
      "Epoch 12/25\n",
      "----------\n"
     ]
    },
    {
     "name": "stderr",
     "output_type": "stream",
     "text": [
      "Train : 100%|██████████| 79/79 [00:14<00:00,  5.59it/s, Loss=0.0386, Acc=0.9885]\n"
     ]
    },
    {
     "name": "stdout",
     "output_type": "stream",
     "text": [
      "Train Loss: 0.0386 Acc: 0.9885\n"
     ]
    },
    {
     "name": "stderr",
     "output_type": "stream",
     "text": [
      "Val : 100%|██████████| 4/4 [00:00<00:00,  6.41it/s, Loss=0.7066, Acc=0.7900]\n"
     ]
    },
    {
     "name": "stdout",
     "output_type": "stream",
     "text": [
      "Val Loss: 0.7066 Acc: 0.7900\n",
      "\n",
      "Epoch 13/25\n",
      "----------\n"
     ]
    },
    {
     "name": "stderr",
     "output_type": "stream",
     "text": [
      "Train : 100%|██████████| 79/79 [00:14<00:00,  5.64it/s, Loss=0.0406, Acc=0.9873]\n"
     ]
    },
    {
     "name": "stdout",
     "output_type": "stream",
     "text": [
      "Train Loss: 0.0406 Acc: 0.9873\n"
     ]
    },
    {
     "name": "stderr",
     "output_type": "stream",
     "text": [
      "Val : 100%|██████████| 4/4 [00:00<00:00,  6.05it/s, Loss=0.5745, Acc=0.8100]\n"
     ]
    },
    {
     "name": "stdout",
     "output_type": "stream",
     "text": [
      "Val Loss: 0.5745 Acc: 0.8100\n",
      "Early stopping triggered after 13 epochs\n",
      "Training complete in 3m 12s\n",
      "Best validation accuracy: 0.8900\n",
      "Evaluating VGGFace2 model...\n",
      "Evaluating on test set...\n"
     ]
    },
    {
     "name": "stderr",
     "output_type": "stream",
     "text": [
      "100%|██████████| 10/10 [00:01<00:00,  9.08it/s]\n"
     ]
    },
    {
     "name": "stdout",
     "output_type": "stream",
     "text": [
      "Test Accuracy: 86.67%\n",
      "Test Loss: 0.3720\n",
      "\n",
      "Unique labels in ground truth: [0 1]\n",
      "Unique predictions: [0 1]\n",
      "Class names: ['Autistic' 'Non_Autistic']\n",
      "\n",
      "Classification Report:\n",
      "              precision    recall  f1-score   support\n",
      "\n",
      "    Autistic       0.83      0.93      0.87       150\n",
      "Non_Autistic       0.92      0.81      0.86       150\n",
      "\n",
      "    accuracy                           0.87       300\n",
      "   macro avg       0.87      0.87      0.87       300\n",
      "weighted avg       0.87      0.87      0.87       300\n",
      "\n",
      "\n",
      "Confusion Matrix:\n",
      "[[139  11]\n",
      " [ 29 121]]\n",
      "Plotting VGGFace2 training history...\n"
     ]
    },
    {
     "data": {
      "image/png": "[encoded data removed]",
      "text/plain": [
       "<Figure size 1500x500 with 2 Axes>"
      ]
     },
     "metadata": {},
     "output_type": "display_data"
    }
   ],
   "source": [
    "# Create and train VGGFace2 model\n",
    "print(\"Creating VGGFace2 model...\")\n",
    "vggface2_model = create_vggface2_model(num_classes=2, pretrained=True)\n",
    "vggface2_trainer = FacialRecognitionTrainer(vggface2_model, vggface_train_loader, vggface_val_loader, vggface_test_loader, device)\n",
    "\n",
    "print(\"Training VGGFace2 model...\")\n",
    "trained_vggface2 = vggface2_trainer.train_model(num_epochs=25, lr=0.0001, model_name=\"vggface2_autism\")\n",
    "\n",
    "print(\"Evaluating VGGFace2 model...\")\n",
    "vggface2_test_acc, vggface2_preds, vggface2_labels = vggface2_trainer.evaluate_model()\n",
    "\n",
    "print(\"Plotting VGGFace2 training history...\")\n",
    "vggface2_trainer.plot_training_history()"
   ]
  },
  {
   "cell_type": "markdown",
   "id": "fed47639",
   "metadata": {
    "papermill": {
     "duration": 0.20916,
     "end_time": "2025-09-08T12:40:58.172767",
     "exception": false,
     "start_time": "2025-09-08T12:40:57.963607",
     "status": "completed"
    },
    "tags": []
   },
   "source": [
    "## 3. InsightFace Model Training"
   ]
  },
  {
   "cell_type": "code",
   "execution_count": 16,
   "id": "efca51a4",
   "metadata": {
    "execution": {
     "iopub.execute_input": "2025-09-08T12:40:58.587512Z",
     "iopub.status.busy": "2025-09-08T12:40:58.587203Z",
     "iopub.status.idle": "2025-09-08T12:43:58.082385Z",
     "shell.execute_reply": "2025-09-08T12:43:58.081433Z"
    },
    "papermill": {
     "duration": 179.703323,
     "end_time": "2025-09-08T12:43:58.083967",
     "exception": false,
     "start_time": "2025-09-08T12:40:58.380644",
     "status": "completed"
    },
    "tags": []
   },
   "outputs": [
    {
     "name": "stdout",
     "output_type": "stream",
     "text": [
      "Creating InsightFace model...\n"
     ]
    },
    {
     "name": "stderr",
     "output_type": "stream",
     "text": [
      "/usr/local/lib/python3.11/dist-packages/torchvision/models/_utils.py:208: UserWarning: The parameter 'pretrained' is deprecated since 0.13 and may be removed in the future, please use 'weights' instead.\n",
      "  warnings.warn(\n",
      "/usr/local/lib/python3.11/dist-packages/torchvision/models/_utils.py:223: UserWarning: Arguments other than a weight enum or `None` for 'weights' are deprecated since 0.13 and may be removed in the future. The current behavior is equivalent to passing `weights=ResNet50_Weights.IMAGENET1K_V1`. You can also use `weights=ResNet50_Weights.DEFAULT` to get the most up-to-date weights.\n",
      "  warnings.warn(msg)\n"
     ]
    },
    {
     "name": "stdout",
     "output_type": "stream",
     "text": [
      "Training InsightFace model...\n",
      "Starting training for 25 epochs...\n",
      "------------------------------------------------------------\n",
      "Epoch 1/25\n",
      "----------\n"
     ]
    },
    {
     "name": "stderr",
     "output_type": "stream",
     "text": [
      "Train : 100%|██████████| 79/79 [00:14<00:00,  5.61it/s, Loss=0.5081, Acc=0.7666]\n"
     ]
    },
    {
     "name": "stdout",
     "output_type": "stream",
     "text": [
      "Train Loss: 0.5081 Acc: 0.7666\n"
     ]
    },
    {
     "name": "stderr",
     "output_type": "stream",
     "text": [
      "Val : 100%|██████████| 4/4 [00:00<00:00,  5.93it/s, Loss=0.5218, Acc=0.7600]\n"
     ]
    },
    {
     "name": "stdout",
     "output_type": "stream",
     "text": [
      "Val Loss: 0.5218 Acc: 0.7600\n",
      "✓ New best model saved with validation accuracy: 0.7600\n",
      "\n",
      "Epoch 2/25\n",
      "----------\n"
     ]
    },
    {
     "name": "stderr",
     "output_type": "stream",
     "text": [
      "Train : 100%|██████████| 79/79 [00:14<00:00,  5.63it/s, Loss=0.1844, Acc=0.9312]\n"
     ]
    },
    {
     "name": "stdout",
     "output_type": "stream",
     "text": [
      "Train Loss: 0.1844 Acc: 0.9312\n"
     ]
    },
    {
     "name": "stderr",
     "output_type": "stream",
     "text": [
      "Val : 100%|██████████| 4/4 [00:00<00:00,  6.18it/s, Loss=0.5701, Acc=0.8200]\n"
     ]
    },
    {
     "name": "stdout",
     "output_type": "stream",
     "text": [
      "Val Loss: 0.5701 Acc: 0.8200\n",
      "✓ New best model saved with validation accuracy: 0.8200\n",
      "\n",
      "Epoch 3/25\n",
      "----------\n"
     ]
    },
    {
     "name": "stderr",
     "output_type": "stream",
     "text": [
      "Train : 100%|██████████| 79/79 [00:14<00:00,  5.62it/s, Loss=0.0847, Acc=0.9711]\n"
     ]
    },
    {
     "name": "stdout",
     "output_type": "stream",
     "text": [
      "Train Loss: 0.0847 Acc: 0.9711\n"
     ]
    },
    {
     "name": "stderr",
     "output_type": "stream",
     "text": [
      "Val : 100%|██████████| 4/4 [00:00<00:00,  6.15it/s, Loss=0.5919, Acc=0.8300]\n"
     ]
    },
    {
     "name": "stdout",
     "output_type": "stream",
     "text": [
      "Val Loss: 0.5919 Acc: 0.8300\n",
      "✓ New best model saved with validation accuracy: 0.8300\n",
      "\n",
      "Epoch 4/25\n",
      "----------\n"
     ]
    },
    {
     "name": "stderr",
     "output_type": "stream",
     "text": [
      "Train : 100%|██████████| 79/79 [00:14<00:00,  5.63it/s, Loss=0.0905, Acc=0.9664]\n"
     ]
    },
    {
     "name": "stdout",
     "output_type": "stream",
     "text": [
      "Train Loss: 0.0905 Acc: 0.9664\n"
     ]
    },
    {
     "name": "stderr",
     "output_type": "stream",
     "text": [
      "Val : 100%|██████████| 4/4 [00:00<00:00,  6.23it/s, Loss=0.7299, Acc=0.8000]\n"
     ]
    },
    {
     "name": "stdout",
     "output_type": "stream",
     "text": [
      "Val Loss: 0.7299 Acc: 0.8000\n",
      "\n",
      "Epoch 5/25\n",
      "----------\n"
     ]
    },
    {
     "name": "stderr",
     "output_type": "stream",
     "text": [
      "Train : 100%|██████████| 79/79 [00:14<00:00,  5.64it/s, Loss=0.0635, Acc=0.9767]\n"
     ]
    },
    {
     "name": "stdout",
     "output_type": "stream",
     "text": [
      "Train Loss: 0.0635 Acc: 0.9767\n"
     ]
    },
    {
     "name": "stderr",
     "output_type": "stream",
     "text": [
      "Val : 100%|██████████| 4/4 [00:00<00:00,  6.14it/s, Loss=0.4563, Acc=0.8600]\n"
     ]
    },
    {
     "name": "stdout",
     "output_type": "stream",
     "text": [
      "Val Loss: 0.4563 Acc: 0.8600\n",
      "✓ New best model saved with validation accuracy: 0.8600\n",
      "\n",
      "Epoch 6/25\n",
      "----------\n"
     ]
    },
    {
     "name": "stderr",
     "output_type": "stream",
     "text": [
      "Train : 100%|██████████| 79/79 [00:14<00:00,  5.63it/s, Loss=0.0548, Acc=0.9778]\n"
     ]
    },
    {
     "name": "stdout",
     "output_type": "stream",
     "text": [
      "Train Loss: 0.0548 Acc: 0.9778\n"
     ]
    },
    {
     "name": "stderr",
     "output_type": "stream",
     "text": [
      "Val : 100%|██████████| 4/4 [00:00<00:00,  6.05it/s, Loss=1.0029, Acc=0.7800]\n"
     ]
    },
    {
     "name": "stdout",
     "output_type": "stream",
     "text": [
      "Val Loss: 1.0029 Acc: 0.7800\n",
      "\n",
      "Epoch 7/25\n",
      "----------\n"
     ]
    },
    {
     "name": "stderr",
     "output_type": "stream",
     "text": [
      "Train : 100%|██████████| 79/79 [00:14<00:00,  5.63it/s, Loss=0.0709, Acc=0.9767]\n"
     ]
    },
    {
     "name": "stdout",
     "output_type": "stream",
     "text": [
      "Train Loss: 0.0709 Acc: 0.9767\n"
     ]
    },
    {
     "name": "stderr",
     "output_type": "stream",
     "text": [
      "Val : 100%|██████████| 4/4 [00:00<00:00,  6.01it/s, Loss=0.5196, Acc=0.8500]\n"
     ]
    },
    {
     "name": "stdout",
     "output_type": "stream",
     "text": [
      "Val Loss: 0.5196 Acc: 0.8500\n",
      "\n",
      "Epoch 8/25\n",
      "----------\n"
     ]
    },
    {
     "name": "stderr",
     "output_type": "stream",
     "text": [
      "Train : 100%|██████████| 79/79 [00:14<00:00,  5.61it/s, Loss=0.0342, Acc=0.9873]\n"
     ]
    },
    {
     "name": "stdout",
     "output_type": "stream",
     "text": [
      "Train Loss: 0.0342 Acc: 0.9873\n"
     ]
    },
    {
     "name": "stderr",
     "output_type": "stream",
     "text": [
      "Val : 100%|██████████| 4/4 [00:00<00:00,  6.37it/s, Loss=0.6940, Acc=0.8400]\n"
     ]
    },
    {
     "name": "stdout",
     "output_type": "stream",
     "text": [
      "Val Loss: 0.6940 Acc: 0.8400\n",
      "\n",
      "Epoch 9/25\n",
      "----------\n"
     ]
    },
    {
     "name": "stderr",
     "output_type": "stream",
     "text": [
      "Train : 100%|██████████| 79/79 [00:14<00:00,  5.62it/s, Loss=0.0402, Acc=0.9854]\n"
     ]
    },
    {
     "name": "stdout",
     "output_type": "stream",
     "text": [
      "Train Loss: 0.0402 Acc: 0.9854\n"
     ]
    },
    {
     "name": "stderr",
     "output_type": "stream",
     "text": [
      "Val : 100%|██████████| 4/4 [00:00<00:00,  6.21it/s, Loss=0.7158, Acc=0.8100]\n"
     ]
    },
    {
     "name": "stdout",
     "output_type": "stream",
     "text": [
      "Val Loss: 0.7158 Acc: 0.8100\n",
      "\n",
      "Epoch 10/25\n",
      "----------\n"
     ]
    },
    {
     "name": "stderr",
     "output_type": "stream",
     "text": [
      "Train : 100%|██████████| 79/79 [00:14<00:00,  5.63it/s, Loss=0.0258, Acc=0.9901]\n"
     ]
    },
    {
     "name": "stdout",
     "output_type": "stream",
     "text": [
      "Train Loss: 0.0258 Acc: 0.9901\n"
     ]
    },
    {
     "name": "stderr",
     "output_type": "stream",
     "text": [
      "Val : 100%|██████████| 4/4 [00:00<00:00,  6.08it/s, Loss=0.6107, Acc=0.8300]\n"
     ]
    },
    {
     "name": "stdout",
     "output_type": "stream",
     "text": [
      "Val Loss: 0.6107 Acc: 0.8300\n",
      "\n",
      "Epoch 11/25\n",
      "----------\n"
     ]
    },
    {
     "name": "stderr",
     "output_type": "stream",
     "text": [
      "Train : 100%|██████████| 79/79 [00:14<00:00,  5.64it/s, Loss=0.0445, Acc=0.9838]\n"
     ]
    },
    {
     "name": "stdout",
     "output_type": "stream",
     "text": [
      "Train Loss: 0.0445 Acc: 0.9838\n"
     ]
    },
    {
     "name": "stderr",
     "output_type": "stream",
     "text": [
      "Val : 100%|██████████| 4/4 [00:00<00:00,  6.25it/s, Loss=0.7624, Acc=0.8100]\n"
     ]
    },
    {
     "name": "stdout",
     "output_type": "stream",
     "text": [
      "Val Loss: 0.7624 Acc: 0.8100\n",
      "\n",
      "Epoch 12/25\n",
      "----------\n"
     ]
    },
    {
     "name": "stderr",
     "output_type": "stream",
     "text": [
      "Train : 100%|██████████| 79/79 [00:14<00:00,  5.61it/s, Loss=0.0483, Acc=0.9818]\n"
     ]
    },
    {
     "name": "stdout",
     "output_type": "stream",
     "text": [
      "Train Loss: 0.0483 Acc: 0.9818\n"
     ]
    },
    {
     "name": "stderr",
     "output_type": "stream",
     "text": [
      "Val : 100%|██████████| 4/4 [00:00<00:00,  6.13it/s, Loss=0.9381, Acc=0.7800]\n"
     ]
    },
    {
     "name": "stdout",
     "output_type": "stream",
     "text": [
      "Val Loss: 0.9381 Acc: 0.7800\n",
      "Early stopping triggered after 12 epochs\n",
      "Training complete in 2m 57s\n",
      "Best validation accuracy: 0.8600\n",
      "Evaluating InsightFace model...\n",
      "Evaluating on test set...\n"
     ]
    },
    {
     "name": "stderr",
     "output_type": "stream",
     "text": [
      "100%|██████████| 10/10 [00:01<00:00,  9.20it/s]\n"
     ]
    },
    {
     "name": "stdout",
     "output_type": "stream",
     "text": [
      "Test Accuracy: 85.33%\n",
      "Test Loss: 0.4688\n",
      "\n",
      "Unique labels in ground truth: [0 1]\n",
      "Unique predictions: [0 1]\n",
      "Class names: ['Autistic' 'Non_Autistic']\n",
      "\n",
      "Classification Report:\n",
      "              precision    recall  f1-score   support\n",
      "\n",
      "    Autistic       0.83      0.89      0.86       150\n",
      "Non_Autistic       0.88      0.82      0.85       150\n",
      "\n",
      "    accuracy                           0.85       300\n",
      "   macro avg       0.85      0.85      0.85       300\n",
      "weighted avg       0.85      0.85      0.85       300\n",
      "\n",
      "\n",
      "Confusion Matrix:\n",
      "[[133  17]\n",
      " [ 27 123]]\n",
      "Plotting InsightFace training history...\n"
     ]
    },
    {
     "data": {
      "image/png": "[encoded data removed]",
      "text/plain": [
       "<Figure size 1500x500 with 2 Axes>"
      ]
     },
     "metadata": {},
     "output_type": "display_data"
    }
   ],
   "source": [
    "# Create and train InsightFace model\n",
    "print(\"Creating InsightFace model...\")\n",
    "insightface_model = create_insightface_model(num_classes=2, pretrained=True, embedding_size=512)\n",
    "insightface_trainer = FacialRecognitionTrainer(insightface_model, vggface_train_loader, vggface_val_loader, vggface_test_loader, device)\n",
    "\n",
    "print(\"Training InsightFace model...\")\n",
    "trained_insightface = insightface_trainer.train_model(num_epochs=25, lr=0.0001, model_name=\"insightface_autism\")\n",
    "\n",
    "print(\"Evaluating InsightFace model...\")\n",
    "insightface_test_acc, insightface_preds, insightface_labels = insightface_trainer.evaluate_model()\n",
    "\n",
    "print(\"Plotting InsightFace training history...\")\n",
    "insightface_trainer.plot_training_history()"
   ]
  },
  {
   "cell_type": "markdown",
   "id": "e36dd7bd",
   "metadata": {
    "papermill": {
     "duration": 0.300018,
     "end_time": "2025-09-08T12:43:58.683523",
     "exception": false,
     "start_time": "2025-09-08T12:43:58.383505",
     "status": "completed"
    },
    "tags": []
   },
   "source": [
    "# Results Summary and Model Comparison"
   ]
  },
  {
   "cell_type": "code",
   "execution_count": 17,
   "id": "b9119dee",
   "metadata": {
    "execution": {
     "iopub.execute_input": "2025-09-08T12:43:59.330244Z",
     "iopub.status.busy": "2025-09-08T12:43:59.329923Z",
     "iopub.status.idle": "2025-09-08T12:43:59.864460Z",
     "shell.execute_reply": "2025-09-08T12:43:59.863587Z"
    },
    "papermill": {
     "duration": 0.828554,
     "end_time": "2025-09-08T12:43:59.866431",
     "exception": false,
     "start_time": "2025-09-08T12:43:59.037877",
     "status": "completed"
    },
    "tags": []
   },
   "outputs": [
    {
     "name": "stdout",
     "output_type": "stream",
     "text": [
      "============================================================\n",
      "AUTISM DATASET - FACIAL RECOGNITION MODELS PERFORMANCE SUMMARY\n",
      "============================================================\n",
      "Model                Test Accuracy (%)\n",
      "------------------------------------------------------------\n",
      "FaceNet              86.67          \n",
      "VGGFace2             86.67          \n",
      "InsightFace          85.33          \n",
      "\n",
      "============================================================\n",
      "TOP PERFORMING MODELS:\n",
      "============================================================\n",
      "      Model  Test Accuracy\n",
      "    FaceNet      86.666667\n",
      "   VGGFace2      86.666667\n",
      "InsightFace      85.333333\n"
     ]
    },
    {
     "data": {
      "image/png": "[encoded data removed]",
      "text/plain": [
       "<Figure size 1000x600 with 1 Axes>"
      ]
     },
     "metadata": {},
     "output_type": "display_data"
    },
    {
     "name": "stdout",
     "output_type": "stream",
     "text": [
      "\n",
      "Facial recognition model training completed!\n",
      "Results saved to 'autism_dataset_facial_recognition_results.csv'\n",
      "\n",
      "============================================================\n",
      "MODEL CHARACTERISTICS:\n",
      "============================================================\n",
      "FaceNet:\n",
      "  - Architecture: InceptionResnetV1\n",
      "  - Input Size: 160x160\n",
      "  - Pretrained: VGGFace2 weights\n",
      "  - Specialty: Face embeddings and verification\n",
      "\n",
      "VGGFace2:\n",
      "  - Architecture: ResNet50 backbone\n",
      "  - Input Size: 224x224\n",
      "  - Pretrained: ImageNet weights\n",
      "  - Specialty: Large-scale face recognition\n",
      "\n",
      "InsightFace:\n",
      "  - Architecture: ResNet50 with deep supervision\n",
      "  - Input Size: 224x224\n",
      "  - Pretrained: ImageNet weights\n",
      "  - Specialty: Face verification with margin-based learning\n"
     ]
    }
   ],
   "source": [
    "# Create a comprehensive results table for facial recognition models\n",
    "results_data = []\n",
    "\n",
    "# Collect all results\n",
    "face_models_results = [\n",
    "    (\"FaceNet\", \"facenet_test_acc\"),\n",
    "    (\"VGGFace2\", \"vggface2_test_acc\"), \n",
    "    (\"InsightFace\", \"insightface_test_acc\")\n",
    "]\n",
    "\n",
    "print(\"=\" * 60)\n",
    "print(\"AUTISM DATASET - FACIAL RECOGNITION MODELS PERFORMANCE SUMMARY\")\n",
    "print(\"=\" * 60)\n",
    "print(f\"{'Model':<20} {'Test Accuracy (%)':<15}\")\n",
    "print(\"-\" * 60)\n",
    "\n",
    "for model_name, acc_var in face_models_results:\n",
    "    try:\n",
    "        accuracy = eval(acc_var)\n",
    "        print(f\"{model_name:<20} {accuracy:<15.2f}\")\n",
    "        results_data.append({\"Model\": model_name, \"Test Accuracy\": accuracy})\n",
    "    except NameError:\n",
    "        print(f\"{model_name:<20} {'Not Available':<15}\")\n",
    "\n",
    "# Create results DataFrame and save\n",
    "if results_data:\n",
    "    results_df = pd.DataFrame(results_data)\n",
    "    results_df = results_df.sort_values('Test Accuracy', ascending=False)\n",
    "    results_df.to_csv('autism_dataset_facial_recognition_results.csv', index=False)\n",
    "    \n",
    "    print(\"\\n\" + \"=\" * 60)\n",
    "    print(\"TOP PERFORMING MODELS:\")\n",
    "    print(\"=\" * 60)\n",
    "    print(results_df.to_string(index=False))\n",
    "    \n",
    "    # Plot comparison\n",
    "    plt.figure(figsize=(10, 6))\n",
    "    bars = plt.bar(results_df['Model'], results_df['Test Accuracy'], \n",
    "                   color=['#FF6B6B', '#4ECDC4', '#45B7D1'])\n",
    "    plt.xlabel('Facial Recognition Model')\n",
    "    plt.ylabel('Test Accuracy (%)')\n",
    "    plt.title('AutismDataset: Facial Recognition Models Performance Comparison')\n",
    "    plt.grid(axis='y', alpha=0.3)\n",
    "    \n",
    "    # Add value labels on bars\n",
    "    for bar in bars:\n",
    "        height = bar.get_height()\n",
    "        plt.text(bar.get_x() + bar.get_width()/2., height + 0.5,\n",
    "                f'{height:.1f}%', ha='center', va='bottom', fontweight='bold')\n",
    "    \n",
    "    plt.tight_layout()\n",
    "    plt.savefig('autism_dataset_facial_recognition_comparison.png', dpi=300, bbox_inches='tight')\n",
    "    plt.show()\n",
    "\n",
    "print(\"\\nFacial recognition model training completed!\")\n",
    "print(\"Results saved to 'autism_dataset_facial_recognition_results.csv'\")\n",
    "\n",
    "# Display model characteristics\n",
    "print(\"\\n\" + \"=\" * 60)\n",
    "print(\"MODEL CHARACTERISTICS:\")\n",
    "print(\"=\" * 60)\n",
    "print(\"FaceNet:\")\n",
    "print(\"  - Architecture: InceptionResnetV1\")\n",
    "print(\"  - Input Size: 160x160\")\n",
    "print(\"  - Pretrained: VGGFace2 weights\")\n",
    "print(\"  - Specialty: Face embeddings and verification\")\n",
    "\n",
    "print(\"\\nVGGFace2:\")\n",
    "print(\"  - Architecture: ResNet50 backbone\")\n",
    "print(\"  - Input Size: 224x224\") \n",
    "print(\"  - Pretrained: ImageNet weights\")\n",
    "print(\"  - Specialty: Large-scale face recognition\")\n",
    "\n",
    "print(\"\\nInsightFace:\")\n",
    "print(\"  - Architecture: ResNet50 with deep supervision\")\n",
    "print(\"  - Input Size: 224x224\")\n",
    "print(\"  - Pretrained: ImageNet weights\")\n",
    "print(\"  - Specialty: Face verification with margin-based learning\")"
   ]
  }
 ],
 "metadata": {
  "kaggle": {
   "accelerator": "gpu",
   "dataSources": [
    {
     "datasetId": 564001,
     "sourceId": 1024609,
     "sourceType": "datasetVersion"
    }
   ],
   "dockerImageVersionId": 31089,
   "isGpuEnabled": true,
   "isInternetEnabled": true,
   "language": "python",
   "sourceType": "notebook"
  },
  "kernelspec": {
   "display_name": "Python 3",
   "language": "python",
   "name": "python3"
  },
  "language_info": {
   "codemirror_mode": {
    "name": "ipython",
    "version": 3
   },
   "file_extension": ".py",
   "mimetype": "text/x-python",
   "name": "python",
   "nbconvert_exporter": "python",
   "pygments_lexer": "ipython3",
   "version": "3.11.13"
  },
  "papermill": {
   "default_parameters": {},
   "duration": 724.659465,
   "end_time": "2025-09-08T12:44:02.781025",
   "environment_variables": {},
   "exception": null,
   "input_path": "__notebook__.ipynb",
   "output_path": "__notebook__.ipynb",
   "parameters": {},
   "start_time": "2025-09-08T12:31:58.121560",
   "version": "2.6.0"
  },
  "widgets": {
   "application/vnd.jupyter.widget-state+json": {
    "state": {
     "0f1474ef7c9a4083a3687d84036e6c9f": {
      "model_module": "@jupyter-widgets/controls",
      "model_module_version": "2.0.0",
      "model_name": "HTMLModel",
      "state": {
       "_dom_classes": [],
       "_model_module": "@jupyter-widgets/controls",
       "_model_module_version": "2.0.0",
       "_model_name": "HTMLModel",
       "_view_count": null,
       "_view_module": "@jupyter-widgets/controls",
       "_view_module_version": "2.0.0",
       "_view_name": "HTMLView",
       "description": "",
       "description_allow_html": false,
       "layout": "IPY_MODEL_15c0c1abb07445b696b14ce06c28b3a1",
       "placeholder": "​",
       "style": "IPY_MODEL_3180f85ebc8b4840b7d07ecdfff23e5d",
       "tabbable": null,
       "tooltip": null,
       "value": " 107M/107M [00:01&lt;00:00, 78.8MB/s]"
      }
     },
     "15c0c1abb07445b696b14ce06c28b3a1": {
      "model_module": "@jupyter-widgets/base",
      "model_module_version": "2.0.0",
      "model_name": "LayoutModel",
      "state": {
       "_model_module": "@jupyter-widgets/base",
       "_model_module_version": "2.0.0",
       "_model_name": "LayoutModel",
       "_view_count": null,
       "_view_module": "@jupyter-widgets/base",
       "_view_module_version": "2.0.0",
       "_view_name": "LayoutView",
       "align_content": null,
       "align_items": null,
       "align_self": null,
       "border_bottom": null,
       "border_left": null,
       "border_right": null,
       "border_top": null,
       "bottom": null,
       "display": null,
       "flex": null,
       "flex_flow": null,
       "grid_area": null,
       "grid_auto_columns": null,
       "grid_auto_flow": null,
       "grid_auto_rows": null,
       "grid_column": null,
       "grid_gap": null,
       "grid_row": null,
       "grid_template_areas": null,
       "grid_template_columns": null,
       "grid_template_rows": null,
       "height": null,
       "justify_content": null,
       "justify_items": null,
       "left": null,
       "margin": null,
       "max_height": null,
       "max_width": null,
       "min_height": null,
       "min_width": null,
       "object_fit": null,
       "object_position": null,
       "order": null,
       "overflow": null,
       "padding": null,
       "right": null,
       "top": null,
       "visibility": null,
       "width": null
      }
     },
     "3180f85ebc8b4840b7d07ecdfff23e5d": {
      "model_module": "@jupyter-widgets/controls",
      "model_module_version": "2.0.0",
      "model_name": "HTMLStyleModel",
      "state": {
       "_model_module": "@jupyter-widgets/controls",
       "_model_module_version": "2.0.0",
       "_model_name": "HTMLStyleModel",
       "_view_count": null,
       "_view_module": "@jupyter-widgets/base",
       "_view_module_version": "2.0.0",
       "_view_name": "StyleView",
       "background": null,
       "description_width": "",
       "font_size": null,
       "text_color": null
      }
     },
     "388be8491fcd4be69962fc13c1948819": {
      "model_module": "@jupyter-widgets/controls",
      "model_module_version": "2.0.0",
      "model_name": "FloatProgressModel",
      "state": {
       "_dom_classes": [],
       "_model_module": "@jupyter-widgets/controls",
       "_model_module_version": "2.0.0",
       "_model_name": "FloatProgressModel",
       "_view_count": null,
       "_view_module": "@jupyter-widgets/controls",
       "_view_module_version": "2.0.0",
       "_view_name": "ProgressView",
       "bar_style": "success",
       "description": "",
       "description_allow_html": false,
       "layout": "IPY_MODEL_f8025787295f4430a160815b4cd4c192",
       "max": 111898327.0,
       "min": 0.0,
       "orientation": "horizontal",
       "style": "IPY_MODEL_f4a1e9d843d7426bbd36271916af74ab",
       "tabbable": null,
       "tooltip": null,
       "value": 111898327.0
      }
     },
     "5c98e1974e4c44359664439abe54ccb5": {
      "model_module": "@jupyter-widgets/base",
      "model_module_version": "2.0.0",
      "model_name": "LayoutModel",
      "state": {
       "_model_module": "@jupyter-widgets/base",
       "_model_module_version": "2.0.0",
       "_model_name": "LayoutModel",
       "_view_count": null,
       "_view_module": "@jupyter-widgets/base",
       "_view_module_version": "2.0.0",
       "_view_name": "LayoutView",
       "align_content": null,
       "align_items": null,
       "align_self": null,
       "border_bottom": null,
       "border_left": null,
       "border_right": null,
       "border_top": null,
       "bottom": null,
       "display": null,
       "flex": null,
       "flex_flow": null,
       "grid_area": null,
       "grid_auto_columns": null,
       "grid_auto_flow": null,
       "grid_auto_rows": null,
       "grid_column": null,
       "grid_gap": null,
       "grid_row": null,
       "grid_template_areas": null,
       "grid_template_columns": null,
       "grid_template_rows": null,
       "height": null,
       "justify_content": null,
       "justify_items": null,
       "left": null,
       "margin": null,
       "max_height": null,
       "max_width": null,
       "min_height": null,
       "min_width": null,
       "object_fit": null,
       "object_position": null,
       "order": null,
       "overflow": null,
       "padding": null,
       "right": null,
       "top": null,
       "visibility": null,
       "width": null
      }
     },
     "7ab0f7e6ac0c4aae97d0814578c407d1": {
      "model_module": "@jupyter-widgets/controls",
      "model_module_version": "2.0.0",
      "model_name": "HBoxModel",
      "state": {
       "_dom_classes": [],
       "_model_module": "@jupyter-widgets/controls",
       "_model_module_version": "2.0.0",
       "_model_name": "HBoxModel",
       "_view_count": null,
       "_view_module": "@jupyter-widgets/controls",
       "_view_module_version": "2.0.0",
       "_view_name": "HBoxView",
       "box_style": "",
       "children": [
        "IPY_MODEL_ac62e3f690234bd3b82c6002b2350dff",
        "IPY_MODEL_388be8491fcd4be69962fc13c1948819",
        "IPY_MODEL_0f1474ef7c9a4083a3687d84036e6c9f"
       ],
       "layout": "IPY_MODEL_5c98e1974e4c44359664439abe54ccb5",
       "tabbable": null,
       "tooltip": null
      }
     },
     "9b2d8c309dee4f9cb3e8c57feb4af243": {
      "model_module": "@jupyter-widgets/base",
      "model_module_version": "2.0.0",
      "model_name": "LayoutModel",
      "state": {
       "_model_module": "@jupyter-widgets/base",
       "_model_module_version": "2.0.0",
       "_model_name": "LayoutModel",
       "_view_count": null,
       "_view_module": "@jupyter-widgets/base",
       "_view_module_version": "2.0.0",
       "_view_name": "LayoutView",
       "align_content": null,
       "align_items": null,
       "align_self": null,
       "border_bottom": null,
       "border_left": null,
       "border_right": null,
       "border_top": null,
       "bottom": null,
       "display": null,
       "flex": null,
       "flex_flow": null,
       "grid_area": null,
       "grid_auto_columns": null,
       "grid_auto_flow": null,
       "grid_auto_rows": null,
       "grid_column": null,
       "grid_gap": null,
       "grid_row": null,
       "grid_template_areas": null,
       "grid_template_columns": null,
       "grid_template_rows": null,
       "height": null,
       "justify_content": null,
       "justify_items": null,
       "left": null,
       "margin": null,
       "max_height": null,
       "max_width": null,
       "min_height": null,
       "min_width": null,
       "object_fit": null,
       "object_position": null,
       "order": null,
       "overflow": null,
       "padding": null,
       "right": null,
       "top": null,
       "visibility": null,
       "width": null
      }
     },
     "ac62e3f690234bd3b82c6002b2350dff": {
      "model_module": "@jupyter-widgets/controls",
      "model_module_version": "2.0.0",
      "model_name": "HTMLModel",
      "state": {
       "_dom_classes": [],
       "_model_module": "@jupyter-widgets/controls",
       "_model_module_version": "2.0.0",
       "_model_name": "HTMLModel",
       "_view_count": null,
       "_view_module": "@jupyter-widgets/controls",
       "_view_module_version": "2.0.0",
       "_view_name": "HTMLView",
       "description": "",
       "description_allow_html": false,
       "layout": "IPY_MODEL_9b2d8c309dee4f9cb3e8c57feb4af243",
       "placeholder": "​",
       "style": "IPY_MODEL_ec53858fa67b44ada931c1435b3c5ec2",
       "tabbable": null,
       "tooltip": null,
       "value": "100%"
      }
     },
     "ec53858fa67b44ada931c1435b3c5ec2": {
      "model_module": "@jupyter-widgets/controls",
      "model_module_version": "2.0.0",
      "model_name": "HTMLStyleModel",
      "state": {
       "_model_module": "@jupyter-widgets/controls",
       "_model_module_version": "2.0.0",
       "_model_name": "HTMLStyleModel",
       "_view_count": null,
       "_view_module": "@jupyter-widgets/base",
       "_view_module_version": "2.0.0",
       "_view_name": "StyleView",
       "background": null,
       "description_width": "",
       "font_size": null,
       "text_color": null
      }
     },
     "f4a1e9d843d7426bbd36271916af74ab": {
      "model_module": "@jupyter-widgets/controls",
      "model_module_version": "2.0.0",
      "model_name": "ProgressStyleModel",
      "state": {
       "_model_module": "@jupyter-widgets/controls",
       "_model_module_version": "2.0.0",
       "_model_name": "ProgressStyleModel",
       "_view_count": null,
       "_view_module": "@jupyter-widgets/base",
       "_view_module_version": "2.0.0",
       "_view_name": "StyleView",
       "bar_color": null,
       "description_width": ""
      }
     },
     "f8025787295f4430a160815b4cd4c192": {
      "model_module": "@jupyter-widgets/base",
      "model_module_version": "2.0.0",
      "model_name": "LayoutModel",
      "state": {
       "_model_module": "@jupyter-widgets/base",
       "_model_module_version": "2.0.0",
       "_model_name": "LayoutModel",
       "_view_count": null,
       "_view_module": "@jupyter-widgets/base",
       "_view_module_version": "2.0.0",
       "_view_name": "LayoutView",
       "align_content": null,
       "align_items": null,
       "align_self": null,
       "border_bottom": null,
       "border_left": null,
       "border_right": null,
       "border_top": null,
       "bottom": null,
       "display": null,
       "flex": null,
       "flex_flow": null,
       "grid_area": null,
       "grid_auto_columns": null,
       "grid_auto_flow": null,
       "grid_auto_rows": null,
       "grid_column": null,
       "grid_gap": null,
       "grid_row": null,
       "grid_template_areas": null,
       "grid_template_columns": null,
       "grid_template_rows": null,
       "height": null,
       "justify_content": null,
       "justify_items": null,
       "left": null,
       "margin": null,
       "max_height": null,
       "max_width": null,
       "min_height": null,
       "min_width": null,
       "object_fit": null,
       "object_position": null,
       "order": null,
       "overflow": null,
       "padding": null,
       "right": null,
       "top": null,
       "visibility": null,
       "width": null
      }
     }
    },
    "version_major": 2,
    "version_minor": 0
   }
  }
 },
 "nbformat": 4,
 "nbformat_minor": 5
}
