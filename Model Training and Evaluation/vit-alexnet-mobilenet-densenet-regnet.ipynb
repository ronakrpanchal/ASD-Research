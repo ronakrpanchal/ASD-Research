{
 "cells": [
  {
   "cell_type": "markdown",
   "id": "d7892824",
   "metadata": {
    "papermill": {
     "duration": 0.007714,
     "end_time": "2025-09-08T09:39:43.239246",
     "exception": false,
     "start_time": "2025-09-08T09:39:43.231532",
     "status": "completed"
    },
    "tags": []
   },
   "source": [
    "# Autism Spectrum Disorder Detection - ViT and CNN Models Training\n",
    "\n",
    "This notebook prepares data from the AutismDataset folder and trains Vision Transformer and various CNN architectures for autism spectrum disorder detection:\n",
    "- Vision Transformer (ViT)\n",
    "- AlexNet\n",
    "- MobileNet V2\n",
    "- DenseNet-121\n",
    "- RegNet"
   ]
  },
  {
   "cell_type": "markdown",
   "id": "879a6c8e",
   "metadata": {
    "papermill": {
     "duration": 0.006202,
     "end_time": "2025-09-08T09:39:43.252149",
     "exception": false,
     "start_time": "2025-09-08T09:39:43.245947",
     "status": "completed"
    },
    "tags": []
   },
   "source": [
    "## Import Libraries"
   ]
  },
  {
   "cell_type": "code",
   "execution_count": 1,
   "id": "6ae23e42",
   "metadata": {
    "execution": {
     "iopub.execute_input": "2025-09-08T09:39:43.267322Z",
     "iopub.status.busy": "2025-09-08T09:39:43.267061Z",
     "iopub.status.idle": "2025-09-08T09:39:54.760872Z",
     "shell.execute_reply": "2025-09-08T09:39:54.760244Z"
    },
    "papermill": {
     "duration": 11.503002,
     "end_time": "2025-09-08T09:39:54.762199",
     "exception": false,
     "start_time": "2025-09-08T09:39:43.259197",
     "status": "completed"
    },
    "tags": []
   },
   "outputs": [],
   "source": [
    "import pandas as pd\n",
    "import numpy as np\n",
    "import torch\n",
    "import torch.nn as nn\n",
    "from sklearn.preprocessing import LabelEncoder\n",
    "from torch.utils.data import Dataset, DataLoader\n",
    "from torchvision import transforms\n",
    "from PIL import Image\n",
    "import torch.optim as optim\n",
    "import torchvision.models as models\n",
    "import time\n",
    "import copy\n",
    "import matplotlib.pyplot as plt\n",
    "from tqdm import tqdm\n",
    "import os\n",
    "import glob\n",
    "from sklearn.metrics import accuracy_score, classification_report, confusion_matrix\n",
    "import warnings\n",
    "warnings.filterwarnings('ignore')"
   ]
  },
  {
   "cell_type": "markdown",
   "id": "9886a7ba",
   "metadata": {
    "papermill": {
     "duration": 0.006796,
     "end_time": "2025-09-08T09:39:54.777309",
     "exception": false,
     "start_time": "2025-09-08T09:39:54.770513",
     "status": "completed"
    },
    "tags": []
   },
   "source": [
    "## Data Preparation\n",
    "\n",
    "We'll create DataFrames for train, validation, and test sets from the AutismDataset folder structure."
   ]
  },
  {
   "cell_type": "code",
   "execution_count": 2,
   "id": "8536c0aa",
   "metadata": {
    "execution": {
     "iopub.execute_input": "2025-09-08T09:39:54.791645Z",
     "iopub.status.busy": "2025-09-08T09:39:54.791062Z",
     "iopub.status.idle": "2025-09-08T09:39:54.932755Z",
     "shell.execute_reply": "2025-09-08T09:39:54.931891Z"
    },
    "papermill": {
     "duration": 0.150172,
     "end_time": "2025-09-08T09:39:54.933993",
     "exception": false,
     "start_time": "2025-09-08T09:39:54.783821",
     "status": "completed"
    },
    "tags": []
   },
   "outputs": [
    {
     "name": "stdout",
     "output_type": "stream",
     "text": [
      "\n",
      "Creating DataFrames...\n",
      "Training samples: 2540\n",
      "Validation samples: 100\n",
      "Test samples: 300\n",
      "Total samples: 2940\n",
      "\n",
      "Label distribution in training set:\n",
      "labels\n",
      "Non_Autistic    1270\n",
      "Autistic        1270\n",
      "Name: count, dtype: int64\n",
      "\n",
      "Label distribution in validation set:\n",
      "labels\n",
      "Autistic        50\n",
      "Non_Autistic    50\n",
      "Name: count, dtype: int64\n",
      "\n",
      "Label distribution in test set:\n",
      "labels\n",
      "Non_Autistic    150\n",
      "Autistic        150\n",
      "Name: count, dtype: int64\n"
     ]
    }
   ],
   "source": [
    "# Base paths\n",
    "base_path = '/kaggle/input/autism-image-data/AutismDataset'\n",
    "train_path = os.path.join(base_path, 'train')\n",
    "valid_path = os.path.join(base_path, 'valid')\n",
    "test_path = os.path.join(base_path, 'test')\n",
    "\n",
    "def create_dataframe_from_flat_directory(directory_path, split_name):\n",
    "    \"\"\"\n",
    "    Create DataFrame from flat directory structure (train/test)\n",
    "    Files are named like: Autistic.X.jpg, Non_Autistic.X.jpg\n",
    "    \"\"\"\n",
    "    data = []\n",
    "    \n",
    "    # Get all jpg files\n",
    "    all_files = glob.glob(os.path.join(directory_path, '*.jpg'))\n",
    "    \n",
    "    for file_path in all_files:\n",
    "        filename = os.path.basename(file_path)\n",
    "        \n",
    "        # Determine label from filename\n",
    "        if filename.startswith('Autistic.'):\n",
    "            label = 'Autistic'\n",
    "        elif filename.startswith('Non_Autistic.'):\n",
    "            label = 'Non_Autistic'\n",
    "        else:\n",
    "            continue  # Skip files that don't match our pattern\n",
    "        \n",
    "        data.append({\n",
    "            'image_path': file_path,\n",
    "            'labels': label,\n",
    "            'split': split_name\n",
    "        })\n",
    "    \n",
    "    return pd.DataFrame(data)\n",
    "\n",
    "def create_dataframe_from_subdirectory(directory_path, split_name):\n",
    "    \"\"\"\n",
    "    Create DataFrame from subdirectory structure (valid)\n",
    "    Structure: valid/Autistic/, valid/Non_Autistic/\n",
    "    \"\"\"\n",
    "    data = []\n",
    "    \n",
    "    # Process Autistic subdirectory\n",
    "    autistic_path = os.path.join(directory_path, 'Autistic')\n",
    "    if os.path.exists(autistic_path):\n",
    "        autistic_files = glob.glob(os.path.join(autistic_path, '*.jpg'))\n",
    "        for file_path in autistic_files:\n",
    "            data.append({\n",
    "                'image_path': file_path,\n",
    "                'labels': 'Autistic',\n",
    "                'split': split_name\n",
    "            })\n",
    "    \n",
    "    # Process Non_Autistic subdirectory\n",
    "    non_autistic_path = os.path.join(directory_path, 'Non_Autistic')\n",
    "    if os.path.exists(non_autistic_path):\n",
    "        non_autistic_files = glob.glob(os.path.join(non_autistic_path, '*.jpg'))\n",
    "        for file_path in non_autistic_files:\n",
    "            data.append({\n",
    "                'image_path': file_path,\n",
    "                'labels': 'Non_Autistic',\n",
    "                'split': split_name\n",
    "            })\n",
    "    \n",
    "    return pd.DataFrame(data)\n",
    "\n",
    "# Create DataFrames for each split\n",
    "print(\"\\nCreating DataFrames...\")\n",
    "train_df = create_dataframe_from_flat_directory(train_path, 'train')\n",
    "valid_df = create_dataframe_from_subdirectory(valid_path, 'valid')\n",
    "test_df = create_dataframe_from_flat_directory(test_path, 'test')\n",
    "\n",
    "print(f\"Training samples: {len(train_df)}\")\n",
    "print(f\"Validation samples: {len(valid_df)}\")\n",
    "print(f\"Test samples: {len(test_df)}\")\n",
    "print(f\"Total samples: {len(train_df) + len(valid_df) + len(test_df)}\")\n",
    "\n",
    "if len(train_df) > 0:\n",
    "    print(f\"\\nLabel distribution in training set:\")\n",
    "    print(train_df['labels'].value_counts())\n",
    "\n",
    "if len(valid_df) > 0:\n",
    "    print(f\"\\nLabel distribution in validation set:\")\n",
    "    print(valid_df['labels'].value_counts())\n",
    "\n",
    "if len(test_df) > 0:\n",
    "    print(f\"\\nLabel distribution in test set:\")\n",
    "    print(test_df['labels'].value_counts())"
   ]
  },
  {
   "cell_type": "markdown",
   "id": "e908c52e",
   "metadata": {
    "papermill": {
     "duration": 0.006213,
     "end_time": "2025-09-08T09:39:54.947314",
     "exception": false,
     "start_time": "2025-09-08T09:39:54.941101",
     "status": "completed"
    },
    "tags": []
   },
   "source": [
    "## Data Transformations\n",
    "\n",
    "Define image transformations for training and validation/testing. For ViT models, we use specific image sizes."
   ]
  },
  {
   "cell_type": "code",
   "execution_count": 3,
   "id": "8fc78988",
   "metadata": {
    "execution": {
     "iopub.execute_input": "2025-09-08T09:39:54.960923Z",
     "iopub.status.busy": "2025-09-08T09:39:54.960699Z",
     "iopub.status.idle": "2025-09-08T09:39:54.965145Z",
     "shell.execute_reply": "2025-09-08T09:39:54.964657Z"
    },
    "papermill": {
     "duration": 0.012559,
     "end_time": "2025-09-08T09:39:54.966182",
     "exception": false,
     "start_time": "2025-09-08T09:39:54.953623",
     "status": "completed"
    },
    "tags": []
   },
   "outputs": [],
   "source": [
    "# Data transformations for CNN models - No augmentation\n",
    "train_transform_cnn = transforms.Compose([\n",
    "    transforms.Resize((224, 224)),  \n",
    "    transforms.ToTensor(),\n",
    "    transforms.ConvertImageDtype(torch.float),\n",
    "    transforms.Normalize(mean=[0.485, 0.456, 0.406], std=[0.229, 0.224, 0.225]) \n",
    "])\n",
    "\n",
    "val_test_transform_cnn = transforms.Compose([\n",
    "    transforms.Resize((224, 224)),\n",
    "    transforms.ToTensor(),\n",
    "    transforms.ConvertImageDtype(torch.float),\n",
    "    transforms.Normalize(mean=[0.485, 0.456, 0.406], std=[0.229, 0.224, 0.225])  \n",
    "])"
   ]
  },
  {
   "cell_type": "markdown",
   "id": "5527975d",
   "metadata": {
    "papermill": {
     "duration": 0.006285,
     "end_time": "2025-09-08T09:39:54.979020",
     "exception": false,
     "start_time": "2025-09-08T09:39:54.972735",
     "status": "completed"
    },
    "tags": []
   },
   "source": [
    "## Dataset & DataLoader Classes"
   ]
  },
  {
   "cell_type": "code",
   "execution_count": 4,
   "id": "59179f7d",
   "metadata": {
    "execution": {
     "iopub.execute_input": "2025-09-08T09:39:54.992861Z",
     "iopub.status.busy": "2025-09-08T09:39:54.992654Z",
     "iopub.status.idle": "2025-09-08T09:39:55.002179Z",
     "shell.execute_reply": "2025-09-08T09:39:55.001691Z"
    },
    "papermill": {
     "duration": 0.017684,
     "end_time": "2025-09-08T09:39:55.003161",
     "exception": false,
     "start_time": "2025-09-08T09:39:54.985477",
     "status": "completed"
    },
    "tags": []
   },
   "outputs": [],
   "source": [
    "BATCH_SIZE = 16\n",
    "NUM_WORKERS = 4\n",
    "\n",
    "class AutismDataset(Dataset):\n",
    "    def __init__(self, dataframe, transform=None, label_encoder=None, fit_label_encoder=False):\n",
    "        \"\"\"\n",
    "        Args:\n",
    "            dataframe (DataFrame): DataFrame with image_path and labels columns.\n",
    "            transform (callable, optional): Optional transform to be applied on a sample.\n",
    "            label_encoder (LabelEncoder, optional): Pre-fitted label encoder. If None, creates new one.\n",
    "            fit_label_encoder (bool): Whether to fit the label encoder on this dataset's labels.\n",
    "        \"\"\"\n",
    "        self.data = dataframe.reset_index(drop=True)\n",
    "        self.transform = transform\n",
    "        \n",
    "        if label_encoder is None:\n",
    "            self.label_encoder = LabelEncoder()\n",
    "            if fit_label_encoder:\n",
    "                self.labels = self.label_encoder.fit_transform(self.data['labels'])\n",
    "            else:\n",
    "                raise ValueError(\"Must provide label_encoder or set fit_label_encoder=True\")\n",
    "        else:\n",
    "            self.label_encoder = label_encoder\n",
    "            self.labels = self.label_encoder.transform(self.data['labels'])\n",
    "        \n",
    "        self.image_paths = self.data['image_path'].tolist()\n",
    "        \n",
    "    def __len__(self):\n",
    "        return len(self.data)\n",
    "    \n",
    "    def __getitem__(self, idx):\n",
    "        if torch.is_tensor(idx):\n",
    "            idx = idx.tolist()\n",
    "        \n",
    "        # Load image\n",
    "        img_path = self.image_paths[idx]\n",
    "        try:\n",
    "            image = Image.open(img_path).convert('RGB')\n",
    "        except Exception as e:\n",
    "            print(f\"Error loading image: {img_path}\")\n",
    "            image = Image.new('RGB', (224, 224), color='black')\n",
    "        \n",
    "        label = self.labels[idx]\n",
    "        \n",
    "        if self.transform:\n",
    "            image = self.transform(image)\n",
    "        \n",
    "        return image, torch.tensor(label, dtype=torch.long)\n",
    "    \n",
    "    def get_label_encoder(self):\n",
    "        \"\"\"Return the label encoder for use with other datasets\"\"\"\n",
    "        return self.label_encoder\n",
    "    \n",
    "    def get_class_names(self):\n",
    "        \"\"\"Return the original class names\"\"\"\n",
    "        return self.label_encoder.classes_\n",
    "\n",
    "def create_dataloaders(train_df, val_df, test_df, train_transform, val_test_transform, batch_size=BATCH_SIZE, num_workers=NUM_WORKERS):\n",
    "    \"\"\"\n",
    "    Create datasets and dataloaders for training, validation, and testing\n",
    "    \"\"\"\n",
    "    # Create training dataset and fit label encoder\n",
    "    train_dataset = AutismDataset(\n",
    "        dataframe=train_df, \n",
    "        transform=train_transform,\n",
    "        fit_label_encoder=True  \n",
    "    )\n",
    "    \n",
    "    # Get the fitted label encoder\n",
    "    le = train_dataset.get_label_encoder()\n",
    "    \n",
    "    # Create validation dataset using the same label encoder\n",
    "    val_dataset = AutismDataset(\n",
    "        dataframe=val_df,\n",
    "        transform=val_test_transform,\n",
    "        label_encoder=le\n",
    "    )\n",
    "    \n",
    "    # Create test dataset using the same label encoder\n",
    "    test_dataset = AutismDataset(\n",
    "        dataframe=test_df,\n",
    "        transform=val_test_transform,\n",
    "        label_encoder=le\n",
    "    )\n",
    "    \n",
    "    # Create dataloaders\n",
    "    train_loader = DataLoader(\n",
    "        train_dataset,\n",
    "        batch_size=batch_size,\n",
    "        shuffle=True,\n",
    "        num_workers=num_workers,\n",
    "        pin_memory=True,\n",
    "        drop_last=True\n",
    "    )\n",
    "    \n",
    "    val_loader = DataLoader(\n",
    "        val_dataset,\n",
    "        batch_size=batch_size,\n",
    "        shuffle=False,\n",
    "        num_workers=num_workers,\n",
    "        pin_memory=True\n",
    "    )\n",
    "    \n",
    "    test_loader = DataLoader(\n",
    "        test_dataset,\n",
    "        batch_size=batch_size,\n",
    "        shuffle=False,\n",
    "        num_workers=num_workers,\n",
    "        pin_memory=True\n",
    "    )\n",
    "    \n",
    "    return train_loader, val_loader, test_loader, le"
   ]
  },
  {
   "cell_type": "markdown",
   "id": "6434eb9a",
   "metadata": {
    "papermill": {
     "duration": 0.006135,
     "end_time": "2025-09-08T09:39:55.015661",
     "exception": false,
     "start_time": "2025-09-08T09:39:55.009526",
     "status": "completed"
    },
    "tags": []
   },
   "source": [
    "## Model Training Framework"
   ]
  },
  {
   "cell_type": "code",
   "execution_count": 5,
   "id": "f8c4e24a",
   "metadata": {
    "execution": {
     "iopub.execute_input": "2025-09-08T09:39:55.029211Z",
     "iopub.status.busy": "2025-09-08T09:39:55.029005Z",
     "iopub.status.idle": "2025-09-08T09:39:55.045889Z",
     "shell.execute_reply": "2025-09-08T09:39:55.045365Z"
    },
    "papermill": {
     "duration": 0.02493,
     "end_time": "2025-09-08T09:39:55.046848",
     "exception": false,
     "start_time": "2025-09-08T09:39:55.021918",
     "status": "completed"
    },
    "tags": []
   },
   "outputs": [],
   "source": [
    "class ModelTrainer:\n",
    "    def __init__(self, model, train_loader, val_loader, test_loader, device='cuda'):\n",
    "        self.model = model.to(device)\n",
    "        self.train_loader = train_loader\n",
    "        self.val_loader = val_loader\n",
    "        self.test_loader = test_loader\n",
    "        self.device = device\n",
    "        \n",
    "        # Training history\n",
    "        self.train_losses = []\n",
    "        self.val_losses = []\n",
    "        self.train_accuracies = []\n",
    "        self.val_accuracies = []\n",
    "        \n",
    "    def train_model(self, num_epochs=25, lr=0.001, weight_decay=1e-4, save_best=True, model_name=\"model\"):\n",
    "        \"\"\"Train the model with early stopping and best model saving\"\"\"\n",
    "        \n",
    "        # Loss function and optimizer\n",
    "        criterion = nn.CrossEntropyLoss()\n",
    "        optimizer = optim.Adam(self.model.parameters(), lr=lr, weight_decay=weight_decay)\n",
    "        scheduler = optim.lr_scheduler.StepLR(optimizer, step_size=7, gamma=0.1)\n",
    "        \n",
    "        # Best model tracking\n",
    "        best_val_acc = 0.0\n",
    "        best_model_wts = copy.deepcopy(self.model.state_dict())\n",
    "        patience = 5\n",
    "        patience_counter = 0\n",
    "        \n",
    "        print(f\"Starting training for {num_epochs} epochs...\")\n",
    "        print(\"-\" * 60)\n",
    "        \n",
    "        start_time = time.time()\n",
    "        \n",
    "        for epoch in range(num_epochs):\n",
    "            print(f'Epoch {epoch+1}/{num_epochs}')\n",
    "            print('-' * 10)\n",
    "            \n",
    "            # Each epoch has a training and validation phase\n",
    "            for phase in ['train', 'val']:\n",
    "                if phase == 'train':\n",
    "                    self.model.train()\n",
    "                    dataloader = self.train_loader\n",
    "                else:\n",
    "                    self.model.eval()\n",
    "                    dataloader = self.val_loader\n",
    "                \n",
    "                running_loss = 0.0\n",
    "                running_corrects = 0\n",
    "                total_samples = 0\n",
    "                \n",
    "                # Progress bar\n",
    "                pbar = tqdm(dataloader, desc=f'{phase.capitalize()} ')\n",
    "                \n",
    "                for inputs, labels in pbar:\n",
    "                    inputs = inputs.to(self.device)\n",
    "                    labels = labels.to(self.device)\n",
    "                    \n",
    "                    # Zero gradients\n",
    "                    optimizer.zero_grad()\n",
    "                    \n",
    "                    # Forward pass\n",
    "                    with torch.set_grad_enabled(phase == 'train'):\n",
    "                        outputs = self.model(inputs)\n",
    "                        _, preds = torch.max(outputs, 1)\n",
    "                        loss = criterion(outputs, labels)\n",
    "                        \n",
    "                        # Backward pass (only in training)\n",
    "                        if phase == 'train':\n",
    "                            loss.backward()\n",
    "                            optimizer.step()\n",
    "                    \n",
    "                    # Statistics\n",
    "                    running_loss += loss.item() * inputs.size(0)\n",
    "                    running_corrects += torch.sum(preds == labels.data)\n",
    "                    total_samples += inputs.size(0)\n",
    "                    \n",
    "                    # Update progress bar\n",
    "                    current_acc = running_corrects.double() / total_samples\n",
    "                    pbar.set_postfix({\n",
    "                        'Loss': f'{running_loss/total_samples:.4f}',\n",
    "                        'Acc': f'{current_acc:.4f}'\n",
    "                    })\n",
    "                \n",
    "                # Calculate epoch metrics\n",
    "                epoch_loss = running_loss / total_samples\n",
    "                epoch_acc = running_corrects.double() / total_samples\n",
    "                \n",
    "                print(f'{phase.capitalize()} Loss: {epoch_loss:.4f} Acc: {epoch_acc:.4f}')\n",
    "                \n",
    "                # Store metrics\n",
    "                if phase == 'train':\n",
    "                    self.train_losses.append(epoch_loss)\n",
    "                    self.train_accuracies.append(epoch_acc.cpu())\n",
    "                else:\n",
    "                    self.val_losses.append(epoch_loss)\n",
    "                    self.val_accuracies.append(epoch_acc.cpu())\n",
    "                \n",
    "                # Save best model\n",
    "                if phase == 'val' and epoch_acc > best_val_acc:\n",
    "                    best_val_acc = epoch_acc\n",
    "                    best_model_wts = copy.deepcopy(self.model.state_dict())\n",
    "                    patience_counter = 0\n",
    "                    if save_best:\n",
    "                        torch.save(self.model.state_dict(), f'best_{model_name}.pth')\n",
    "                        print(f'✓ New best model saved with validation accuracy: {best_val_acc:.4f}')\n",
    "                elif phase == 'val':\n",
    "                    patience_counter += 1\n",
    "            \n",
    "            # Learning rate scheduler step\n",
    "            if phase == 'train':\n",
    "                scheduler.step()\n",
    "            \n",
    "            # Early stopping\n",
    "            if patience_counter >= patience:\n",
    "                print(f'Early stopping triggered after {epoch+1} epochs')\n",
    "                break\n",
    "                \n",
    "            print()\n",
    "        \n",
    "        # Training complete\n",
    "        time_elapsed = time.time() - start_time\n",
    "        print(f'Training complete in {time_elapsed // 60:.0f}m {time_elapsed % 60:.0f}s')\n",
    "        print(f'Best validation accuracy: {best_val_acc:.4f}')\n",
    "        \n",
    "        # Load best model weights\n",
    "        self.model.load_state_dict(best_model_wts)\n",
    "        return self.model\n",
    "    \n",
    "    def evaluate_model(self, test_loader=None):\n",
    "        \"\"\"Evaluate model on test set\"\"\"\n",
    "        if test_loader is None:\n",
    "            test_loader = self.test_loader\n",
    "            \n",
    "        self.model.eval()\n",
    "        all_preds = []\n",
    "        all_labels = []\n",
    "        test_loss = 0.0\n",
    "        correct = 0\n",
    "        total = 0\n",
    "        \n",
    "        criterion = nn.CrossEntropyLoss()\n",
    "        \n",
    "        print(\"Evaluating on test set...\")\n",
    "        with torch.no_grad():\n",
    "            for inputs, labels in tqdm(test_loader):\n",
    "                inputs = inputs.to(self.device)\n",
    "                labels = labels.to(self.device)\n",
    "                \n",
    "                outputs = self.model(inputs)\n",
    "                loss = criterion(outputs, labels)\n",
    "                \n",
    "                _, predicted = torch.max(outputs.data, 1)\n",
    "                total += labels.size(0)\n",
    "                correct += (predicted == labels).sum().item()\n",
    "                test_loss += loss.item()\n",
    "                \n",
    "                # Store for detailed metrics\n",
    "                all_preds.extend(predicted.cpu().numpy())\n",
    "                all_labels.extend(labels.cpu().numpy())\n",
    "        \n",
    "        # Calculate metrics\n",
    "        test_acc = 100 * correct / total\n",
    "        avg_test_loss = test_loss / len(test_loader)\n",
    "        \n",
    "        print(f'Test Accuracy: {test_acc:.2f}%')\n",
    "        print(f'Test Loss: {avg_test_loss:.4f}')\n",
    "        \n",
    "        # Detailed classification report\n",
    "        print(\"\\nClassification Report:\")\n",
    "        print(classification_report(all_labels, all_preds, target_names=['Autistic', 'Non_Autistic']))\n",
    "        \n",
    "        # Confusion Matrix\n",
    "        cm = confusion_matrix(all_labels, all_preds)\n",
    "        print(f\"\\nConfusion Matrix:\")\n",
    "        print(cm)\n",
    "        \n",
    "        return test_acc, all_preds, all_labels\n",
    "    \n",
    "    def plot_training_history(self, save_path=None):\n",
    "        \"\"\"Plot training and validation metrics\"\"\"\n",
    "        fig, (ax1, ax2) = plt.subplots(1, 2, figsize=(15, 5))\n",
    "        \n",
    "        # Plot losses\n",
    "        ax1.plot(self.train_losses, label='Train Loss', marker='o')\n",
    "        ax1.plot(self.val_losses, label='Validation Loss', marker='s')\n",
    "        ax1.set_title('Model Loss')\n",
    "        ax1.set_xlabel('Epoch')\n",
    "        ax1.set_ylabel('Loss')\n",
    "        ax1.legend()\n",
    "        ax1.grid(True)\n",
    "        \n",
    "        # Plot accuracies\n",
    "        ax2.plot(self.train_accuracies, label='Train Accuracy', marker='o')\n",
    "        ax2.plot(self.val_accuracies, label='Validation Accuracy', marker='s')\n",
    "        ax2.set_title('Model Accuracy')\n",
    "        ax2.set_xlabel('Epoch')\n",
    "        ax2.set_ylabel('Accuracy')\n",
    "        ax2.legend()\n",
    "        ax2.grid(True)\n",
    "        \n",
    "        plt.tight_layout()\n",
    "        \n",
    "        if save_path:\n",
    "            plt.savefig(save_path)\n",
    "        plt.show()"
   ]
  },
  {
   "cell_type": "markdown",
   "id": "6122d87f",
   "metadata": {
    "papermill": {
     "duration": 0.006276,
     "end_time": "2025-09-08T09:39:55.059552",
     "exception": false,
     "start_time": "2025-09-08T09:39:55.053276",
     "status": "completed"
    },
    "tags": []
   },
   "source": [
    "## Model Definitions"
   ]
  },
  {
   "cell_type": "code",
   "execution_count": 6,
   "id": "89ce8fd6",
   "metadata": {
    "execution": {
     "iopub.execute_input": "2025-09-08T09:39:55.073168Z",
     "iopub.status.busy": "2025-09-08T09:39:55.072966Z",
     "iopub.status.idle": "2025-09-08T09:39:55.081180Z",
     "shell.execute_reply": "2025-09-08T09:39:55.080718Z"
    },
    "papermill": {
     "duration": 0.01635,
     "end_time": "2025-09-08T09:39:55.082228",
     "exception": false,
     "start_time": "2025-09-08T09:39:55.065878",
     "status": "completed"
    },
    "tags": []
   },
   "outputs": [],
   "source": [
    "def create_vit_model(architecture='vit_b_16', num_classes=2, pretrained=True):\n",
    "    \"\"\"Create Vision Transformer model for binary classification\"\"\"\n",
    "    if architecture == 'vit_b_16':\n",
    "        model = models.vit_b_16(pretrained=pretrained)\n",
    "    elif architecture == 'vit_l_16':\n",
    "        model = models.vit_l_16(pretrained=pretrained)\n",
    "    else:\n",
    "        raise ValueError(\"Architecture must be 'vit_b_16' or 'vit_l_16'\")\n",
    "    \n",
    "    # Modify classifier head\n",
    "    num_features = model.heads.head.in_features\n",
    "    model.heads.head = nn.Linear(num_features, num_classes)\n",
    "    \n",
    "    return model\n",
    "\n",
    "def create_alexnet_model(num_classes=2, pretrained=True):\n",
    "    \"\"\"Create AlexNet model for binary classification\"\"\"\n",
    "    model = models.alexnet(pretrained=pretrained)\n",
    "    \n",
    "    # Modify classifier\n",
    "    num_features = model.classifier[6].in_features\n",
    "    model.classifier[6] = nn.Linear(num_features, num_classes)\n",
    "    \n",
    "    return model\n",
    "\n",
    "def create_mobilenet_model(version='v2', num_classes=2, pretrained=True):\n",
    "    \"\"\"Create MobileNet model (v2 or v3) for binary classification\"\"\"\n",
    "    if version == 'v2':\n",
    "        model = models.mobilenet_v2(pretrained=pretrained)\n",
    "        # Modify classifier\n",
    "        num_features = model.classifier[1].in_features\n",
    "        model.classifier[1] = nn.Linear(num_features, num_classes)\n",
    "    elif version == 'v3_large':\n",
    "        model = models.mobilenet_v3_large(pretrained=pretrained)\n",
    "        # Modify classifier\n",
    "        num_features = model.classifier[3].in_features\n",
    "        model.classifier[3] = nn.Linear(num_features, num_classes)\n",
    "    elif version == 'v3_small':\n",
    "        model = models.mobilenet_v3_small(pretrained=pretrained)\n",
    "        # Modify classifier\n",
    "        num_features = model.classifier[3].in_features\n",
    "        model.classifier[3] = nn.Linear(num_features, num_classes)\n",
    "    else:\n",
    "        raise ValueError(\"Version must be 'v2', 'v3_large', or 'v3_small'\")\n",
    "    \n",
    "    return model\n",
    "\n",
    "def create_regnet_model(architecture='x_400mf', num_classes=2, pretrained=True):\n",
    "    \"\"\"Create RegNet model for binary classification\"\"\"\n",
    "    if architecture == 'x_400mf':\n",
    "        model = models.regnet_x_400mf(pretrained=pretrained)\n",
    "    elif architecture == 'x_800mf':\n",
    "        model = models.regnet_x_800mf(pretrained=pretrained)\n",
    "    elif architecture == 'y_400mf':\n",
    "        model = models.regnet_y_400mf(pretrained=pretrained)\n",
    "    elif architecture == 'y_800mf':\n",
    "        model = models.regnet_y_800mf(pretrained=pretrained)\n",
    "    else:\n",
    "        raise ValueError(\"Architecture must be 'x_400mf', 'x_800mf', 'y_400mf', or 'y_800mf'\")\n",
    "    \n",
    "    # Modify classifier\n",
    "    num_features = model.fc.in_features\n",
    "    model.fc = nn.Linear(num_features, num_classes)\n",
    "    \n",
    "    return model\n",
    "\n",
    "def create_densenet_model(architecture='121', num_classes=2, pretrained=True):\n",
    "    \"\"\"Create DenseNet model (121 or 169) for binary classification\"\"\"\n",
    "    if architecture == '121':\n",
    "        model = models.densenet121(pretrained=pretrained)\n",
    "    elif architecture == '169':\n",
    "        model = models.densenet169(pretrained=pretrained)\n",
    "    else:\n",
    "        raise ValueError(\"Architecture must be '121' or '169'\")\n",
    "    \n",
    "    # Modify classifier\n",
    "    num_features = model.classifier.in_features\n",
    "    model.classifier = nn.Linear(num_features, num_classes)\n",
    "    \n",
    "    return model"
   ]
  },
  {
   "cell_type": "markdown",
   "id": "9cdbaefd",
   "metadata": {
    "papermill": {
     "duration": 0.006214,
     "end_time": "2025-09-08T09:39:55.094952",
     "exception": false,
     "start_time": "2025-09-08T09:39:55.088738",
     "status": "completed"
    },
    "tags": []
   },
   "source": [
    "## Configure GPU"
   ]
  },
  {
   "cell_type": "code",
   "execution_count": 7,
   "id": "c7f3d96a",
   "metadata": {
    "execution": {
     "iopub.execute_input": "2025-09-08T09:39:55.109648Z",
     "iopub.status.busy": "2025-09-08T09:39:55.109424Z",
     "iopub.status.idle": "2025-09-08T09:39:55.194973Z",
     "shell.execute_reply": "2025-09-08T09:39:55.194234Z"
    },
    "papermill": {
     "duration": 0.094844,
     "end_time": "2025-09-08T09:39:55.196052",
     "exception": false,
     "start_time": "2025-09-08T09:39:55.101208",
     "status": "completed"
    },
    "tags": []
   },
   "outputs": [
    {
     "name": "stdout",
     "output_type": "stream",
     "text": [
      "Using device: cuda\n",
      "GPU: Tesla P100-PCIE-16GB\n",
      "Memory: 15.9 GB\n"
     ]
    }
   ],
   "source": [
    "device = torch.device('cuda' if torch.cuda.is_available() else 'cpu')\n",
    "print(f\"Using device: {device}\")\n",
    "if torch.cuda.is_available():\n",
    "    print(f\"GPU: {torch.cuda.get_device_name(0)}\")\n",
    "    print(f\"Memory: {torch.cuda.get_device_properties(0).total_memory / 1024**3:.1f} GB\")"
   ]
  },
  {
   "cell_type": "markdown",
   "id": "f21eb4be",
   "metadata": {
    "papermill": {
     "duration": 0.006493,
     "end_time": "2025-09-08T09:39:55.252656",
     "exception": false,
     "start_time": "2025-09-08T09:39:55.246163",
     "status": "completed"
    },
    "tags": []
   },
   "source": [
    "## Create DataLoaders for CNN Models"
   ]
  },
  {
   "cell_type": "code",
   "execution_count": 8,
   "id": "7d3a5669",
   "metadata": {
    "execution": {
     "iopub.execute_input": "2025-09-08T09:39:55.266790Z",
     "iopub.status.busy": "2025-09-08T09:39:55.266512Z",
     "iopub.status.idle": "2025-09-08T09:39:55.273625Z",
     "shell.execute_reply": "2025-09-08T09:39:55.272918Z"
    },
    "papermill": {
     "duration": 0.015577,
     "end_time": "2025-09-08T09:39:55.274753",
     "exception": false,
     "start_time": "2025-09-08T09:39:55.259176",
     "status": "completed"
    },
    "tags": []
   },
   "outputs": [
    {
     "name": "stdout",
     "output_type": "stream",
     "text": [
      "CNN DataLoaders created:\n",
      "Training batches: 79\n",
      "Validation batches: 4\n",
      "Test batches: 10\n",
      "Classes: ['Autistic' 'Non_Autistic']\n"
     ]
    }
   ],
   "source": [
    "# Create CNN dataloaders\n",
    "train_loader_cnn, val_loader_cnn, test_loader_cnn, label_encoder = create_dataloaders(\n",
    "    train_df, valid_df, test_df, \n",
    "    train_transform_cnn, val_test_transform_cnn,\n",
    "    batch_size=32, num_workers=4\n",
    ")\n",
    "\n",
    "print(f\"CNN DataLoaders created:\")\n",
    "print(f\"Training batches: {len(train_loader_cnn)}\")\n",
    "print(f\"Validation batches: {len(val_loader_cnn)}\")\n",
    "print(f\"Test batches: {len(test_loader_cnn)}\")\n",
    "print(f\"Classes: {label_encoder.classes_}\")"
   ]
  },
  {
   "cell_type": "markdown",
   "id": "acf109c3",
   "metadata": {
    "papermill": {
     "duration": 0.006421,
     "end_time": "2025-09-08T09:39:55.287830",
     "exception": false,
     "start_time": "2025-09-08T09:39:55.281409",
     "status": "completed"
    },
    "tags": []
   },
   "source": [
    "## Create DataLoaders for ViT Model"
   ]
  },
  {
   "cell_type": "code",
   "execution_count": 9,
   "id": "26989b40",
   "metadata": {
    "execution": {
     "iopub.execute_input": "2025-09-08T09:39:55.301593Z",
     "iopub.status.busy": "2025-09-08T09:39:55.301341Z",
     "iopub.status.idle": "2025-09-08T09:39:55.307597Z",
     "shell.execute_reply": "2025-09-08T09:39:55.306888Z"
    },
    "papermill": {
     "duration": 0.014413,
     "end_time": "2025-09-08T09:39:55.308757",
     "exception": false,
     "start_time": "2025-09-08T09:39:55.294344",
     "status": "completed"
    },
    "tags": []
   },
   "outputs": [
    {
     "name": "stdout",
     "output_type": "stream",
     "text": [
      "ViT DataLoaders created:\n",
      "Training batches: 158\n",
      "Validation batches: 7\n",
      "Test batches: 19\n"
     ]
    }
   ],
   "source": [
    "# Create ViT dataloaders (larger image size)\n",
    "train_loader_vit, val_loader_vit, test_loader_vit, _ = create_dataloaders(\n",
    "    train_df, valid_df, test_df, \n",
    "    train_transform_cnn, val_test_transform_cnn,\n",
    "    batch_size=16, num_workers=4  # Smaller batch size for ViT due to memory requirements\n",
    ")\n",
    "\n",
    "print(f\"ViT DataLoaders created:\")\n",
    "print(f\"Training batches: {len(train_loader_vit)}\")\n",
    "print(f\"Validation batches: {len(val_loader_vit)}\")\n",
    "print(f\"Test batches: {len(test_loader_vit)}\")"
   ]
  },
  {
   "cell_type": "markdown",
   "id": "990f6715",
   "metadata": {
    "papermill": {
     "duration": 0.006448,
     "end_time": "2025-09-08T09:39:55.321707",
     "exception": false,
     "start_time": "2025-09-08T09:39:55.315259",
     "status": "completed"
    },
    "tags": []
   },
   "source": [
    "## 1. Vision Transformer (ViT-B/16) Training"
   ]
  },
  {
   "cell_type": "code",
   "execution_count": 10,
   "id": "6834a906",
   "metadata": {
    "execution": {
     "iopub.execute_input": "2025-09-08T09:39:55.335757Z",
     "iopub.status.busy": "2025-09-08T09:39:55.335295Z",
     "iopub.status.idle": "2025-09-08T09:39:59.320579Z",
     "shell.execute_reply": "2025-09-08T09:39:59.319750Z"
    },
    "papermill": {
     "duration": 3.993738,
     "end_time": "2025-09-08T09:39:59.321982",
     "exception": false,
     "start_time": "2025-09-08T09:39:55.328244",
     "status": "completed"
    },
    "tags": []
   },
   "outputs": [
    {
     "name": "stdout",
     "output_type": "stream",
     "text": [
      "Creating Vision Transformer (ViT-B/16) model...\n"
     ]
    },
    {
     "name": "stderr",
     "output_type": "stream",
     "text": [
      "Downloading: \"https://download.pytorch.org/models/vit_b_16-c867db91.pth\" to /root/.cache/torch/hub/checkpoints/vit_b_16-c867db91.pth\n",
      "100%|██████████| 330M/330M [00:01<00:00, 202MB/s]\n"
     ]
    }
   ],
   "source": [
    "# Create and train ViT-B/16\n",
    "print(\"Creating Vision Transformer (ViT-B/16) model...\")\n",
    "vit_b16_model = create_vit_model('vit_b_16')\n",
    "vit_b16_trainer = ModelTrainer(vit_b16_model, train_loader_vit, val_loader_vit, test_loader_vit, device)"
   ]
  },
  {
   "cell_type": "code",
   "execution_count": 11,
   "id": "2860951e",
   "metadata": {
    "execution": {
     "iopub.execute_input": "2025-09-08T09:39:59.338863Z",
     "iopub.status.busy": "2025-09-08T09:39:59.338258Z",
     "iopub.status.idle": "2025-09-08T09:47:47.004216Z",
     "shell.execute_reply": "2025-09-08T09:47:47.003124Z"
    },
    "papermill": {
     "duration": 467.675592,
     "end_time": "2025-09-08T09:47:47.005639",
     "exception": false,
     "start_time": "2025-09-08T09:39:59.330047",
     "status": "completed"
    },
    "tags": []
   },
   "outputs": [
    {
     "name": "stdout",
     "output_type": "stream",
     "text": [
      "Training Vision Transformer (ViT-B/16)...\n",
      "Starting training for 25 epochs...\n",
      "------------------------------------------------------------\n",
      "Epoch 1/25\n",
      "----------\n"
     ]
    },
    {
     "name": "stderr",
     "output_type": "stream",
     "text": [
      "Train : 100%|██████████| 158/158 [00:52<00:00,  3.04it/s, Loss=0.5065, Acc=0.7500]\n"
     ]
    },
    {
     "name": "stdout",
     "output_type": "stream",
     "text": [
      "Train Loss: 0.5065 Acc: 0.7500\n"
     ]
    },
    {
     "name": "stderr",
     "output_type": "stream",
     "text": [
      "Val : 100%|██████████| 7/7 [00:00<00:00,  7.68it/s, Loss=0.4644, Acc=0.7900]\n"
     ]
    },
    {
     "name": "stdout",
     "output_type": "stream",
     "text": [
      "Val Loss: 0.4644 Acc: 0.7900\n",
      "✓ New best model saved with validation accuracy: 0.7900\n",
      "\n",
      "Epoch 2/25\n",
      "----------\n"
     ]
    },
    {
     "name": "stderr",
     "output_type": "stream",
     "text": [
      "Train : 100%|██████████| 158/158 [00:50<00:00,  3.11it/s, Loss=0.3377, Acc=0.8485]\n"
     ]
    },
    {
     "name": "stdout",
     "output_type": "stream",
     "text": [
      "Train Loss: 0.3377 Acc: 0.8485\n"
     ]
    },
    {
     "name": "stderr",
     "output_type": "stream",
     "text": [
      "Val : 100%|██████████| 7/7 [00:00<00:00,  8.04it/s, Loss=0.4536, Acc=0.7900]\n"
     ]
    },
    {
     "name": "stdout",
     "output_type": "stream",
     "text": [
      "Val Loss: 0.4536 Acc: 0.7900\n",
      "\n",
      "Epoch 3/25\n",
      "----------\n"
     ]
    },
    {
     "name": "stderr",
     "output_type": "stream",
     "text": [
      "Train : 100%|██████████| 158/158 [00:50<00:00,  3.11it/s, Loss=0.2490, Acc=0.8995]\n"
     ]
    },
    {
     "name": "stdout",
     "output_type": "stream",
     "text": [
      "Train Loss: 0.2490 Acc: 0.8995\n"
     ]
    },
    {
     "name": "stderr",
     "output_type": "stream",
     "text": [
      "Val : 100%|██████████| 7/7 [00:00<00:00,  8.08it/s, Loss=0.4853, Acc=0.7700]\n"
     ]
    },
    {
     "name": "stdout",
     "output_type": "stream",
     "text": [
      "Val Loss: 0.4853 Acc: 0.7700\n",
      "\n",
      "Epoch 4/25\n",
      "----------\n"
     ]
    },
    {
     "name": "stderr",
     "output_type": "stream",
     "text": [
      "Train : 100%|██████████| 158/158 [00:50<00:00,  3.11it/s, Loss=0.1735, Acc=0.9248]\n"
     ]
    },
    {
     "name": "stdout",
     "output_type": "stream",
     "text": [
      "Train Loss: 0.1735 Acc: 0.9248\n"
     ]
    },
    {
     "name": "stderr",
     "output_type": "stream",
     "text": [
      "Val : 100%|██████████| 7/7 [00:00<00:00,  8.11it/s, Loss=0.4850, Acc=0.8200]\n"
     ]
    },
    {
     "name": "stdout",
     "output_type": "stream",
     "text": [
      "Val Loss: 0.4850 Acc: 0.8200\n",
      "✓ New best model saved with validation accuracy: 0.8200\n",
      "\n",
      "Epoch 5/25\n",
      "----------\n"
     ]
    },
    {
     "name": "stderr",
     "output_type": "stream",
     "text": [
      "Train : 100%|██████████| 158/158 [00:50<00:00,  3.11it/s, Loss=0.1156, Acc=0.9565]\n"
     ]
    },
    {
     "name": "stdout",
     "output_type": "stream",
     "text": [
      "Train Loss: 0.1156 Acc: 0.9565\n"
     ]
    },
    {
     "name": "stderr",
     "output_type": "stream",
     "text": [
      "Val : 100%|██████████| 7/7 [00:00<00:00,  8.25it/s, Loss=0.6568, Acc=0.8100]\n"
     ]
    },
    {
     "name": "stdout",
     "output_type": "stream",
     "text": [
      "Val Loss: 0.6568 Acc: 0.8100\n",
      "\n",
      "Epoch 6/25\n",
      "----------\n"
     ]
    },
    {
     "name": "stderr",
     "output_type": "stream",
     "text": [
      "Train : 100%|██████████| 158/158 [00:50<00:00,  3.11it/s, Loss=0.1196, Acc=0.9482]\n"
     ]
    },
    {
     "name": "stdout",
     "output_type": "stream",
     "text": [
      "Train Loss: 0.1196 Acc: 0.9482\n"
     ]
    },
    {
     "name": "stderr",
     "output_type": "stream",
     "text": [
      "Val : 100%|██████████| 7/7 [00:00<00:00,  8.26it/s, Loss=0.6270, Acc=0.7400]\n"
     ]
    },
    {
     "name": "stdout",
     "output_type": "stream",
     "text": [
      "Val Loss: 0.6270 Acc: 0.7400\n",
      "\n",
      "Epoch 7/25\n",
      "----------\n"
     ]
    },
    {
     "name": "stderr",
     "output_type": "stream",
     "text": [
      "Train : 100%|██████████| 158/158 [00:50<00:00,  3.11it/s, Loss=0.0748, Acc=0.9719]\n"
     ]
    },
    {
     "name": "stdout",
     "output_type": "stream",
     "text": [
      "Train Loss: 0.0748 Acc: 0.9719\n"
     ]
    },
    {
     "name": "stderr",
     "output_type": "stream",
     "text": [
      "Val : 100%|██████████| 7/7 [00:00<00:00,  8.31it/s, Loss=0.4993, Acc=0.7900]\n"
     ]
    },
    {
     "name": "stdout",
     "output_type": "stream",
     "text": [
      "Val Loss: 0.4993 Acc: 0.7900\n",
      "\n",
      "Epoch 8/25\n",
      "----------\n"
     ]
    },
    {
     "name": "stderr",
     "output_type": "stream",
     "text": [
      "Train : 100%|██████████| 158/158 [00:50<00:00,  3.11it/s, Loss=0.0865, Acc=0.9644]\n"
     ]
    },
    {
     "name": "stdout",
     "output_type": "stream",
     "text": [
      "Train Loss: 0.0865 Acc: 0.9644\n"
     ]
    },
    {
     "name": "stderr",
     "output_type": "stream",
     "text": [
      "Val : 100%|██████████| 7/7 [00:00<00:00,  8.17it/s, Loss=0.5156, Acc=0.8000]\n"
     ]
    },
    {
     "name": "stdout",
     "output_type": "stream",
     "text": [
      "Val Loss: 0.5156 Acc: 0.8000\n",
      "\n",
      "Epoch 9/25\n",
      "----------\n"
     ]
    },
    {
     "name": "stderr",
     "output_type": "stream",
     "text": [
      "Train : 100%|██████████| 158/158 [00:50<00:00,  3.11it/s, Loss=0.0659, Acc=0.9771]\n"
     ]
    },
    {
     "name": "stdout",
     "output_type": "stream",
     "text": [
      "Train Loss: 0.0659 Acc: 0.9771\n"
     ]
    },
    {
     "name": "stderr",
     "output_type": "stream",
     "text": [
      "Val : 100%|██████████| 7/7 [00:00<00:00,  7.95it/s, Loss=0.4298, Acc=0.8100]"
     ]
    },
    {
     "name": "stdout",
     "output_type": "stream",
     "text": [
      "Val Loss: 0.4298 Acc: 0.8100\n",
      "Early stopping triggered after 9 epochs\n",
      "Training complete in 7m 48s\n",
      "Best validation accuracy: 0.8200\n"
     ]
    },
    {
     "name": "stderr",
     "output_type": "stream",
     "text": [
      "\n"
     ]
    }
   ],
   "source": [
    "# Train ViT-B/16\n",
    "print(\"Training Vision Transformer (ViT-B/16)...\")\n",
    "trained_vit_b16 = vit_b16_trainer.train_model(num_epochs=25, lr=0.0001, model_name=\"vit_b16\")"
   ]
  },
  {
   "cell_type": "code",
   "execution_count": 12,
   "id": "ce3d4514",
   "metadata": {
    "execution": {
     "iopub.execute_input": "2025-09-08T09:47:47.296613Z",
     "iopub.status.busy": "2025-09-08T09:47:47.295925Z",
     "iopub.status.idle": "2025-09-08T09:47:49.973899Z",
     "shell.execute_reply": "2025-09-08T09:47:49.973161Z"
    },
    "papermill": {
     "duration": 2.847082,
     "end_time": "2025-09-08T09:47:49.975259",
     "exception": false,
     "start_time": "2025-09-08T09:47:47.128177",
     "status": "completed"
    },
    "tags": []
   },
   "outputs": [
    {
     "name": "stdout",
     "output_type": "stream",
     "text": [
      "Evaluating on test set...\n"
     ]
    },
    {
     "name": "stderr",
     "output_type": "stream",
     "text": [
      "100%|██████████| 19/19 [00:02<00:00,  9.32it/s]\n"
     ]
    },
    {
     "name": "stdout",
     "output_type": "stream",
     "text": [
      "Test Accuracy: 84.67%\n",
      "Test Loss: 0.4425\n",
      "\n",
      "Classification Report:\n",
      "              precision    recall  f1-score   support\n",
      "\n",
      "    Autistic       0.88      0.81      0.84       150\n",
      "Non_Autistic       0.82      0.89      0.85       150\n",
      "\n",
      "    accuracy                           0.85       300\n",
      "   macro avg       0.85      0.85      0.85       300\n",
      "weighted avg       0.85      0.85      0.85       300\n",
      "\n",
      "\n",
      "Confusion Matrix:\n",
      "[[121  29]\n",
      " [ 17 133]]\n"
     ]
    },
    {
     "data": {
      "image/png": "[encoded data removed]",
      "text/plain": [
       "<Figure size 1500x500 with 2 Axes>"
      ]
     },
     "metadata": {},
     "output_type": "display_data"
    }
   ],
   "source": [
    "# Evaluate ViT-B/16\n",
    "vit_b16_test_acc, vit_b16_preds, vit_b16_labels = vit_b16_trainer.evaluate_model()\n",
    "vit_b16_trainer.plot_training_history()"
   ]
  },
  {
   "cell_type": "markdown",
   "id": "00482840",
   "metadata": {
    "papermill": {
     "duration": 0.13001,
     "end_time": "2025-09-08T09:47:50.228945",
     "exception": false,
     "start_time": "2025-09-08T09:47:50.098935",
     "status": "completed"
    },
    "tags": []
   },
   "source": [
    "## 2. AlexNet Training"
   ]
  },
  {
   "cell_type": "code",
   "execution_count": 13,
   "id": "76b078f2",
   "metadata": {
    "execution": {
     "iopub.execute_input": "2025-09-08T09:47:50.474072Z",
     "iopub.status.busy": "2025-09-08T09:47:50.473476Z",
     "iopub.status.idle": "2025-09-08T09:47:52.665026Z",
     "shell.execute_reply": "2025-09-08T09:47:52.664434Z"
    },
    "papermill": {
     "duration": 2.314349,
     "end_time": "2025-09-08T09:47:52.666326",
     "exception": false,
     "start_time": "2025-09-08T09:47:50.351977",
     "status": "completed"
    },
    "tags": []
   },
   "outputs": [
    {
     "name": "stdout",
     "output_type": "stream",
     "text": [
      "Creating AlexNet model...\n"
     ]
    },
    {
     "name": "stderr",
     "output_type": "stream",
     "text": [
      "Downloading: \"https://download.pytorch.org/models/alexnet-owt-7be5be79.pth\" to /root/.cache/torch/hub/checkpoints/alexnet-owt-7be5be79.pth\n",
      "100%|██████████| 233M/233M [00:01<00:00, 200MB/s]\n"
     ]
    }
   ],
   "source": [
    "# Create and train AlexNet\n",
    "print(\"Creating AlexNet model...\")\n",
    "alexnet_model = create_alexnet_model()\n",
    "alexnet_trainer = ModelTrainer(alexnet_model, train_loader_cnn, val_loader_cnn, test_loader_cnn, device)"
   ]
  },
  {
   "cell_type": "code",
   "execution_count": 14,
   "id": "dab4da6c",
   "metadata": {
    "execution": {
     "iopub.execute_input": "2025-09-08T09:47:52.911942Z",
     "iopub.status.busy": "2025-09-08T09:47:52.911372Z",
     "iopub.status.idle": "2025-09-08T09:48:28.602277Z",
     "shell.execute_reply": "2025-09-08T09:48:28.601382Z"
    },
    "papermill": {
     "duration": 35.813995,
     "end_time": "2025-09-08T09:48:28.603584",
     "exception": false,
     "start_time": "2025-09-08T09:47:52.789589",
     "status": "completed"
    },
    "tags": []
   },
   "outputs": [
    {
     "name": "stdout",
     "output_type": "stream",
     "text": [
      "Training AlexNet...\n",
      "Starting training for 25 epochs...\n",
      "------------------------------------------------------------\n",
      "Epoch 1/25\n",
      "----------\n"
     ]
    },
    {
     "name": "stderr",
     "output_type": "stream",
     "text": [
      "Train : 100%|██████████| 79/79 [00:05<00:00, 13.43it/s, Loss=0.8026, Acc=0.5237]\n"
     ]
    },
    {
     "name": "stdout",
     "output_type": "stream",
     "text": [
      "Train Loss: 0.8026 Acc: 0.5237\n"
     ]
    },
    {
     "name": "stderr",
     "output_type": "stream",
     "text": [
      "Val : 100%|██████████| 4/4 [00:00<00:00,  9.13it/s, Loss=0.6941, Acc=0.5000]\n"
     ]
    },
    {
     "name": "stdout",
     "output_type": "stream",
     "text": [
      "Val Loss: 0.6941 Acc: 0.5000\n",
      "✓ New best model saved with validation accuracy: 0.5000\n",
      "\n",
      "Epoch 2/25\n",
      "----------\n"
     ]
    },
    {
     "name": "stderr",
     "output_type": "stream",
     "text": [
      "Train : 100%|██████████| 79/79 [00:05<00:00, 14.85it/s, Loss=0.6948, Acc=0.5079]\n"
     ]
    },
    {
     "name": "stdout",
     "output_type": "stream",
     "text": [
      "Train Loss: 0.6948 Acc: 0.5079\n"
     ]
    },
    {
     "name": "stderr",
     "output_type": "stream",
     "text": [
      "Val : 100%|██████████| 4/4 [00:00<00:00,  9.14it/s, Loss=0.6985, Acc=0.5000]\n"
     ]
    },
    {
     "name": "stdout",
     "output_type": "stream",
     "text": [
      "Val Loss: 0.6985 Acc: 0.5000\n",
      "\n",
      "Epoch 3/25\n",
      "----------\n"
     ]
    },
    {
     "name": "stderr",
     "output_type": "stream",
     "text": [
      "Train : 100%|██████████| 79/79 [00:05<00:00, 14.59it/s, Loss=0.7170, Acc=0.5004]\n"
     ]
    },
    {
     "name": "stdout",
     "output_type": "stream",
     "text": [
      "Train Loss: 0.7170 Acc: 0.5004\n"
     ]
    },
    {
     "name": "stderr",
     "output_type": "stream",
     "text": [
      "Val : 100%|██████████| 4/4 [00:00<00:00, 10.07it/s, Loss=0.6931, Acc=0.5000]\n"
     ]
    },
    {
     "name": "stdout",
     "output_type": "stream",
     "text": [
      "Val Loss: 0.6931 Acc: 0.5000\n",
      "\n",
      "Epoch 4/25\n",
      "----------\n"
     ]
    },
    {
     "name": "stderr",
     "output_type": "stream",
     "text": [
      "Train : 100%|██████████| 79/79 [00:05<00:00, 15.19it/s, Loss=0.6949, Acc=0.4826]\n"
     ]
    },
    {
     "name": "stdout",
     "output_type": "stream",
     "text": [
      "Train Loss: 0.6949 Acc: 0.4826\n"
     ]
    },
    {
     "name": "stderr",
     "output_type": "stream",
     "text": [
      "Val : 100%|██████████| 4/4 [00:00<00:00,  9.78it/s, Loss=0.6936, Acc=0.5000]\n"
     ]
    },
    {
     "name": "stdout",
     "output_type": "stream",
     "text": [
      "Val Loss: 0.6936 Acc: 0.5000\n",
      "\n",
      "Epoch 5/25\n",
      "----------\n"
     ]
    },
    {
     "name": "stderr",
     "output_type": "stream",
     "text": [
      "Train : 100%|██████████| 79/79 [00:05<00:00, 14.93it/s, Loss=0.6940, Acc=0.4988]\n"
     ]
    },
    {
     "name": "stdout",
     "output_type": "stream",
     "text": [
      "Train Loss: 0.6940 Acc: 0.4988\n"
     ]
    },
    {
     "name": "stderr",
     "output_type": "stream",
     "text": [
      "Val : 100%|██████████| 4/4 [00:00<00:00, 10.11it/s, Loss=0.6932, Acc=0.5000]\n"
     ]
    },
    {
     "name": "stdout",
     "output_type": "stream",
     "text": [
      "Val Loss: 0.6932 Acc: 0.5000\n",
      "\n",
      "Epoch 6/25\n",
      "----------\n"
     ]
    },
    {
     "name": "stderr",
     "output_type": "stream",
     "text": [
      "Train : 100%|██████████| 79/79 [00:05<00:00, 14.15it/s, Loss=0.7621, Acc=0.5055]\n"
     ]
    },
    {
     "name": "stdout",
     "output_type": "stream",
     "text": [
      "Train Loss: 0.7621 Acc: 0.5055\n"
     ]
    },
    {
     "name": "stderr",
     "output_type": "stream",
     "text": [
      "Val : 100%|██████████| 4/4 [00:00<00:00,  9.89it/s, Loss=0.7824, Acc=0.5000]"
     ]
    },
    {
     "name": "stdout",
     "output_type": "stream",
     "text": [
      "Val Loss: 0.7824 Acc: 0.5000\n",
      "Early stopping triggered after 6 epochs\n",
      "Training complete in 0m 36s\n",
      "Best validation accuracy: 0.5000\n"
     ]
    },
    {
     "name": "stderr",
     "output_type": "stream",
     "text": [
      "\n"
     ]
    }
   ],
   "source": [
    "# Train AlexNet\n",
    "print(\"Training AlexNet...\")\n",
    "trained_alexnet = alexnet_trainer.train_model(num_epochs=25, model_name=\"alexnet\")"
   ]
  },
  {
   "cell_type": "code",
   "execution_count": 15,
   "id": "7b5066ee",
   "metadata": {
    "execution": {
     "iopub.execute_input": "2025-09-08T09:48:28.906820Z",
     "iopub.status.busy": "2025-09-08T09:48:28.906531Z",
     "iopub.status.idle": "2025-09-08T09:48:30.052596Z",
     "shell.execute_reply": "2025-09-08T09:48:30.051816Z"
    },
    "papermill": {
     "duration": 1.297074,
     "end_time": "2025-09-08T09:48:30.053769",
     "exception": false,
     "start_time": "2025-09-08T09:48:28.756695",
     "status": "completed"
    },
    "tags": []
   },
   "outputs": [
    {
     "name": "stdout",
     "output_type": "stream",
     "text": [
      "Evaluating on test set...\n"
     ]
    },
    {
     "name": "stderr",
     "output_type": "stream",
     "text": [
      "100%|██████████| 10/10 [00:00<00:00, 12.65it/s]\n"
     ]
    },
    {
     "name": "stdout",
     "output_type": "stream",
     "text": [
      "Test Accuracy: 50.00%\n",
      "Test Loss: 0.6945\n",
      "\n",
      "Classification Report:\n",
      "              precision    recall  f1-score   support\n",
      "\n",
      "    Autistic       0.00      0.00      0.00       150\n",
      "Non_Autistic       0.50      1.00      0.67       150\n",
      "\n",
      "    accuracy                           0.50       300\n",
      "   macro avg       0.25      0.50      0.33       300\n",
      "weighted avg       0.25      0.50      0.33       300\n",
      "\n",
      "\n",
      "Confusion Matrix:\n",
      "[[  0 150]\n",
      " [  0 150]]\n"
     ]
    },
    {
     "data": {
      "image/png": "[encoded data removed]",
      "text/plain": [
       "<Figure size 1500x500 with 2 Axes>"
      ]
     },
     "metadata": {},
     "output_type": "display_data"
    }
   ],
   "source": [
    "# Evaluate AlexNet\n",
    "alexnet_test_acc, alexnet_preds, alexnet_labels = alexnet_trainer.evaluate_model()\n",
    "alexnet_trainer.plot_training_history()"
   ]
  },
  {
   "cell_type": "markdown",
   "id": "6ec2ab2b",
   "metadata": {
    "papermill": {
     "duration": 0.192444,
     "end_time": "2025-09-08T09:48:30.398604",
     "exception": false,
     "start_time": "2025-09-08T09:48:30.206160",
     "status": "completed"
    },
    "tags": []
   },
   "source": [
    "## 3. MobileNet V2 Training"
   ]
  },
  {
   "cell_type": "code",
   "execution_count": 16,
   "id": "50528081",
   "metadata": {
    "execution": {
     "iopub.execute_input": "2025-09-08T09:48:30.698872Z",
     "iopub.status.busy": "2025-09-08T09:48:30.698010Z",
     "iopub.status.idle": "2025-09-08T09:48:30.962589Z",
     "shell.execute_reply": "2025-09-08T09:48:30.961781Z"
    },
    "papermill": {
     "duration": 0.414292,
     "end_time": "2025-09-08T09:48:30.963712",
     "exception": false,
     "start_time": "2025-09-08T09:48:30.549420",
     "status": "completed"
    },
    "tags": []
   },
   "outputs": [
    {
     "name": "stderr",
     "output_type": "stream",
     "text": [
      "Downloading: \"https://download.pytorch.org/models/mobilenet_v2-b0353104.pth\" to /root/.cache/torch/hub/checkpoints/mobilenet_v2-b0353104.pth\n"
     ]
    },
    {
     "name": "stdout",
     "output_type": "stream",
     "text": [
      "Creating MobileNet V2 model...\n"
     ]
    },
    {
     "name": "stderr",
     "output_type": "stream",
     "text": [
      "100%|██████████| 13.6M/13.6M [00:00<00:00, 167MB/s]\n"
     ]
    }
   ],
   "source": [
    "# Create and train MobileNet V2\n",
    "print(\"Creating MobileNet V2 model...\")\n",
    "mobilenet_v2_model = create_mobilenet_model('v2')\n",
    "mobilenet_v2_trainer = ModelTrainer(mobilenet_v2_model, train_loader_cnn, val_loader_cnn, test_loader_cnn, device)"
   ]
  },
  {
   "cell_type": "code",
   "execution_count": 17,
   "id": "82112578",
   "metadata": {
    "execution": {
     "iopub.execute_input": "2025-09-08T09:48:31.263172Z",
     "iopub.status.busy": "2025-09-08T09:48:31.262722Z",
     "iopub.status.idle": "2025-09-08T09:49:30.850482Z",
     "shell.execute_reply": "2025-09-08T09:49:30.849428Z"
    },
    "papermill": {
     "duration": 59.737824,
     "end_time": "2025-09-08T09:49:30.851595",
     "exception": false,
     "start_time": "2025-09-08T09:48:31.113771",
     "status": "completed"
    },
    "tags": []
   },
   "outputs": [
    {
     "name": "stdout",
     "output_type": "stream",
     "text": [
      "Training MobileNet V2...\n",
      "Starting training for 25 epochs...\n",
      "------------------------------------------------------------\n",
      "Epoch 1/25\n",
      "----------\n"
     ]
    },
    {
     "name": "stderr",
     "output_type": "stream",
     "text": [
      "Train : 100%|██████████| 79/79 [00:07<00:00, 11.02it/s, Loss=0.4903, Acc=0.7670]\n"
     ]
    },
    {
     "name": "stdout",
     "output_type": "stream",
     "text": [
      "Train Loss: 0.4903 Acc: 0.7670\n"
     ]
    },
    {
     "name": "stderr",
     "output_type": "stream",
     "text": [
      "Val : 100%|██████████| 4/4 [00:00<00:00,  8.19it/s, Loss=0.4807, Acc=0.7600]\n"
     ]
    },
    {
     "name": "stdout",
     "output_type": "stream",
     "text": [
      "Val Loss: 0.4807 Acc: 0.7600\n",
      "✓ New best model saved with validation accuracy: 0.7600\n",
      "\n",
      "Epoch 2/25\n",
      "----------\n"
     ]
    },
    {
     "name": "stderr",
     "output_type": "stream",
     "text": [
      "Train : 100%|██████████| 79/79 [00:06<00:00, 11.41it/s, Loss=0.3445, Acc=0.8501]\n"
     ]
    },
    {
     "name": "stdout",
     "output_type": "stream",
     "text": [
      "Train Loss: 0.3445 Acc: 0.8501\n"
     ]
    },
    {
     "name": "stderr",
     "output_type": "stream",
     "text": [
      "Val : 100%|██████████| 4/4 [00:00<00:00,  8.53it/s, Loss=0.3921, Acc=0.8500]\n"
     ]
    },
    {
     "name": "stdout",
     "output_type": "stream",
     "text": [
      "Val Loss: 0.3921 Acc: 0.8500\n",
      "✓ New best model saved with validation accuracy: 0.8500\n",
      "\n",
      "Epoch 3/25\n",
      "----------\n"
     ]
    },
    {
     "name": "stderr",
     "output_type": "stream",
     "text": [
      "Train : 100%|██████████| 79/79 [00:06<00:00, 11.41it/s, Loss=0.2679, Acc=0.8956]\n"
     ]
    },
    {
     "name": "stdout",
     "output_type": "stream",
     "text": [
      "Train Loss: 0.2679 Acc: 0.8956\n"
     ]
    },
    {
     "name": "stderr",
     "output_type": "stream",
     "text": [
      "Val : 100%|██████████| 4/4 [00:00<00:00,  9.46it/s, Loss=0.3492, Acc=0.8800]\n"
     ]
    },
    {
     "name": "stdout",
     "output_type": "stream",
     "text": [
      "Val Loss: 0.3492 Acc: 0.8800\n",
      "✓ New best model saved with validation accuracy: 0.8800\n",
      "\n",
      "Epoch 4/25\n",
      "----------\n"
     ]
    },
    {
     "name": "stderr",
     "output_type": "stream",
     "text": [
      "Train : 100%|██████████| 79/79 [00:06<00:00, 11.35it/s, Loss=0.2441, Acc=0.8964]\n"
     ]
    },
    {
     "name": "stdout",
     "output_type": "stream",
     "text": [
      "Train Loss: 0.2441 Acc: 0.8964\n"
     ]
    },
    {
     "name": "stderr",
     "output_type": "stream",
     "text": [
      "Val : 100%|██████████| 4/4 [00:00<00:00,  9.24it/s, Loss=0.6699, Acc=0.7500]\n"
     ]
    },
    {
     "name": "stdout",
     "output_type": "stream",
     "text": [
      "Val Loss: 0.6699 Acc: 0.7500\n",
      "\n",
      "Epoch 5/25\n",
      "----------\n"
     ]
    },
    {
     "name": "stderr",
     "output_type": "stream",
     "text": [
      "Train : 100%|██████████| 79/79 [00:06<00:00, 11.33it/s, Loss=0.1858, Acc=0.9272]\n"
     ]
    },
    {
     "name": "stdout",
     "output_type": "stream",
     "text": [
      "Train Loss: 0.1858 Acc: 0.9272\n"
     ]
    },
    {
     "name": "stderr",
     "output_type": "stream",
     "text": [
      "Val : 100%|██████████| 4/4 [00:00<00:00,  9.63it/s, Loss=0.4571, Acc=0.8100]\n"
     ]
    },
    {
     "name": "stdout",
     "output_type": "stream",
     "text": [
      "Val Loss: 0.4571 Acc: 0.8100\n",
      "\n",
      "Epoch 6/25\n",
      "----------\n"
     ]
    },
    {
     "name": "stderr",
     "output_type": "stream",
     "text": [
      "Train : 100%|██████████| 79/79 [00:06<00:00, 11.43it/s, Loss=0.1454, Acc=0.9446]\n"
     ]
    },
    {
     "name": "stdout",
     "output_type": "stream",
     "text": [
      "Train Loss: 0.1454 Acc: 0.9446\n"
     ]
    },
    {
     "name": "stderr",
     "output_type": "stream",
     "text": [
      "Val : 100%|██████████| 4/4 [00:00<00:00,  9.30it/s, Loss=0.5447, Acc=0.7500]\n"
     ]
    },
    {
     "name": "stdout",
     "output_type": "stream",
     "text": [
      "Val Loss: 0.5447 Acc: 0.7500\n",
      "\n",
      "Epoch 7/25\n",
      "----------\n"
     ]
    },
    {
     "name": "stderr",
     "output_type": "stream",
     "text": [
      "Train : 100%|██████████| 79/79 [00:06<00:00, 11.33it/s, Loss=0.1115, Acc=0.9541]\n"
     ]
    },
    {
     "name": "stdout",
     "output_type": "stream",
     "text": [
      "Train Loss: 0.1115 Acc: 0.9541\n"
     ]
    },
    {
     "name": "stderr",
     "output_type": "stream",
     "text": [
      "Val : 100%|██████████| 4/4 [00:00<00:00,  9.05it/s, Loss=0.4018, Acc=0.8400]\n"
     ]
    },
    {
     "name": "stdout",
     "output_type": "stream",
     "text": [
      "Val Loss: 0.4018 Acc: 0.8400\n",
      "\n",
      "Epoch 8/25\n",
      "----------\n"
     ]
    },
    {
     "name": "stderr",
     "output_type": "stream",
     "text": [
      "Train : 100%|██████████| 79/79 [00:06<00:00, 11.39it/s, Loss=0.1115, Acc=0.9533]\n"
     ]
    },
    {
     "name": "stdout",
     "output_type": "stream",
     "text": [
      "Train Loss: 0.1115 Acc: 0.9533\n"
     ]
    },
    {
     "name": "stderr",
     "output_type": "stream",
     "text": [
      "Val : 100%|██████████| 4/4 [00:00<00:00,  9.06it/s, Loss=0.5942, Acc=0.8100]"
     ]
    },
    {
     "name": "stdout",
     "output_type": "stream",
     "text": [
      "Val Loss: 0.5942 Acc: 0.8100\n",
      "Early stopping triggered after 8 epochs\n",
      "Training complete in 0m 60s\n",
      "Best validation accuracy: 0.8800\n"
     ]
    },
    {
     "name": "stderr",
     "output_type": "stream",
     "text": [
      "\n"
     ]
    }
   ],
   "source": [
    "# Train MobileNet V2\n",
    "print(\"Training MobileNet V2...\")\n",
    "trained_mobilenet_v2 = mobilenet_v2_trainer.train_model(num_epochs=25, model_name=\"mobilenet_v2\")"
   ]
  },
  {
   "cell_type": "code",
   "execution_count": 18,
   "id": "52702b31",
   "metadata": {
    "execution": {
     "iopub.execute_input": "2025-09-08T09:49:31.239729Z",
     "iopub.status.busy": "2025-09-08T09:49:31.239041Z",
     "iopub.status.idle": "2025-09-08T09:49:32.487978Z",
     "shell.execute_reply": "2025-09-08T09:49:32.487266Z"
    },
    "papermill": {
     "duration": 1.443559,
     "end_time": "2025-09-08T09:49:32.489963",
     "exception": false,
     "start_time": "2025-09-08T09:49:31.046404",
     "status": "completed"
    },
    "tags": []
   },
   "outputs": [
    {
     "name": "stdout",
     "output_type": "stream",
     "text": [
      "Evaluating on test set...\n"
     ]
    },
    {
     "name": "stderr",
     "output_type": "stream",
     "text": [
      "100%|██████████| 10/10 [00:00<00:00, 11.85it/s]\n"
     ]
    },
    {
     "name": "stdout",
     "output_type": "stream",
     "text": [
      "Test Accuracy: 82.33%\n",
      "Test Loss: 0.4146\n",
      "\n",
      "Classification Report:\n",
      "              precision    recall  f1-score   support\n",
      "\n",
      "    Autistic       0.76      0.95      0.84       150\n",
      "Non_Autistic       0.94      0.69      0.80       150\n",
      "\n",
      "    accuracy                           0.82       300\n",
      "   macro avg       0.85      0.82      0.82       300\n",
      "weighted avg       0.85      0.82      0.82       300\n",
      "\n",
      "\n",
      "Confusion Matrix:\n",
      "[[143   7]\n",
      " [ 46 104]]\n"
     ]
    },
    {
     "data": {
      "image/png": "[encoded data removed]",
      "text/plain": [
       "<Figure size 1500x500 with 2 Axes>"
      ]
     },
     "metadata": {},
     "output_type": "display_data"
    }
   ],
   "source": [
    "# Evaluate MobileNet V2\n",
    "mobilenet_v2_test_acc, mobilenet_v2_preds, mobilenet_v2_labels = mobilenet_v2_trainer.evaluate_model()\n",
    "mobilenet_v2_trainer.plot_training_history()"
   ]
  },
  {
   "cell_type": "markdown",
   "id": "62942c9f",
   "metadata": {
    "papermill": {
     "duration": 0.191386,
     "end_time": "2025-09-08T09:49:32.924946",
     "exception": false,
     "start_time": "2025-09-08T09:49:32.733560",
     "status": "completed"
    },
    "tags": []
   },
   "source": [
    "## 4. MobileNet V3 Large Training"
   ]
  },
  {
   "cell_type": "code",
   "execution_count": 19,
   "id": "e6ed5c2f",
   "metadata": {
    "execution": {
     "iopub.execute_input": "2025-09-08T09:49:33.303636Z",
     "iopub.status.busy": "2025-09-08T09:49:33.303315Z",
     "iopub.status.idle": "2025-09-08T09:49:33.649149Z",
     "shell.execute_reply": "2025-09-08T09:49:33.648424Z"
    },
    "papermill": {
     "duration": 0.536447,
     "end_time": "2025-09-08T09:49:33.650316",
     "exception": false,
     "start_time": "2025-09-08T09:49:33.113869",
     "status": "completed"
    },
    "tags": []
   },
   "outputs": [
    {
     "name": "stderr",
     "output_type": "stream",
     "text": [
      "Downloading: \"https://download.pytorch.org/models/mobilenet_v3_large-8738ca79.pth\" to /root/.cache/torch/hub/checkpoints/mobilenet_v3_large-8738ca79.pth\n"
     ]
    },
    {
     "name": "stdout",
     "output_type": "stream",
     "text": [
      "Creating MobileNet V3 Large model...\n"
     ]
    },
    {
     "name": "stderr",
     "output_type": "stream",
     "text": [
      "100%|██████████| 21.1M/21.1M [00:00<00:00, 173MB/s]\n"
     ]
    }
   ],
   "source": [
    "# Create and train MobileNet V3 Large\n",
    "print(\"Creating MobileNet V3 Large model...\")\n",
    "mobilenet_v3_large_model = create_mobilenet_model('v3_large')\n",
    "mobilenet_v3_large_trainer = ModelTrainer(mobilenet_v3_large_model, train_loader_cnn, val_loader_cnn, test_loader_cnn, device)"
   ]
  },
  {
   "cell_type": "code",
   "execution_count": 20,
   "id": "a8c94794",
   "metadata": {
    "execution": {
     "iopub.execute_input": "2025-09-08T09:49:34.085152Z",
     "iopub.status.busy": "2025-09-08T09:49:34.084913Z",
     "iopub.status.idle": "2025-09-08T09:51:07.601800Z",
     "shell.execute_reply": "2025-09-08T09:51:07.600799Z"
    },
    "papermill": {
     "duration": 93.759815,
     "end_time": "2025-09-08T09:51:07.603139",
     "exception": false,
     "start_time": "2025-09-08T09:49:33.843324",
     "status": "completed"
    },
    "tags": []
   },
   "outputs": [
    {
     "name": "stdout",
     "output_type": "stream",
     "text": [
      "Training MobileNet V3 Large...\n",
      "Starting training for 25 epochs...\n",
      "------------------------------------------------------------\n",
      "Epoch 1/25\n",
      "----------\n"
     ]
    },
    {
     "name": "stderr",
     "output_type": "stream",
     "text": [
      "Train : 100%|██████████| 79/79 [00:06<00:00, 12.37it/s, Loss=0.4592, Acc=0.7812]\n"
     ]
    },
    {
     "name": "stdout",
     "output_type": "stream",
     "text": [
      "Train Loss: 0.4592 Acc: 0.7812\n"
     ]
    },
    {
     "name": "stderr",
     "output_type": "stream",
     "text": [
      "Val : 100%|██████████| 4/4 [00:00<00:00,  8.35it/s, Loss=1.9808, Acc=0.5900]\n"
     ]
    },
    {
     "name": "stdout",
     "output_type": "stream",
     "text": [
      "Val Loss: 1.9808 Acc: 0.5900\n",
      "✓ New best model saved with validation accuracy: 0.5900\n",
      "\n",
      "Epoch 2/25\n",
      "----------\n"
     ]
    },
    {
     "name": "stderr",
     "output_type": "stream",
     "text": [
      "Train : 100%|██████████| 79/79 [00:06<00:00, 12.77it/s, Loss=0.3166, Acc=0.8703]\n"
     ]
    },
    {
     "name": "stdout",
     "output_type": "stream",
     "text": [
      "Train Loss: 0.3166 Acc: 0.8703\n"
     ]
    },
    {
     "name": "stderr",
     "output_type": "stream",
     "text": [
      "Val : 100%|██████████| 4/4 [00:00<00:00,  9.39it/s, Loss=2.4115, Acc=0.6200]\n"
     ]
    },
    {
     "name": "stdout",
     "output_type": "stream",
     "text": [
      "Val Loss: 2.4115 Acc: 0.6200\n",
      "✓ New best model saved with validation accuracy: 0.6200\n",
      "\n",
      "Epoch 3/25\n",
      "----------\n"
     ]
    },
    {
     "name": "stderr",
     "output_type": "stream",
     "text": [
      "Train : 100%|██████████| 79/79 [00:06<00:00, 12.79it/s, Loss=0.2004, Acc=0.9244]\n"
     ]
    },
    {
     "name": "stdout",
     "output_type": "stream",
     "text": [
      "Train Loss: 0.2004 Acc: 0.9244\n"
     ]
    },
    {
     "name": "stderr",
     "output_type": "stream",
     "text": [
      "Val : 100%|██████████| 4/4 [00:00<00:00,  9.26it/s, Loss=0.6573, Acc=0.7700]\n"
     ]
    },
    {
     "name": "stdout",
     "output_type": "stream",
     "text": [
      "Val Loss: 0.6573 Acc: 0.7700\n",
      "✓ New best model saved with validation accuracy: 0.7700\n",
      "\n",
      "Epoch 4/25\n",
      "----------\n"
     ]
    },
    {
     "name": "stderr",
     "output_type": "stream",
     "text": [
      "Train : 100%|██████████| 79/79 [00:06<00:00, 12.56it/s, Loss=0.1568, Acc=0.9403]\n"
     ]
    },
    {
     "name": "stdout",
     "output_type": "stream",
     "text": [
      "Train Loss: 0.1568 Acc: 0.9403\n"
     ]
    },
    {
     "name": "stderr",
     "output_type": "stream",
     "text": [
      "Val : 100%|██████████| 4/4 [00:00<00:00,  9.02it/s, Loss=1.0446, Acc=0.6800]\n"
     ]
    },
    {
     "name": "stdout",
     "output_type": "stream",
     "text": [
      "Val Loss: 1.0446 Acc: 0.6800\n",
      "\n",
      "Epoch 5/25\n",
      "----------\n"
     ]
    },
    {
     "name": "stderr",
     "output_type": "stream",
     "text": [
      "Train : 100%|██████████| 79/79 [00:06<00:00, 12.65it/s, Loss=0.1335, Acc=0.9486]\n"
     ]
    },
    {
     "name": "stdout",
     "output_type": "stream",
     "text": [
      "Train Loss: 0.1335 Acc: 0.9486\n"
     ]
    },
    {
     "name": "stderr",
     "output_type": "stream",
     "text": [
      "Val : 100%|██████████| 4/4 [00:00<00:00,  9.02it/s, Loss=0.7149, Acc=0.8300]\n"
     ]
    },
    {
     "name": "stdout",
     "output_type": "stream",
     "text": [
      "Val Loss: 0.7149 Acc: 0.8300\n",
      "✓ New best model saved with validation accuracy: 0.8300\n",
      "\n",
      "Epoch 6/25\n",
      "----------\n"
     ]
    },
    {
     "name": "stderr",
     "output_type": "stream",
     "text": [
      "Train : 100%|██████████| 79/79 [00:06<00:00, 12.80it/s, Loss=0.0965, Acc=0.9624]\n"
     ]
    },
    {
     "name": "stdout",
     "output_type": "stream",
     "text": [
      "Train Loss: 0.0965 Acc: 0.9624\n"
     ]
    },
    {
     "name": "stderr",
     "output_type": "stream",
     "text": [
      "Val : 100%|██████████| 4/4 [00:00<00:00,  9.08it/s, Loss=0.7037, Acc=0.7500]\n"
     ]
    },
    {
     "name": "stdout",
     "output_type": "stream",
     "text": [
      "Val Loss: 0.7037 Acc: 0.7500\n",
      "\n",
      "Epoch 7/25\n",
      "----------\n"
     ]
    },
    {
     "name": "stderr",
     "output_type": "stream",
     "text": [
      "Train : 100%|██████████| 79/79 [00:06<00:00, 12.68it/s, Loss=0.0729, Acc=0.9755]\n"
     ]
    },
    {
     "name": "stdout",
     "output_type": "stream",
     "text": [
      "Train Loss: 0.0729 Acc: 0.9755\n"
     ]
    },
    {
     "name": "stderr",
     "output_type": "stream",
     "text": [
      "Val : 100%|██████████| 4/4 [00:00<00:00,  8.63it/s, Loss=0.4852, Acc=0.8100]\n"
     ]
    },
    {
     "name": "stdout",
     "output_type": "stream",
     "text": [
      "Val Loss: 0.4852 Acc: 0.8100\n",
      "\n",
      "Epoch 8/25\n",
      "----------\n"
     ]
    },
    {
     "name": "stderr",
     "output_type": "stream",
     "text": [
      "Train : 100%|██████████| 79/79 [00:06<00:00, 12.83it/s, Loss=0.0728, Acc=0.9699]\n"
     ]
    },
    {
     "name": "stdout",
     "output_type": "stream",
     "text": [
      "Train Loss: 0.0728 Acc: 0.9699\n"
     ]
    },
    {
     "name": "stderr",
     "output_type": "stream",
     "text": [
      "Val : 100%|██████████| 4/4 [00:00<00:00,  8.35it/s, Loss=0.8379, Acc=0.8300]\n"
     ]
    },
    {
     "name": "stdout",
     "output_type": "stream",
     "text": [
      "Val Loss: 0.8379 Acc: 0.8300\n",
      "\n",
      "Epoch 9/25\n",
      "----------\n"
     ]
    },
    {
     "name": "stderr",
     "output_type": "stream",
     "text": [
      "Train : 100%|██████████| 79/79 [00:06<00:00, 12.92it/s, Loss=0.0527, Acc=0.9806]\n"
     ]
    },
    {
     "name": "stdout",
     "output_type": "stream",
     "text": [
      "Train Loss: 0.0527 Acc: 0.9806\n"
     ]
    },
    {
     "name": "stderr",
     "output_type": "stream",
     "text": [
      "Val : 100%|██████████| 4/4 [00:00<00:00,  9.12it/s, Loss=0.6764, Acc=0.8400]\n"
     ]
    },
    {
     "name": "stdout",
     "output_type": "stream",
     "text": [
      "Val Loss: 0.6764 Acc: 0.8400\n",
      "✓ New best model saved with validation accuracy: 0.8400\n",
      "\n",
      "Epoch 10/25\n",
      "----------\n"
     ]
    },
    {
     "name": "stderr",
     "output_type": "stream",
     "text": [
      "Train : 100%|██████████| 79/79 [00:06<00:00, 12.48it/s, Loss=0.0317, Acc=0.9877]\n"
     ]
    },
    {
     "name": "stdout",
     "output_type": "stream",
     "text": [
      "Train Loss: 0.0317 Acc: 0.9877\n"
     ]
    },
    {
     "name": "stderr",
     "output_type": "stream",
     "text": [
      "Val : 100%|██████████| 4/4 [00:00<00:00,  8.92it/s, Loss=0.6856, Acc=0.8200]\n"
     ]
    },
    {
     "name": "stdout",
     "output_type": "stream",
     "text": [
      "Val Loss: 0.6856 Acc: 0.8200\n",
      "\n",
      "Epoch 11/25\n",
      "----------\n"
     ]
    },
    {
     "name": "stderr",
     "output_type": "stream",
     "text": [
      "Train : 100%|██████████| 79/79 [00:06<00:00, 12.95it/s, Loss=0.0328, Acc=0.9885]\n"
     ]
    },
    {
     "name": "stdout",
     "output_type": "stream",
     "text": [
      "Train Loss: 0.0328 Acc: 0.9885\n"
     ]
    },
    {
     "name": "stderr",
     "output_type": "stream",
     "text": [
      "Val : 100%|██████████| 4/4 [00:00<00:00,  9.56it/s, Loss=0.6774, Acc=0.8300]\n"
     ]
    },
    {
     "name": "stdout",
     "output_type": "stream",
     "text": [
      "Val Loss: 0.6774 Acc: 0.8300\n",
      "\n",
      "Epoch 12/25\n",
      "----------\n"
     ]
    },
    {
     "name": "stderr",
     "output_type": "stream",
     "text": [
      "Train : 100%|██████████| 79/79 [00:06<00:00, 12.95it/s, Loss=0.0616, Acc=0.9782]\n"
     ]
    },
    {
     "name": "stdout",
     "output_type": "stream",
     "text": [
      "Train Loss: 0.0616 Acc: 0.9782\n"
     ]
    },
    {
     "name": "stderr",
     "output_type": "stream",
     "text": [
      "Val : 100%|██████████| 4/4 [00:00<00:00,  9.18it/s, Loss=0.7702, Acc=0.7700]\n"
     ]
    },
    {
     "name": "stdout",
     "output_type": "stream",
     "text": [
      "Val Loss: 0.7702 Acc: 0.7700\n",
      "\n",
      "Epoch 13/25\n",
      "----------\n"
     ]
    },
    {
     "name": "stderr",
     "output_type": "stream",
     "text": [
      "Train : 100%|██████████| 79/79 [00:06<00:00, 12.87it/s, Loss=0.0480, Acc=0.9834]\n"
     ]
    },
    {
     "name": "stdout",
     "output_type": "stream",
     "text": [
      "Train Loss: 0.0480 Acc: 0.9834\n"
     ]
    },
    {
     "name": "stderr",
     "output_type": "stream",
     "text": [
      "Val : 100%|██████████| 4/4 [00:00<00:00,  9.39it/s, Loss=0.7160, Acc=0.7900]\n"
     ]
    },
    {
     "name": "stdout",
     "output_type": "stream",
     "text": [
      "Val Loss: 0.7160 Acc: 0.7900\n",
      "\n",
      "Epoch 14/25\n",
      "----------\n"
     ]
    },
    {
     "name": "stderr",
     "output_type": "stream",
     "text": [
      "Train : 100%|██████████| 79/79 [00:06<00:00, 12.85it/s, Loss=0.0461, Acc=0.9830]\n"
     ]
    },
    {
     "name": "stdout",
     "output_type": "stream",
     "text": [
      "Train Loss: 0.0461 Acc: 0.9830\n"
     ]
    },
    {
     "name": "stderr",
     "output_type": "stream",
     "text": [
      "Val : 100%|██████████| 4/4 [00:00<00:00,  9.49it/s, Loss=1.2670, Acc=0.7600]"
     ]
    },
    {
     "name": "stdout",
     "output_type": "stream",
     "text": [
      "Val Loss: 1.2670 Acc: 0.7600\n",
      "Early stopping triggered after 14 epochs\n",
      "Training complete in 1m 33s\n",
      "Best validation accuracy: 0.8400\n"
     ]
    },
    {
     "name": "stderr",
     "output_type": "stream",
     "text": [
      "\n"
     ]
    }
   ],
   "source": [
    "# Train MobileNet V3 Large\n",
    "print(\"Training MobileNet V3 Large...\")\n",
    "trained_mobilenet_v3_large = mobilenet_v3_large_trainer.train_model(num_epochs=25, model_name=\"mobilenet_v3_large\")"
   ]
  },
  {
   "cell_type": "code",
   "execution_count": 21,
   "id": "99affebe",
   "metadata": {
    "execution": {
     "iopub.execute_input": "2025-09-08T09:51:08.182466Z",
     "iopub.status.busy": "2025-09-08T09:51:08.182160Z",
     "iopub.status.idle": "2025-09-08T09:51:09.397281Z",
     "shell.execute_reply": "2025-09-08T09:51:09.396490Z"
    },
    "papermill": {
     "duration": 1.48002,
     "end_time": "2025-09-08T09:51:09.398425",
     "exception": false,
     "start_time": "2025-09-08T09:51:07.918405",
     "status": "completed"
    },
    "tags": []
   },
   "outputs": [
    {
     "name": "stdout",
     "output_type": "stream",
     "text": [
      "Evaluating on test set...\n"
     ]
    },
    {
     "name": "stderr",
     "output_type": "stream",
     "text": [
      "100%|██████████| 10/10 [00:00<00:00, 11.96it/s]\n"
     ]
    },
    {
     "name": "stdout",
     "output_type": "stream",
     "text": [
      "Test Accuracy: 88.67%\n",
      "Test Loss: 0.3666\n",
      "\n",
      "Classification Report:\n",
      "              precision    recall  f1-score   support\n",
      "\n",
      "    Autistic       0.89      0.89      0.89       150\n",
      "Non_Autistic       0.89      0.89      0.89       150\n",
      "\n",
      "    accuracy                           0.89       300\n",
      "   macro avg       0.89      0.89      0.89       300\n",
      "weighted avg       0.89      0.89      0.89       300\n",
      "\n",
      "\n",
      "Confusion Matrix:\n",
      "[[133  17]\n",
      " [ 17 133]]\n"
     ]
    },
    {
     "data": {
      "image/png": "[encoded data removed]",
      "text/plain": [
       "<Figure size 1500x500 with 2 Axes>"
      ]
     },
     "metadata": {},
     "output_type": "display_data"
    }
   ],
   "source": [
    "# Evaluate MobileNet V3 Large\n",
    "mobilenet_v3_large_test_acc, mobilenet_v3_large_preds, mobilenet_v3_large_labels = mobilenet_v3_large_trainer.evaluate_model()\n",
    "mobilenet_v3_large_trainer.plot_training_history()"
   ]
  },
  {
   "cell_type": "markdown",
   "id": "b3bf8680",
   "metadata": {
    "papermill": {
     "duration": 0.260832,
     "end_time": "2025-09-08T09:51:09.924653",
     "exception": false,
     "start_time": "2025-09-08T09:51:09.663821",
     "status": "completed"
    },
    "tags": []
   },
   "source": [
    "## 5. RegNet X-400MF Training"
   ]
  },
  {
   "cell_type": "code",
   "execution_count": 22,
   "id": "54d9783a",
   "metadata": {
    "execution": {
     "iopub.execute_input": "2025-09-08T09:51:10.500081Z",
     "iopub.status.busy": "2025-09-08T09:51:10.499334Z",
     "iopub.status.idle": "2025-09-08T09:51:11.358131Z",
     "shell.execute_reply": "2025-09-08T09:51:11.357190Z"
    },
    "papermill": {
     "duration": 1.12257,
     "end_time": "2025-09-08T09:51:11.359174",
     "exception": false,
     "start_time": "2025-09-08T09:51:10.236604",
     "status": "completed"
    },
    "tags": []
   },
   "outputs": [
    {
     "name": "stdout",
     "output_type": "stream",
     "text": [
      "Creating RegNet X-400MF model...\n"
     ]
    },
    {
     "name": "stderr",
     "output_type": "stream",
     "text": [
      "Downloading: \"https://download.pytorch.org/models/regnet_x_400mf-adf1edd5.pth\" to /root/.cache/torch/hub/checkpoints/regnet_x_400mf-adf1edd5.pth\n",
      "100%|██████████| 21.3M/21.3M [00:00<00:00, 208MB/s]\n"
     ]
    }
   ],
   "source": [
    "# Create and train RegNet X-400MF\n",
    "print(\"Creating RegNet X-400MF model...\")\n",
    "regnet_x_400mf_model = create_regnet_model('x_400mf')\n",
    "regnet_x_400mf_trainer = ModelTrainer(regnet_x_400mf_model, train_loader_cnn, val_loader_cnn, test_loader_cnn, device)"
   ]
  },
  {
   "cell_type": "code",
   "execution_count": 23,
   "id": "f07f0a81",
   "metadata": {
    "execution": {
     "iopub.execute_input": "2025-09-08T09:51:11.885167Z",
     "iopub.status.busy": "2025-09-08T09:51:11.884473Z",
     "iopub.status.idle": "2025-09-08T09:52:25.501316Z",
     "shell.execute_reply": "2025-09-08T09:52:25.500249Z"
    },
    "papermill": {
     "duration": 73.879711,
     "end_time": "2025-09-08T09:52:25.502713",
     "exception": false,
     "start_time": "2025-09-08T09:51:11.623002",
     "status": "completed"
    },
    "tags": []
   },
   "outputs": [
    {
     "name": "stdout",
     "output_type": "stream",
     "text": [
      "Training RegNet X-400MF...\n",
      "Starting training for 25 epochs...\n",
      "------------------------------------------------------------\n",
      "Epoch 1/25\n",
      "----------\n"
     ]
    },
    {
     "name": "stderr",
     "output_type": "stream",
     "text": [
      "Train : 100%|██████████| 79/79 [00:06<00:00, 11.46it/s, Loss=0.4701, Acc=0.7793]\n"
     ]
    },
    {
     "name": "stdout",
     "output_type": "stream",
     "text": [
      "Train Loss: 0.4701 Acc: 0.7793\n"
     ]
    },
    {
     "name": "stderr",
     "output_type": "stream",
     "text": [
      "Val : 100%|██████████| 4/4 [00:00<00:00,  8.53it/s, Loss=0.5340, Acc=0.7400]\n"
     ]
    },
    {
     "name": "stdout",
     "output_type": "stream",
     "text": [
      "Val Loss: 0.5340 Acc: 0.7400\n",
      "✓ New best model saved with validation accuracy: 0.7400\n",
      "\n",
      "Epoch 2/25\n",
      "----------\n"
     ]
    },
    {
     "name": "stderr",
     "output_type": "stream",
     "text": [
      "Train : 100%|██████████| 79/79 [00:06<00:00, 11.54it/s, Loss=0.2605, Acc=0.8904]\n"
     ]
    },
    {
     "name": "stdout",
     "output_type": "stream",
     "text": [
      "Train Loss: 0.2605 Acc: 0.8904\n"
     ]
    },
    {
     "name": "stderr",
     "output_type": "stream",
     "text": [
      "Val : 100%|██████████| 4/4 [00:00<00:00,  8.15it/s, Loss=0.4023, Acc=0.8300]\n"
     ]
    },
    {
     "name": "stdout",
     "output_type": "stream",
     "text": [
      "Val Loss: 0.4023 Acc: 0.8300\n",
      "✓ New best model saved with validation accuracy: 0.8300\n",
      "\n",
      "Epoch 3/25\n",
      "----------\n"
     ]
    },
    {
     "name": "stderr",
     "output_type": "stream",
     "text": [
      "Train : 100%|██████████| 79/79 [00:06<00:00, 11.53it/s, Loss=0.1940, Acc=0.9244]\n"
     ]
    },
    {
     "name": "stdout",
     "output_type": "stream",
     "text": [
      "Train Loss: 0.1940 Acc: 0.9244\n"
     ]
    },
    {
     "name": "stderr",
     "output_type": "stream",
     "text": [
      "Val : 100%|██████████| 4/4 [00:00<00:00,  8.49it/s, Loss=0.4896, Acc=0.7900]\n"
     ]
    },
    {
     "name": "stdout",
     "output_type": "stream",
     "text": [
      "Val Loss: 0.4896 Acc: 0.7900\n",
      "\n",
      "Epoch 4/25\n",
      "----------\n"
     ]
    },
    {
     "name": "stderr",
     "output_type": "stream",
     "text": [
      "Train : 100%|██████████| 79/79 [00:06<00:00, 11.52it/s, Loss=0.1378, Acc=0.9422]\n"
     ]
    },
    {
     "name": "stdout",
     "output_type": "stream",
     "text": [
      "Train Loss: 0.1378 Acc: 0.9422\n"
     ]
    },
    {
     "name": "stderr",
     "output_type": "stream",
     "text": [
      "Val : 100%|██████████| 4/4 [00:00<00:00,  8.95it/s, Loss=0.6944, Acc=0.7700]\n"
     ]
    },
    {
     "name": "stdout",
     "output_type": "stream",
     "text": [
      "Val Loss: 0.6944 Acc: 0.7700\n",
      "\n",
      "Epoch 5/25\n",
      "----------\n"
     ]
    },
    {
     "name": "stderr",
     "output_type": "stream",
     "text": [
      "Train : 100%|██████████| 79/79 [00:06<00:00, 11.34it/s, Loss=0.1484, Acc=0.9387]\n"
     ]
    },
    {
     "name": "stdout",
     "output_type": "stream",
     "text": [
      "Train Loss: 0.1484 Acc: 0.9387\n"
     ]
    },
    {
     "name": "stderr",
     "output_type": "stream",
     "text": [
      "Val : 100%|██████████| 4/4 [00:00<00:00,  8.86it/s, Loss=0.4453, Acc=0.8900]\n"
     ]
    },
    {
     "name": "stdout",
     "output_type": "stream",
     "text": [
      "Val Loss: 0.4453 Acc: 0.8900\n",
      "✓ New best model saved with validation accuracy: 0.8900\n",
      "\n",
      "Epoch 6/25\n",
      "----------\n"
     ]
    },
    {
     "name": "stderr",
     "output_type": "stream",
     "text": [
      "Train : 100%|██████████| 79/79 [00:06<00:00, 11.72it/s, Loss=0.0806, Acc=0.9699]\n"
     ]
    },
    {
     "name": "stdout",
     "output_type": "stream",
     "text": [
      "Train Loss: 0.0806 Acc: 0.9699\n"
     ]
    },
    {
     "name": "stderr",
     "output_type": "stream",
     "text": [
      "Val : 100%|██████████| 4/4 [00:00<00:00,  8.18it/s, Loss=0.7637, Acc=0.8200]\n"
     ]
    },
    {
     "name": "stdout",
     "output_type": "stream",
     "text": [
      "Val Loss: 0.7637 Acc: 0.8200\n",
      "\n",
      "Epoch 7/25\n",
      "----------\n"
     ]
    },
    {
     "name": "stderr",
     "output_type": "stream",
     "text": [
      "Train : 100%|██████████| 79/79 [00:06<00:00, 11.57it/s, Loss=0.1039, Acc=0.9648]\n"
     ]
    },
    {
     "name": "stdout",
     "output_type": "stream",
     "text": [
      "Train Loss: 0.1039 Acc: 0.9648\n"
     ]
    },
    {
     "name": "stderr",
     "output_type": "stream",
     "text": [
      "Val : 100%|██████████| 4/4 [00:00<00:00,  8.75it/s, Loss=0.6188, Acc=0.8400]\n"
     ]
    },
    {
     "name": "stdout",
     "output_type": "stream",
     "text": [
      "Val Loss: 0.6188 Acc: 0.8400\n",
      "\n",
      "Epoch 8/25\n",
      "----------\n"
     ]
    },
    {
     "name": "stderr",
     "output_type": "stream",
     "text": [
      "Train : 100%|██████████| 79/79 [00:06<00:00, 11.38it/s, Loss=0.0733, Acc=0.9711]\n"
     ]
    },
    {
     "name": "stdout",
     "output_type": "stream",
     "text": [
      "Train Loss: 0.0733 Acc: 0.9711\n"
     ]
    },
    {
     "name": "stderr",
     "output_type": "stream",
     "text": [
      "Val : 100%|██████████| 4/4 [00:00<00:00,  8.93it/s, Loss=1.0722, Acc=0.7700]\n"
     ]
    },
    {
     "name": "stdout",
     "output_type": "stream",
     "text": [
      "Val Loss: 1.0722 Acc: 0.7700\n",
      "\n",
      "Epoch 9/25\n",
      "----------\n"
     ]
    },
    {
     "name": "stderr",
     "output_type": "stream",
     "text": [
      "Train : 100%|██████████| 79/79 [00:06<00:00, 11.48it/s, Loss=0.0849, Acc=0.9688]\n"
     ]
    },
    {
     "name": "stdout",
     "output_type": "stream",
     "text": [
      "Train Loss: 0.0849 Acc: 0.9688\n"
     ]
    },
    {
     "name": "stderr",
     "output_type": "stream",
     "text": [
      "Val : 100%|██████████| 4/4 [00:00<00:00,  8.93it/s, Loss=0.6461, Acc=0.8100]\n"
     ]
    },
    {
     "name": "stdout",
     "output_type": "stream",
     "text": [
      "Val Loss: 0.6461 Acc: 0.8100\n",
      "\n",
      "Epoch 10/25\n",
      "----------\n"
     ]
    },
    {
     "name": "stderr",
     "output_type": "stream",
     "text": [
      "Train : 100%|██████████| 79/79 [00:06<00:00, 11.68it/s, Loss=0.0700, Acc=0.9759]\n"
     ]
    },
    {
     "name": "stdout",
     "output_type": "stream",
     "text": [
      "Train Loss: 0.0700 Acc: 0.9759\n"
     ]
    },
    {
     "name": "stderr",
     "output_type": "stream",
     "text": [
      "Val : 100%|██████████| 4/4 [00:00<00:00,  8.67it/s, Loss=0.8562, Acc=0.7400]"
     ]
    },
    {
     "name": "stdout",
     "output_type": "stream",
     "text": [
      "Val Loss: 0.8562 Acc: 0.7400\n",
      "Early stopping triggered after 10 epochs\n",
      "Training complete in 1m 14s\n",
      "Best validation accuracy: 0.8900\n"
     ]
    },
    {
     "name": "stderr",
     "output_type": "stream",
     "text": [
      "\n"
     ]
    }
   ],
   "source": [
    "# Train RegNet X-400MF\n",
    "print(\"Training RegNet X-400MF...\")\n",
    "trained_regnet_x_400mf = regnet_x_400mf_trainer.train_model(num_epochs=25, model_name=\"regnet_x_400mf\")"
   ]
  },
  {
   "cell_type": "code",
   "execution_count": 24,
   "id": "bf80d23e",
   "metadata": {
    "execution": {
     "iopub.execute_input": "2025-09-08T09:52:26.206086Z",
     "iopub.status.busy": "2025-09-08T09:52:26.205317Z",
     "iopub.status.idle": "2025-09-08T09:52:27.431912Z",
     "shell.execute_reply": "2025-09-08T09:52:27.431106Z"
    },
    "papermill": {
     "duration": 1.609901,
     "end_time": "2025-09-08T09:52:27.433313",
     "exception": false,
     "start_time": "2025-09-08T09:52:25.823412",
     "status": "completed"
    },
    "tags": []
   },
   "outputs": [
    {
     "name": "stdout",
     "output_type": "stream",
     "text": [
      "Evaluating on test set...\n"
     ]
    },
    {
     "name": "stderr",
     "output_type": "stream",
     "text": [
      "100%|██████████| 10/10 [00:00<00:00, 11.46it/s]\n"
     ]
    },
    {
     "name": "stdout",
     "output_type": "stream",
     "text": [
      "Test Accuracy: 84.67%\n",
      "Test Loss: 0.3671\n",
      "\n",
      "Classification Report:\n",
      "              precision    recall  f1-score   support\n",
      "\n",
      "    Autistic       0.80      0.93      0.86       150\n",
      "Non_Autistic       0.91      0.77      0.83       150\n",
      "\n",
      "    accuracy                           0.85       300\n",
      "   macro avg       0.86      0.85      0.85       300\n",
      "weighted avg       0.86      0.85      0.85       300\n",
      "\n",
      "\n",
      "Confusion Matrix:\n",
      "[[139  11]\n",
      " [ 35 115]]\n"
     ]
    },
    {
     "data": {
      "image/png": "[encoded data removed]",
      "text/plain": [
       "<Figure size 1500x500 with 2 Axes>"
      ]
     },
     "metadata": {},
     "output_type": "display_data"
    }
   ],
   "source": [
    "# Evaluate RegNet X-400MF\n",
    "regnet_x_400mf_test_acc, regnet_x_400mf_preds, regnet_x_400mf_labels = regnet_x_400mf_trainer.evaluate_model()\n",
    "regnet_x_400mf_trainer.plot_training_history()"
   ]
  },
  {
   "cell_type": "markdown",
   "id": "2d858829",
   "metadata": {
    "papermill": {
     "duration": 0.314511,
     "end_time": "2025-09-08T09:52:28.073003",
     "exception": false,
     "start_time": "2025-09-08T09:52:27.758492",
     "status": "completed"
    },
    "tags": []
   },
   "source": [
    "## 6. DenseNet-121 Training"
   ]
  },
  {
   "cell_type": "code",
   "execution_count": 25,
   "id": "38a094f1",
   "metadata": {
    "execution": {
     "iopub.execute_input": "2025-09-08T09:52:28.750250Z",
     "iopub.status.busy": "2025-09-08T09:52:28.749953Z",
     "iopub.status.idle": "2025-09-08T09:52:29.267823Z",
     "shell.execute_reply": "2025-09-08T09:52:29.267270Z"
    },
    "papermill": {
     "duration": 0.831706,
     "end_time": "2025-09-08T09:52:29.268909",
     "exception": false,
     "start_time": "2025-09-08T09:52:28.437203",
     "status": "completed"
    },
    "tags": []
   },
   "outputs": [
    {
     "name": "stdout",
     "output_type": "stream",
     "text": [
      "Creating DenseNet-121 model...\n"
     ]
    },
    {
     "name": "stderr",
     "output_type": "stream",
     "text": [
      "Downloading: \"https://download.pytorch.org/models/densenet121-a639ec97.pth\" to /root/.cache/torch/hub/checkpoints/densenet121-a639ec97.pth\n",
      "100%|██████████| 30.8M/30.8M [00:00<00:00, 141MB/s]\n"
     ]
    }
   ],
   "source": [
    "# Create and train DenseNet-121\n",
    "print(\"Creating DenseNet-121 model...\")\n",
    "densenet121_model = create_densenet_model('121')\n",
    "densenet121_trainer = ModelTrainer(densenet121_model, train_loader_cnn, val_loader_cnn, test_loader_cnn, device)"
   ]
  },
  {
   "cell_type": "code",
   "execution_count": 26,
   "id": "80c50b65",
   "metadata": {
    "execution": {
     "iopub.execute_input": "2025-09-08T09:52:29.898563Z",
     "iopub.status.busy": "2025-09-08T09:52:29.897935Z",
     "iopub.status.idle": "2025-09-08T09:55:03.239169Z",
     "shell.execute_reply": "2025-09-08T09:55:03.238148Z"
    },
    "papermill": {
     "duration": 153.654964,
     "end_time": "2025-09-08T09:55:03.240317",
     "exception": false,
     "start_time": "2025-09-08T09:52:29.585353",
     "status": "completed"
    },
    "tags": []
   },
   "outputs": [
    {
     "name": "stdout",
     "output_type": "stream",
     "text": [
      "Training DenseNet-121...\n",
      "Starting training for 25 epochs...\n",
      "------------------------------------------------------------\n",
      "Epoch 1/25\n",
      "----------\n"
     ]
    },
    {
     "name": "stderr",
     "output_type": "stream",
     "text": [
      "Train : 100%|██████████| 79/79 [00:14<00:00,  5.34it/s, Loss=0.5099, Acc=0.7536]\n"
     ]
    },
    {
     "name": "stdout",
     "output_type": "stream",
     "text": [
      "Train Loss: 0.5099 Acc: 0.7536\n"
     ]
    },
    {
     "name": "stderr",
     "output_type": "stream",
     "text": [
      "Val : 100%|██████████| 4/4 [00:00<00:00,  6.02it/s, Loss=0.6003, Acc=0.7200]\n"
     ]
    },
    {
     "name": "stdout",
     "output_type": "stream",
     "text": [
      "Val Loss: 0.6003 Acc: 0.7200\n",
      "✓ New best model saved with validation accuracy: 0.7200\n",
      "\n",
      "Epoch 2/25\n",
      "----------\n"
     ]
    },
    {
     "name": "stderr",
     "output_type": "stream",
     "text": [
      "Train : 100%|██████████| 79/79 [00:14<00:00,  5.41it/s, Loss=0.4119, Acc=0.8050]\n"
     ]
    },
    {
     "name": "stdout",
     "output_type": "stream",
     "text": [
      "Train Loss: 0.4119 Acc: 0.8050\n"
     ]
    },
    {
     "name": "stderr",
     "output_type": "stream",
     "text": [
      "Val : 100%|██████████| 4/4 [00:00<00:00,  6.36it/s, Loss=0.4452, Acc=0.8000]\n"
     ]
    },
    {
     "name": "stdout",
     "output_type": "stream",
     "text": [
      "Val Loss: 0.4452 Acc: 0.8000\n",
      "✓ New best model saved with validation accuracy: 0.8000\n",
      "\n",
      "Epoch 3/25\n",
      "----------\n"
     ]
    },
    {
     "name": "stderr",
     "output_type": "stream",
     "text": [
      "Train : 100%|██████████| 79/79 [00:14<00:00,  5.42it/s, Loss=0.3611, Acc=0.8465]\n"
     ]
    },
    {
     "name": "stdout",
     "output_type": "stream",
     "text": [
      "Train Loss: 0.3611 Acc: 0.8465\n"
     ]
    },
    {
     "name": "stderr",
     "output_type": "stream",
     "text": [
      "Val : 100%|██████████| 4/4 [00:00<00:00,  6.72it/s, Loss=0.4707, Acc=0.7700]\n"
     ]
    },
    {
     "name": "stdout",
     "output_type": "stream",
     "text": [
      "Val Loss: 0.4707 Acc: 0.7700\n",
      "\n",
      "Epoch 4/25\n",
      "----------\n"
     ]
    },
    {
     "name": "stderr",
     "output_type": "stream",
     "text": [
      "Train : 100%|██████████| 79/79 [00:14<00:00,  5.39it/s, Loss=0.3480, Acc=0.8457]\n"
     ]
    },
    {
     "name": "stdout",
     "output_type": "stream",
     "text": [
      "Train Loss: 0.3480 Acc: 0.8457\n"
     ]
    },
    {
     "name": "stderr",
     "output_type": "stream",
     "text": [
      "Val : 100%|██████████| 4/4 [00:00<00:00,  6.80it/s, Loss=0.4165, Acc=0.7800]\n"
     ]
    },
    {
     "name": "stdout",
     "output_type": "stream",
     "text": [
      "Val Loss: 0.4165 Acc: 0.7800\n",
      "\n",
      "Epoch 5/25\n",
      "----------\n"
     ]
    },
    {
     "name": "stderr",
     "output_type": "stream",
     "text": [
      "Train : 100%|██████████| 79/79 [00:14<00:00,  5.33it/s, Loss=0.3132, Acc=0.8667]\n"
     ]
    },
    {
     "name": "stdout",
     "output_type": "stream",
     "text": [
      "Train Loss: 0.3132 Acc: 0.8667\n"
     ]
    },
    {
     "name": "stderr",
     "output_type": "stream",
     "text": [
      "Val : 100%|██████████| 4/4 [00:00<00:00,  6.34it/s, Loss=0.4300, Acc=0.8500]\n"
     ]
    },
    {
     "name": "stdout",
     "output_type": "stream",
     "text": [
      "Val Loss: 0.4300 Acc: 0.8500\n",
      "✓ New best model saved with validation accuracy: 0.8500\n",
      "\n",
      "Epoch 6/25\n",
      "----------\n"
     ]
    },
    {
     "name": "stderr",
     "output_type": "stream",
     "text": [
      "Train : 100%|██████████| 79/79 [00:14<00:00,  5.40it/s, Loss=0.2567, Acc=0.8916]\n"
     ]
    },
    {
     "name": "stdout",
     "output_type": "stream",
     "text": [
      "Train Loss: 0.2567 Acc: 0.8916\n"
     ]
    },
    {
     "name": "stderr",
     "output_type": "stream",
     "text": [
      "Val : 100%|██████████| 4/4 [00:00<00:00,  6.90it/s, Loss=0.6868, Acc=0.7000]\n"
     ]
    },
    {
     "name": "stdout",
     "output_type": "stream",
     "text": [
      "Val Loss: 0.6868 Acc: 0.7000\n",
      "\n",
      "Epoch 7/25\n",
      "----------\n"
     ]
    },
    {
     "name": "stderr",
     "output_type": "stream",
     "text": [
      "Train : 100%|██████████| 79/79 [00:14<00:00,  5.41it/s, Loss=0.2511, Acc=0.8932]\n"
     ]
    },
    {
     "name": "stdout",
     "output_type": "stream",
     "text": [
      "Train Loss: 0.2511 Acc: 0.8932\n"
     ]
    },
    {
     "name": "stderr",
     "output_type": "stream",
     "text": [
      "Val : 100%|██████████| 4/4 [00:00<00:00,  6.64it/s, Loss=0.5338, Acc=0.8000]\n"
     ]
    },
    {
     "name": "stdout",
     "output_type": "stream",
     "text": [
      "Val Loss: 0.5338 Acc: 0.8000\n",
      "\n",
      "Epoch 8/25\n",
      "----------\n"
     ]
    },
    {
     "name": "stderr",
     "output_type": "stream",
     "text": [
      "Train : 100%|██████████| 79/79 [00:14<00:00,  5.41it/s, Loss=0.2242, Acc=0.9035]\n"
     ]
    },
    {
     "name": "stdout",
     "output_type": "stream",
     "text": [
      "Train Loss: 0.2242 Acc: 0.9035\n"
     ]
    },
    {
     "name": "stderr",
     "output_type": "stream",
     "text": [
      "Val : 100%|██████████| 4/4 [00:00<00:00,  6.56it/s, Loss=0.4532, Acc=0.7800]\n"
     ]
    },
    {
     "name": "stdout",
     "output_type": "stream",
     "text": [
      "Val Loss: 0.4532 Acc: 0.7800\n",
      "\n",
      "Epoch 9/25\n",
      "----------\n"
     ]
    },
    {
     "name": "stderr",
     "output_type": "stream",
     "text": [
      "Train : 100%|██████████| 79/79 [00:14<00:00,  5.41it/s, Loss=0.2025, Acc=0.9189]\n"
     ]
    },
    {
     "name": "stdout",
     "output_type": "stream",
     "text": [
      "Train Loss: 0.2025 Acc: 0.9189\n"
     ]
    },
    {
     "name": "stderr",
     "output_type": "stream",
     "text": [
      "Val : 100%|██████████| 4/4 [00:00<00:00,  6.23it/s, Loss=0.7010, Acc=0.7700]\n"
     ]
    },
    {
     "name": "stdout",
     "output_type": "stream",
     "text": [
      "Val Loss: 0.7010 Acc: 0.7700\n",
      "\n",
      "Epoch 10/25\n",
      "----------\n"
     ]
    },
    {
     "name": "stderr",
     "output_type": "stream",
     "text": [
      "Train : 100%|██████████| 79/79 [00:14<00:00,  5.40it/s, Loss=0.1861, Acc=0.9260]\n"
     ]
    },
    {
     "name": "stdout",
     "output_type": "stream",
     "text": [
      "Train Loss: 0.1861 Acc: 0.9260\n"
     ]
    },
    {
     "name": "stderr",
     "output_type": "stream",
     "text": [
      "Val : 100%|██████████| 4/4 [00:00<00:00,  6.58it/s, Loss=0.6177, Acc=0.7500]"
     ]
    },
    {
     "name": "stdout",
     "output_type": "stream",
     "text": [
      "Val Loss: 0.6177 Acc: 0.7500\n",
      "Early stopping triggered after 10 epochs\n",
      "Training complete in 2m 33s\n",
      "Best validation accuracy: 0.8500\n"
     ]
    },
    {
     "name": "stderr",
     "output_type": "stream",
     "text": [
      "\n"
     ]
    }
   ],
   "source": [
    "# Train DenseNet-121\n",
    "print(\"Training DenseNet-121...\")\n",
    "trained_densenet121 = densenet121_trainer.train_model(num_epochs=25, model_name=\"densenet121\")"
   ]
  },
  {
   "cell_type": "code",
   "execution_count": 27,
   "id": "83cbc649",
   "metadata": {
    "execution": {
     "iopub.execute_input": "2025-09-08T09:55:04.072192Z",
     "iopub.status.busy": "2025-09-08T09:55:04.071371Z",
     "iopub.status.idle": "2025-09-08T09:55:05.514681Z",
     "shell.execute_reply": "2025-09-08T09:55:05.513992Z"
    },
    "papermill": {
     "duration": 1.885309,
     "end_time": "2025-09-08T09:55:05.515816",
     "exception": false,
     "start_time": "2025-09-08T09:55:03.630507",
     "status": "completed"
    },
    "tags": []
   },
   "outputs": [
    {
     "name": "stdout",
     "output_type": "stream",
     "text": [
      "Evaluating on test set...\n"
     ]
    },
    {
     "name": "stderr",
     "output_type": "stream",
     "text": [
      "100%|██████████| 10/10 [00:01<00:00,  9.26it/s]\n"
     ]
    },
    {
     "name": "stdout",
     "output_type": "stream",
     "text": [
      "Test Accuracy: 85.67%\n",
      "Test Loss: 0.3506\n",
      "\n",
      "Classification Report:\n",
      "              precision    recall  f1-score   support\n",
      "\n",
      "    Autistic       0.85      0.87      0.86       150\n",
      "Non_Autistic       0.87      0.84      0.85       150\n",
      "\n",
      "    accuracy                           0.86       300\n",
      "   macro avg       0.86      0.86      0.86       300\n",
      "weighted avg       0.86      0.86      0.86       300\n",
      "\n",
      "\n",
      "Confusion Matrix:\n",
      "[[131  19]\n",
      " [ 24 126]]\n"
     ]
    },
    {
     "data": {
      "image/png": "[encoded data removed]",
      "text/plain": [
       "<Figure size 1500x500 with 2 Axes>"
      ]
     },
     "metadata": {},
     "output_type": "display_data"
    }
   ],
   "source": [
    "# Evaluate DenseNet-121\n",
    "densenet121_test_acc, densenet121_preds, densenet121_labels = densenet121_trainer.evaluate_model()\n",
    "densenet121_trainer.plot_training_history()"
   ]
  },
  {
   "cell_type": "markdown",
   "id": "390620f4",
   "metadata": {
    "papermill": {
     "duration": 0.47101,
     "end_time": "2025-09-08T09:55:06.377967",
     "exception": false,
     "start_time": "2025-09-08T09:55:05.906957",
     "status": "completed"
    },
    "tags": []
   },
   "source": [
    "## 7. DenseNet-169 Training"
   ]
  },
  {
   "cell_type": "code",
   "execution_count": 28,
   "id": "aee24811",
   "metadata": {
    "execution": {
     "iopub.execute_input": "2025-09-08T09:55:07.214537Z",
     "iopub.status.busy": "2025-09-08T09:55:07.214191Z",
     "iopub.status.idle": "2025-09-08T09:55:08.180418Z",
     "shell.execute_reply": "2025-09-08T09:55:08.179591Z"
    },
    "papermill": {
     "duration": 1.418634,
     "end_time": "2025-09-08T09:55:08.182109",
     "exception": false,
     "start_time": "2025-09-08T09:55:06.763475",
     "status": "completed"
    },
    "tags": []
   },
   "outputs": [
    {
     "name": "stdout",
     "output_type": "stream",
     "text": [
      "Creating DenseNet-169 model...\n"
     ]
    },
    {
     "name": "stderr",
     "output_type": "stream",
     "text": [
      "Downloading: \"https://download.pytorch.org/models/densenet169-b2777c0a.pth\" to /root/.cache/torch/hub/checkpoints/densenet169-b2777c0a.pth\n",
      "100%|██████████| 54.7M/54.7M [00:00<00:00, 115MB/s]\n"
     ]
    }
   ],
   "source": [
    "# Create and train DenseNet-169\n",
    "print(\"Creating DenseNet-169 model...\")\n",
    "densenet169_model = create_densenet_model('169')\n",
    "densenet169_trainer = ModelTrainer(densenet169_model, train_loader_cnn, val_loader_cnn, test_loader_cnn, device)"
   ]
  },
  {
   "cell_type": "code",
   "execution_count": 29,
   "id": "e5978db1",
   "metadata": {
    "execution": {
     "iopub.execute_input": "2025-09-08T09:55:08.961150Z",
     "iopub.status.busy": "2025-09-08T09:55:08.960880Z",
     "iopub.status.idle": "2025-09-08T09:57:21.949616Z",
     "shell.execute_reply": "2025-09-08T09:57:21.948547Z"
    },
    "papermill": {
     "duration": 133.378766,
     "end_time": "2025-09-08T09:57:21.950887",
     "exception": false,
     "start_time": "2025-09-08T09:55:08.572121",
     "status": "completed"
    },
    "tags": []
   },
   "outputs": [
    {
     "name": "stdout",
     "output_type": "stream",
     "text": [
      "Training DenseNet-169...\n",
      "Starting training for 25 epochs...\n",
      "------------------------------------------------------------\n",
      "Epoch 1/25\n",
      "----------\n"
     ]
    },
    {
     "name": "stderr",
     "output_type": "stream",
     "text": [
      "Train : 100%|██████████| 79/79 [00:18<00:00,  4.32it/s, Loss=0.5041, Acc=0.7599]\n"
     ]
    },
    {
     "name": "stdout",
     "output_type": "stream",
     "text": [
      "Train Loss: 0.5041 Acc: 0.7599\n"
     ]
    },
    {
     "name": "stderr",
     "output_type": "stream",
     "text": [
      "Val : 100%|██████████| 4/4 [00:00<00:00,  5.84it/s, Loss=0.5361, Acc=0.7400]\n"
     ]
    },
    {
     "name": "stdout",
     "output_type": "stream",
     "text": [
      "Val Loss: 0.5361 Acc: 0.7400\n",
      "✓ New best model saved with validation accuracy: 0.7400\n",
      "\n",
      "Epoch 2/25\n",
      "----------\n"
     ]
    },
    {
     "name": "stderr",
     "output_type": "stream",
     "text": [
      "Train : 100%|██████████| 79/79 [00:18<00:00,  4.34it/s, Loss=0.4163, Acc=0.8141]\n"
     ]
    },
    {
     "name": "stdout",
     "output_type": "stream",
     "text": [
      "Train Loss: 0.4163 Acc: 0.8141\n"
     ]
    },
    {
     "name": "stderr",
     "output_type": "stream",
     "text": [
      "Val : 100%|██████████| 4/4 [00:00<00:00,  6.05it/s, Loss=0.4880, Acc=0.7500]\n"
     ]
    },
    {
     "name": "stdout",
     "output_type": "stream",
     "text": [
      "Val Loss: 0.4880 Acc: 0.7500\n",
      "✓ New best model saved with validation accuracy: 0.7500\n",
      "\n",
      "Epoch 3/25\n",
      "----------\n"
     ]
    },
    {
     "name": "stderr",
     "output_type": "stream",
     "text": [
      "Train : 100%|██████████| 79/79 [00:18<00:00,  4.33it/s, Loss=0.3785, Acc=0.8271]\n"
     ]
    },
    {
     "name": "stdout",
     "output_type": "stream",
     "text": [
      "Train Loss: 0.3785 Acc: 0.8271\n"
     ]
    },
    {
     "name": "stderr",
     "output_type": "stream",
     "text": [
      "Val : 100%|██████████| 4/4 [00:00<00:00,  6.41it/s, Loss=0.5299, Acc=0.7100]\n"
     ]
    },
    {
     "name": "stdout",
     "output_type": "stream",
     "text": [
      "Val Loss: 0.5299 Acc: 0.7100\n",
      "\n",
      "Epoch 4/25\n",
      "----------\n"
     ]
    },
    {
     "name": "stderr",
     "output_type": "stream",
     "text": [
      "Train : 100%|██████████| 79/79 [00:18<00:00,  4.34it/s, Loss=0.3457, Acc=0.8489]\n"
     ]
    },
    {
     "name": "stdout",
     "output_type": "stream",
     "text": [
      "Train Loss: 0.3457 Acc: 0.8489\n"
     ]
    },
    {
     "name": "stderr",
     "output_type": "stream",
     "text": [
      "Val : 100%|██████████| 4/4 [00:00<00:00,  6.11it/s, Loss=0.5989, Acc=0.6900]\n"
     ]
    },
    {
     "name": "stdout",
     "output_type": "stream",
     "text": [
      "Val Loss: 0.5989 Acc: 0.6900\n",
      "\n",
      "Epoch 5/25\n",
      "----------\n"
     ]
    },
    {
     "name": "stderr",
     "output_type": "stream",
     "text": [
      "Train : 100%|██████████| 79/79 [00:18<00:00,  4.34it/s, Loss=0.3374, Acc=0.8489]\n"
     ]
    },
    {
     "name": "stdout",
     "output_type": "stream",
     "text": [
      "Train Loss: 0.3374 Acc: 0.8489\n"
     ]
    },
    {
     "name": "stderr",
     "output_type": "stream",
     "text": [
      "Val : 100%|██████████| 4/4 [00:00<00:00,  6.46it/s, Loss=1.0205, Acc=0.6400]\n"
     ]
    },
    {
     "name": "stdout",
     "output_type": "stream",
     "text": [
      "Val Loss: 1.0205 Acc: 0.6400\n",
      "\n",
      "Epoch 6/25\n",
      "----------\n"
     ]
    },
    {
     "name": "stderr",
     "output_type": "stream",
     "text": [
      "Train : 100%|██████████| 79/79 [00:18<00:00,  4.28it/s, Loss=0.3079, Acc=0.8647]\n"
     ]
    },
    {
     "name": "stdout",
     "output_type": "stream",
     "text": [
      "Train Loss: 0.3079 Acc: 0.8647\n"
     ]
    },
    {
     "name": "stderr",
     "output_type": "stream",
     "text": [
      "Val : 100%|██████████| 4/4 [00:00<00:00,  5.95it/s, Loss=0.4647, Acc=0.7300]\n"
     ]
    },
    {
     "name": "stdout",
     "output_type": "stream",
     "text": [
      "Val Loss: 0.4647 Acc: 0.7300\n",
      "\n",
      "Epoch 7/25\n",
      "----------\n"
     ]
    },
    {
     "name": "stderr",
     "output_type": "stream",
     "text": [
      "Train : 100%|██████████| 79/79 [00:18<00:00,  4.34it/s, Loss=0.2682, Acc=0.8809]\n"
     ]
    },
    {
     "name": "stdout",
     "output_type": "stream",
     "text": [
      "Train Loss: 0.2682 Acc: 0.8809\n"
     ]
    },
    {
     "name": "stderr",
     "output_type": "stream",
     "text": [
      "Val : 100%|██████████| 4/4 [00:00<00:00,  6.02it/s, Loss=1.1392, Acc=0.6900]"
     ]
    },
    {
     "name": "stdout",
     "output_type": "stream",
     "text": [
      "Val Loss: 1.1392 Acc: 0.6900\n",
      "Early stopping triggered after 7 epochs\n",
      "Training complete in 2m 13s\n",
      "Best validation accuracy: 0.7500\n"
     ]
    },
    {
     "name": "stderr",
     "output_type": "stream",
     "text": [
      "\n"
     ]
    }
   ],
   "source": [
    "# Train DenseNet-169\n",
    "print(\"Training DenseNet-169...\")\n",
    "trained_densenet169 = densenet169_trainer.train_model(num_epochs=25, model_name=\"densenet169\")"
   ]
  },
  {
   "cell_type": "code",
   "execution_count": 30,
   "id": "143ea476",
   "metadata": {
    "execution": {
     "iopub.execute_input": "2025-09-08T09:57:22.894109Z",
     "iopub.status.busy": "2025-09-08T09:57:22.893809Z",
     "iopub.status.idle": "2025-09-08T09:57:24.407785Z",
     "shell.execute_reply": "2025-09-08T09:57:24.406956Z"
    },
    "papermill": {
     "duration": 2.017274,
     "end_time": "2025-09-08T09:57:24.409150",
     "exception": false,
     "start_time": "2025-09-08T09:57:22.391876",
     "status": "completed"
    },
    "tags": []
   },
   "outputs": [
    {
     "name": "stdout",
     "output_type": "stream",
     "text": [
      "Evaluating on test set...\n"
     ]
    },
    {
     "name": "stderr",
     "output_type": "stream",
     "text": [
      "100%|██████████| 10/10 [00:01<00:00,  8.61it/s]\n"
     ]
    },
    {
     "name": "stdout",
     "output_type": "stream",
     "text": [
      "Test Accuracy: 81.67%\n",
      "Test Loss: 0.3703\n",
      "\n",
      "Classification Report:\n",
      "              precision    recall  f1-score   support\n",
      "\n",
      "    Autistic       0.80      0.85      0.82       150\n",
      "Non_Autistic       0.84      0.79      0.81       150\n",
      "\n",
      "    accuracy                           0.82       300\n",
      "   macro avg       0.82      0.82      0.82       300\n",
      "weighted avg       0.82      0.82      0.82       300\n",
      "\n",
      "\n",
      "Confusion Matrix:\n",
      "[[127  23]\n",
      " [ 32 118]]\n"
     ]
    },
    {
     "data": {
      "image/png": "[encoded data removed]",
      "text/plain": [
       "<Figure size 1500x500 with 2 Axes>"
      ]
     },
     "metadata": {},
     "output_type": "display_data"
    }
   ],
   "source": [
    "# Evaluate DenseNet-169\n",
    "densenet169_test_acc, densenet169_preds, densenet169_labels = densenet169_trainer.evaluate_model()\n",
    "densenet169_trainer.plot_training_history()"
   ]
  },
  {
   "cell_type": "markdown",
   "id": "f765ae3e",
   "metadata": {
    "papermill": {
     "duration": 0.487865,
     "end_time": "2025-09-08T09:57:25.333638",
     "exception": false,
     "start_time": "2025-09-08T09:57:24.845773",
     "status": "completed"
    },
    "tags": []
   },
   "source": [
    "## Model Performance Summary"
   ]
  },
  {
   "cell_type": "code",
   "execution_count": 31,
   "id": "88739e74",
   "metadata": {
    "execution": {
     "iopub.execute_input": "2025-09-08T09:57:26.287094Z",
     "iopub.status.busy": "2025-09-08T09:57:26.286301Z",
     "iopub.status.idle": "2025-09-08T09:57:26.313863Z",
     "shell.execute_reply": "2025-09-08T09:57:26.312872Z"
    },
    "papermill": {
     "duration": 0.545202,
     "end_time": "2025-09-08T09:57:26.314955",
     "exception": false,
     "start_time": "2025-09-08T09:57:25.769753",
     "status": "completed"
    },
    "tags": []
   },
   "outputs": [
    {
     "name": "stdout",
     "output_type": "stream",
     "text": [
      "Model Performance Summary:\n",
      "==================================================\n",
      "MobileNet V3 Large  : 88.67% (CNN)\n",
      "DenseNet-121        : 85.67% (CNN)\n",
      "Vision Transformer (ViT-B/16): 84.67% (Transformer)\n",
      "RegNet X-400MF      : 84.67% (CNN)\n",
      "MobileNet V2        : 82.33% (CNN)\n",
      "DenseNet-169        : 81.67% (CNN)\n",
      "AlexNet             : 50.00% (CNN)\n",
      "\n",
      "Best performing model: MobileNet V3 Large with 88.67% accuracy\n",
      "\n",
      "==================================================\n",
      "Performance by Architecture Type:\n",
      "                        mean        max        min\n",
      "Architecture_Type                                 \n",
      "CNN                78.833333  88.666667  50.000000\n",
      "Transformer        84.666667  84.666667  84.666667\n"
     ]
    }
   ],
   "source": [
    "# Create a summary table of all model performances\n",
    "results_summary = pd.DataFrame({\n",
    "    'Model': ['Vision Transformer (ViT-B/16)', 'AlexNet', 'MobileNet V2', 'MobileNet V3 Large', 'RegNet X-400MF', 'DenseNet-121', 'DenseNet-169'],\n",
    "    'Test_Accuracy': [\n",
    "        vit_b16_test_acc,\n",
    "        alexnet_test_acc,\n",
    "        mobilenet_v2_test_acc,\n",
    "        mobilenet_v3_large_test_acc,\n",
    "        regnet_x_400mf_test_acc,\n",
    "        densenet121_test_acc,\n",
    "        densenet169_test_acc\n",
    "    ],\n",
    "    'Architecture_Type': ['Transformer', 'CNN', 'CNN', 'CNN', 'CNN', 'CNN', 'CNN']\n",
    "})\n",
    "\n",
    "# Sort by accuracy\n",
    "results_summary = results_summary.sort_values('Test_Accuracy', ascending=False)\n",
    "\n",
    "print(\"Model Performance Summary:\")\n",
    "print(\"=\" * 50)\n",
    "for idx, row in results_summary.iterrows():\n",
    "    print(f\"{row['Model']:<20}: {row['Test_Accuracy']:.2f}% ({row['Architecture_Type']})\")\n",
    "\n",
    "print(f\"\\nBest performing model: {results_summary.iloc[0]['Model']} with {results_summary.iloc[0]['Test_Accuracy']:.2f}% accuracy\")\n",
    "\n",
    "# Group by architecture type\n",
    "print(\"\\n\" + \"=\" * 50)\n",
    "print(\"Performance by Architecture Type:\")\n",
    "arch_summary = results_summary.groupby('Architecture_Type')['Test_Accuracy'].agg(['mean', 'max', 'min'])\n",
    "print(arch_summary)"
   ]
  },
  {
   "cell_type": "markdown",
   "id": "60001067",
   "metadata": {
    "papermill": {
     "duration": 0.42734,
     "end_time": "2025-09-08T09:57:27.174282",
     "exception": false,
     "start_time": "2025-09-08T09:57:26.746942",
     "status": "completed"
    },
    "tags": []
   },
   "source": [
    "## Model Comparison Visualization"
   ]
  },
  {
   "cell_type": "code",
   "execution_count": 32,
   "id": "7a864c82",
   "metadata": {
    "execution": {
     "iopub.execute_input": "2025-09-08T09:57:28.090758Z",
     "iopub.status.busy": "2025-09-08T09:57:28.090470Z",
     "iopub.status.idle": "2025-09-08T09:57:28.427322Z",
     "shell.execute_reply": "2025-09-08T09:57:28.426635Z"
    },
    "papermill": {
     "duration": 0.77082,
     "end_time": "2025-09-08T09:57:28.428943",
     "exception": false,
     "start_time": "2025-09-08T09:57:27.658123",
     "status": "completed"
    },
    "tags": []
   },
   "outputs": [
    {
     "data": {
      "image/png": "[encoded data removed]",
      "text/plain": [
       "<Figure size 1800x600 with 2 Axes>"
      ]
     },
     "metadata": {},
     "output_type": "display_data"
    }
   ],
   "source": [
    "# Create a comprehensive comparison plot\n",
    "fig, (ax1, ax2) = plt.subplots(1, 2, figsize=(18, 6))\n",
    "\n",
    "# Plot 1: Bar plot of all models\n",
    "colors = ['#FF6B6B', '#4ECDC4', '#45B7D1', '#96CEB4', '#FFEAA7']\n",
    "bars = ax1.bar(results_summary['Model'], results_summary['Test_Accuracy'], color=colors)\n",
    "\n",
    "ax1.set_title('Model Performance Comparison - Test Accuracy', fontsize=16, fontweight='bold')\n",
    "ax1.set_xlabel('Models', fontsize=12)\n",
    "ax1.set_ylabel('Test Accuracy (%)', fontsize=12)\n",
    "ax1.tick_params(axis='x', rotation=45)\n",
    "ax1.grid(axis='y', alpha=0.3)\n",
    "\n",
    "# Add value labels on bars\n",
    "for bar, acc in zip(bars, results_summary['Test_Accuracy']):\n",
    "    ax1.text(bar.get_x() + bar.get_width()/2, bar.get_height() + 0.5,\n",
    "             f'{acc:.1f}%', ha='center', va='bottom', fontweight='bold')\n",
    "\n",
    "# Plot 2: Architecture type comparison\n",
    "arch_means = results_summary.groupby('Architecture_Type')['Test_Accuracy'].mean()\n",
    "bars2 = ax2.bar(arch_means.index, arch_means.values, color=['#FF9F43', '#10AC84'])\n",
    "\n",
    "ax2.set_title('Average Performance by Architecture Type', fontsize=16, fontweight='bold')\n",
    "ax2.set_xlabel('Architecture Type', fontsize=12)\n",
    "ax2.set_ylabel('Average Test Accuracy (%)', fontsize=12)\n",
    "ax2.grid(axis='y', alpha=0.3)\n",
    "\n",
    "# Add value labels\n",
    "for bar, acc in zip(bars2, arch_means.values):\n",
    "    ax2.text(bar.get_x() + bar.get_width()/2, bar.get_height() + 0.5,\n",
    "             f'{acc:.1f}%', ha='center', va='bottom', fontweight='bold')\n",
    "\n",
    "plt.tight_layout()\n",
    "plt.show()"
   ]
  },
  {
   "cell_type": "markdown",
   "id": "9220290c",
   "metadata": {
    "papermill": {
     "duration": 0.434275,
     "end_time": "2025-09-08T09:57:29.355448",
     "exception": false,
     "start_time": "2025-09-08T09:57:28.921173",
     "status": "completed"
    },
    "tags": []
   },
   "source": [
    "## Detailed Model Analysis"
   ]
  },
  {
   "cell_type": "code",
   "execution_count": 33,
   "id": "ef237877",
   "metadata": {
    "execution": {
     "iopub.execute_input": "2025-09-08T09:57:30.269955Z",
     "iopub.status.busy": "2025-09-08T09:57:30.269678Z",
     "iopub.status.idle": "2025-09-08T09:57:30.281143Z",
     "shell.execute_reply": "2025-09-08T09:57:30.280063Z"
    },
    "papermill": {
     "duration": 0.496033,
     "end_time": "2025-09-08T09:57:30.282212",
     "exception": false,
     "start_time": "2025-09-08T09:57:29.786179",
     "status": "completed"
    },
    "tags": []
   },
   "outputs": [
    {
     "name": "stdout",
     "output_type": "stream",
     "text": [
      "Detailed Model Analysis:\n",
      "================================================================================\n",
      "Model: MobileNet V3 Large\n",
      "  Year: 2019 | Parameters: 5.4M | Accuracy: 88.67%\n",
      "  Innovation: Squeeze-and-excitation blocks\n",
      "\n",
      "Model: DenseNet-121\n",
      "  Year: 2017 | Parameters: 8M | Accuracy: 85.67%\n",
      "  Innovation: Dense connections\n",
      "\n",
      "Model: Vision Transformer (ViT-B/16)\n",
      "  Year: 2020 | Parameters: 86M | Accuracy: 84.67%\n",
      "  Innovation: Self-attention mechanism\n",
      "\n",
      "Model: RegNet X-400MF\n",
      "  Year: 2020 | Parameters: 5.2M | Accuracy: 84.67%\n",
      "  Innovation: Regular network design\n",
      "\n",
      "Model: MobileNet V2\n",
      "  Year: 2018 | Parameters: 3.5M | Accuracy: 82.33%\n",
      "  Innovation: Depthwise separable convolutions\n",
      "\n",
      "Model: DenseNet-169\n",
      "  Year: 2017 | Parameters: 14M | Accuracy: 81.67%\n",
      "  Innovation: Dense connections (deeper)\n",
      "\n",
      "Model: AlexNet\n",
      "  Year: 2012 | Parameters: 61M | Accuracy: 50.00%\n",
      "  Innovation: Deep CNN with ReLU\n",
      "\n",
      "\n",
      "Summary Table:\n",
      "                        Model  Year_Introduced Parameters_Approx                   Key_Innovation  Test_Accuracy\n",
      "           MobileNet V3 Large             2019              5.4M    Squeeze-and-excitation blocks      88.666667\n",
      "                 DenseNet-121             2017                8M                Dense connections      85.666667\n",
      "Vision Transformer (ViT-B/16)             2020               86M         Self-attention mechanism      84.666667\n",
      "               RegNet X-400MF             2020              5.2M           Regular network design      84.666667\n",
      "                 MobileNet V2             2018              3.5M Depthwise separable convolutions      82.333333\n",
      "                 DenseNet-169             2017               14M       Dense connections (deeper)      81.666667\n",
      "                      AlexNet             2012               61M               Deep CNN with ReLU      50.000000\n"
     ]
    }
   ],
   "source": [
    "# Create a detailed analysis table\n",
    "model_details = pd.DataFrame({\n",
    "    'Model': ['Vision Transformer (ViT-B/16)', 'AlexNet', 'MobileNet V2', 'MobileNet V3 Large', 'RegNet X-400MF', 'DenseNet-121', 'DenseNet-169'],\n",
    "    'Year_Introduced': [2020, 2012, 2018, 2019, 2020, 2017, 2017],\n",
    "    'Parameters_Approx': ['86M', '61M', '3.5M', '5.4M', '5.2M', '8M', '14M'],\n",
    "    'Key_Innovation': [\n",
    "        'Self-attention mechanism',\n",
    "        'Deep CNN with ReLU',\n",
    "        'Depthwise separable convolutions',\n",
    "        'Squeeze-and-excitation blocks',\n",
    "        'Regular network design',\n",
    "        'Dense connections',\n",
    "        'Dense connections (deeper)'\n",
    "    ],\n",
    "    'Test_Accuracy': [\n",
    "        vit_b16_test_acc,\n",
    "        alexnet_test_acc,\n",
    "        mobilenet_v2_test_acc,\n",
    "        mobilenet_v3_large_test_acc,\n",
    "        regnet_x_400mf_test_acc,\n",
    "        densenet121_test_acc,\n",
    "        densenet169_test_acc\n",
    "    ]\n",
    "})\n",
    "\n",
    "model_details = model_details.sort_values('Test_Accuracy', ascending=False)\n",
    "\n",
    "print(\"Detailed Model Analysis:\")\n",
    "print(\"=\" * 80)\n",
    "for idx, row in model_details.iterrows():\n",
    "    print(f\"Model: {row['Model']}\")\n",
    "    print(f\"  Year: {row['Year_Introduced']} | Parameters: {row['Parameters_Approx']} | Accuracy: {row['Test_Accuracy']:.2f}%\")\n",
    "    print(f\"  Innovation: {row['Key_Innovation']}\")\n",
    "    print()\n",
    "\n",
    "# Display as formatted table\n",
    "print(\"\\nSummary Table:\")\n",
    "print(model_details.to_string(index=False))"
   ]
  },
  {
   "cell_type": "markdown",
   "id": "b197f651",
   "metadata": {
    "papermill": {
     "duration": 0.494452,
     "end_time": "2025-09-08T09:57:31.205964",
     "exception": false,
     "start_time": "2025-09-08T09:57:30.711512",
     "status": "completed"
    },
    "tags": []
   },
   "source": [
    "## Save Results Summary"
   ]
  },
  {
   "cell_type": "code",
   "execution_count": 34,
   "id": "4b87cfd7",
   "metadata": {
    "execution": {
     "iopub.execute_input": "2025-09-08T09:57:32.072733Z",
     "iopub.status.busy": "2025-09-08T09:57:32.072469Z",
     "iopub.status.idle": "2025-09-08T09:57:32.081319Z",
     "shell.execute_reply": "2025-09-08T09:57:32.080336Z"
    },
    "papermill": {
     "duration": 0.440495,
     "end_time": "2025-09-08T09:57:32.083017",
     "exception": false,
     "start_time": "2025-09-08T09:57:31.642522",
     "status": "completed"
    },
    "tags": []
   },
   "outputs": [
    {
     "name": "stdout",
     "output_type": "stream",
     "text": [
      "Final Model Rankings:\n",
      "============================================================\n",
      "1. MobileNet V3 Large   - 88.67% (CNN)\n",
      "2. DenseNet-121         - 85.67% (CNN)\n",
      "3. Vision Transformer (ViT-B/16) - 84.67% (Transformer)\n",
      "4. RegNet X-400MF       - 84.67% (CNN)\n",
      "5. MobileNet V2         - 82.33% (CNN)\n",
      "6. DenseNet-169         - 81.67% (CNN)\n",
      "7. AlexNet              - 50.00% (CNN)\n",
      "\n",
      "Dataset used: AutismDataset with 2940 total samples\n",
      "Training samples: 2540\n",
      "Validation samples: 100\n",
      "Test samples: 300\n"
     ]
    }
   ],
   "source": [
    "# Save results to a CSV file for future reference\n",
    "final_results = pd.DataFrame({\n",
    "    'Model': ['Vision Transformer (ViT-B/16)', 'AlexNet', 'MobileNet V2', 'MobileNet V3 Large', 'RegNet X-400MF', 'DenseNet-121', 'DenseNet-169'],\n",
    "    'Architecture_Type': ['Transformer', 'CNN', 'CNN', 'CNN', 'CNN', 'CNN', 'CNN'],\n",
    "    'Test_Accuracy': [\n",
    "        vit_b16_test_acc,\n",
    "        alexnet_test_acc,\n",
    "        mobilenet_v2_test_acc,\n",
    "        mobilenet_v3_large_test_acc,\n",
    "        regnet_x_400mf_test_acc,\n",
    "        densenet121_test_acc,\n",
    "        densenet169_test_acc\n",
    "    ],\n",
    "    'Training_Time': ['Variable', 'Variable', 'Variable', 'Variable', 'Variable', 'Variable', 'Variable'],  # Would be filled during actual training\n",
    "    'Model_Size': ['Large', 'Large', 'Small', 'Medium', 'Medium', 'Medium', 'Large']\n",
    "})\n",
    "\n",
    "# Sort by accuracy\n",
    "final_results = final_results.sort_values('Test_Accuracy', ascending=False)\n",
    "\n",
    "# Display final rankings\n",
    "print(\"Final Model Rankings:\")\n",
    "print(\"=\" * 60)\n",
    "for i, (idx, row) in enumerate(final_results.iterrows(), 1):\n",
    "    print(f\"{i}. {row['Model']:<20} - {row['Test_Accuracy']:.2f}% ({row['Architecture_Type']})\")\n",
    "\n",
    "print(f\"\\nDataset used: AutismDataset with {len(train_df) + len(valid_df) + len(test_df)} total samples\")\n",
    "print(f\"Training samples: {len(train_df)}\")\n",
    "print(f\"Validation samples: {len(valid_df)}\")\n",
    "print(f\"Test samples: {len(test_df)}\")"
   ]
  },
  {
   "cell_type": "markdown",
   "id": "78996ad4",
   "metadata": {
    "papermill": {
     "duration": 0.42833,
     "end_time": "2025-09-08T09:57:32.991062",
     "exception": false,
     "start_time": "2025-09-08T09:57:32.562732",
     "status": "completed"
    },
    "tags": []
   },
   "source": [
    "## Conclusion\n",
    "\n",
    "This notebook demonstrates the complete pipeline for training and evaluating multiple deep learning architectures for autism spectrum disorder detection:\n",
    "\n",
    "### Models Tested:\n",
    "1. **Vision Transformer (ViT)**: State-of-the-art transformer architecture adapted for computer vision\n",
    "2. **AlexNet**: Historic CNN that sparked the deep learning revolution\n",
    "3. **MobileNet V2**: Efficient mobile-optimized architecture\n",
    "4. **DenseNet-121**: Dense connectivity for feature reuse\n",
    "5. **RegNet**: Regular network design with optimized architecture\n",
    "\n",
    "### Key Features:\n",
    "- **Data Preparation**: Automatic handling of different directory structures\n",
    "- **Architecture Diversity**: Comparison between traditional CNNs and modern transformers\n",
    "- **Efficiency Considerations**: Models ranging from lightweight (MobileNet) to heavyweight (ViT)\n",
    "- **Comprehensive Evaluation**: Detailed metrics and visualizations\n",
    "- **Best Practices**: Early stopping, learning rate scheduling, and model checkpointing\n",
    "\n",
    "### Training Framework:\n",
    "- Adaptive image sizes for different architectures\n",
    "- Memory-efficient batch sizes\n",
    "- Robust error handling and fallbacks\n",
    "- Comprehensive performance analysis\n",
    "\n",
    "The results provide insights into which architectures work best for autism detection from facial images, considering both accuracy and computational efficiency."
   ]
  }
 ],
 "metadata": {
  "kaggle": {
   "accelerator": "gpu",
   "dataSources": [
    {
     "datasetId": 564001,
     "sourceId": 1024609,
     "sourceType": "datasetVersion"
    }
   ],
   "dockerImageVersionId": 31089,
   "isGpuEnabled": true,
   "isInternetEnabled": true,
   "language": "python",
   "sourceType": "notebook"
  },
  "kernelspec": {
   "display_name": "Python 3",
   "language": "python",
   "name": "python3"
  },
  "language_info": {
   "codemirror_mode": {
    "name": "ipython",
    "version": 3
   },
   "file_extension": ".py",
   "mimetype": "text/x-python",
   "name": "python",
   "nbconvert_exporter": "python",
   "pygments_lexer": "ipython3",
   "version": "3.11.13"
  },
  "papermill": {
   "default_parameters": {},
   "duration": 1076.153904,
   "end_time": "2025-09-08T09:57:35.406985",
   "environment_variables": {},
   "exception": null,
   "input_path": "__notebook__.ipynb",
   "output_path": "__notebook__.ipynb",
   "parameters": {},
   "start_time": "2025-09-08T09:39:39.253081",
   "version": "2.6.0"
  }
 },
 "nbformat": 4,
 "nbformat_minor": 5
}
